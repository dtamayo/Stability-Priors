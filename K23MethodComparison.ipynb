{
 "cells": [
  {
   "cell_type": "code",
   "execution_count": 46,
   "metadata": {},
   "outputs": [],
   "source": [
    "import rebound\n",
    "import numpy as np\n",
    "import pandas as pd\n",
    "import matplotlib.pyplot as plt\n",
    "import dask.dataframe as dd\n",
    "from scipy.interpolate import interp1d\n",
    "import pymc3 as pm\n",
    "import scipy\n",
    "from scipy.integrate import quad\n",
    "\n",
    "plt.style.use('paper.mplstyle')\n",
    "%matplotlib inline"
   ]
  },
  {
   "cell_type": "code",
   "execution_count": 3,
   "metadata": {},
   "outputs": [
    {
     "data": {
      "text/html": [
       "<div>\n",
       "<style scoped>\n",
       "    .dataframe tbody tr th:only-of-type {\n",
       "        vertical-align: middle;\n",
       "    }\n",
       "\n",
       "    .dataframe tbody tr th {\n",
       "        vertical-align: top;\n",
       "    }\n",
       "\n",
       "    .dataframe thead th {\n",
       "        text-align: right;\n",
       "    }\n",
       "</style>\n",
       "<table border=\"1\" class=\"dataframe\">\n",
       "  <thead>\n",
       "    <tr style=\"text-align: right;\">\n",
       "      <th></th>\n",
       "      <th>mu0</th>\n",
       "      <th>per0</th>\n",
       "      <th>h0</th>\n",
       "      <th>k0</th>\n",
       "      <th>Tc0</th>\n",
       "      <th>mu1</th>\n",
       "      <th>per1</th>\n",
       "      <th>h1</th>\n",
       "      <th>k1</th>\n",
       "      <th>Tc1</th>\n",
       "      <th>...</th>\n",
       "      <th>e0</th>\n",
       "      <th>mean_long0</th>\n",
       "      <th>pomega1</th>\n",
       "      <th>e1</th>\n",
       "      <th>mean_long1</th>\n",
       "      <th>pomega2</th>\n",
       "      <th>e2</th>\n",
       "      <th>mean_long2</th>\n",
       "      <th>Z12</th>\n",
       "      <th>Z23</th>\n",
       "    </tr>\n",
       "  </thead>\n",
       "  <tbody>\n",
       "    <tr>\n",
       "      <th>249995</th>\n",
       "      <td>0.000003</td>\n",
       "      <td>7.105870</td>\n",
       "      <td>-0.038511</td>\n",
       "      <td>-0.196506</td>\n",
       "      <td>57.031001</td>\n",
       "      <td>0.000006</td>\n",
       "      <td>10.743525</td>\n",
       "      <td>0.032910</td>\n",
       "      <td>-0.196457</td>\n",
       "      <td>55.659821</td>\n",
       "      <td>...</td>\n",
       "      <td>0.200244</td>\n",
       "      <td>6.120452</td>\n",
       "      <td>-1.404821</td>\n",
       "      <td>0.199195</td>\n",
       "      <td>5.147323</td>\n",
       "      <td>-1.075444</td>\n",
       "      <td>0.199238</td>\n",
       "      <td>4.333169</td>\n",
       "      <td>0.057631</td>\n",
       "      <td>0.052884</td>\n",
       "    </tr>\n",
       "    <tr>\n",
       "      <th>249996</th>\n",
       "      <td>0.000003</td>\n",
       "      <td>7.106110</td>\n",
       "      <td>-0.069445</td>\n",
       "      <td>0.025974</td>\n",
       "      <td>56.975209</td>\n",
       "      <td>0.000006</td>\n",
       "      <td>10.743671</td>\n",
       "      <td>0.000208</td>\n",
       "      <td>-0.003399</td>\n",
       "      <td>55.525812</td>\n",
       "      <td>...</td>\n",
       "      <td>0.074143</td>\n",
       "      <td>6.171487</td>\n",
       "      <td>-1.509681</td>\n",
       "      <td>0.003406</td>\n",
       "      <td>5.226137</td>\n",
       "      <td>-0.406624</td>\n",
       "      <td>0.062597</td>\n",
       "      <td>4.431526</td>\n",
       "      <td>0.048022</td>\n",
       "      <td>0.047269</td>\n",
       "    </tr>\n",
       "    <tr>\n",
       "      <th>249997</th>\n",
       "      <td>0.000004</td>\n",
       "      <td>7.106614</td>\n",
       "      <td>-0.001841</td>\n",
       "      <td>-0.075112</td>\n",
       "      <td>57.111239</td>\n",
       "      <td>0.000004</td>\n",
       "      <td>10.743291</td>\n",
       "      <td>0.044821</td>\n",
       "      <td>-0.081911</td>\n",
       "      <td>55.689775</td>\n",
       "      <td>...</td>\n",
       "      <td>0.075134</td>\n",
       "      <td>6.054789</td>\n",
       "      <td>-1.070109</td>\n",
       "      <td>0.093372</td>\n",
       "      <td>5.129095</td>\n",
       "      <td>-0.580675</td>\n",
       "      <td>0.077984</td>\n",
       "      <td>4.414196</td>\n",
       "      <td>0.039443</td>\n",
       "      <td>0.029061</td>\n",
       "    </tr>\n",
       "    <tr>\n",
       "      <th>249998</th>\n",
       "      <td>0.000003</td>\n",
       "      <td>7.106508</td>\n",
       "      <td>-0.087985</td>\n",
       "      <td>0.084049</td>\n",
       "      <td>56.927508</td>\n",
       "      <td>0.000004</td>\n",
       "      <td>10.743239</td>\n",
       "      <td>-0.016223</td>\n",
       "      <td>0.039809</td>\n",
       "      <td>55.475669</td>\n",
       "      <td>...</td>\n",
       "      <td>0.121678</td>\n",
       "      <td>6.216482</td>\n",
       "      <td>1.957768</td>\n",
       "      <td>0.042988</td>\n",
       "      <td>5.254157</td>\n",
       "      <td>0.894684</td>\n",
       "      <td>0.026970</td>\n",
       "      <td>4.517402</td>\n",
       "      <td>0.048540</td>\n",
       "      <td>0.025173</td>\n",
       "    </tr>\n",
       "    <tr>\n",
       "      <th>249999</th>\n",
       "      <td>0.000004</td>\n",
       "      <td>7.106154</td>\n",
       "      <td>-0.122730</td>\n",
       "      <td>-0.000055</td>\n",
       "      <td>56.853333</td>\n",
       "      <td>0.000009</td>\n",
       "      <td>10.743234</td>\n",
       "      <td>-0.046245</td>\n",
       "      <td>-0.023290</td>\n",
       "      <td>55.364239</td>\n",
       "      <td>...</td>\n",
       "      <td>0.122730</td>\n",
       "      <td>6.279559</td>\n",
       "      <td>-2.675062</td>\n",
       "      <td>0.051779</td>\n",
       "      <td>5.319310</td>\n",
       "      <td>-2.470655</td>\n",
       "      <td>0.004345</td>\n",
       "      <td>4.557613</td>\n",
       "      <td>0.045531</td>\n",
       "      <td>0.029906</td>\n",
       "    </tr>\n",
       "  </tbody>\n",
       "</table>\n",
       "<p>5 rows × 26 columns</p>\n",
       "</div>"
      ],
      "text/plain": [
       "             mu0      per0        h0        k0        Tc0       mu1  \\\n",
       "249995  0.000003  7.105870 -0.038511 -0.196506  57.031001  0.000006   \n",
       "249996  0.000003  7.106110 -0.069445  0.025974  56.975209  0.000006   \n",
       "249997  0.000004  7.106614 -0.001841 -0.075112  57.111239  0.000004   \n",
       "249998  0.000003  7.106508 -0.087985  0.084049  56.927508  0.000004   \n",
       "249999  0.000004  7.106154 -0.122730 -0.000055  56.853333  0.000009   \n",
       "\n",
       "             per1        h1        k1        Tc1  ...        e0  mean_long0  \\\n",
       "249995  10.743525  0.032910 -0.196457  55.659821  ...  0.200244    6.120452   \n",
       "249996  10.743671  0.000208 -0.003399  55.525812  ...  0.074143    6.171487   \n",
       "249997  10.743291  0.044821 -0.081911  55.689775  ...  0.075134    6.054789   \n",
       "249998  10.743239 -0.016223  0.039809  55.475669  ...  0.121678    6.216482   \n",
       "249999  10.743234 -0.046245 -0.023290  55.364239  ...  0.122730    6.279559   \n",
       "\n",
       "         pomega1        e1  mean_long1   pomega2        e2  mean_long2  \\\n",
       "249995 -1.404821  0.199195    5.147323 -1.075444  0.199238    4.333169   \n",
       "249996 -1.509681  0.003406    5.226137 -0.406624  0.062597    4.431526   \n",
       "249997 -1.070109  0.093372    5.129095 -0.580675  0.077984    4.414196   \n",
       "249998  1.957768  0.042988    5.254157  0.894684  0.026970    4.517402   \n",
       "249999 -2.675062  0.051779    5.319310 -2.470655  0.004345    4.557613   \n",
       "\n",
       "             Z12       Z23  \n",
       "249995  0.057631  0.052884  \n",
       "249996  0.048022  0.047269  \n",
       "249997  0.039443  0.029061  \n",
       "249998  0.048540  0.025173  \n",
       "249999  0.045531  0.029906  \n",
       "\n",
       "[5 rows x 26 columns]"
      ]
     },
     "execution_count": 3,
     "metadata": {},
     "output_type": "execute_result"
    }
   ],
   "source": [
    "dfhadden = pd.read_csv(\"Kepler-23_default_priors.csv\", index_col=0)\n",
    "dfhadden.tail()"
   ]
  },
  {
   "cell_type": "code",
   "execution_count": 4,
   "metadata": {},
   "outputs": [
    {
     "data": {
      "text/html": [
       "<div>\n",
       "<style scoped>\n",
       "    .dataframe tbody tr th:only-of-type {\n",
       "        vertical-align: middle;\n",
       "    }\n",
       "\n",
       "    .dataframe tbody tr th {\n",
       "        vertical-align: top;\n",
       "    }\n",
       "\n",
       "    .dataframe thead th {\n",
       "        text-align: right;\n",
       "    }\n",
       "</style>\n",
       "<table border=\"1\" class=\"dataframe\">\n",
       "  <thead>\n",
       "    <tr style=\"text-align: right;\">\n",
       "      <th></th>\n",
       "      <th>sim</th>\n",
       "      <th>Mstar</th>\n",
       "      <th>Z12</th>\n",
       "      <th>Zcom12</th>\n",
       "      <th>Z23</th>\n",
       "      <th>Zcom23</th>\n",
       "      <th>e1</th>\n",
       "      <th>e2</th>\n",
       "      <th>e3</th>\n",
       "      <th>mu1</th>\n",
       "      <th>mu2</th>\n",
       "      <th>mu3</th>\n",
       "      <th>mu1+mu2</th>\n",
       "      <th>mu2+mu3</th>\n",
       "      <th>mutot</th>\n",
       "      <th>t_instability</th>\n",
       "      <th>nbodystable</th>\n",
       "      <th>spockprob</th>\n",
       "    </tr>\n",
       "  </thead>\n",
       "  <tbody>\n",
       "    <tr>\n",
       "      <th>27048</th>\n",
       "      <td>1999380.0</td>\n",
       "      <td>0.880613</td>\n",
       "      <td>0.201449</td>\n",
       "      <td>0.139535</td>\n",
       "      <td>0.102941</td>\n",
       "      <td>0.132488</td>\n",
       "      <td>0.198727</td>\n",
       "      <td>0.155031</td>\n",
       "      <td>0.014555</td>\n",
       "      <td>2.729311e-06</td>\n",
       "      <td>0.000012</td>\n",
       "      <td>0.000003</td>\n",
       "      <td>0.000015</td>\n",
       "      <td>0.000015</td>\n",
       "      <td>0.000018</td>\n",
       "      <td>5.358731e+04</td>\n",
       "      <td>0.0</td>\n",
       "      <td>0.007788</td>\n",
       "    </tr>\n",
       "    <tr>\n",
       "      <th>27049</th>\n",
       "      <td>1999466.0</td>\n",
       "      <td>1.214257</td>\n",
       "      <td>0.028842</td>\n",
       "      <td>0.012843</td>\n",
       "      <td>0.021864</td>\n",
       "      <td>0.008439</td>\n",
       "      <td>0.039781</td>\n",
       "      <td>0.010983</td>\n",
       "      <td>0.022669</td>\n",
       "      <td>8.367568e-07</td>\n",
       "      <td>0.000042</td>\n",
       "      <td>0.000007</td>\n",
       "      <td>0.000043</td>\n",
       "      <td>0.000049</td>\n",
       "      <td>0.000050</td>\n",
       "      <td>1.000000e+09</td>\n",
       "      <td>1.0</td>\n",
       "      <td>0.796429</td>\n",
       "    </tr>\n",
       "    <tr>\n",
       "      <th>27050</th>\n",
       "      <td>1999693.0</td>\n",
       "      <td>1.225737</td>\n",
       "      <td>0.075410</td>\n",
       "      <td>0.120734</td>\n",
       "      <td>0.066761</td>\n",
       "      <td>0.111895</td>\n",
       "      <td>0.088874</td>\n",
       "      <td>0.108052</td>\n",
       "      <td>0.175515</td>\n",
       "      <td>9.338099e-06</td>\n",
       "      <td>0.000078</td>\n",
       "      <td>0.000004</td>\n",
       "      <td>0.000087</td>\n",
       "      <td>0.000081</td>\n",
       "      <td>0.000091</td>\n",
       "      <td>6.319852e+04</td>\n",
       "      <td>0.0</td>\n",
       "      <td>0.005343</td>\n",
       "    </tr>\n",
       "    <tr>\n",
       "      <th>27051</th>\n",
       "      <td>1999943.0</td>\n",
       "      <td>1.083352</td>\n",
       "      <td>0.130139</td>\n",
       "      <td>0.262373</td>\n",
       "      <td>0.077109</td>\n",
       "      <td>0.180838</td>\n",
       "      <td>0.224166</td>\n",
       "      <td>0.236365</td>\n",
       "      <td>0.140135</td>\n",
       "      <td>1.474248e-06</td>\n",
       "      <td>0.000006</td>\n",
       "      <td>0.000018</td>\n",
       "      <td>0.000007</td>\n",
       "      <td>0.000024</td>\n",
       "      <td>0.000025</td>\n",
       "      <td>2.133985e+04</td>\n",
       "      <td>0.0</td>\n",
       "      <td>0.006733</td>\n",
       "    </tr>\n",
       "    <tr>\n",
       "      <th>27052</th>\n",
       "      <td>1999969.0</td>\n",
       "      <td>1.159434</td>\n",
       "      <td>0.046016</td>\n",
       "      <td>0.032291</td>\n",
       "      <td>0.051997</td>\n",
       "      <td>0.031372</td>\n",
       "      <td>0.095140</td>\n",
       "      <td>0.020418</td>\n",
       "      <td>0.050637</td>\n",
       "      <td>3.549245e-06</td>\n",
       "      <td>0.000037</td>\n",
       "      <td>0.000085</td>\n",
       "      <td>0.000040</td>\n",
       "      <td>0.000122</td>\n",
       "      <td>0.000125</td>\n",
       "      <td>5.152893e+05</td>\n",
       "      <td>0.0</td>\n",
       "      <td>0.012635</td>\n",
       "    </tr>\n",
       "  </tbody>\n",
       "</table>\n",
       "</div>"
      ],
      "text/plain": [
       "             sim     Mstar       Z12    Zcom12       Z23    Zcom23        e1  \\\n",
       "27048  1999380.0  0.880613  0.201449  0.139535  0.102941  0.132488  0.198727   \n",
       "27049  1999466.0  1.214257  0.028842  0.012843  0.021864  0.008439  0.039781   \n",
       "27050  1999693.0  1.225737  0.075410  0.120734  0.066761  0.111895  0.088874   \n",
       "27051  1999943.0  1.083352  0.130139  0.262373  0.077109  0.180838  0.224166   \n",
       "27052  1999969.0  1.159434  0.046016  0.032291  0.051997  0.031372  0.095140   \n",
       "\n",
       "             e2        e3           mu1       mu2       mu3   mu1+mu2  \\\n",
       "27048  0.155031  0.014555  2.729311e-06  0.000012  0.000003  0.000015   \n",
       "27049  0.010983  0.022669  8.367568e-07  0.000042  0.000007  0.000043   \n",
       "27050  0.108052  0.175515  9.338099e-06  0.000078  0.000004  0.000087   \n",
       "27051  0.236365  0.140135  1.474248e-06  0.000006  0.000018  0.000007   \n",
       "27052  0.020418  0.050637  3.549245e-06  0.000037  0.000085  0.000040   \n",
       "\n",
       "        mu2+mu3     mutot  t_instability  nbodystable  spockprob  \n",
       "27048  0.000015  0.000018   5.358731e+04          0.0   0.007788  \n",
       "27049  0.000049  0.000050   1.000000e+09          1.0   0.796429  \n",
       "27050  0.000081  0.000091   6.319852e+04          0.0   0.005343  \n",
       "27051  0.000024  0.000025   2.133985e+04          0.0   0.006733  \n",
       "27052  0.000122  0.000125   5.152893e+05          0.0   0.012635  "
      ]
     },
     "execution_count": 4,
     "metadata": {},
     "output_type": "execute_result"
    }
   ],
   "source": [
    "df = pd.read_csv('Kepler-23_default_priors_uniform.csv', index_col=0)\n",
    "df.tail()"
   ]
  },
  {
   "cell_type": "code",
   "execution_count": 5,
   "metadata": {},
   "outputs": [
    {
     "data": {
      "text/html": [
       "<div>\n",
       "<style scoped>\n",
       "    .dataframe tbody tr th:only-of-type {\n",
       "        vertical-align: middle;\n",
       "    }\n",
       "\n",
       "    .dataframe tbody tr th {\n",
       "        vertical-align: top;\n",
       "    }\n",
       "\n",
       "    .dataframe thead th {\n",
       "        text-align: right;\n",
       "    }\n",
       "</style>\n",
       "<table border=\"1\" class=\"dataframe\">\n",
       "  <thead>\n",
       "    <tr style=\"text-align: right;\">\n",
       "      <th></th>\n",
       "      <th>ID</th>\n",
       "      <th>Mstar</th>\n",
       "      <th>Z12</th>\n",
       "      <th>Zcom12</th>\n",
       "      <th>Z23</th>\n",
       "      <th>Zcom23</th>\n",
       "      <th>e1</th>\n",
       "      <th>e2</th>\n",
       "      <th>e3</th>\n",
       "      <th>mu1</th>\n",
       "      <th>mu2</th>\n",
       "      <th>mu3</th>\n",
       "      <th>mu1+mu2</th>\n",
       "      <th>mu2+mu3</th>\n",
       "      <th>mutot</th>\n",
       "    </tr>\n",
       "  </thead>\n",
       "  <tbody>\n",
       "    <tr>\n",
       "      <th>39995</th>\n",
       "      <td>39995.0</td>\n",
       "      <td>1.078</td>\n",
       "      <td>0.255002</td>\n",
       "      <td>0.219570</td>\n",
       "      <td>0.241360</td>\n",
       "      <td>0.209458</td>\n",
       "      <td>0.127092</td>\n",
       "      <td>0.284903</td>\n",
       "      <td>0.147279</td>\n",
       "      <td>0.000017</td>\n",
       "      <td>0.000040</td>\n",
       "      <td>0.000017</td>\n",
       "      <td>0.000058</td>\n",
       "      <td>0.000057</td>\n",
       "      <td>0.000074</td>\n",
       "    </tr>\n",
       "    <tr>\n",
       "      <th>39996</th>\n",
       "      <td>39996.0</td>\n",
       "      <td>1.078</td>\n",
       "      <td>0.167373</td>\n",
       "      <td>0.060257</td>\n",
       "      <td>0.100118</td>\n",
       "      <td>0.029407</td>\n",
       "      <td>0.262542</td>\n",
       "      <td>0.001692</td>\n",
       "      <td>0.130529</td>\n",
       "      <td>0.000008</td>\n",
       "      <td>0.000036</td>\n",
       "      <td>0.000010</td>\n",
       "      <td>0.000044</td>\n",
       "      <td>0.000046</td>\n",
       "      <td>0.000054</td>\n",
       "    </tr>\n",
       "    <tr>\n",
       "      <th>39997</th>\n",
       "      <td>39997.0</td>\n",
       "      <td>1.078</td>\n",
       "      <td>0.312808</td>\n",
       "      <td>0.203716</td>\n",
       "      <td>0.270535</td>\n",
       "      <td>0.179107</td>\n",
       "      <td>0.392362</td>\n",
       "      <td>0.198785</td>\n",
       "      <td>0.305235</td>\n",
       "      <td>0.000019</td>\n",
       "      <td>0.000037</td>\n",
       "      <td>0.000023</td>\n",
       "      <td>0.000056</td>\n",
       "      <td>0.000060</td>\n",
       "      <td>0.000079</td>\n",
       "    </tr>\n",
       "    <tr>\n",
       "      <th>39998</th>\n",
       "      <td>39998.0</td>\n",
       "      <td>1.078</td>\n",
       "      <td>0.427064</td>\n",
       "      <td>0.347577</td>\n",
       "      <td>0.235449</td>\n",
       "      <td>0.420195</td>\n",
       "      <td>0.124926</td>\n",
       "      <td>0.495464</td>\n",
       "      <td>0.299385</td>\n",
       "      <td>0.000012</td>\n",
       "      <td>0.000021</td>\n",
       "      <td>0.000017</td>\n",
       "      <td>0.000033</td>\n",
       "      <td>0.000038</td>\n",
       "      <td>0.000050</td>\n",
       "    </tr>\n",
       "    <tr>\n",
       "      <th>39999</th>\n",
       "      <td>39999.0</td>\n",
       "      <td>1.078</td>\n",
       "      <td>0.622926</td>\n",
       "      <td>0.460633</td>\n",
       "      <td>0.089570</td>\n",
       "      <td>0.727851</td>\n",
       "      <td>0.023163</td>\n",
       "      <td>0.722732</td>\n",
       "      <td>0.518803</td>\n",
       "      <td>0.000013</td>\n",
       "      <td>0.000016</td>\n",
       "      <td>0.000012</td>\n",
       "      <td>0.000029</td>\n",
       "      <td>0.000028</td>\n",
       "      <td>0.000040</td>\n",
       "    </tr>\n",
       "  </tbody>\n",
       "</table>\n",
       "</div>"
      ],
      "text/plain": [
       "            ID  Mstar       Z12    Zcom12       Z23    Zcom23        e1  \\\n",
       "39995  39995.0  1.078  0.255002  0.219570  0.241360  0.209458  0.127092   \n",
       "39996  39996.0  1.078  0.167373  0.060257  0.100118  0.029407  0.262542   \n",
       "39997  39997.0  1.078  0.312808  0.203716  0.270535  0.179107  0.392362   \n",
       "39998  39998.0  1.078  0.427064  0.347577  0.235449  0.420195  0.124926   \n",
       "39999  39999.0  1.078  0.622926  0.460633  0.089570  0.727851  0.023163   \n",
       "\n",
       "             e2        e3       mu1       mu2       mu3   mu1+mu2   mu2+mu3  \\\n",
       "39995  0.284903  0.147279  0.000017  0.000040  0.000017  0.000058  0.000057   \n",
       "39996  0.001692  0.130529  0.000008  0.000036  0.000010  0.000044  0.000046   \n",
       "39997  0.198785  0.305235  0.000019  0.000037  0.000023  0.000056  0.000060   \n",
       "39998  0.495464  0.299385  0.000012  0.000021  0.000017  0.000033  0.000038   \n",
       "39999  0.722732  0.518803  0.000013  0.000016  0.000012  0.000029  0.000028   \n",
       "\n",
       "          mutot  \n",
       "39995  0.000074  \n",
       "39996  0.000054  \n",
       "39997  0.000079  \n",
       "39998  0.000050  \n",
       "39999  0.000040  "
      ]
     },
     "execution_count": 5,
     "metadata": {},
     "output_type": "execute_result"
    }
   ],
   "source": [
    "dfvanEylen = pd.read_csv('Kepler-23_vanEylen.csv', index_col=0)\n",
    "dfvanEylen.tail()"
   ]
  },
  {
   "cell_type": "code",
   "execution_count": 67,
   "metadata": {},
   "outputs": [],
   "source": [
    "def calcHPDI(vals, interval, x0, weights=None):\n",
    "    '''\n",
    "    Fit a gaussian KDE, find max likelihood, and calculate \n",
    "    minimum interval that holds `interval` percentage of the distribution.\n",
    "    This is what Hadden 2017 quote\n",
    "\n",
    "        vals : array of values\n",
    "        interval: float for size of interval\n",
    "        x0: initial guess for max likelihood\n",
    "    '''\n",
    "    kde = scipy.stats.gaussian_kde(vals, weights=weights)\n",
    "    maxlike = scipy.optimize.fmin(lambda x: -kde(x), x0=x0)[0]\n",
    "    \n",
    "    sample = kde.resample(10000) # need to do this step in case we need to weight the vals by weights (for SPOCK probs)\n",
    "    samplecut = sample[sample > 0]\n",
    "\n",
    "    low, high = pm.stats.hpd(samplecut, credible_interval=interval)\n",
    "    print('{0:.1f}% interval=[{1:.3f},{2:.3f}]'.format(interval*100, low, high))\n",
    "    print('{0:.4f} + {1:.4f} - {2:.4f}'.format(maxlike, high-maxlike, maxlike-low))\n",
    "    return maxlike, high-maxlike, maxlike-low"
   ]
  },
  {
   "cell_type": "code",
   "execution_count": 79,
   "metadata": {},
   "outputs": [],
   "source": [
    "def plotposterior(vals, interval, x0, weights=None, range=[0,1]):\n",
    "    fig, ax = plt.subplots()\n",
    "\n",
    "    ax.hist(vals, alpha=0.5, density=True, weights=weights, bins=100, range=range)\n",
    "    kde = scipy.stats.gaussian_kde(vals, weights=weights)\n",
    "    xs = np.linspace(0,1,1000)\n",
    "    ax.plot(xs, kde(xs))\n",
    "    \n",
    "    maxlike, errhigh, errlow = calcHPDI(vals, interval, x0, weights=weights)\n",
    "    ax.axvline(maxlike-errlow, linestyle='--', c='k', alpha=0.3)\n",
    "    ax.axvline(maxlike+errhigh, linestyle='--', c='k', alpha=0.3)\n",
    "    ax.axvline(maxlike, c='k', alpha=0.3)\n",
    "    ax.set_xlim(range)"
   ]
  },
  {
   "cell_type": "code",
   "execution_count": 55,
   "metadata": {},
   "outputs": [
    {
     "name": "stdout",
     "output_type": "stream",
     "text": [
      "Optimization terminated successfully.\n",
      "         Current function value: -11.351687\n",
      "         Iterations: 13\n",
      "         Function evaluations: 26\n",
      "0.0313 + 0.0476 - 0.0232\n"
     ]
    },
    {
     "data": {
      "image/png": "[encoded data removed]",
      "text/plain": [
       "<Figure size 432x288 with 1 Axes>"
      ]
     },
     "metadata": {
      "needs_background": "light"
     },
     "output_type": "display_data"
    }
   ],
   "source": [
    "plotposterior(df[df['nbodystable']==1].Z12, 0.683, 0.1, range=[0,0.3])"
   ]
  },
  {
   "cell_type": "code",
   "execution_count": 80,
   "metadata": {},
   "outputs": [
    {
     "name": "stdout",
     "output_type": "stream",
     "text": [
      "Optimization terminated successfully.\n",
      "         Current function value: -7.817870\n",
      "         Iterations: 13\n",
      "         Function evaluations: 26\n",
      "68.3% interval=[0.001,0.121]\n",
      "0.0316 + 0.0892 - 0.0305\n"
     ]
    },
    {
     "data": {
      "image/png": "[encoded data removed]",
      "text/plain": [
       "<Figure size 432x288 with 1 Axes>"
      ]
     },
     "metadata": {
      "needs_background": "light"
     },
     "output_type": "display_data"
    }
   ],
   "source": [
    "plotposterior(df.Z12, 0.683, 0.1, weights=df.spockprob, range=[0,0.3])"
   ]
  },
  {
   "cell_type": "code",
   "execution_count": 56,
   "metadata": {},
   "outputs": [
    {
     "name": "stdout",
     "output_type": "stream",
     "text": [
      "Optimization terminated successfully.\n",
      "         Current function value: -25.432995\n",
      "         Iterations: 17\n",
      "         Function evaluations: 35\n",
      "0.0179 + 0.0242 - 0.0059\n"
     ]
    },
    {
     "data": {
      "image/png": "[encoded data removed]",
      "text/plain": [
       "<Figure size 432x288 with 1 Axes>"
      ]
     },
     "metadata": {
      "needs_background": "light"
     },
     "output_type": "display_data"
    }
   ],
   "source": [
    "plotposterior(dfhadden.Z12, 0.683, 0.1, range=[0,0.3])"
   ]
  },
  {
   "cell_type": "markdown",
   "metadata": {},
   "source": [
    "# High Z23 values mess up KDE so exclude them"
   ]
  },
  {
   "cell_type": "code",
   "execution_count": 91,
   "metadata": {},
   "outputs": [
    {
     "name": "stdout",
     "output_type": "stream",
     "text": [
      "Optimization terminated successfully.\n",
      "         Current function value: -18.844240\n",
      "         Iterations: 13\n",
      "         Function evaluations: 26\n",
      "68.3% interval=[0.008,0.051]\n",
      "0.0245 + 0.0264 - 0.0170\n"
     ]
    },
    {
     "data": {
      "image/png": "[encoded data removed]",
      "text/plain": [
       "<Figure size 432x288 with 1 Axes>"
      ]
     },
     "metadata": {
      "needs_background": "light"
     },
     "output_type": "display_data"
    }
   ],
   "source": [
    "plotposterior(df[(df['nbodystable']==1) & (df['Z23']<0.4)].Z23, 0.683, 0.1, range=[0,0.3])"
   ]
  },
  {
   "cell_type": "code",
   "execution_count": 83,
   "metadata": {},
   "outputs": [
    {
     "name": "stdout",
     "output_type": "stream",
     "text": [
      "Optimization terminated successfully.\n",
      "         Current function value: -18.850297\n",
      "         Iterations: 13\n",
      "         Function evaluations: 26\n",
      "68.3% interval=[0.009,0.051]\n",
      "0.0227 + 0.0281 - 0.0141\n"
     ]
    },
    {
     "data": {
      "image/png": "[encoded data removed]",
      "text/plain": [
       "<Figure size 432x288 with 1 Axes>"
      ]
     },
     "metadata": {
      "needs_background": "light"
     },
     "output_type": "display_data"
    }
   ],
   "source": [
    "plotposterior(df.Z23, 0.683, 0.1, weights=df.spockprob, range=[0,0.3])"
   ]
  },
  {
   "cell_type": "code",
   "execution_count": 84,
   "metadata": {},
   "outputs": [
    {
     "name": "stdout",
     "output_type": "stream",
     "text": [
      "Optimization terminated successfully.\n",
      "         Current function value: -27.430494\n",
      "         Iterations: 14\n",
      "         Function evaluations: 28\n",
      "68.3% interval=[0.008,0.035]\n",
      "0.0214 + 0.0135 - 0.0135\n"
     ]
    },
    {
     "data": {
      "image/png": "[encoded data removed]",
      "text/plain": [
       "<Figure size 432x288 with 1 Axes>"
      ]
     },
     "metadata": {
      "needs_background": "light"
     },
     "output_type": "display_data"
    }
   ],
   "source": [
    "plotposterior(dfhadden.Z23, 0.683, 0.1, range=[0,0.3])"
   ]
  },
  {
   "cell_type": "code",
   "execution_count": 139,
   "metadata": {},
   "outputs": [
    {
     "data": {
      "image/png": "[encoded data removed]",
      "text/plain": [
       "<Figure size 432x576 with 2 Axes>"
      ]
     },
     "metadata": {
      "needs_background": "light"
     },
     "output_type": "display_data"
    }
   ],
   "source": [
    "stable = df['nbodystable'] == 1\n",
    "fig, axarr = plt.subplots(nrows=2, figsize=(6,8))\n",
    "plt.subplots_adjust(hspace=0)\n",
    "\n",
    "axarr[0].hist(dfvanEylen.Z23, alpha=0.5, density=True, label=\"Transit Durations\", bins=50, range=[0,1])\n",
    "_, bins, _ = axarr[0].hist(df[stable].Z23, alpha=0.5, density=True, label=\"Stability\", bins=50, range=[0,0.5])\n",
    "axarr[0].hist(dfhadden.Z23, alpha=0.5, density=True, bins=30, label=\"TTVs\")\n",
    "axarr[0].set_xlim([0,0.8])\n",
    "axarr[0].text(0.3,7, 'Outer Planet Pair', fontsize=22)\n",
    "axarr[0].set_xticklabels([])\n",
    "axarr[0].axes.yaxis.set_ticks([])\n",
    "axarr[0].set_ylabel('PDF')\n",
    "axarr[0].legend(fontsize=22)\n",
    "\n",
    "\n",
    "axarr[1].hist(dfvanEylen.Z12, alpha=0.5, density=True, label=\"Transit Durations\", bins=50, range=[0,1])\n",
    "_, bins, _ = axarr[1].hist(df[stable].Z12, alpha=0.5, density=True, label=\"Stability\", bins=50, range=[0,0.5])\n",
    "axarr[1].hist(dfhadden.Z12, alpha=0.5, density=True, bins=30, label=\"TTVs\")\n",
    "axarr[1].set_xlim([0,0.8])\n",
    "axarr[1].text(0.3,7, 'Inner Planet Pair', fontsize=22)\n",
    "axarr[1].axes.yaxis.set_ticks([])\n",
    "axarr[1].set_xlabel('Free Eccentricity (Z)')\n",
    "axarr[1].set_ylabel('PDF')\n",
    "axarr[1].legend(fontsize=22)\n",
    "\n",
    "fig.savefig('methodcomparison.pdf', bbox_inches='tight')"
   ]
  },
  {
   "cell_type": "code",
   "execution_count": null,
   "metadata": {},
   "outputs": [],
   "source": []
  }
 ],
 "metadata": {
  "kernelspec": {
   "display_name": "Python 3",
   "language": "python",
   "name": "python3"
  },
  "language_info": {
   "codemirror_mode": {
    "name": "ipython",
    "version": 3
   },
   "file_extension": ".py",
   "mimetype": "text/x-python",
   "name": "python",
   "nbconvert_exporter": "python",
   "pygments_lexer": "ipython3",
   "version": "3.7.3"
  }
 },
 "nbformat": 4,
 "nbformat_minor": 2
}
