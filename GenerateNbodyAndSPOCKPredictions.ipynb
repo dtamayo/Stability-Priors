{
 "cells": [
  {
   "cell_type": "code",
   "execution_count": 1,
   "metadata": {},
   "outputs": [],
   "source": [
    "import rebound\n",
    "import numpy as np\n",
    "import pandas as pd\n",
    "import dask.dataframe as dd\n",
    "from celmech import Andoyer\n",
    "from spock import FeatureClassifier, NbodyRegressor\n",
    "import os"
   ]
  },
  {
   "cell_type": "markdown",
   "metadata": {},
   "source": [
    "# In this notebook we generate the SPOCK and Nbody predictions used in the paper\n",
    "\n",
    "In the dataset section we break down how many configurations fall into different classes following the discussion in Sec. 4 of the paper\n",
    "\n",
    "# See Orbit Crossing Heading below for simple way to reject orbit-crossing configurations\n",
    "\n",
    "We regenerate predictions from an old dataframe, but this illustrates a useful pattern with REBOUND: It can be useful to separate the generation of initial conditions from the running of integrations, and to save the initial conditions as SimulationArchives (Rein & Tamayo 2017). This way you store your initial conditions in a binary, machine-independent format, whereas if you ran the same python script to generate initial conditions on different machines, you could get discrepancies in the last binary digit depending on the optimized math libraries used by the machine architecture. It is therefore much better to share SimulationArchives of initial conditions than a script to generate them.\n",
    "\n",
    "Here we show a sample process of loading SimulationArchives with initial conditions and using those to read the initial conditions to generate SPOCK predictions. Note that the Nbody wrapper in SPOCK by default will overwrite your SimulationArchive with all the additional snapshots when you save archives. That should be fine, but if for some reason it matters to you, you can easily instead append snapshots by doing things manually (see the bottom of this example: https://github.com/dtamayo/spock/blob/master/jupyter_examples/ComparingToNbody.ipynb)"
   ]
  },
  {
   "cell_type": "code",
   "execution_count": 2,
   "metadata": {},
   "outputs": [
    {
     "data": {
      "text/html": [
       "<div>\n",
       "<style scoped>\n",
       "    .dataframe tbody tr th:only-of-type {\n",
       "        vertical-align: middle;\n",
       "    }\n",
       "\n",
       "    .dataframe tbody tr th {\n",
       "        vertical-align: top;\n",
       "    }\n",
       "\n",
       "    .dataframe thead th {\n",
       "        text-align: right;\n",
       "    }\n",
       "</style>\n",
       "<table border=\"1\" class=\"dataframe\">\n",
       "  <thead>\n",
       "    <tr style=\"text-align: right;\">\n",
       "      <th></th>\n",
       "      <th>sim</th>\n",
       "    </tr>\n",
       "  </thead>\n",
       "  <tbody>\n",
       "    <tr>\n",
       "      <th>27048</th>\n",
       "      <td>1999380</td>\n",
       "    </tr>\n",
       "    <tr>\n",
       "      <th>27049</th>\n",
       "      <td>1999466</td>\n",
       "    </tr>\n",
       "    <tr>\n",
       "      <th>27050</th>\n",
       "      <td>1999693</td>\n",
       "    </tr>\n",
       "    <tr>\n",
       "      <th>27051</th>\n",
       "      <td>1999943</td>\n",
       "    </tr>\n",
       "    <tr>\n",
       "      <th>27052</th>\n",
       "      <td>1999969</td>\n",
       "    </tr>\n",
       "  </tbody>\n",
       "</table>\n",
       "</div>"
      ],
      "text/plain": [
       "           sim\n",
       "27048  1999380\n",
       "27049  1999466\n",
       "27050  1999693\n",
       "27051  1999943\n",
       "27052  1999969"
      ]
     },
     "execution_count": 2,
     "metadata": {},
     "output_type": "execute_result"
    }
   ],
   "source": [
    "IDs = []\n",
    "for root, dirs, files in os.walk('K23uniform/'):\n",
    "    for file in files:\n",
    "        if 'bin' in file:\n",
    "            ID = file.split('_')[3]\n",
    "            IDs.append(int(ID[:-4]))\n",
    "df = pd.DataFrame(np.sort(np.array(IDs)), columns=['sim'])\n",
    "df.tail()"
   ]
  },
  {
   "cell_type": "markdown",
   "metadata": {},
   "source": [
    "# Make a dataframe of all the quantities we want for the paper\n",
    "\n",
    "In the block after '#celmech' below, we calculate resonant variables using celmech, see:\n",
    "\n",
    "https://github.com/shadden/celmech/\n",
    "\n",
    "We have to specify the index of particles in the pair to consider: i1 (inner) and i2 (outer)\n",
    "Also the j and k indices of a j:j-k MMR. \n",
    "Kepler 23 has inner two planets near the 3:2 MMR, outer two near the 7:5 MMR."
   ]
  },
  {
   "cell_type": "code",
   "execution_count": 3,
   "metadata": {},
   "outputs": [],
   "source": [
    "def populate(row): # Assumes inner two near 3:2 and outer two near 7:5 like in Kepler23\n",
    "    safilename = 'K23uniform/K23_logm_sa_{0}.bin'.format(int(row['sim']))\n",
    "    sa = rebound.SimulationArchive(safilename)\n",
    "    sim = sa[0]\n",
    "    P1 = sim.particles[1].P\n",
    "    \n",
    "    # celmech\n",
    "    avars12 = Andoyer.from_Simulation(sim, j=3, k=1, i1=1, i2=2) # need to set j and k for appropriate j:j-k MMR\n",
    "    row['Mstar'] = sim.particles[0].m\n",
    "    row['Z12'] = avars12.Z\n",
    "    avars23 = Andoyer.from_Simulation(sim, j=7, k=2, i1=2, i2=3)\n",
    "    row['Z23'] = avars23.Z\n",
    "    \n",
    "    # Add other quantities of interest\n",
    "    row['mu1'] = sim.particles[1].m/sim.particles[0].m\n",
    "    row['mu2'] = sim.particles[2].m/sim.particles[0].m\n",
    "    row['mu3'] = sim.particles[3].m/sim.particles[0].m\n",
    "    row['e1'] = sim.particles[1].e\n",
    "    row['e2'] = sim.particles[2].e\n",
    "    row['e3'] = sim.particles[3].e\n",
    "    row['h1'] = sim.particles[1].e*np.sin(sim.particles[1].pomega)\n",
    "    row['h2'] = sim.particles[2].e*np.sin(sim.particles[2].pomega)\n",
    "    row['h3'] = sim.particles[3].e*np.sin(sim.particles[3].pomega)\n",
    "    row['k1'] = sim.particles[1].e*np.cos(sim.particles[1].pomega)\n",
    "    row['k2'] = sim.particles[2].e*np.cos(sim.particles[2].pomega)\n",
    "    row['k3'] = sim.particles[3].e*np.cos(sim.particles[3].pomega)\n",
    "    hcom = (row['mu1']*row['h1'] + row['mu2']*row['h2'] + row['mu3']*row['h3'])/(row['mu1']+row['mu2']+row['mu3'])\n",
    "    kcom = (row['mu1']*row['k1'] + row['mu2']*row['k2'] + row['mu3']*row['k3'])/(row['mu1']+row['mu2']+row['mu3'])\n",
    "    row['ecom'] = np.sqrt(hcom**2 + kcom**2)\n",
    "    return row"
   ]
  },
  {
   "cell_type": "markdown",
   "metadata": {},
   "source": [
    "Here we use dask for the parallelization"
   ]
  },
  {
   "cell_type": "code",
   "execution_count": 4,
   "metadata": {},
   "outputs": [
    {
     "name": "stderr",
     "output_type": "stream",
     "text": [
      "/mnt/ssd/Dropbox/Dropbox (Princeton)/workspace/rebound/rebound/simulationarchive.py:86: RuntimeWarning: Binary file was saved with a different version of REBOUND. Binary format might have changed.\n",
      "  warnings.warn(message, RuntimeWarning)\n",
      "/mnt/ssd/Dropbox/Dropbox (Princeton)/workspace/rebound/rebound/simulationarchive.py:132: RuntimeWarning: Binary file was saved with a different version of REBOUND. Binary format might have changed.\n",
      "  warnings.warn(message, RuntimeWarning)\n",
      "/mnt/ssd/Dropbox/Dropbox (Princeton)/workspace/rebound/rebound/simulationarchive.py:86: RuntimeWarning: Binary file was saved with a different version of REBOUND. Binary format might have changed.\n",
      "  warnings.warn(message, RuntimeWarning)\n",
      "/mnt/ssd/Dropbox/Dropbox (Princeton)/workspace/rebound/rebound/simulationarchive.py:132: RuntimeWarning: Binary file was saved with a different version of REBOUND. Binary format might have changed.\n",
      "  warnings.warn(message, RuntimeWarning)\n",
      "/mnt/ssd/Dropbox/Dropbox (Princeton)/workspace/rebound/rebound/simulationarchive.py:86: RuntimeWarning: Binary file was saved with a different version of REBOUND. Binary format might have changed.\n",
      "  warnings.warn(message, RuntimeWarning)\n",
      "/mnt/ssd/Dropbox/Dropbox (Princeton)/workspace/rebound/rebound/simulationarchive.py:132: RuntimeWarning: Binary file was saved with a different version of REBOUND. Binary format might have changed.\n",
      "  warnings.warn(message, RuntimeWarning)\n",
      "/mnt/ssd/Dropbox/Dropbox (Princeton)/workspace/rebound/rebound/simulationarchive.py:86: RuntimeWarning: Binary file was saved with a different version of REBOUND. Binary format might have changed.\n",
      "  warnings.warn(message, RuntimeWarning)\n",
      "/mnt/ssd/Dropbox/Dropbox (Princeton)/workspace/rebound/rebound/simulationarchive.py:132: RuntimeWarning: Binary file was saved with a different version of REBOUND. Binary format might have changed.\n",
      "  warnings.warn(message, RuntimeWarning)\n",
      "/mnt/ssd/Dropbox/Dropbox (Princeton)/workspace/rebound/rebound/simulationarchive.py:86: RuntimeWarning: Binary file was saved with a different version of REBOUND. Binary format might have changed.\n",
      "  warnings.warn(message, RuntimeWarning)\n",
      "/mnt/ssd/Dropbox/Dropbox (Princeton)/workspace/rebound/rebound/simulationarchive.py:86: RuntimeWarning: Binary file was saved with a different version of REBOUND. Binary format might have changed.\n",
      "  warnings.warn(message, RuntimeWarning)\n",
      "/mnt/ssd/Dropbox/Dropbox (Princeton)/workspace/rebound/rebound/simulationarchive.py:132: RuntimeWarning: Binary file was saved with a different version of REBOUND. Binary format might have changed.\n",
      "  warnings.warn(message, RuntimeWarning)\n",
      "/mnt/ssd/Dropbox/Dropbox (Princeton)/workspace/rebound/rebound/simulationarchive.py:132: RuntimeWarning: Binary file was saved with a different version of REBOUND. Binary format might have changed.\n",
      "  warnings.warn(message, RuntimeWarning)\n",
      "/mnt/ssd/Dropbox/Dropbox (Princeton)/workspace/rebound/rebound/simulationarchive.py:86: RuntimeWarning: Binary file was saved with a different version of REBOUND. Binary format might have changed.\n",
      "  warnings.warn(message, RuntimeWarning)\n",
      "/mnt/ssd/Dropbox/Dropbox (Princeton)/workspace/rebound/rebound/simulationarchive.py:132: RuntimeWarning: Binary file was saved with a different version of REBOUND. Binary format might have changed.\n",
      "  warnings.warn(message, RuntimeWarning)\n",
      "/mnt/ssd/Dropbox/Dropbox (Princeton)/workspace/rebound/rebound/simulationarchive.py:86: RuntimeWarning: Binary file was saved with a different version of REBOUND. Binary format might have changed.\n",
      "  warnings.warn(message, RuntimeWarning)\n",
      "/mnt/ssd/Dropbox/Dropbox (Princeton)/workspace/rebound/rebound/simulationarchive.py:132: RuntimeWarning: Binary file was saved with a different version of REBOUND. Binary format might have changed.\n",
      "  warnings.warn(message, RuntimeWarning)\n",
      "/mnt/ssd/Dropbox/Dropbox (Princeton)/workspace/rebound/rebound/simulationarchive.py:86: RuntimeWarning: Binary file was saved with a different version of REBOUND. Binary format might have changed.\n",
      "  warnings.warn(message, RuntimeWarning)\n",
      "/mnt/ssd/Dropbox/Dropbox (Princeton)/workspace/rebound/rebound/simulationarchive.py:132: RuntimeWarning: Binary file was saved with a different version of REBOUND. Binary format might have changed.\n",
      "  warnings.warn(message, RuntimeWarning)\n",
      "/mnt/ssd/Dropbox/Dropbox (Princeton)/workspace/rebound/rebound/simulationarchive.py:86: RuntimeWarning: Binary file was saved with a different version of REBOUND. Binary format might have changed.\n",
      "  warnings.warn(message, RuntimeWarning)\n",
      "/mnt/ssd/Dropbox/Dropbox (Princeton)/workspace/rebound/rebound/simulationarchive.py:132: RuntimeWarning: Binary file was saved with a different version of REBOUND. Binary format might have changed.\n",
      "  warnings.warn(message, RuntimeWarning)\n",
      "/mnt/ssd/Dropbox/Dropbox (Princeton)/workspace/rebound/rebound/simulationarchive.py:86: RuntimeWarning: Binary file was saved with a different version of REBOUND. Binary format might have changed.\n",
      "  warnings.warn(message, RuntimeWarning)\n",
      "/mnt/ssd/Dropbox/Dropbox (Princeton)/workspace/rebound/rebound/simulationarchive.py:132: RuntimeWarning: Binary file was saved with a different version of REBOUND. Binary format might have changed.\n",
      "  warnings.warn(message, RuntimeWarning)\n",
      "/mnt/ssd/Dropbox/Dropbox (Princeton)/workspace/rebound/rebound/simulationarchive.py:86: RuntimeWarning: Binary file was saved with a different version of REBOUND. Binary format might have changed.\n",
      "  warnings.warn(message, RuntimeWarning)\n",
      "/mnt/ssd/Dropbox/Dropbox (Princeton)/workspace/rebound/rebound/simulationarchive.py:132: RuntimeWarning: Binary file was saved with a different version of REBOUND. Binary format might have changed.\n",
      "  warnings.warn(message, RuntimeWarning)\n",
      "/mnt/ssd/Dropbox/Dropbox (Princeton)/workspace/rebound/rebound/simulationarchive.py:86: RuntimeWarning: Binary file was saved with a different version of REBOUND. Binary format might have changed.\n",
      "  warnings.warn(message, RuntimeWarning)\n",
      "/mnt/ssd/Dropbox/Dropbox (Princeton)/workspace/rebound/rebound/simulationarchive.py:86: RuntimeWarning: Binary file was saved with a different version of REBOUND. Binary format might have changed.\n",
      "  warnings.warn(message, RuntimeWarning)\n",
      "/mnt/ssd/Dropbox/Dropbox (Princeton)/workspace/rebound/rebound/simulationarchive.py:86: RuntimeWarning: Binary file was saved with a different version of REBOUND. Binary format might have changed.\n",
      "  warnings.warn(message, RuntimeWarning)\n",
      "/mnt/ssd/Dropbox/Dropbox (Princeton)/workspace/rebound/rebound/simulationarchive.py:86: RuntimeWarning: Binary file was saved with a different version of REBOUND. Binary format might have changed.\n",
      "  warnings.warn(message, RuntimeWarning)\n",
      "/mnt/ssd/Dropbox/Dropbox (Princeton)/workspace/rebound/rebound/simulationarchive.py:132: RuntimeWarning: Binary file was saved with a different version of REBOUND. Binary format might have changed.\n",
      "  warnings.warn(message, RuntimeWarning)\n",
      "/mnt/ssd/Dropbox/Dropbox (Princeton)/workspace/rebound/rebound/simulationarchive.py:132: RuntimeWarning: Binary file was saved with a different version of REBOUND. Binary format might have changed.\n",
      "  warnings.warn(message, RuntimeWarning)\n",
      "/mnt/ssd/Dropbox/Dropbox (Princeton)/workspace/rebound/rebound/simulationarchive.py:132: RuntimeWarning: Binary file was saved with a different version of REBOUND. Binary format might have changed.\n",
      "  warnings.warn(message, RuntimeWarning)\n",
      "/mnt/ssd/Dropbox/Dropbox (Princeton)/workspace/rebound/rebound/simulationarchive.py:132: RuntimeWarning: Binary file was saved with a different version of REBOUND. Binary format might have changed.\n",
      "  warnings.warn(message, RuntimeWarning)\n",
      "/mnt/ssd/Dropbox/Dropbox (Princeton)/workspace/rebound/rebound/simulationarchive.py:86: RuntimeWarning: Binary file was saved with a different version of REBOUND. Binary format might have changed.\n",
      "  warnings.warn(message, RuntimeWarning)\n",
      "/mnt/ssd/Dropbox/Dropbox (Princeton)/workspace/rebound/rebound/simulationarchive.py:132: RuntimeWarning: Binary file was saved with a different version of REBOUND. Binary format might have changed.\n",
      "  warnings.warn(message, RuntimeWarning)\n",
      "/mnt/ssd/Dropbox/Dropbox (Princeton)/workspace/rebound/rebound/simulationarchive.py:86: RuntimeWarning: Binary file was saved with a different version of REBOUND. Binary format might have changed.\n",
      "  warnings.warn(message, RuntimeWarning)\n"
     ]
    },
    {
     "name": "stderr",
     "output_type": "stream",
     "text": [
      "/mnt/ssd/Dropbox/Dropbox (Princeton)/workspace/rebound/rebound/simulationarchive.py:132: RuntimeWarning: Binary file was saved with a different version of REBOUND. Binary format might have changed.\n",
      "  warnings.warn(message, RuntimeWarning)\n",
      "/mnt/ssd/Dropbox/Dropbox (Princeton)/workspace/rebound/rebound/simulationarchive.py:86: RuntimeWarning: Binary file was saved with a different version of REBOUND. Binary format might have changed.\n",
      "  warnings.warn(message, RuntimeWarning)\n",
      "/mnt/ssd/Dropbox/Dropbox (Princeton)/workspace/rebound/rebound/simulationarchive.py:132: RuntimeWarning: Binary file was saved with a different version of REBOUND. Binary format might have changed.\n",
      "  warnings.warn(message, RuntimeWarning)\n",
      "/mnt/ssd/Dropbox/Dropbox (Princeton)/workspace/rebound/rebound/simulationarchive.py:86: RuntimeWarning: Binary file was saved with a different version of REBOUND. Binary format might have changed.\n",
      "  warnings.warn(message, RuntimeWarning)\n",
      "/mnt/ssd/Dropbox/Dropbox (Princeton)/workspace/rebound/rebound/simulationarchive.py:86: RuntimeWarning: Binary file was saved with a different version of REBOUND. Binary format might have changed.\n",
      "  warnings.warn(message, RuntimeWarning)\n",
      "/mnt/ssd/Dropbox/Dropbox (Princeton)/workspace/rebound/rebound/simulationarchive.py:86: RuntimeWarning: Binary file was saved with a different version of REBOUND. Binary format might have changed.\n",
      "  warnings.warn(message, RuntimeWarning)\n",
      "/mnt/ssd/Dropbox/Dropbox (Princeton)/workspace/rebound/rebound/simulationarchive.py:132: RuntimeWarning: Binary file was saved with a different version of REBOUND. Binary format might have changed.\n",
      "  warnings.warn(message, RuntimeWarning)\n",
      "/mnt/ssd/Dropbox/Dropbox (Princeton)/workspace/rebound/rebound/simulationarchive.py:86: RuntimeWarning: Binary file was saved with a different version of REBOUND. Binary format might have changed.\n",
      "  warnings.warn(message, RuntimeWarning)\n",
      "/mnt/ssd/Dropbox/Dropbox (Princeton)/workspace/rebound/rebound/simulationarchive.py:132: RuntimeWarning: Binary file was saved with a different version of REBOUND. Binary format might have changed.\n",
      "  warnings.warn(message, RuntimeWarning)\n",
      "/mnt/ssd/Dropbox/Dropbox (Princeton)/workspace/rebound/rebound/simulationarchive.py:132: RuntimeWarning: Binary file was saved with a different version of REBOUND. Binary format might have changed.\n",
      "  warnings.warn(message, RuntimeWarning)\n",
      "/mnt/ssd/Dropbox/Dropbox (Princeton)/workspace/rebound/rebound/simulationarchive.py:86: RuntimeWarning: Binary file was saved with a different version of REBOUND. Binary format might have changed.\n",
      "  warnings.warn(message, RuntimeWarning)\n",
      "/mnt/ssd/Dropbox/Dropbox (Princeton)/workspace/rebound/rebound/simulationarchive.py:86: RuntimeWarning: Binary file was saved with a different version of REBOUND. Binary format might have changed.\n",
      "  warnings.warn(message, RuntimeWarning)\n",
      "/mnt/ssd/Dropbox/Dropbox (Princeton)/workspace/rebound/rebound/simulationarchive.py:86: RuntimeWarning: Binary file was saved with a different version of REBOUND. Binary format might have changed.\n",
      "  warnings.warn(message, RuntimeWarning)\n",
      "/mnt/ssd/Dropbox/Dropbox (Princeton)/workspace/rebound/rebound/simulationarchive.py:86: RuntimeWarning: Binary file was saved with a different version of REBOUND. Binary format might have changed.\n",
      "  warnings.warn(message, RuntimeWarning)\n",
      "/mnt/ssd/Dropbox/Dropbox (Princeton)/workspace/rebound/rebound/simulationarchive.py:132: RuntimeWarning: Binary file was saved with a different version of REBOUND. Binary format might have changed.\n",
      "  warnings.warn(message, RuntimeWarning)\n",
      "/mnt/ssd/Dropbox/Dropbox (Princeton)/workspace/rebound/rebound/simulationarchive.py:86: RuntimeWarning: Binary file was saved with a different version of REBOUND. Binary format might have changed.\n",
      "  warnings.warn(message, RuntimeWarning)\n",
      "/mnt/ssd/Dropbox/Dropbox (Princeton)/workspace/rebound/rebound/simulationarchive.py:86: RuntimeWarning: Binary file was saved with a different version of REBOUND. Binary format might have changed.\n",
      "  warnings.warn(message, RuntimeWarning)\n",
      "/mnt/ssd/Dropbox/Dropbox (Princeton)/workspace/rebound/rebound/simulationarchive.py:86: RuntimeWarning: Binary file was saved with a different version of REBOUND. Binary format might have changed.\n",
      "  warnings.warn(message, RuntimeWarning)\n",
      "/mnt/ssd/Dropbox/Dropbox (Princeton)/workspace/rebound/rebound/simulationarchive.py:132: RuntimeWarning: Binary file was saved with a different version of REBOUND. Binary format might have changed.\n",
      "  warnings.warn(message, RuntimeWarning)\n",
      "/mnt/ssd/Dropbox/Dropbox (Princeton)/workspace/rebound/rebound/simulationarchive.py:132: RuntimeWarning: Binary file was saved with a different version of REBOUND. Binary format might have changed.\n",
      "  warnings.warn(message, RuntimeWarning)\n",
      "/mnt/ssd/Dropbox/Dropbox (Princeton)/workspace/rebound/rebound/simulationarchive.py:132: RuntimeWarning: Binary file was saved with a different version of REBOUND. Binary format might have changed.\n",
      "  warnings.warn(message, RuntimeWarning)\n",
      "/mnt/ssd/Dropbox/Dropbox (Princeton)/workspace/rebound/rebound/simulationarchive.py:132: RuntimeWarning: Binary file was saved with a different version of REBOUND. Binary format might have changed.\n",
      "  warnings.warn(message, RuntimeWarning)\n",
      "/mnt/ssd/Dropbox/Dropbox (Princeton)/workspace/rebound/rebound/simulationarchive.py:132: RuntimeWarning: Binary file was saved with a different version of REBOUND. Binary format might have changed.\n",
      "  warnings.warn(message, RuntimeWarning)\n",
      "/mnt/ssd/Dropbox/Dropbox (Princeton)/workspace/rebound/rebound/simulationarchive.py:132: RuntimeWarning: Binary file was saved with a different version of REBOUND. Binary format might have changed.\n",
      "  warnings.warn(message, RuntimeWarning)\n",
      "/mnt/ssd/Dropbox/Dropbox (Princeton)/workspace/rebound/rebound/simulationarchive.py:132: RuntimeWarning: Binary file was saved with a different version of REBOUND. Binary format might have changed.\n",
      "  warnings.warn(message, RuntimeWarning)\n",
      "/mnt/ssd/Dropbox/Dropbox (Princeton)/workspace/rebound/rebound/simulationarchive.py:86: RuntimeWarning: Binary file was saved with a different version of REBOUND. Binary format might have changed.\n",
      "  warnings.warn(message, RuntimeWarning)\n",
      "/mnt/ssd/Dropbox/Dropbox (Princeton)/workspace/rebound/rebound/simulationarchive.py:132: RuntimeWarning: Binary file was saved with a different version of REBOUND. Binary format might have changed.\n",
      "  warnings.warn(message, RuntimeWarning)\n",
      "/mnt/ssd/Dropbox/Dropbox (Princeton)/workspace/rebound/rebound/simulationarchive.py:86: RuntimeWarning: Binary file was saved with a different version of REBOUND. Binary format might have changed.\n",
      "  warnings.warn(message, RuntimeWarning)\n",
      "/mnt/ssd/Dropbox/Dropbox (Princeton)/workspace/rebound/rebound/simulationarchive.py:132: RuntimeWarning: Binary file was saved with a different version of REBOUND. Binary format might have changed.\n",
      "  warnings.warn(message, RuntimeWarning)\n",
      "/mnt/ssd/Dropbox/Dropbox (Princeton)/workspace/rebound/rebound/simulationarchive.py:86: RuntimeWarning: Binary file was saved with a different version of REBOUND. Binary format might have changed.\n",
      "  warnings.warn(message, RuntimeWarning)\n",
      "/mnt/ssd/Dropbox/Dropbox (Princeton)/workspace/rebound/rebound/simulationarchive.py:132: RuntimeWarning: Binary file was saved with a different version of REBOUND. Binary format might have changed.\n",
      "  warnings.warn(message, RuntimeWarning)\n",
      "/mnt/ssd/Dropbox/Dropbox (Princeton)/workspace/rebound/rebound/simulationarchive.py:86: RuntimeWarning: Binary file was saved with a different version of REBOUND. Binary format might have changed.\n",
      "  warnings.warn(message, RuntimeWarning)\n",
      "/mnt/ssd/Dropbox/Dropbox (Princeton)/workspace/rebound/rebound/simulationarchive.py:86: RuntimeWarning: Binary file was saved with a different version of REBOUND. Binary format might have changed.\n",
      "  warnings.warn(message, RuntimeWarning)\n",
      "/mnt/ssd/Dropbox/Dropbox (Princeton)/workspace/rebound/rebound/simulationarchive.py:132: RuntimeWarning: Binary file was saved with a different version of REBOUND. Binary format might have changed.\n",
      "  warnings.warn(message, RuntimeWarning)\n",
      "/mnt/ssd/Dropbox/Dropbox (Princeton)/workspace/rebound/rebound/simulationarchive.py:86: RuntimeWarning: Binary file was saved with a different version of REBOUND. Binary format might have changed.\n",
      "  warnings.warn(message, RuntimeWarning)\n"
     ]
    },
    {
     "name": "stderr",
     "output_type": "stream",
     "text": [
      "/mnt/ssd/Dropbox/Dropbox (Princeton)/workspace/rebound/rebound/simulationarchive.py:132: RuntimeWarning: Binary file was saved with a different version of REBOUND. Binary format might have changed.\n",
      "  warnings.warn(message, RuntimeWarning)\n",
      "/mnt/ssd/Dropbox/Dropbox (Princeton)/workspace/rebound/rebound/simulationarchive.py:132: RuntimeWarning: Binary file was saved with a different version of REBOUND. Binary format might have changed.\n",
      "  warnings.warn(message, RuntimeWarning)\n",
      "/mnt/ssd/Dropbox/Dropbox (Princeton)/workspace/rebound/rebound/simulationarchive.py:86: RuntimeWarning: Binary file was saved with a different version of REBOUND. Binary format might have changed.\n",
      "  warnings.warn(message, RuntimeWarning)\n",
      "/mnt/ssd/Dropbox/Dropbox (Princeton)/workspace/rebound/rebound/simulationarchive.py:132: RuntimeWarning: Binary file was saved with a different version of REBOUND. Binary format might have changed.\n",
      "  warnings.warn(message, RuntimeWarning)\n",
      "/mnt/ssd/Dropbox/Dropbox (Princeton)/workspace/rebound/rebound/simulationarchive.py:86: RuntimeWarning: Binary file was saved with a different version of REBOUND. Binary format might have changed.\n",
      "  warnings.warn(message, RuntimeWarning)\n",
      "/mnt/ssd/Dropbox/Dropbox (Princeton)/workspace/rebound/rebound/simulationarchive.py:132: RuntimeWarning: Binary file was saved with a different version of REBOUND. Binary format might have changed.\n",
      "  warnings.warn(message, RuntimeWarning)\n",
      "/mnt/ssd/Dropbox/Dropbox (Princeton)/workspace/rebound/rebound/simulationarchive.py:86: RuntimeWarning: Binary file was saved with a different version of REBOUND. Binary format might have changed.\n",
      "  warnings.warn(message, RuntimeWarning)\n",
      "/mnt/ssd/Dropbox/Dropbox (Princeton)/workspace/rebound/rebound/simulationarchive.py:86: RuntimeWarning: Binary file was saved with a different version of REBOUND. Binary format might have changed.\n",
      "  warnings.warn(message, RuntimeWarning)\n",
      "/mnt/ssd/Dropbox/Dropbox (Princeton)/workspace/rebound/rebound/simulationarchive.py:132: RuntimeWarning: Binary file was saved with a different version of REBOUND. Binary format might have changed.\n",
      "  warnings.warn(message, RuntimeWarning)\n",
      "/mnt/ssd/Dropbox/Dropbox (Princeton)/workspace/rebound/rebound/simulationarchive.py:132: RuntimeWarning: Binary file was saved with a different version of REBOUND. Binary format might have changed.\n",
      "  warnings.warn(message, RuntimeWarning)\n",
      "/mnt/ssd/Dropbox/Dropbox (Princeton)/workspace/rebound/rebound/simulationarchive.py:86: RuntimeWarning: Binary file was saved with a different version of REBOUND. Binary format might have changed.\n",
      "  warnings.warn(message, RuntimeWarning)\n",
      "/mnt/ssd/Dropbox/Dropbox (Princeton)/workspace/rebound/rebound/simulationarchive.py:132: RuntimeWarning: Binary file was saved with a different version of REBOUND. Binary format might have changed.\n",
      "  warnings.warn(message, RuntimeWarning)\n",
      "/mnt/ssd/Dropbox/Dropbox (Princeton)/workspace/celmech/celmech/nbody_simulation_utilities.py:169: RuntimeWarning: invalid value encountered in true_divide\n",
      "  v_for_orbit = rtilde / mu\n"
     ]
    },
    {
     "name": "stdout",
     "output_type": "stream",
     "text": [
      "CPU times: user 608 ms, sys: 410 ms, total: 1.02 s\n",
      "Wall time: 44.6 s\n"
     ]
    }
   ],
   "source": [
    "%%time\n",
    "import dask.dataframe as dd\n",
    "ddf = dd.from_pandas(df, npartitions=40)\n",
    "df = ddf.apply(populate, axis=1, meta=pd.DataFrame([populate(df.loc[0])])).compute(scheduler='processes')"
   ]
  },
  {
   "cell_type": "code",
   "execution_count": 5,
   "metadata": {},
   "outputs": [
    {
     "data": {
      "text/html": [
       "<div>\n",
       "<style scoped>\n",
       "    .dataframe tbody tr th:only-of-type {\n",
       "        vertical-align: middle;\n",
       "    }\n",
       "\n",
       "    .dataframe tbody tr th {\n",
       "        vertical-align: top;\n",
       "    }\n",
       "\n",
       "    .dataframe thead th {\n",
       "        text-align: right;\n",
       "    }\n",
       "</style>\n",
       "<table border=\"1\" class=\"dataframe\">\n",
       "  <thead>\n",
       "    <tr style=\"text-align: right;\">\n",
       "      <th></th>\n",
       "      <th>sim</th>\n",
       "      <th>Mstar</th>\n",
       "      <th>Z12</th>\n",
       "      <th>Z23</th>\n",
       "      <th>mu1</th>\n",
       "      <th>mu2</th>\n",
       "      <th>mu3</th>\n",
       "      <th>e1</th>\n",
       "      <th>e2</th>\n",
       "      <th>e3</th>\n",
       "      <th>h1</th>\n",
       "      <th>h2</th>\n",
       "      <th>h3</th>\n",
       "      <th>k1</th>\n",
       "      <th>k2</th>\n",
       "      <th>k3</th>\n",
       "      <th>ecom</th>\n",
       "    </tr>\n",
       "  </thead>\n",
       "  <tbody>\n",
       "    <tr>\n",
       "      <th>27048</th>\n",
       "      <td>1999380.0</td>\n",
       "      <td>0.880613</td>\n",
       "      <td>0.201456</td>\n",
       "      <td>0.102933</td>\n",
       "      <td>2.729311e-06</td>\n",
       "      <td>0.000012</td>\n",
       "      <td>0.000003</td>\n",
       "      <td>0.198727</td>\n",
       "      <td>0.155031</td>\n",
       "      <td>0.014555</td>\n",
       "      <td>-0.099066</td>\n",
       "      <td>-0.101202</td>\n",
       "      <td>0.013028</td>\n",
       "      <td>-0.172274</td>\n",
       "      <td>0.117442</td>\n",
       "      <td>0.006489</td>\n",
       "      <td>0.101288</td>\n",
       "    </tr>\n",
       "    <tr>\n",
       "      <th>27049</th>\n",
       "      <td>1999466.0</td>\n",
       "      <td>1.214257</td>\n",
       "      <td>0.028857</td>\n",
       "      <td>0.021840</td>\n",
       "      <td>8.367568e-07</td>\n",
       "      <td>0.000042</td>\n",
       "      <td>0.000007</td>\n",
       "      <td>0.039781</td>\n",
       "      <td>0.010983</td>\n",
       "      <td>0.022669</td>\n",
       "      <td>-0.039776</td>\n",
       "      <td>0.003408</td>\n",
       "      <td>-0.022128</td>\n",
       "      <td>-0.000577</td>\n",
       "      <td>-0.010441</td>\n",
       "      <td>0.004925</td>\n",
       "      <td>0.008076</td>\n",
       "    </tr>\n",
       "    <tr>\n",
       "      <th>27050</th>\n",
       "      <td>1999693.0</td>\n",
       "      <td>1.225737</td>\n",
       "      <td>0.075364</td>\n",
       "      <td>0.066737</td>\n",
       "      <td>9.338099e-06</td>\n",
       "      <td>0.000078</td>\n",
       "      <td>0.000004</td>\n",
       "      <td>0.088874</td>\n",
       "      <td>0.108052</td>\n",
       "      <td>0.175515</td>\n",
       "      <td>0.080759</td>\n",
       "      <td>0.007459</td>\n",
       "      <td>-0.001799</td>\n",
       "      <td>-0.037102</td>\n",
       "      <td>-0.107794</td>\n",
       "      <td>-0.175506</td>\n",
       "      <td>0.104393</td>\n",
       "    </tr>\n",
       "    <tr>\n",
       "      <th>27051</th>\n",
       "      <td>1999943.0</td>\n",
       "      <td>1.083352</td>\n",
       "      <td>0.130137</td>\n",
       "      <td>0.077125</td>\n",
       "      <td>1.474248e-06</td>\n",
       "      <td>0.000006</td>\n",
       "      <td>0.000018</td>\n",
       "      <td>0.224166</td>\n",
       "      <td>0.236365</td>\n",
       "      <td>0.140135</td>\n",
       "      <td>0.222827</td>\n",
       "      <td>0.185455</td>\n",
       "      <td>0.055326</td>\n",
       "      <td>0.024470</td>\n",
       "      <td>-0.146544</td>\n",
       "      <td>-0.128751</td>\n",
       "      <td>0.156694</td>\n",
       "    </tr>\n",
       "    <tr>\n",
       "      <th>27052</th>\n",
       "      <td>1999969.0</td>\n",
       "      <td>1.159434</td>\n",
       "      <td>0.045962</td>\n",
       "      <td>0.052065</td>\n",
       "      <td>3.549245e-06</td>\n",
       "      <td>0.000037</td>\n",
       "      <td>0.000085</td>\n",
       "      <td>0.095140</td>\n",
       "      <td>0.020418</td>\n",
       "      <td>0.050637</td>\n",
       "      <td>-0.057283</td>\n",
       "      <td>-0.017687</td>\n",
       "      <td>0.047178</td>\n",
       "      <td>-0.075962</td>\n",
       "      <td>-0.010202</td>\n",
       "      <td>0.018394</td>\n",
       "      <td>0.026185</td>\n",
       "    </tr>\n",
       "  </tbody>\n",
       "</table>\n",
       "</div>"
      ],
      "text/plain": [
       "             sim     Mstar       Z12       Z23           mu1       mu2  \\\n",
       "27048  1999380.0  0.880613  0.201456  0.102933  2.729311e-06  0.000012   \n",
       "27049  1999466.0  1.214257  0.028857  0.021840  8.367568e-07  0.000042   \n",
       "27050  1999693.0  1.225737  0.075364  0.066737  9.338099e-06  0.000078   \n",
       "27051  1999943.0  1.083352  0.130137  0.077125  1.474248e-06  0.000006   \n",
       "27052  1999969.0  1.159434  0.045962  0.052065  3.549245e-06  0.000037   \n",
       "\n",
       "            mu3        e1        e2        e3        h1        h2        h3  \\\n",
       "27048  0.000003  0.198727  0.155031  0.014555 -0.099066 -0.101202  0.013028   \n",
       "27049  0.000007  0.039781  0.010983  0.022669 -0.039776  0.003408 -0.022128   \n",
       "27050  0.000004  0.088874  0.108052  0.175515  0.080759  0.007459 -0.001799   \n",
       "27051  0.000018  0.224166  0.236365  0.140135  0.222827  0.185455  0.055326   \n",
       "27052  0.000085  0.095140  0.020418  0.050637 -0.057283 -0.017687  0.047178   \n",
       "\n",
       "             k1        k2        k3      ecom  \n",
       "27048 -0.172274  0.117442  0.006489  0.101288  \n",
       "27049 -0.000577 -0.010441  0.004925  0.008076  \n",
       "27050 -0.037102 -0.107794 -0.175506  0.104393  \n",
       "27051  0.024470 -0.146544 -0.128751  0.156694  \n",
       "27052 -0.075962 -0.010202  0.018394  0.026185  "
      ]
     },
     "execution_count": 5,
     "metadata": {},
     "output_type": "execute_result"
    }
   ],
   "source": [
    "df.tail()"
   ]
  },
  {
   "cell_type": "markdown",
   "metadata": {},
   "source": [
    "# Ejections\n",
    "\n",
    "While ejections are rare for the non-crossing, close-in low-mass multiplanet systems SPOCK is trained on, they can occur for the highly eccentric orbit-crossing configurations in our prior. We have updated SPOCK now to check for ejections, but we fix things here manually by checking the final SimulationArchives snapshots. This step wouldn't be necessary using latest version of SPOCK"
   ]
  },
  {
   "cell_type": "code",
   "execution_count": 6,
   "metadata": {},
   "outputs": [],
   "source": [
    "def check_ejection(row):\n",
    "    safilename = 'K23_logm_sa_{0}.bin'.format(int(row['sim']))\n",
    "    sa = rebound.SimulationArchive('K23uniform/'+safilename)\n",
    "    sim = sa[0]\n",
    "    maxd0 = np.array([p.d for p in sim.particles[1:sim.N_real]]).max()\n",
    "    P1 = sim.particles[1].P        \n",
    "    sim = sa[-1]\n",
    "    d = np.array([p.d for p in sim.particles[1:sim.N_real]])\n",
    "    row['ejection'] = np.max(d) > 100*maxd0\n",
    "    row['t_instability'] = sim.t/P1\n",
    "    return row"
   ]
  },
  {
   "cell_type": "code",
   "execution_count": 7,
   "metadata": {},
   "outputs": [
    {
     "name": "stderr",
     "output_type": "stream",
     "text": [
      "/mnt/ssd/Dropbox/Dropbox (Princeton)/workspace/rebound/rebound/simulationarchive.py:86: RuntimeWarning: Binary file was saved with a different version of REBOUND. Binary format might have changed.\n",
      "  warnings.warn(message, RuntimeWarning)\n",
      "/mnt/ssd/Dropbox/Dropbox (Princeton)/workspace/rebound/rebound/simulationarchive.py:132: RuntimeWarning: Binary file was saved with a different version of REBOUND. Binary format might have changed.\n",
      "  warnings.warn(message, RuntimeWarning)\n"
     ]
    },
    {
     "name": "stdout",
     "output_type": "stream",
     "text": [
      "CPU times: user 15.5 s, sys: 2.13 s, total: 17.6 s\n",
      "Wall time: 13.1 s\n"
     ]
    }
   ],
   "source": [
    "%%time\n",
    "df['ejection'] = False\n",
    "df['t_instability'] = np.nan\n",
    "df = df.apply(check_ejection, axis=1)"
   ]
  },
  {
   "cell_type": "markdown",
   "metadata": {},
   "source": [
    "# Label stable systems"
   ]
  },
  {
   "cell_type": "code",
   "execution_count": 8,
   "metadata": {},
   "outputs": [
    {
     "data": {
      "text/html": [
       "<div>\n",
       "<style scoped>\n",
       "    .dataframe tbody tr th:only-of-type {\n",
       "        vertical-align: middle;\n",
       "    }\n",
       "\n",
       "    .dataframe tbody tr th {\n",
       "        vertical-align: top;\n",
       "    }\n",
       "\n",
       "    .dataframe thead th {\n",
       "        text-align: right;\n",
       "    }\n",
       "</style>\n",
       "<table border=\"1\" class=\"dataframe\">\n",
       "  <thead>\n",
       "    <tr style=\"text-align: right;\">\n",
       "      <th></th>\n",
       "      <th>sim</th>\n",
       "      <th>Mstar</th>\n",
       "      <th>Z12</th>\n",
       "      <th>Z23</th>\n",
       "      <th>mu1</th>\n",
       "      <th>mu2</th>\n",
       "      <th>mu3</th>\n",
       "      <th>e1</th>\n",
       "      <th>e2</th>\n",
       "      <th>e3</th>\n",
       "      <th>h1</th>\n",
       "      <th>h2</th>\n",
       "      <th>h3</th>\n",
       "      <th>k1</th>\n",
       "      <th>k2</th>\n",
       "      <th>k3</th>\n",
       "      <th>ecom</th>\n",
       "      <th>ejection</th>\n",
       "      <th>t_instability</th>\n",
       "      <th>nbodystable</th>\n",
       "    </tr>\n",
       "  </thead>\n",
       "  <tbody>\n",
       "    <tr>\n",
       "      <th>27048</th>\n",
       "      <td>1999380.0</td>\n",
       "      <td>0.880613</td>\n",
       "      <td>0.201456</td>\n",
       "      <td>0.102933</td>\n",
       "      <td>2.729311e-06</td>\n",
       "      <td>0.000012</td>\n",
       "      <td>0.000003</td>\n",
       "      <td>0.198727</td>\n",
       "      <td>0.155031</td>\n",
       "      <td>0.014555</td>\n",
       "      <td>-0.099066</td>\n",
       "      <td>-0.101202</td>\n",
       "      <td>0.013028</td>\n",
       "      <td>-0.172274</td>\n",
       "      <td>0.117442</td>\n",
       "      <td>0.006489</td>\n",
       "      <td>0.101288</td>\n",
       "      <td>False</td>\n",
       "      <td>5.358731e+04</td>\n",
       "      <td>False</td>\n",
       "    </tr>\n",
       "    <tr>\n",
       "      <th>27049</th>\n",
       "      <td>1999466.0</td>\n",
       "      <td>1.214257</td>\n",
       "      <td>0.028857</td>\n",
       "      <td>0.021840</td>\n",
       "      <td>8.367568e-07</td>\n",
       "      <td>0.000042</td>\n",
       "      <td>0.000007</td>\n",
       "      <td>0.039781</td>\n",
       "      <td>0.010983</td>\n",
       "      <td>0.022669</td>\n",
       "      <td>-0.039776</td>\n",
       "      <td>0.003408</td>\n",
       "      <td>-0.022128</td>\n",
       "      <td>-0.000577</td>\n",
       "      <td>-0.010441</td>\n",
       "      <td>0.004925</td>\n",
       "      <td>0.008076</td>\n",
       "      <td>False</td>\n",
       "      <td>1.000000e+09</td>\n",
       "      <td>True</td>\n",
       "    </tr>\n",
       "    <tr>\n",
       "      <th>27050</th>\n",
       "      <td>1999693.0</td>\n",
       "      <td>1.225737</td>\n",
       "      <td>0.075364</td>\n",
       "      <td>0.066737</td>\n",
       "      <td>9.338099e-06</td>\n",
       "      <td>0.000078</td>\n",
       "      <td>0.000004</td>\n",
       "      <td>0.088874</td>\n",
       "      <td>0.108052</td>\n",
       "      <td>0.175515</td>\n",
       "      <td>0.080759</td>\n",
       "      <td>0.007459</td>\n",
       "      <td>-0.001799</td>\n",
       "      <td>-0.037102</td>\n",
       "      <td>-0.107794</td>\n",
       "      <td>-0.175506</td>\n",
       "      <td>0.104393</td>\n",
       "      <td>False</td>\n",
       "      <td>6.319852e+04</td>\n",
       "      <td>False</td>\n",
       "    </tr>\n",
       "    <tr>\n",
       "      <th>27051</th>\n",
       "      <td>1999943.0</td>\n",
       "      <td>1.083352</td>\n",
       "      <td>0.130137</td>\n",
       "      <td>0.077125</td>\n",
       "      <td>1.474248e-06</td>\n",
       "      <td>0.000006</td>\n",
       "      <td>0.000018</td>\n",
       "      <td>0.224166</td>\n",
       "      <td>0.236365</td>\n",
       "      <td>0.140135</td>\n",
       "      <td>0.222827</td>\n",
       "      <td>0.185455</td>\n",
       "      <td>0.055326</td>\n",
       "      <td>0.024470</td>\n",
       "      <td>-0.146544</td>\n",
       "      <td>-0.128751</td>\n",
       "      <td>0.156694</td>\n",
       "      <td>False</td>\n",
       "      <td>2.133985e+04</td>\n",
       "      <td>False</td>\n",
       "    </tr>\n",
       "    <tr>\n",
       "      <th>27052</th>\n",
       "      <td>1999969.0</td>\n",
       "      <td>1.159434</td>\n",
       "      <td>0.045962</td>\n",
       "      <td>0.052065</td>\n",
       "      <td>3.549245e-06</td>\n",
       "      <td>0.000037</td>\n",
       "      <td>0.000085</td>\n",
       "      <td>0.095140</td>\n",
       "      <td>0.020418</td>\n",
       "      <td>0.050637</td>\n",
       "      <td>-0.057283</td>\n",
       "      <td>-0.017687</td>\n",
       "      <td>0.047178</td>\n",
       "      <td>-0.075962</td>\n",
       "      <td>-0.010202</td>\n",
       "      <td>0.018394</td>\n",
       "      <td>0.026185</td>\n",
       "      <td>False</td>\n",
       "      <td>6.663452e+04</td>\n",
       "      <td>False</td>\n",
       "    </tr>\n",
       "  </tbody>\n",
       "</table>\n",
       "</div>"
      ],
      "text/plain": [
       "             sim     Mstar       Z12       Z23           mu1       mu2  \\\n",
       "27048  1999380.0  0.880613  0.201456  0.102933  2.729311e-06  0.000012   \n",
       "27049  1999466.0  1.214257  0.028857  0.021840  8.367568e-07  0.000042   \n",
       "27050  1999693.0  1.225737  0.075364  0.066737  9.338099e-06  0.000078   \n",
       "27051  1999943.0  1.083352  0.130137  0.077125  1.474248e-06  0.000006   \n",
       "27052  1999969.0  1.159434  0.045962  0.052065  3.549245e-06  0.000037   \n",
       "\n",
       "            mu3        e1        e2        e3        h1        h2        h3  \\\n",
       "27048  0.000003  0.198727  0.155031  0.014555 -0.099066 -0.101202  0.013028   \n",
       "27049  0.000007  0.039781  0.010983  0.022669 -0.039776  0.003408 -0.022128   \n",
       "27050  0.000004  0.088874  0.108052  0.175515  0.080759  0.007459 -0.001799   \n",
       "27051  0.000018  0.224166  0.236365  0.140135  0.222827  0.185455  0.055326   \n",
       "27052  0.000085  0.095140  0.020418  0.050637 -0.057283 -0.017687  0.047178   \n",
       "\n",
       "             k1        k2        k3      ecom  ejection  t_instability  \\\n",
       "27048 -0.172274  0.117442  0.006489  0.101288     False   5.358731e+04   \n",
       "27049 -0.000577 -0.010441  0.004925  0.008076     False   1.000000e+09   \n",
       "27050 -0.037102 -0.107794 -0.175506  0.104393     False   6.319852e+04   \n",
       "27051  0.024470 -0.146544 -0.128751  0.156694     False   2.133985e+04   \n",
       "27052 -0.075962 -0.010202  0.018394  0.026185     False   6.663452e+04   \n",
       "\n",
       "       nbodystable  \n",
       "27048        False  \n",
       "27049         True  \n",
       "27050        False  \n",
       "27051        False  \n",
       "27052        False  "
      ]
     },
     "execution_count": 8,
     "metadata": {},
     "output_type": "execute_result"
    }
   ],
   "source": [
    "df['nbodystable'] = df['t_instability'] > 9.99e8\n",
    "df.tail()"
   ]
  },
  {
   "cell_type": "markdown",
   "metadata": {},
   "source": [
    "# About 1200 stable systems, but many of these are actually ejections that integrated to 1e9 anyway"
   ]
  },
  {
   "cell_type": "code",
   "execution_count": 9,
   "metadata": {},
   "outputs": [
    {
     "data": {
      "text/plain": [
       "1183"
      ]
     },
     "execution_count": 9,
     "metadata": {},
     "output_type": "execute_result"
    }
   ],
   "source": [
    "df['nbodystable'].sum()"
   ]
  },
  {
   "cell_type": "code",
   "execution_count": 10,
   "metadata": {},
   "outputs": [
    {
     "data": {
      "text/plain": [
       "463"
      ]
     },
     "execution_count": 10,
     "metadata": {},
     "output_type": "execute_result"
    }
   ],
   "source": [
    "df['ejection'].sum()"
   ]
  },
  {
   "cell_type": "markdown",
   "metadata": {},
   "source": [
    "# Fix stability label for all systems with ejections"
   ]
  },
  {
   "cell_type": "code",
   "execution_count": 11,
   "metadata": {},
   "outputs": [],
   "source": [
    "df.loc[df['ejection'] == True, ['nbodystable']] = False"
   ]
  },
  {
   "cell_type": "code",
   "execution_count": 12,
   "metadata": {},
   "outputs": [
    {
     "data": {
      "text/plain": [
       "837"
      ]
     },
     "execution_count": 12,
     "metadata": {},
     "output_type": "execute_result"
    }
   ],
   "source": [
    "df['nbodystable'].sum()"
   ]
  },
  {
   "cell_type": "markdown",
   "metadata": {},
   "source": [
    "# Orbit Crossing\n",
    "\n",
    "We now add an orbit-crossing label so we can filter them out in our analysis. When analyzing new systems, this code could be adapted to perform the rejection step up front when drawing samples from the prior (see discussion in the paper)."
   ]
  },
  {
   "cell_type": "code",
   "execution_count": 13,
   "metadata": {},
   "outputs": [],
   "source": [
    "def check_crossing(row):\n",
    "    safilename = 'K23uniform/K23_logm_sa_{0}.bin'.format(int(row['sim']))\n",
    "    sa = rebound.SimulationArchive(safilename)\n",
    "    sim = sa[0]\n",
    "    ps = sim.particles\n",
    "    for i1, i2 in [[1,2], [2,3]]:\n",
    "        EMx = ps[i1].e*np.cos(ps[i1].pomega) - ps[i2].e*np.cos(ps[i2].pomega)\n",
    "        EMy = ps[i1].e*np.sin(ps[i1].pomega) - ps[i2].e*np.sin(ps[i2].pomega)\n",
    "        EM = np.sqrt(EMx**2 + EMy**2)\n",
    "        EMcross = (ps[i2].a-ps[i1].a)/ps[i2].a\n",
    "        if EM > EMcross:\n",
    "            row['crossing'] = True\n",
    "    return row"
   ]
  },
  {
   "cell_type": "code",
   "execution_count": 14,
   "metadata": {},
   "outputs": [
    {
     "name": "stdout",
     "output_type": "stream",
     "text": [
      "CPU times: user 12.5 s, sys: 1.8 s, total: 14.3 s\n",
      "Wall time: 14.3 s\n"
     ]
    }
   ],
   "source": [
    "%%time\n",
    "df['crossing'] = False\n",
    "df = df.apply(check_crossing, axis=1)"
   ]
  },
  {
   "cell_type": "code",
   "execution_count": 15,
   "metadata": {},
   "outputs": [
    {
     "data": {
      "text/html": [
       "<div>\n",
       "<style scoped>\n",
       "    .dataframe tbody tr th:only-of-type {\n",
       "        vertical-align: middle;\n",
       "    }\n",
       "\n",
       "    .dataframe tbody tr th {\n",
       "        vertical-align: top;\n",
       "    }\n",
       "\n",
       "    .dataframe thead th {\n",
       "        text-align: right;\n",
       "    }\n",
       "</style>\n",
       "<table border=\"1\" class=\"dataframe\">\n",
       "  <thead>\n",
       "    <tr style=\"text-align: right;\">\n",
       "      <th></th>\n",
       "      <th>sim</th>\n",
       "      <th>Mstar</th>\n",
       "      <th>Z12</th>\n",
       "      <th>Z23</th>\n",
       "      <th>mu1</th>\n",
       "      <th>mu2</th>\n",
       "      <th>mu3</th>\n",
       "      <th>e1</th>\n",
       "      <th>e2</th>\n",
       "      <th>e3</th>\n",
       "      <th>...</th>\n",
       "      <th>h2</th>\n",
       "      <th>h3</th>\n",
       "      <th>k1</th>\n",
       "      <th>k2</th>\n",
       "      <th>k3</th>\n",
       "      <th>ecom</th>\n",
       "      <th>ejection</th>\n",
       "      <th>t_instability</th>\n",
       "      <th>nbodystable</th>\n",
       "      <th>crossing</th>\n",
       "    </tr>\n",
       "  </thead>\n",
       "  <tbody>\n",
       "    <tr>\n",
       "      <th>27048</th>\n",
       "      <td>1999380.0</td>\n",
       "      <td>0.880613</td>\n",
       "      <td>0.201456</td>\n",
       "      <td>0.102933</td>\n",
       "      <td>2.729311e-06</td>\n",
       "      <td>0.000012</td>\n",
       "      <td>0.000003</td>\n",
       "      <td>0.198727</td>\n",
       "      <td>0.155031</td>\n",
       "      <td>0.014555</td>\n",
       "      <td>...</td>\n",
       "      <td>-0.101202</td>\n",
       "      <td>0.013028</td>\n",
       "      <td>-0.172274</td>\n",
       "      <td>0.117442</td>\n",
       "      <td>0.006489</td>\n",
       "      <td>0.101288</td>\n",
       "      <td>False</td>\n",
       "      <td>5.358731e+04</td>\n",
       "      <td>False</td>\n",
       "      <td>True</td>\n",
       "    </tr>\n",
       "    <tr>\n",
       "      <th>27049</th>\n",
       "      <td>1999466.0</td>\n",
       "      <td>1.214257</td>\n",
       "      <td>0.028857</td>\n",
       "      <td>0.021840</td>\n",
       "      <td>8.367568e-07</td>\n",
       "      <td>0.000042</td>\n",
       "      <td>0.000007</td>\n",
       "      <td>0.039781</td>\n",
       "      <td>0.010983</td>\n",
       "      <td>0.022669</td>\n",
       "      <td>...</td>\n",
       "      <td>0.003408</td>\n",
       "      <td>-0.022128</td>\n",
       "      <td>-0.000577</td>\n",
       "      <td>-0.010441</td>\n",
       "      <td>0.004925</td>\n",
       "      <td>0.008076</td>\n",
       "      <td>False</td>\n",
       "      <td>1.000000e+09</td>\n",
       "      <td>True</td>\n",
       "      <td>False</td>\n",
       "    </tr>\n",
       "    <tr>\n",
       "      <th>27050</th>\n",
       "      <td>1999693.0</td>\n",
       "      <td>1.225737</td>\n",
       "      <td>0.075364</td>\n",
       "      <td>0.066737</td>\n",
       "      <td>9.338099e-06</td>\n",
       "      <td>0.000078</td>\n",
       "      <td>0.000004</td>\n",
       "      <td>0.088874</td>\n",
       "      <td>0.108052</td>\n",
       "      <td>0.175515</td>\n",
       "      <td>...</td>\n",
       "      <td>0.007459</td>\n",
       "      <td>-0.001799</td>\n",
       "      <td>-0.037102</td>\n",
       "      <td>-0.107794</td>\n",
       "      <td>-0.175506</td>\n",
       "      <td>0.104393</td>\n",
       "      <td>False</td>\n",
       "      <td>6.319852e+04</td>\n",
       "      <td>False</td>\n",
       "      <td>False</td>\n",
       "    </tr>\n",
       "    <tr>\n",
       "      <th>27051</th>\n",
       "      <td>1999943.0</td>\n",
       "      <td>1.083352</td>\n",
       "      <td>0.130137</td>\n",
       "      <td>0.077125</td>\n",
       "      <td>1.474248e-06</td>\n",
       "      <td>0.000006</td>\n",
       "      <td>0.000018</td>\n",
       "      <td>0.224166</td>\n",
       "      <td>0.236365</td>\n",
       "      <td>0.140135</td>\n",
       "      <td>...</td>\n",
       "      <td>0.185455</td>\n",
       "      <td>0.055326</td>\n",
       "      <td>0.024470</td>\n",
       "      <td>-0.146544</td>\n",
       "      <td>-0.128751</td>\n",
       "      <td>0.156694</td>\n",
       "      <td>False</td>\n",
       "      <td>2.133985e+04</td>\n",
       "      <td>False</td>\n",
       "      <td>False</td>\n",
       "    </tr>\n",
       "    <tr>\n",
       "      <th>27052</th>\n",
       "      <td>1999969.0</td>\n",
       "      <td>1.159434</td>\n",
       "      <td>0.045962</td>\n",
       "      <td>0.052065</td>\n",
       "      <td>3.549245e-06</td>\n",
       "      <td>0.000037</td>\n",
       "      <td>0.000085</td>\n",
       "      <td>0.095140</td>\n",
       "      <td>0.020418</td>\n",
       "      <td>0.050637</td>\n",
       "      <td>...</td>\n",
       "      <td>-0.017687</td>\n",
       "      <td>0.047178</td>\n",
       "      <td>-0.075962</td>\n",
       "      <td>-0.010202</td>\n",
       "      <td>0.018394</td>\n",
       "      <td>0.026185</td>\n",
       "      <td>False</td>\n",
       "      <td>6.663452e+04</td>\n",
       "      <td>False</td>\n",
       "      <td>False</td>\n",
       "    </tr>\n",
       "  </tbody>\n",
       "</table>\n",
       "<p>5 rows × 21 columns</p>\n",
       "</div>"
      ],
      "text/plain": [
       "             sim     Mstar       Z12       Z23           mu1       mu2  \\\n",
       "27048  1999380.0  0.880613  0.201456  0.102933  2.729311e-06  0.000012   \n",
       "27049  1999466.0  1.214257  0.028857  0.021840  8.367568e-07  0.000042   \n",
       "27050  1999693.0  1.225737  0.075364  0.066737  9.338099e-06  0.000078   \n",
       "27051  1999943.0  1.083352  0.130137  0.077125  1.474248e-06  0.000006   \n",
       "27052  1999969.0  1.159434  0.045962  0.052065  3.549245e-06  0.000037   \n",
       "\n",
       "            mu3        e1        e2        e3  ...        h2        h3  \\\n",
       "27048  0.000003  0.198727  0.155031  0.014555  ... -0.101202  0.013028   \n",
       "27049  0.000007  0.039781  0.010983  0.022669  ...  0.003408 -0.022128   \n",
       "27050  0.000004  0.088874  0.108052  0.175515  ...  0.007459 -0.001799   \n",
       "27051  0.000018  0.224166  0.236365  0.140135  ...  0.185455  0.055326   \n",
       "27052  0.000085  0.095140  0.020418  0.050637  ... -0.017687  0.047178   \n",
       "\n",
       "             k1        k2        k3      ecom  ejection  t_instability  \\\n",
       "27048 -0.172274  0.117442  0.006489  0.101288     False   5.358731e+04   \n",
       "27049 -0.000577 -0.010441  0.004925  0.008076     False   1.000000e+09   \n",
       "27050 -0.037102 -0.107794 -0.175506  0.104393     False   6.319852e+04   \n",
       "27051  0.024470 -0.146544 -0.128751  0.156694     False   2.133985e+04   \n",
       "27052 -0.075962 -0.010202  0.018394  0.026185     False   6.663452e+04   \n",
       "\n",
       "       nbodystable  crossing  \n",
       "27048        False      True  \n",
       "27049         True     False  \n",
       "27050        False     False  \n",
       "27051        False     False  \n",
       "27052        False     False  \n",
       "\n",
       "[5 rows x 21 columns]"
      ]
     },
     "execution_count": 15,
     "metadata": {},
     "output_type": "execute_result"
    }
   ],
   "source": [
    "df.tail()"
   ]
  },
  {
   "cell_type": "code",
   "execution_count": 15,
   "metadata": {},
   "outputs": [
    {
     "data": {
      "text/html": [
       "<div>\n",
       "<style scoped>\n",
       "    .dataframe tbody tr th:only-of-type {\n",
       "        vertical-align: middle;\n",
       "    }\n",
       "\n",
       "    .dataframe tbody tr th {\n",
       "        vertical-align: top;\n",
       "    }\n",
       "\n",
       "    .dataframe thead th {\n",
       "        text-align: right;\n",
       "    }\n",
       "</style>\n",
       "<table border=\"1\" class=\"dataframe\">\n",
       "  <thead>\n",
       "    <tr style=\"text-align: right;\">\n",
       "      <th></th>\n",
       "      <th>sim</th>\n",
       "      <th>Mstar</th>\n",
       "      <th>Z12</th>\n",
       "      <th>Z23</th>\n",
       "      <th>mu1</th>\n",
       "      <th>mu2</th>\n",
       "      <th>mu3</th>\n",
       "      <th>e1</th>\n",
       "      <th>e2</th>\n",
       "      <th>e3</th>\n",
       "      <th>...</th>\n",
       "      <th>h2</th>\n",
       "      <th>h3</th>\n",
       "      <th>k1</th>\n",
       "      <th>k2</th>\n",
       "      <th>k3</th>\n",
       "      <th>ecom</th>\n",
       "      <th>ejection</th>\n",
       "      <th>t_instability</th>\n",
       "      <th>nbodystable</th>\n",
       "      <th>crossing</th>\n",
       "    </tr>\n",
       "  </thead>\n",
       "  <tbody>\n",
       "    <tr>\n",
       "      <th>27048</th>\n",
       "      <td>1999380.0</td>\n",
       "      <td>0.880613</td>\n",
       "      <td>0.201449</td>\n",
       "      <td>0.102941</td>\n",
       "      <td>2.729311e-06</td>\n",
       "      <td>0.000012</td>\n",
       "      <td>0.000003</td>\n",
       "      <td>0.198727</td>\n",
       "      <td>0.155031</td>\n",
       "      <td>0.014555</td>\n",
       "      <td>...</td>\n",
       "      <td>-0.101202</td>\n",
       "      <td>0.013028</td>\n",
       "      <td>-0.172274</td>\n",
       "      <td>0.117442</td>\n",
       "      <td>0.006489</td>\n",
       "      <td>0.101288</td>\n",
       "      <td>False</td>\n",
       "      <td>5.358731e+04</td>\n",
       "      <td>False</td>\n",
       "      <td>True</td>\n",
       "    </tr>\n",
       "    <tr>\n",
       "      <th>27049</th>\n",
       "      <td>1999466.0</td>\n",
       "      <td>1.214257</td>\n",
       "      <td>0.028842</td>\n",
       "      <td>0.021864</td>\n",
       "      <td>8.367568e-07</td>\n",
       "      <td>0.000042</td>\n",
       "      <td>0.000007</td>\n",
       "      <td>0.039781</td>\n",
       "      <td>0.010983</td>\n",
       "      <td>0.022669</td>\n",
       "      <td>...</td>\n",
       "      <td>0.003408</td>\n",
       "      <td>-0.022128</td>\n",
       "      <td>-0.000577</td>\n",
       "      <td>-0.010441</td>\n",
       "      <td>0.004925</td>\n",
       "      <td>0.008076</td>\n",
       "      <td>False</td>\n",
       "      <td>1.000000e+09</td>\n",
       "      <td>True</td>\n",
       "      <td>False</td>\n",
       "    </tr>\n",
       "    <tr>\n",
       "      <th>27050</th>\n",
       "      <td>1999693.0</td>\n",
       "      <td>1.225737</td>\n",
       "      <td>0.075410</td>\n",
       "      <td>0.066761</td>\n",
       "      <td>9.338099e-06</td>\n",
       "      <td>0.000078</td>\n",
       "      <td>0.000004</td>\n",
       "      <td>0.088874</td>\n",
       "      <td>0.108052</td>\n",
       "      <td>0.175515</td>\n",
       "      <td>...</td>\n",
       "      <td>0.007459</td>\n",
       "      <td>-0.001799</td>\n",
       "      <td>-0.037102</td>\n",
       "      <td>-0.107794</td>\n",
       "      <td>-0.175506</td>\n",
       "      <td>0.104393</td>\n",
       "      <td>False</td>\n",
       "      <td>6.319852e+04</td>\n",
       "      <td>False</td>\n",
       "      <td>False</td>\n",
       "    </tr>\n",
       "    <tr>\n",
       "      <th>27051</th>\n",
       "      <td>1999943.0</td>\n",
       "      <td>1.083352</td>\n",
       "      <td>0.130139</td>\n",
       "      <td>0.077109</td>\n",
       "      <td>1.474248e-06</td>\n",
       "      <td>0.000006</td>\n",
       "      <td>0.000018</td>\n",
       "      <td>0.224166</td>\n",
       "      <td>0.236365</td>\n",
       "      <td>0.140135</td>\n",
       "      <td>...</td>\n",
       "      <td>0.185455</td>\n",
       "      <td>0.055326</td>\n",
       "      <td>0.024470</td>\n",
       "      <td>-0.146544</td>\n",
       "      <td>-0.128751</td>\n",
       "      <td>0.156694</td>\n",
       "      <td>False</td>\n",
       "      <td>2.133985e+04</td>\n",
       "      <td>False</td>\n",
       "      <td>False</td>\n",
       "    </tr>\n",
       "    <tr>\n",
       "      <th>27052</th>\n",
       "      <td>1999969.0</td>\n",
       "      <td>1.159434</td>\n",
       "      <td>0.046016</td>\n",
       "      <td>0.051997</td>\n",
       "      <td>3.549245e-06</td>\n",
       "      <td>0.000037</td>\n",
       "      <td>0.000085</td>\n",
       "      <td>0.095140</td>\n",
       "      <td>0.020418</td>\n",
       "      <td>0.050637</td>\n",
       "      <td>...</td>\n",
       "      <td>-0.017687</td>\n",
       "      <td>0.047178</td>\n",
       "      <td>-0.075962</td>\n",
       "      <td>-0.010202</td>\n",
       "      <td>0.018394</td>\n",
       "      <td>0.026185</td>\n",
       "      <td>False</td>\n",
       "      <td>6.663452e+04</td>\n",
       "      <td>False</td>\n",
       "      <td>False</td>\n",
       "    </tr>\n",
       "  </tbody>\n",
       "</table>\n",
       "<p>5 rows × 21 columns</p>\n",
       "</div>"
      ],
      "text/plain": [
       "             sim     Mstar       Z12       Z23           mu1       mu2  \\\n",
       "27048  1999380.0  0.880613  0.201449  0.102941  2.729311e-06  0.000012   \n",
       "27049  1999466.0  1.214257  0.028842  0.021864  8.367568e-07  0.000042   \n",
       "27050  1999693.0  1.225737  0.075410  0.066761  9.338099e-06  0.000078   \n",
       "27051  1999943.0  1.083352  0.130139  0.077109  1.474248e-06  0.000006   \n",
       "27052  1999969.0  1.159434  0.046016  0.051997  3.549245e-06  0.000037   \n",
       "\n",
       "            mu3        e1        e2        e3  ...        h2        h3  \\\n",
       "27048  0.000003  0.198727  0.155031  0.014555  ... -0.101202  0.013028   \n",
       "27049  0.000007  0.039781  0.010983  0.022669  ...  0.003408 -0.022128   \n",
       "27050  0.000004  0.088874  0.108052  0.175515  ...  0.007459 -0.001799   \n",
       "27051  0.000018  0.224166  0.236365  0.140135  ...  0.185455  0.055326   \n",
       "27052  0.000085  0.095140  0.020418  0.050637  ... -0.017687  0.047178   \n",
       "\n",
       "             k1        k2        k3      ecom  ejection  t_instability  \\\n",
       "27048 -0.172274  0.117442  0.006489  0.101288     False   5.358731e+04   \n",
       "27049 -0.000577 -0.010441  0.004925  0.008076     False   1.000000e+09   \n",
       "27050 -0.037102 -0.107794 -0.175506  0.104393     False   6.319852e+04   \n",
       "27051  0.024470 -0.146544 -0.128751  0.156694     False   2.133985e+04   \n",
       "27052 -0.075962 -0.010202  0.018394  0.026185     False   6.663452e+04   \n",
       "\n",
       "       nbodystable  crossing  \n",
       "27048        False      True  \n",
       "27049         True     False  \n",
       "27050        False     False  \n",
       "27051        False     False  \n",
       "27052        False     False  \n",
       "\n",
       "[5 rows x 21 columns]"
      ]
     },
     "execution_count": 15,
     "metadata": {},
     "output_type": "execute_result"
    }
   ],
   "source": [
    "df.tail()"
   ]
  },
  {
   "cell_type": "markdown",
   "metadata": {},
   "source": [
    "# SPOCK stability predictions\n",
    "\n",
    "We use a multiprocessing pool to first do the SPOCK predictions. We write a classify function that takes a simID and loads the appropriate simulationarchive and makes a SPOCK prediction. We have to provide each process a separate FeatureClassifier instance, so we pass an initializer for each process when setting up the Pool (we also have to make the variable global so it's defined in our classify function)."
   ]
  },
  {
   "cell_type": "code",
   "execution_count": 16,
   "metadata": {},
   "outputs": [],
   "source": [
    "def init_classifier():\n",
    "    global model\n",
    "    model = FeatureClassifier()\n",
    "\n",
    "def classify(ID):\n",
    "    safilename = 'K23uniform/K23_logm_sa_{0}.bin'.format(int(ID))\n",
    "    sa = rebound.SimulationArchive(safilename)\n",
    "    sim = sa[0]\n",
    "    return model.predict_stable(sim)"
   ]
  },
  {
   "cell_type": "markdown",
   "metadata": {},
   "source": [
    "This takes about 20 minutes with 24 cores with multithreading"
   ]
  },
  {
   "cell_type": "code",
   "execution_count": 17,
   "metadata": {},
   "outputs": [
    {
     "name": "stderr",
     "output_type": "stream",
     "text": [
      "/home/dtamayo/miniconda3/envs/ml/lib/python3.7/site-packages/numpy/lib/function_base.py:3405: RuntimeWarning: Invalid value encountered in median\n",
      "  r = func(a, **kwargs)\n",
      "/home/dtamayo/miniconda3/envs/ml/lib/python3.7/site-packages/numpy/lib/function_base.py:3405: RuntimeWarning: Invalid value encountered in median\n",
      "  r = func(a, **kwargs)\n",
      "/home/dtamayo/miniconda3/envs/ml/lib/python3.7/site-packages/numpy/lib/function_base.py:3405: RuntimeWarning: Invalid value encountered in median\n",
      "  r = func(a, **kwargs)\n",
      "/home/dtamayo/miniconda3/envs/ml/lib/python3.7/site-packages/numpy/lib/function_base.py:3405: RuntimeWarning: Invalid value encountered in median\n",
      "  r = func(a, **kwargs)\n",
      "/home/dtamayo/miniconda3/envs/ml/lib/python3.7/site-packages/numpy/lib/function_base.py:3405: RuntimeWarning: Invalid value encountered in median\n",
      "  r = func(a, **kwargs)\n",
      "/home/dtamayo/miniconda3/envs/ml/lib/python3.7/site-packages/numpy/lib/function_base.py:3405: RuntimeWarning: Invalid value encountered in median\n",
      "  r = func(a, **kwargs)\n",
      "/home/dtamayo/miniconda3/envs/ml/lib/python3.7/site-packages/numpy/lib/function_base.py:3405: RuntimeWarning: Invalid value encountered in median\n",
      "  r = func(a, **kwargs)\n",
      "/home/dtamayo/miniconda3/envs/ml/lib/python3.7/site-packages/numpy/lib/function_base.py:3405: RuntimeWarning: Invalid value encountered in median\n",
      "  r = func(a, **kwargs)\n",
      "/home/dtamayo/miniconda3/envs/ml/lib/python3.7/site-packages/numpy/lib/function_base.py:3405: RuntimeWarning: Invalid value encountered in median\n",
      "  r = func(a, **kwargs)\n",
      "/home/dtamayo/miniconda3/envs/ml/lib/python3.7/site-packages/numpy/lib/function_base.py:3405: RuntimeWarning: Invalid value encountered in median\n",
      "  r = func(a, **kwargs)\n",
      "/home/dtamayo/miniconda3/envs/ml/lib/python3.7/site-packages/numpy/lib/function_base.py:3405: RuntimeWarning: Invalid value encountered in median\n",
      "  r = func(a, **kwargs)\n",
      "/home/dtamayo/miniconda3/envs/ml/lib/python3.7/site-packages/numpy/lib/function_base.py:3405: RuntimeWarning: Invalid value encountered in median\n",
      "  r = func(a, **kwargs)\n",
      "/home/dtamayo/miniconda3/envs/ml/lib/python3.7/site-packages/numpy/lib/function_base.py:3405: RuntimeWarning: Invalid value encountered in median\n",
      "  r = func(a, **kwargs)\n",
      "/home/dtamayo/miniconda3/envs/ml/lib/python3.7/site-packages/numpy/lib/function_base.py:3405: RuntimeWarning: Invalid value encountered in median\n",
      "  r = func(a, **kwargs)\n",
      "/home/dtamayo/miniconda3/envs/ml/lib/python3.7/site-packages/numpy/lib/function_base.py:3405: RuntimeWarning: Invalid value encountered in median\n",
      "  r = func(a, **kwargs)\n",
      "/home/dtamayo/miniconda3/envs/ml/lib/python3.7/site-packages/numpy/lib/function_base.py:3405: RuntimeWarning: Invalid value encountered in median\n",
      "  r = func(a, **kwargs)\n",
      "/home/dtamayo/miniconda3/envs/ml/lib/python3.7/site-packages/numpy/lib/function_base.py:3405: RuntimeWarning: Invalid value encountered in median\n",
      "  r = func(a, **kwargs)\n",
      "/home/dtamayo/miniconda3/envs/ml/lib/python3.7/site-packages/numpy/lib/function_base.py:3405: RuntimeWarning: Invalid value encountered in median\n",
      "  r = func(a, **kwargs)\n",
      "/home/dtamayo/miniconda3/envs/ml/lib/python3.7/site-packages/numpy/lib/function_base.py:3405: RuntimeWarning: Invalid value encountered in median\n",
      "  r = func(a, **kwargs)\n",
      "/home/dtamayo/miniconda3/envs/ml/lib/python3.7/site-packages/numpy/lib/function_base.py:3405: RuntimeWarning: Invalid value encountered in median\n",
      "  r = func(a, **kwargs)\n",
      "/home/dtamayo/miniconda3/envs/ml/lib/python3.7/site-packages/numpy/lib/function_base.py:3405: RuntimeWarning: Invalid value encountered in median\n",
      "  r = func(a, **kwargs)\n",
      "/home/dtamayo/miniconda3/envs/ml/lib/python3.7/site-packages/numpy/lib/function_base.py:3405: RuntimeWarning: Invalid value encountered in median\n",
      "  r = func(a, **kwargs)\n",
      "/home/dtamayo/miniconda3/envs/ml/lib/python3.7/site-packages/numpy/lib/function_base.py:3405: RuntimeWarning: Invalid value encountered in median\n",
      "  r = func(a, **kwargs)\n",
      "/home/dtamayo/miniconda3/envs/ml/lib/python3.7/site-packages/numpy/lib/function_base.py:3405: RuntimeWarning: Invalid value encountered in median\n",
      "  r = func(a, **kwargs)\n",
      "/home/dtamayo/miniconda3/envs/ml/lib/python3.7/site-packages/numpy/lib/function_base.py:3405: RuntimeWarning: Invalid value encountered in median\n",
      "  r = func(a, **kwargs)\n",
      "/home/dtamayo/miniconda3/envs/ml/lib/python3.7/site-packages/numpy/lib/function_base.py:3405: RuntimeWarning: Invalid value encountered in median\n",
      "  r = func(a, **kwargs)\n",
      "/home/dtamayo/miniconda3/envs/ml/lib/python3.7/site-packages/numpy/lib/function_base.py:3405: RuntimeWarning: Invalid value encountered in median\n",
      "  r = func(a, **kwargs)\n",
      "/home/dtamayo/miniconda3/envs/ml/lib/python3.7/site-packages/numpy/lib/function_base.py:3405: RuntimeWarning: Invalid value encountered in median\n",
      "  r = func(a, **kwargs)\n",
      "/home/dtamayo/miniconda3/envs/ml/lib/python3.7/site-packages/numpy/lib/function_base.py:3405: RuntimeWarning: Invalid value encountered in median\n",
      "  r = func(a, **kwargs)\n",
      "/home/dtamayo/miniconda3/envs/ml/lib/python3.7/site-packages/numpy/lib/function_base.py:3405: RuntimeWarning: Invalid value encountered in median\n",
      "  r = func(a, **kwargs)\n",
      "/home/dtamayo/miniconda3/envs/ml/lib/python3.7/site-packages/numpy/lib/function_base.py:3405: RuntimeWarning: Invalid value encountered in median\n",
      "  r = func(a, **kwargs)\n",
      "/home/dtamayo/miniconda3/envs/ml/lib/python3.7/site-packages/numpy/lib/function_base.py:3405: RuntimeWarning: Invalid value encountered in median\n",
      "  r = func(a, **kwargs)\n",
      "/home/dtamayo/miniconda3/envs/ml/lib/python3.7/site-packages/numpy/lib/function_base.py:3405: RuntimeWarning: Invalid value encountered in median\n",
      "  r = func(a, **kwargs)\n",
      "/home/dtamayo/miniconda3/envs/ml/lib/python3.7/site-packages/numpy/lib/function_base.py:3405: RuntimeWarning: Invalid value encountered in median\n",
      "  r = func(a, **kwargs)\n",
      "/home/dtamayo/miniconda3/envs/ml/lib/python3.7/site-packages/numpy/lib/function_base.py:3405: RuntimeWarning: Invalid value encountered in median\n",
      "  r = func(a, **kwargs)\n",
      "/home/dtamayo/miniconda3/envs/ml/lib/python3.7/site-packages/numpy/lib/function_base.py:3405: RuntimeWarning: Invalid value encountered in median\n",
      "  r = func(a, **kwargs)\n",
      "/home/dtamayo/miniconda3/envs/ml/lib/python3.7/site-packages/numpy/lib/function_base.py:3405: RuntimeWarning: Invalid value encountered in median\n",
      "  r = func(a, **kwargs)\n",
      "/home/dtamayo/miniconda3/envs/ml/lib/python3.7/site-packages/numpy/lib/function_base.py:3405: RuntimeWarning: Invalid value encountered in median\n",
      "  r = func(a, **kwargs)\n",
      "/home/dtamayo/miniconda3/envs/ml/lib/python3.7/site-packages/numpy/lib/function_base.py:3405: RuntimeWarning: Invalid value encountered in median\n",
      "  r = func(a, **kwargs)\n",
      "/home/dtamayo/miniconda3/envs/ml/lib/python3.7/site-packages/numpy/lib/function_base.py:3405: RuntimeWarning: Invalid value encountered in median\n",
      "  r = func(a, **kwargs)\n",
      "/home/dtamayo/miniconda3/envs/ml/lib/python3.7/site-packages/numpy/lib/function_base.py:3405: RuntimeWarning: Invalid value encountered in median\n",
      "  r = func(a, **kwargs)\n",
      "/home/dtamayo/miniconda3/envs/ml/lib/python3.7/site-packages/numpy/lib/function_base.py:3405: RuntimeWarning: Invalid value encountered in median\n",
      "  r = func(a, **kwargs)\n",
      "/home/dtamayo/miniconda3/envs/ml/lib/python3.7/site-packages/numpy/lib/function_base.py:3405: RuntimeWarning: Invalid value encountered in median\n",
      "  r = func(a, **kwargs)\n",
      "/home/dtamayo/miniconda3/envs/ml/lib/python3.7/site-packages/numpy/lib/function_base.py:3405: RuntimeWarning: Invalid value encountered in median\n",
      "  r = func(a, **kwargs)\n",
      "/home/dtamayo/miniconda3/envs/ml/lib/python3.7/site-packages/numpy/lib/function_base.py:3405: RuntimeWarning: Invalid value encountered in median\n",
      "  r = func(a, **kwargs)\n",
      "/home/dtamayo/miniconda3/envs/ml/lib/python3.7/site-packages/numpy/lib/function_base.py:3405: RuntimeWarning: Invalid value encountered in median\n",
      "  r = func(a, **kwargs)\n",
      "/home/dtamayo/miniconda3/envs/ml/lib/python3.7/site-packages/numpy/lib/function_base.py:3405: RuntimeWarning: Invalid value encountered in median\n",
      "  r = func(a, **kwargs)\n",
      "/home/dtamayo/miniconda3/envs/ml/lib/python3.7/site-packages/numpy/lib/function_base.py:3405: RuntimeWarning: Invalid value encountered in median\n",
      "  r = func(a, **kwargs)\n"
     ]
    }
   ],
   "source": [
    "from multiprocessing import Pool\n",
    "pool = Pool(processes=48, initializer=init_classifier)"
   ]
  },
  {
   "cell_type": "code",
   "execution_count": 18,
   "metadata": {},
   "outputs": [
    {
     "name": "stdout",
     "output_type": "stream",
     "text": [
      "CPU times: user 1.6 s, sys: 1.23 s, total: 2.82 s\n",
      "Wall time: 18min 33s\n"
     ]
    }
   ],
   "source": [
    "%%time\n",
    "simIDs = df['sim'].values\n",
    "df['spockprob'] = pool.map(classify, simIDs)"
   ]
  },
  {
   "cell_type": "code",
   "execution_count": 19,
   "metadata": {},
   "outputs": [
    {
     "data": {
      "text/html": [
       "<div>\n",
       "<style scoped>\n",
       "    .dataframe tbody tr th:only-of-type {\n",
       "        vertical-align: middle;\n",
       "    }\n",
       "\n",
       "    .dataframe tbody tr th {\n",
       "        vertical-align: top;\n",
       "    }\n",
       "\n",
       "    .dataframe thead th {\n",
       "        text-align: right;\n",
       "    }\n",
       "</style>\n",
       "<table border=\"1\" class=\"dataframe\">\n",
       "  <thead>\n",
       "    <tr style=\"text-align: right;\">\n",
       "      <th></th>\n",
       "      <th>sim</th>\n",
       "      <th>Mstar</th>\n",
       "      <th>Z12</th>\n",
       "      <th>Z23</th>\n",
       "      <th>mu1</th>\n",
       "      <th>mu2</th>\n",
       "      <th>mu3</th>\n",
       "      <th>e1</th>\n",
       "      <th>e2</th>\n",
       "      <th>e3</th>\n",
       "      <th>...</th>\n",
       "      <th>h3</th>\n",
       "      <th>k1</th>\n",
       "      <th>k2</th>\n",
       "      <th>k3</th>\n",
       "      <th>ecom</th>\n",
       "      <th>ejection</th>\n",
       "      <th>t_instability</th>\n",
       "      <th>nbodystable</th>\n",
       "      <th>crossing</th>\n",
       "      <th>spockprob</th>\n",
       "    </tr>\n",
       "  </thead>\n",
       "  <tbody>\n",
       "    <tr>\n",
       "      <th>27048</th>\n",
       "      <td>1999380.0</td>\n",
       "      <td>0.880613</td>\n",
       "      <td>0.201456</td>\n",
       "      <td>0.102933</td>\n",
       "      <td>2.729311e-06</td>\n",
       "      <td>0.000012</td>\n",
       "      <td>0.000003</td>\n",
       "      <td>0.198727</td>\n",
       "      <td>0.155031</td>\n",
       "      <td>0.014555</td>\n",
       "      <td>...</td>\n",
       "      <td>0.013028</td>\n",
       "      <td>-0.172274</td>\n",
       "      <td>0.117442</td>\n",
       "      <td>0.006489</td>\n",
       "      <td>0.101288</td>\n",
       "      <td>False</td>\n",
       "      <td>5.358731e+04</td>\n",
       "      <td>False</td>\n",
       "      <td>True</td>\n",
       "      <td>0.010296</td>\n",
       "    </tr>\n",
       "    <tr>\n",
       "      <th>27049</th>\n",
       "      <td>1999466.0</td>\n",
       "      <td>1.214257</td>\n",
       "      <td>0.028857</td>\n",
       "      <td>0.021840</td>\n",
       "      <td>8.367568e-07</td>\n",
       "      <td>0.000042</td>\n",
       "      <td>0.000007</td>\n",
       "      <td>0.039781</td>\n",
       "      <td>0.010983</td>\n",
       "      <td>0.022669</td>\n",
       "      <td>...</td>\n",
       "      <td>-0.022128</td>\n",
       "      <td>-0.000577</td>\n",
       "      <td>-0.010441</td>\n",
       "      <td>0.004925</td>\n",
       "      <td>0.008076</td>\n",
       "      <td>False</td>\n",
       "      <td>1.000000e+09</td>\n",
       "      <td>True</td>\n",
       "      <td>False</td>\n",
       "      <td>0.787886</td>\n",
       "    </tr>\n",
       "    <tr>\n",
       "      <th>27050</th>\n",
       "      <td>1999693.0</td>\n",
       "      <td>1.225737</td>\n",
       "      <td>0.075364</td>\n",
       "      <td>0.066737</td>\n",
       "      <td>9.338099e-06</td>\n",
       "      <td>0.000078</td>\n",
       "      <td>0.000004</td>\n",
       "      <td>0.088874</td>\n",
       "      <td>0.108052</td>\n",
       "      <td>0.175515</td>\n",
       "      <td>...</td>\n",
       "      <td>-0.001799</td>\n",
       "      <td>-0.037102</td>\n",
       "      <td>-0.107794</td>\n",
       "      <td>-0.175506</td>\n",
       "      <td>0.104393</td>\n",
       "      <td>False</td>\n",
       "      <td>6.319852e+04</td>\n",
       "      <td>False</td>\n",
       "      <td>False</td>\n",
       "      <td>0.009134</td>\n",
       "    </tr>\n",
       "    <tr>\n",
       "      <th>27051</th>\n",
       "      <td>1999943.0</td>\n",
       "      <td>1.083352</td>\n",
       "      <td>0.130137</td>\n",
       "      <td>0.077125</td>\n",
       "      <td>1.474248e-06</td>\n",
       "      <td>0.000006</td>\n",
       "      <td>0.000018</td>\n",
       "      <td>0.224166</td>\n",
       "      <td>0.236365</td>\n",
       "      <td>0.140135</td>\n",
       "      <td>...</td>\n",
       "      <td>0.055326</td>\n",
       "      <td>0.024470</td>\n",
       "      <td>-0.146544</td>\n",
       "      <td>-0.128751</td>\n",
       "      <td>0.156694</td>\n",
       "      <td>False</td>\n",
       "      <td>2.133985e+04</td>\n",
       "      <td>False</td>\n",
       "      <td>False</td>\n",
       "      <td>0.005355</td>\n",
       "    </tr>\n",
       "    <tr>\n",
       "      <th>27052</th>\n",
       "      <td>1999969.0</td>\n",
       "      <td>1.159434</td>\n",
       "      <td>0.045962</td>\n",
       "      <td>0.052065</td>\n",
       "      <td>3.549245e-06</td>\n",
       "      <td>0.000037</td>\n",
       "      <td>0.000085</td>\n",
       "      <td>0.095140</td>\n",
       "      <td>0.020418</td>\n",
       "      <td>0.050637</td>\n",
       "      <td>...</td>\n",
       "      <td>0.047178</td>\n",
       "      <td>-0.075962</td>\n",
       "      <td>-0.010202</td>\n",
       "      <td>0.018394</td>\n",
       "      <td>0.026185</td>\n",
       "      <td>False</td>\n",
       "      <td>6.663452e+04</td>\n",
       "      <td>False</td>\n",
       "      <td>False</td>\n",
       "      <td>0.014513</td>\n",
       "    </tr>\n",
       "  </tbody>\n",
       "</table>\n",
       "<p>5 rows × 22 columns</p>\n",
       "</div>"
      ],
      "text/plain": [
       "             sim     Mstar       Z12       Z23           mu1       mu2  \\\n",
       "27048  1999380.0  0.880613  0.201456  0.102933  2.729311e-06  0.000012   \n",
       "27049  1999466.0  1.214257  0.028857  0.021840  8.367568e-07  0.000042   \n",
       "27050  1999693.0  1.225737  0.075364  0.066737  9.338099e-06  0.000078   \n",
       "27051  1999943.0  1.083352  0.130137  0.077125  1.474248e-06  0.000006   \n",
       "27052  1999969.0  1.159434  0.045962  0.052065  3.549245e-06  0.000037   \n",
       "\n",
       "            mu3        e1        e2        e3  ...        h3        k1  \\\n",
       "27048  0.000003  0.198727  0.155031  0.014555  ...  0.013028 -0.172274   \n",
       "27049  0.000007  0.039781  0.010983  0.022669  ... -0.022128 -0.000577   \n",
       "27050  0.000004  0.088874  0.108052  0.175515  ... -0.001799 -0.037102   \n",
       "27051  0.000018  0.224166  0.236365  0.140135  ...  0.055326  0.024470   \n",
       "27052  0.000085  0.095140  0.020418  0.050637  ...  0.047178 -0.075962   \n",
       "\n",
       "             k2        k3      ecom  ejection  t_instability  nbodystable  \\\n",
       "27048  0.117442  0.006489  0.101288     False   5.358731e+04        False   \n",
       "27049 -0.010441  0.004925  0.008076     False   1.000000e+09         True   \n",
       "27050 -0.107794 -0.175506  0.104393     False   6.319852e+04        False   \n",
       "27051 -0.146544 -0.128751  0.156694     False   2.133985e+04        False   \n",
       "27052 -0.010202  0.018394  0.026185     False   6.663452e+04        False   \n",
       "\n",
       "       crossing  spockprob  \n",
       "27048      True   0.010296  \n",
       "27049     False   0.787886  \n",
       "27050     False   0.009134  \n",
       "27051     False   0.005355  \n",
       "27052     False   0.014513  \n",
       "\n",
       "[5 rows x 22 columns]"
      ]
     },
     "execution_count": 19,
     "metadata": {},
     "output_type": "execute_result"
    }
   ],
   "source": [
    "df.tail()"
   ]
  },
  {
   "cell_type": "code",
   "execution_count": 20,
   "metadata": {},
   "outputs": [],
   "source": [
    "df.to_csv('csvs/Kepler-23_stability.csv')"
   ]
  },
  {
   "cell_type": "code",
   "execution_count": 21,
   "metadata": {},
   "outputs": [],
   "source": [
    "df = pd.read_csv('csvs/Kepler-23_stability.csv', index_col=0)"
   ]
  },
  {
   "cell_type": "markdown",
   "metadata": {},
   "source": [
    "# Dataset\n",
    "\n",
    "First 10,000 rows are all draws directly from the prior so we can plot it.\n",
    "The vast majority of these are orbit crossing and go unstable almost immediately, so as to not store millions of simulations, we then only store simulations that survived at least $10^4$ orbits for the remaining 17,053 rows.\n",
    "\n",
    "We can check what fraction of the systems in the prior went unstable within $10^4$ orbits by checking their probability from SPOCK, since only systems that live longer than $10^4$ orbits have nonzero spockprobs:"
   ]
  },
  {
   "cell_type": "code",
   "execution_count": 23,
   "metadata": {},
   "outputs": [
    {
     "data": {
      "text/plain": [
       "0.008"
      ]
     },
     "execution_count": 23,
     "metadata": {},
     "output_type": "execute_result"
    }
   ],
   "source": [
    "prior = df.iloc[:10000]\n",
    "frac_stab_1e4 = prior[prior['spockprob']>0].shape[0]/prior.shape[0]\n",
    "frac_stab_1e4"
   ]
  },
  {
   "cell_type": "markdown",
   "metadata": {},
   "source": [
    "This means that our remaining 17,053 systems that survived $10^4$ orbits only make up about 0.8% of all systems run, or about 2M"
   ]
  },
  {
   "cell_type": "code",
   "execution_count": 24,
   "metadata": {},
   "outputs": [
    {
     "data": {
      "text/plain": [
       "2131625.0"
      ]
     },
     "execution_count": 24,
     "metadata": {},
     "output_type": "execute_result"
    }
   ],
   "source": [
    "Nsamples = (df.shape[0]-prior.shape[0])/frac_stab_1e4\n",
    "Nsamples"
   ]
  },
  {
   "cell_type": "code",
   "execution_count": 25,
   "metadata": {},
   "outputs": [
    {
     "name": "stdout",
     "output_type": "stream",
     "text": [
      "837 stable configurations out of 2131625 samples run\n"
     ]
    }
   ],
   "source": [
    "stable = df[df['nbodystable']==True]\n",
    "Nstable = stable.shape[0]\n",
    "print('{0} stable configurations out of {1} samples run'.format(Nstable, int(Nsamples)))"
   ]
  },
  {
   "cell_type": "markdown",
   "metadata": {},
   "source": [
    "Almost 99% of samples from our prior are orbit crossing:"
   ]
  },
  {
   "cell_type": "code",
   "execution_count": 26,
   "metadata": {},
   "outputs": [
    {
     "data": {
      "text/plain": [
       "0.9848"
      ]
     },
     "execution_count": 26,
     "metadata": {},
     "output_type": "execute_result"
    }
   ],
   "source": [
    "prior[prior['crossing']==True].shape[0] / prior.shape[0]"
   ]
  },
  {
   "cell_type": "markdown",
   "metadata": {},
   "source": [
    "Unstable crossing samples would contribute about 20% of spock probability (i.e., 20% of effective samples) to the total spock probability of all systems"
   ]
  },
  {
   "cell_type": "code",
   "execution_count": 27,
   "metadata": {},
   "outputs": [
    {
     "data": {
      "text/plain": [
       "0.19066569919061574"
      ]
     },
     "execution_count": 27,
     "metadata": {},
     "output_type": "execute_result"
    }
   ],
   "source": [
    "crossing_unstable = df[(df['crossing'] == True) & (df['nbodystable']==0)]\n",
    "crossing_unstable['spockprob'].sum()/df['spockprob'].sum()"
   ]
  },
  {
   "cell_type": "markdown",
   "metadata": {},
   "source": [
    "12 systems are stable, despite being labeled as crossing:"
   ]
  },
  {
   "cell_type": "code",
   "execution_count": 28,
   "metadata": {},
   "outputs": [
    {
     "data": {
      "text/plain": [
       "12"
      ]
     },
     "execution_count": 28,
     "metadata": {},
     "output_type": "execute_result"
    }
   ],
   "source": [
    "crossing_stable = df[(df['crossing'] == True) & (df['nbodystable']==1)]\n",
    "crossing_stable.shape[0]"
   ]
  },
  {
   "cell_type": "code",
   "execution_count": 29,
   "metadata": {},
   "outputs": [
    {
     "data": {
      "text/plain": [
       "0.014336917562724014"
      ]
     },
     "execution_count": 29,
     "metadata": {},
     "output_type": "execute_result"
    }
   ],
   "source": [
    "crossing_stable.shape[0]/Nstable"
   ]
  },
  {
   "cell_type": "markdown",
   "metadata": {},
   "source": [
    "In fact these are all only nearly orbit-crossing, due to our leading order approximation:"
   ]
  },
  {
   "cell_type": "code",
   "execution_count": 30,
   "metadata": {},
   "outputs": [
    {
     "data": {
      "image/png": "[encoded data removed]",
      "text/plain": [
       "<Figure size 360x360 with 1 Axes>"
      ]
     },
     "metadata": {
      "needs_background": "light"
     },
     "output_type": "display_data"
    }
   ],
   "source": [
    "%matplotlib inline\n",
    "row = crossing_stable.iloc[0]\n",
    "sa = rebound.SimulationArchive('K23uniform/K23_logm_sa_{0}.bin'.format(int(row['sim'])))\n",
    "sim = sa[0]\n",
    "fig = rebound.OrbitPlot(sim)"
   ]
  },
  {
   "cell_type": "markdown",
   "metadata": {},
   "source": [
    "Of the 97 non-crossing configurations in the prior, about 60% don't live $10^4$ orbits and can be removed perfectly by SPOCK"
   ]
  },
  {
   "cell_type": "code",
   "execution_count": 31,
   "metadata": {},
   "outputs": [
    {
     "data": {
      "text/plain": [
       "152"
      ]
     },
     "execution_count": 31,
     "metadata": {},
     "output_type": "execute_result"
    }
   ],
   "source": [
    "prior_noncrossing = prior[prior['crossing']==False]\n",
    "prior_noncrossing.shape[0]"
   ]
  },
  {
   "cell_type": "code",
   "execution_count": 32,
   "metadata": {},
   "outputs": [
    {
     "data": {
      "text/plain": [
       "0.6381578947368421"
      ]
     },
     "execution_count": 32,
     "metadata": {},
     "output_type": "execute_result"
    }
   ],
   "source": [
    "prior_noncrossing[prior_noncrossing['spockprob'] == 0].shape[0]/prior_noncrossing.shape[0]"
   ]
  },
  {
   "cell_type": "markdown",
   "metadata": {},
   "source": [
    "We have 9414 samples out of the 2M that don't cross orbits and survive $10^4$ orbits, of which 825 are stable"
   ]
  },
  {
   "cell_type": "code",
   "execution_count": 33,
   "metadata": {},
   "outputs": [
    {
     "data": {
      "text/plain": [
       "9414"
      ]
     },
     "execution_count": 33,
     "metadata": {},
     "output_type": "execute_result"
    }
   ],
   "source": [
    "sample1e4 = df[(df['spockprob']>0)&(df['crossing']==False)]\n",
    "sample1e4.shape[0]"
   ]
  },
  {
   "cell_type": "code",
   "execution_count": 34,
   "metadata": {},
   "outputs": [
    {
     "data": {
      "text/plain": [
       "(825, 22)"
      ]
     },
     "execution_count": 34,
     "metadata": {},
     "output_type": "execute_result"
    }
   ],
   "source": [
    "sample1e4[sample1e4['nbodystable']==1].shape"
   ]
  },
  {
   "cell_type": "code",
   "execution_count": 35,
   "metadata": {},
   "outputs": [
    {
     "data": {
      "text/plain": [
       "0.08763543658381134"
      ]
     },
     "execution_count": 35,
     "metadata": {},
     "output_type": "execute_result"
    }
   ],
   "source": [
    "825/9414"
   ]
  },
  {
   "cell_type": "markdown",
   "metadata": {},
   "source": [
    "# Nbody Integrations\n",
    "\n",
    "We ran the N-body integrations for the paper manually, so above we just read the instability times from the SimulationArchives we ran.\n",
    "\n",
    "However, SPOCK makes it easier to make one-to-one comparisons between the classifier and Nbody integrations (by choosing the same timestep, collision criteria etc.). By default, `NbodyRegressor.predict_instability_time` integrates over 1e9 inner planet orbits (the length of time over which SPOCK is trained to make predictions). We also pass it the same filename of the SimulationArchive (again, this will overwrite the original file, which is fine). Finally we explicitly pass it the interval we want between snapshots (so that we end up with 1000 snapshots if the simulation is stable). Definitely see \n",
    "\n",
    "https://github.com/dtamayo/spock/blob/master/jupyter_examples/ComparingToNbody.ipynb\n",
    "\n",
    "for more details before doing long integrations. "
   ]
  },
  {
   "cell_type": "code",
   "execution_count": 36,
   "metadata": {},
   "outputs": [],
   "source": [
    "def init_regressor():\n",
    "    global nbodyreg\n",
    "    nbodyreg = NbodyRegressor()\n",
    "\n",
    "def nbody(ID):\n",
    "    safilename = 'K23uniform/K23_logm_sa_{0}.bin'.format(int(ID))\n",
    "    sa = rebound.SimulationArchive(safilename)\n",
    "    sim = sa[0]\n",
    "    P1_init = sim.particles[1].P\n",
    "    t_inst = nbodyreg.predict_instability_time(sim, archive_filename=safilename, archive_interval=1e6*P1_init)\n",
    "    \n",
    "    # nbody returns t_inst in simulation units--convert to inner planet orbits\n",
    "    return t_inst/P1_init "
   ]
  },
  {
   "cell_type": "code",
   "execution_count": 37,
   "metadata": {},
   "outputs": [],
   "source": [
    "pool = Pool(processes=48, initializer=init_regressor)"
   ]
  },
  {
   "cell_type": "markdown",
   "metadata": {},
   "source": [
    "# This cell would take a long time to run!"
   ]
  },
  {
   "cell_type": "code",
   "execution_count": null,
   "metadata": {},
   "outputs": [],
   "source": [
    "%%time\n",
    "simIDs = df['sim'].values\n",
    "df['t_instability'] = pool.map(nbody, simIDs)"
   ]
  }
 ],
 "metadata": {
  "kernelspec": {
   "display_name": "Python 3",
   "language": "python",
   "name": "python3"
  },
  "language_info": {
   "codemirror_mode": {
    "name": "ipython",
    "version": 3
   },
   "file_extension": ".py",
   "mimetype": "text/x-python",
   "name": "python",
   "nbconvert_exporter": "python",
   "pygments_lexer": "ipython3",
   "version": "3.7.3"
  }
 },
 "nbformat": 4,
 "nbformat_minor": 2
}
