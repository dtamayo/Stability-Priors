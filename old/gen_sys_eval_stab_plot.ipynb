{
 "cells": [
  {
   "cell_type": "code",
   "execution_count": 1,
   "metadata": {},
   "outputs": [
    {
     "name": "stderr",
     "output_type": "stream",
     "text": [
      "/storage/home/cjg66/miniconda3/lib/python3.7/site-packages/radvel/gp.py:33: ImportWarning: celerite not installed. GP kernals using celerite will not work. Try installing celerite using 'pip install celerite'\n",
      "  Try installing celerite using 'pip install celerite'\", ImportWarning)\n"
     ]
    }
   ],
   "source": [
    "import stability_functions as sf\n",
    "import numpy as np\n",
    "import sys\n",
    "import rebound\n",
    "import corner\n",
    "import pandas as pd\n",
    "import dask.dataframe as dd\n",
    "from multiprocessing import Pool\n",
    "# plotting\n",
    "import matplotlib\n",
    "import matplotlib.pyplot as plt\n",
    "plt.style.use('paper.mplstyle')\n",
    "# %matplotlib inline\n",
    "import os"
   ]
  },
  {
   "cell_type": "markdown",
   "metadata": {},
   "source": [
    "# Generating systems and scores"
   ]
  },
  {
   "cell_type": "code",
   "execution_count": 2,
   "metadata": {},
   "outputs": [],
   "source": [
    "systems = [\"HR858\", \"K431\", \"TOI270\", \"L98-59\", \"K23\"]\n",
    "system = systems[4]\n",
    "sf.valid_system(system)\n",
    "sim_names = system + \"/\" + system\n",
    "n = 10000\n",
    "n_workers = os.cpu_count()"
   ]
  },
  {
   "cell_type": "code",
   "execution_count": 3,
   "metadata": {
    "scrolled": true
   },
   "outputs": [],
   "source": [
    "def pred(nsim):\n",
    "    return sf.pred(sim_names, nsim)\n",
    "\n",
    "def get_k(row):\n",
    "    return sf.get_k(sim_names, row)\n",
    "\n",
    "pool = Pool(processes=n_workers, initializer=sf.init_process)"
   ]
  },
  {
   "cell_type": "code",
   "execution_count": null,
   "metadata": {},
   "outputs": [],
   "source": [
    "# %%time\n",
    "mb, mc, md = sf.draw_masses(system, int(3e3))"
   ]
  },
  {
   "cell_type": "code",
   "execution_count": null,
   "metadata": {
    "scrolled": true
   },
   "outputs": [],
   "source": [
    "# %%time\n",
    "for i in range(n):\n",
    "    name = sim_names + \"_start_%d.bin\"%i\n",
    "    sf.replace_snapshot(sf.build_forecasted_system(system, mb, mc, md), name)"
   ]
  },
  {
   "cell_type": "code",
   "execution_count": null,
   "metadata": {},
   "outputs": [],
   "source": [
    "# %%time\n",
    "nsim_list = np.arange(0, n)\n",
    "res = pool.map(pred, nsim_list)"
   ]
  },
  {
   "cell_type": "code",
   "execution_count": null,
   "metadata": {},
   "outputs": [],
   "source": [
    "# %%time\n",
    "df1 = sf.add_k_cols(pd.DataFrame(nsim_list, columns=['sim']))\n",
    "df1['probstability'] = res\n",
    "\n",
    "dasklabels = dd.from_pandas(df1, npartitions=n_workers)\n",
    "df = dasklabels.apply(get_k, axis=1, meta=df1).compute(scheduler='processes')\n",
    "\n",
    "df[\"m1\"] *= sf.earth_mass_p_solar_mass\n",
    "df[\"m2\"] *= sf.earth_mass_p_solar_mass\n",
    "df[\"m3\"] *= sf.earth_mass_p_solar_mass\n",
    "df[\"m1+m2\"] = df[\"m1\"] + df[\"m2\"]\n",
    "df[\"m2+m3\"] = df[\"m2\"] + df[\"m3\"]\n",
    "df[\"total m\"] = df[\"m1\"] + df[\"m2\"] + df[\"m3\"]\n",
    "\n",
    "df.to_csv(sim_names + \".csv\")"
   ]
  },
  {
   "cell_type": "code",
   "execution_count": 22,
   "metadata": {},
   "outputs": [],
   "source": [
    "# import rebound\n",
    "\n",
    "# nsim = 1\n",
    "# sim = rebound.SimulationArchive(sim_names + \"_sa_%d.bin\"%nsim)[0]\n",
    "# print([sim.particles[i].r for i in range(4)])\n",
    "# rebound.OrbitPlot(sim)\n",
    "# sim.integrate(0.001)\n",
    "# rebound.OrbitPlot(sim)\n",
    "\n",
    "\n",
    "# sys.path.append(\"../spock\")\n",
    "# from spock import StabilityClassifier\n",
    "# model = StabilityClassifier()\n",
    "    \n",
    "# def pred(nsim):\n",
    "#     sim = rebound.SimulationArchive(sim_names + \"_sa_%d.bin\"%nsim)[0]\n",
    "#     sim.move_to_com()\n",
    "#     sim.integrator=\"whfast\"\n",
    "#     sim.dt = 0.07*sim.particles[1].P\n",
    "# #     prob=model.predict(sim)\n",
    "#     prob=model.predict(sim, copy=False)\n",
    "#     return prob\n",
    "\n",
    "# pred(nsim)\n"
   ]
  },
  {
   "cell_type": "markdown",
   "metadata": {},
   "source": [
    "# Corner plots"
   ]
  },
  {
   "cell_type": "code",
   "execution_count": null,
   "metadata": {
    "scrolled": true
   },
   "outputs": [],
   "source": [
    "df = pd.read_csv(sim_names + \".csv\", index_col=0)\n",
    "scores = 2 * df[\"probstability\"]\n",
    "n = len(scores)\n",
    "# effective sample size using eq 9.13 https://statweb.stanford.edu/~owen/mc/Ch-var-is.pdf\n",
    "effective_sample_size = n * np.mean(scores) ** 2 / np.mean(scores ** 2)\n",
    "print(effective_sample_size)\n",
    "print(n)\n",
    "print(effective_sample_size / n)"
   ]
  },
  {
   "cell_type": "code",
   "execution_count": null,
   "metadata": {
    "scrolled": false
   },
   "outputs": [],
   "source": [
    "labels = [\"e1\",\"e2\", \"e3\", \"m1\", \"m2\", \"m3\"]\n",
    "labels2 = [r\"$e_1$\", r\"$e_2$\", r\"$e_3$\", r\"$m_1$\", r\"$m_2$\", r\"$m_3$\"]\n",
    "fig = corner.corner(df[labels], labels=labels2, quantiles=[0.15,0.85], plot_datapoints=False)\n",
    "plt.savefig(\"figs/\" + system + \"_physical_corner_noweight.png\", bbox_inches=\"tight\")\n",
    "fig = corner.corner(df[labels], labels=labels2, quantiles=[0.15,0.85], plot_datapoints=False, weights=df[\"probstability\"])\n",
    "plt.savefig(\"figs/\" + system + \"_physical_corner_weight.png\", bbox_inches=\"tight\")"
   ]
  },
  {
   "cell_type": "code",
   "execution_count": null,
   "metadata": {},
   "outputs": [],
   "source": [
    "labels = [\"Z12\", \"Z23\", \"m1+m2\", \"m2+m3\", \"total m\"]\n",
    "labels2 = [r\"$Z_{12}$\", r\"$Z_{23}$\", r\"$m_1 + m_2$\", r\"$m_2 + m_3$\", r\"$m_1 + m_2 + m_3$\"]\n",
    "fig = corner.corner(df[labels], labels=labels2, quantiles=[0.15,0.85], plot_datapoints=False)\n",
    "plt.savefig(\"figs/\" + system + \"_param_corner_noweight.png\", bbox_inches=\"tight\")\n",
    "fig = corner.corner(df[labels], labels=labels2, quantiles=[0.15,0.85], plot_datapoints=False, weights=df[\"probstability\"])\n",
    "plt.savefig(\"figs/\" + system + \"_param_corner_weight.png\", bbox_inches=\"tight\")"
   ]
  },
  {
   "cell_type": "code",
   "execution_count": null,
   "metadata": {},
   "outputs": [],
   "source": [
    "sf.create_stab_hist(system, df, \"m1\", label2=r\"$m_1$\", xlabel=r\"$M_{\\oplus}$\")\n",
    "sf.create_stab_hist(system, df, \"m2\", label2=r\"$m_2$\", xlabel=r\"$M_{\\oplus}$\")\n",
    "sf.create_stab_hist(system, df, \"m3\", label2=r\"$m_3$\", xlabel=r\"$M_{\\oplus}$\")"
   ]
  },
  {
   "cell_type": "code",
   "execution_count": null,
   "metadata": {},
   "outputs": [],
   "source": [
    "sf.create_stab_hist(system, df, \"m1+m2\", label2=r\"$m_1 + m_2$\", xlabel=r\"$M_{\\oplus}$\")\n",
    "sf.create_stab_hist(system, df, \"m2+m3\", label2=r\"$m_2 + m_3$\", xlabel=r\"$M_{\\oplus}$\")\n",
    "sf.create_stab_hist(system, df, \"total m\", label2=r\"$m_1 + m_2 + m_3$\", xlabel=r\"$M_{\\oplus}$\")"
   ]
  },
  {
   "cell_type": "code",
   "execution_count": null,
   "metadata": {},
   "outputs": [],
   "source": [
    "sf.create_stab_hist(system, df, \"e1\", show_quantiles=False, label2=r\"$e_1$\")\n",
    "sf.create_stab_hist(system, df, \"e2\", show_quantiles=False, label2=r\"$e_2$\")\n",
    "sf.create_stab_hist(system, df, \"e3\", show_quantiles=False, label2=r\"$e_3$\")"
   ]
  },
  {
   "cell_type": "code",
   "execution_count": null,
   "metadata": {
    "scrolled": false
   },
   "outputs": [],
   "source": [
    "sf.create_stab_hist(system, df, \"Z12\", show_quantiles=False, label2=r\"$Z_{12}$\")\n",
    "sf.create_stab_hist(system, df, \"Z23\", show_quantiles=False, label2=r\"$Z_{23}$\")"
   ]
  },
  {
   "cell_type": "code",
   "execution_count": 15,
   "metadata": {},
   "outputs": [
    {
     "ename": "ValueError",
     "evalue": "invalid literal for int() with base 10: '-f'",
     "output_type": "error",
     "traceback": [
      "\u001b[0;31m---------------------------------------------------------------------------\u001b[0m",
      "\u001b[0;31mValueError\u001b[0m                                Traceback (most recent call last)",
      "\u001b[0;32m<ipython-input-15-4837d2e9246c>\u001b[0m in \u001b[0;36m<module>\u001b[0;34m\u001b[0m\n\u001b[1;32m     14\u001b[0m \u001b[0;34m\u001b[0m\u001b[0m\n\u001b[1;32m     15\u001b[0m \u001b[0msystems\u001b[0m \u001b[0;34m=\u001b[0m \u001b[0;34m[\u001b[0m\u001b[0;34m\"HR858\"\u001b[0m\u001b[0;34m,\u001b[0m \u001b[0;34m\"K431\"\u001b[0m\u001b[0;34m,\u001b[0m \u001b[0;34m\"TOI270\"\u001b[0m\u001b[0;34m,\u001b[0m \u001b[0;34m\"L98-59\"\u001b[0m\u001b[0;34m]\u001b[0m\u001b[0;34m\u001b[0m\u001b[0;34m\u001b[0m\u001b[0m\n\u001b[0;32m---> 16\u001b[0;31m \u001b[0msystem\u001b[0m \u001b[0;34m=\u001b[0m \u001b[0msystems\u001b[0m\u001b[0;34m[\u001b[0m\u001b[0mint\u001b[0m\u001b[0;34m(\u001b[0m\u001b[0msys\u001b[0m\u001b[0;34m.\u001b[0m\u001b[0margv\u001b[0m\u001b[0;34m[\u001b[0m\u001b[0;36m1\u001b[0m\u001b[0;34m]\u001b[0m\u001b[0;34m)\u001b[0m\u001b[0;34m]\u001b[0m\u001b[0;34m\u001b[0m\u001b[0;34m\u001b[0m\u001b[0m\n\u001b[0m\u001b[1;32m     17\u001b[0m \u001b[0msim_names\u001b[0m \u001b[0;34m=\u001b[0m \u001b[0msystem\u001b[0m \u001b[0;34m+\u001b[0m \u001b[0;34m\"/\"\u001b[0m \u001b[0;34m+\u001b[0m \u001b[0msystem\u001b[0m\u001b[0;34m\u001b[0m\u001b[0;34m\u001b[0m\u001b[0m\n\u001b[1;32m     18\u001b[0m \u001b[0;34m\u001b[0m\u001b[0m\n",
      "\u001b[0;31mValueError\u001b[0m: invalid literal for int() with base 10: '-f'"
     ]
    }
   ],
   "source": [
    "# import numpy as np\n",
    "# import pandas as pd\n",
    "# import sys\n",
    "# import rebound\n",
    "\n",
    "# def collision(reb_sim, col):\n",
    "#     reb_sim.contents._status = 5\n",
    "#     return 0\n",
    "\n",
    "# if len(sys.argv) > 3:\n",
    "#     shadow = bool(int(sys.argv[3]))\n",
    "# else:\n",
    "#     shadow = False\n",
    "\n",
    "# systems = [\"HR858\", \"K431\", \"TOI270\", \"L98-59\"]\n",
    "# system = systems[int(sys.argv[1])]\n",
    "# sim_names = system + \"/\" + system\n",
    "\n",
    "# df = pd.read_csv(sim_names + \".csv\", index_col=0)\n",
    "# df = df.sort_values(\"probstability\", ascending=False)\n",
    "# nsim = int(df.iloc[int(sys.argv[2])][\"sim\"])\n",
    "\n",
    "# sim = rebound.SimulationArchive(sim_names + \"_sa_%d.bin\"%nsim)[0]\n",
    "\n",
    "# if shadow:\n",
    "#     df2 = pd.read_csv(sim_names + \"_%d_orbits.csv\"%nsim, index_col=0)\n",
    "#     if not df2[\"stable\"][0]:\n",
    "#         sys.exit(\"not worth running a shadow system for dummy thin system\")\n",
    "#     else:\n",
    "#         sim.particles[2].x *= 1 + 1.e-11\n",
    "        \n",
    "# P1 = sim.particles[1].P\n",
    "# try:\n",
    "#     sim.integrate(1e9 * P1, exact_finish_time=0)\n",
    "#     orbits = sim.t / P1\n",
    "#     res = True\n",
    "# except:\n",
    "#     orbits = sim.t / P1\n",
    "#     res = False\n",
    "\n",
    "# if shadow:\n",
    "#     df2[\"orbits_shadow\"] = orbits\n",
    "#     df2[\"stable_shadow\"] = res\n",
    "# else:\n",
    "#     df2 = pd.DataFrame(data=[nsim], columns=[\"sim\"])\n",
    "#     df2[\"orbits\"] = orbits\n",
    "#     df2[\"stable\"] = res\n",
    "# df2.to_csv(sim_names + \"_%d_orbits.csv\"%nsim)"
   ]
  },
  {
   "cell_type": "code",
   "execution_count": null,
   "metadata": {},
   "outputs": [],
   "source": []
  }
 ],
 "metadata": {
  "kernelspec": {
   "display_name": "Python 3",
   "language": "python",
   "name": "python3"
  },
  "language_info": {
   "codemirror_mode": {
    "name": "ipython",
    "version": 3
   },
   "file_extension": ".py",
   "mimetype": "text/x-python",
   "name": "python",
   "nbconvert_exporter": "python",
   "pygments_lexer": "ipython3",
   "version": "3.7.4"
  }
 },
 "nbformat": 4,
 "nbformat_minor": 2
}
