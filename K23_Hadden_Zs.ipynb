{
 "cells": [
  {
   "cell_type": "code",
   "execution_count": 267,
   "metadata": {},
   "outputs": [],
   "source": [
    "import rebound\n",
    "import numpy as np\n",
    "import matplotlib.pyplot as plt\n",
    "%matplotlib inline\n",
    "import h5py\n",
    "import pandas as pd\n",
    "import sys\n",
    "\n",
    "import stability_functions as sf\n",
    "import numpy as np\n",
    "import rebound\n",
    "import pandas as pd\n",
    "import dask.dataframe as dd\n",
    "import matplotlib\n",
    "import matplotlib.pyplot as plt\n",
    "plt.style.use('paper.mplstyle')\n",
    "# %matplotlib inline\n",
    "from celmech import Andoyer\n",
    "\n",
    "import os"
   ]
  },
  {
   "cell_type": "code",
   "execution_count": 7,
   "metadata": {},
   "outputs": [],
   "source": [
    "def dfrow_to_sim(row,npl):\n",
    "    sim = rebound.Simulation()\n",
    "    sim.units = ('Msun','days','AU')\n",
    "    sim.add(m=1)\n",
    "    for i in range(npl):\n",
    "        mu = row['mu{}'.format(i)]\n",
    "        per = row['per{}'.format(i)]\n",
    "        e = row['e{}'.format(i)]\n",
    "        mean_long = row['mean_long{}'.format(i)]\n",
    "        pomega = row['pomega{}'.format(i)]\n",
    "        sim.add(m=mu,P=per,e=e,l=mean_long,pomega=pomega,hash=i)\n",
    "    sim.move_to_com()\n",
    "    sim.integrator = 'whfast'\n",
    "    sim.ri_whfast.safe_mode =0\n",
    "    set_timestep(sim,1/30)\n",
    "#     set_min_distance(sim,3)\n",
    "    set_min_distance(sim,1/2)\n",
    "    return sim\n",
    "\n",
    "def set_timestep(sim,dtFactor):\n",
    "        ps=sim.particles[1:]\n",
    "        Tperi=np.min([p.P * (1-p.e)**1.5 / np.sqrt(1+p.e) for p in ps])\n",
    "        dt = Tperi * dtFactor\n",
    "        sim.dt = dt\n",
    "        \n",
    "def set_min_distance(sim,rHillFactor):\n",
    "        ps=sim.particles[1:]\n",
    "        rHill = np.min([p.rhill for p in ps if p.m > 0])\n",
    "        minDist = rHillFactor * rHill\n",
    "        sim.exit_min_distance=minDist\n",
    "        \n",
    "def dfrow_to_Zs(row):\n",
    "    sim = dfrow_to_sim(row,3)\n",
    "    row['Z12'] = Andoyer.from_Simulation(sim, j=3, k=1, i1=1, i2=2).Z\n",
    "    row['Z23'] = Andoyer.from_Simulation(sim, j=7, k=2, i1=2, i2=3).Z\n",
    "    return row\n",
    "\n",
    "def dfrow_to_Zs_saved(row):\n",
    "    sim = rebound.SimulationArchive(\"K23/K23_logm_start_%d.bin\"%(row[0]))[0]\n",
    "    row['Z12'] = Andoyer.from_Simulation(sim, j=3, k=1, i1=1, i2=2).Z\n",
    "    row['Z23'] = Andoyer.from_Simulation(sim, j=7, k=2, i1=2, i2=3).Z\n",
    "    return row\n",
    "    \n",
    "n_workers = os.cpu_count()"
   ]
  },
  {
   "cell_type": "code",
   "execution_count": 8,
   "metadata": {},
   "outputs": [],
   "source": [
    "KepID = 23\n",
    "df = pd.read_csv(\"Kepler-{0}_default_priors.csv\".format(KepID), index_col=0)\n",
    "# df = df.iloc[:1000]\n",
    "df['Z12'] = 0.\n",
    "df['Z23'] = 0."
   ]
  },
  {
   "cell_type": "code",
   "execution_count": 47,
   "metadata": {},
   "outputs": [
    {
     "name": "stdout",
     "output_type": "stream",
     "text": [
      "CPU times: user 582 ms, sys: 256 ms, total: 838 ms\n",
      "Wall time: 5min 40s\n"
     ]
    }
   ],
   "source": [
    "# %%time\n",
    "# dasklabels = dd.from_pandas(df, npartitions=n_workers)\n",
    "# df = dasklabels.apply(dfrow_to_Zs, axis=1, meta=df).compute(scheduler='processes')\n",
    "# df.to_csv(\"Kepler-{0}_default_priors.csv\".format(KepID))"
   ]
  },
  {
   "cell_type": "code",
   "execution_count": 9,
   "metadata": {},
   "outputs": [],
   "source": [
    "df = pd.read_csv(\"Kepler-{0}_default_priors.csv\".format(KepID), index_col=0)"
   ]
  },
  {
   "cell_type": "code",
   "execution_count": 10,
   "metadata": {},
   "outputs": [
    {
     "data": {
      "image/png": "[encoded data removed]",
      "text/plain": [
       "<Figure size 432x288 with 1 Axes>"
      ]
     },
     "metadata": {
      "needs_background": "light"
     },
     "output_type": "display_data"
    }
   ],
   "source": [
    "plt.hist(df.Z12, bins=1000);"
   ]
  },
  {
   "cell_type": "code",
   "execution_count": 11,
   "metadata": {},
   "outputs": [
    {
     "data": {
      "text/plain": [
       "0.01782369271753486"
      ]
     },
     "execution_count": 11,
     "metadata": {},
     "output_type": "execute_result"
    }
   ],
   "source": [
    "np.quantile(df.Z12, 0.16)"
   ]
  },
  {
   "cell_type": "code",
   "execution_count": 12,
   "metadata": {},
   "outputs": [
    {
     "data": {
      "text/plain": [
       "0.031738126971816896"
      ]
     },
     "execution_count": 12,
     "metadata": {},
     "output_type": "execute_result"
    }
   ],
   "source": [
    "np.median(df.Z12)"
   ]
  },
  {
   "cell_type": "code",
   "execution_count": 13,
   "metadata": {},
   "outputs": [
    {
     "data": {
      "text/plain": [
       "0.05263494038593203"
      ]
     },
     "execution_count": 13,
     "metadata": {},
     "output_type": "execute_result"
    }
   ],
   "source": [
    "np.quantile(df.Z12, 0.84)"
   ]
  },
  {
   "cell_type": "code",
   "execution_count": 14,
   "metadata": {},
   "outputs": [
    {
     "data": {
      "text/plain": [
       "(array([2.9749e+04, 5.8988e+04, 6.1376e+04, 4.9680e+04, 2.9190e+04,\n",
       "        1.3859e+04, 4.9860e+03, 1.7560e+03, 3.6600e+02, 5.0000e+01]),\n",
       " array([3.21709582e-05, 9.18130030e-03, 1.83304296e-02, 2.74795590e-02,\n",
       "        3.66286883e-02, 4.57778177e-02, 5.49269470e-02, 6.40760764e-02,\n",
       "        7.32252057e-02, 8.23743351e-02, 9.15234644e-02]),\n",
       " <a list of 10 Patch objects>)"
      ]
     },
     "execution_count": 14,
     "metadata": {},
     "output_type": "execute_result"
    },
    {
     "data": {
      "image/png": "[encoded data removed]",
      "text/plain": [
       "<Figure size 432x288 with 1 Axes>"
      ]
     },
     "metadata": {
      "needs_background": "light"
     },
     "output_type": "display_data"
    }
   ],
   "source": [
    "plt.hist(df.Z23)"
   ]
  },
  {
   "cell_type": "code",
   "execution_count": 15,
   "metadata": {},
   "outputs": [],
   "source": [
    "df2 = pd.read_csv(\"K23/K23_logm_SPOCK.csv\", index_col=0)"
   ]
  },
  {
   "cell_type": "code",
   "execution_count": 30,
   "metadata": {},
   "outputs": [
    {
     "data": {
      "text/html": [
       "<div>\n",
       "<style scoped>\n",
       "    .dataframe tbody tr th:only-of-type {\n",
       "        vertical-align: middle;\n",
       "    }\n",
       "\n",
       "    .dataframe tbody tr th {\n",
       "        vertical-align: top;\n",
       "    }\n",
       "\n",
       "    .dataframe thead th {\n",
       "        text-align: right;\n",
       "    }\n",
       "</style>\n",
       "<table border=\"1\" class=\"dataframe\">\n",
       "  <thead>\n",
       "    <tr style=\"text-align: right;\">\n",
       "      <th></th>\n",
       "      <th>sim</th>\n",
       "      <th>k</th>\n",
       "      <th>h</th>\n",
       "      <th>Z12</th>\n",
       "      <th>Zcom12</th>\n",
       "      <th>Z23</th>\n",
       "      <th>Zcom23</th>\n",
       "      <th>e1</th>\n",
       "      <th>e2</th>\n",
       "      <th>e3</th>\n",
       "      <th>m1</th>\n",
       "      <th>m2</th>\n",
       "      <th>m3</th>\n",
       "      <th>probstability</th>\n",
       "      <th>m1+m2</th>\n",
       "      <th>m2+m3</th>\n",
       "      <th>total m</th>\n",
       "    </tr>\n",
       "  </thead>\n",
       "  <tbody>\n",
       "    <tr>\n",
       "      <th>0</th>\n",
       "      <td>0.0</td>\n",
       "      <td>-0.193662</td>\n",
       "      <td>-0.285635</td>\n",
       "      <td>0.388670</td>\n",
       "      <td>0.636611</td>\n",
       "      <td>0.735677</td>\n",
       "      <td>0.664992</td>\n",
       "      <td>0.867296</td>\n",
       "      <td>0.345097</td>\n",
       "      <td>0.712553</td>\n",
       "      <td>6.213249</td>\n",
       "      <td>13.376343</td>\n",
       "      <td>40.220045</td>\n",
       "      <td>0.0</td>\n",
       "      <td>19.589593</td>\n",
       "      <td>53.596389</td>\n",
       "      <td>59.809638</td>\n",
       "    </tr>\n",
       "    <tr>\n",
       "      <th>1</th>\n",
       "      <td>1.0</td>\n",
       "      <td>0.342728</td>\n",
       "      <td>-0.343074</td>\n",
       "      <td>0.332211</td>\n",
       "      <td>0.559205</td>\n",
       "      <td>0.640342</td>\n",
       "      <td>0.191515</td>\n",
       "      <td>0.357091</td>\n",
       "      <td>0.484935</td>\n",
       "      <td>0.377275</td>\n",
       "      <td>0.485521</td>\n",
       "      <td>4.204200</td>\n",
       "      <td>3.251008</td>\n",
       "      <td>0.0</td>\n",
       "      <td>4.689721</td>\n",
       "      <td>7.455208</td>\n",
       "      <td>7.940729</td>\n",
       "    </tr>\n",
       "    <tr>\n",
       "      <th>2</th>\n",
       "      <td>2.0</td>\n",
       "      <td>0.210379</td>\n",
       "      <td>-0.115803</td>\n",
       "      <td>0.217568</td>\n",
       "      <td>0.243371</td>\n",
       "      <td>0.641480</td>\n",
       "      <td>0.408302</td>\n",
       "      <td>0.269689</td>\n",
       "      <td>0.240145</td>\n",
       "      <td>0.559020</td>\n",
       "      <td>1.452781</td>\n",
       "      <td>4.575729</td>\n",
       "      <td>11.466701</td>\n",
       "      <td>0.0</td>\n",
       "      <td>6.028510</td>\n",
       "      <td>16.042429</td>\n",
       "      <td>17.495211</td>\n",
       "    </tr>\n",
       "    <tr>\n",
       "      <th>3</th>\n",
       "      <td>3.0</td>\n",
       "      <td>0.024894</td>\n",
       "      <td>0.395947</td>\n",
       "      <td>0.292039</td>\n",
       "      <td>0.090441</td>\n",
       "      <td>0.257699</td>\n",
       "      <td>0.312442</td>\n",
       "      <td>0.046320</td>\n",
       "      <td>0.396729</td>\n",
       "      <td>0.026889</td>\n",
       "      <td>19.684153</td>\n",
       "      <td>3.179315</td>\n",
       "      <td>1.719421</td>\n",
       "      <td>0.0</td>\n",
       "      <td>22.863469</td>\n",
       "      <td>4.898737</td>\n",
       "      <td>24.582890</td>\n",
       "    </tr>\n",
       "    <tr>\n",
       "      <th>4</th>\n",
       "      <td>4.0</td>\n",
       "      <td>-0.379218</td>\n",
       "      <td>0.096536</td>\n",
       "      <td>0.209768</td>\n",
       "      <td>0.486905</td>\n",
       "      <td>0.896058</td>\n",
       "      <td>0.423220</td>\n",
       "      <td>0.227684</td>\n",
       "      <td>0.391312</td>\n",
       "      <td>0.701445</td>\n",
       "      <td>0.858439</td>\n",
       "      <td>159.849724</td>\n",
       "      <td>0.681329</td>\n",
       "      <td>0.0</td>\n",
       "      <td>160.708163</td>\n",
       "      <td>160.531053</td>\n",
       "      <td>161.389493</td>\n",
       "    </tr>\n",
       "  </tbody>\n",
       "</table>\n",
       "</div>"
      ],
      "text/plain": [
       "   sim         k         h       Z12    Zcom12       Z23    Zcom23        e1  \\\n",
       "0  0.0 -0.193662 -0.285635  0.388670  0.636611  0.735677  0.664992  0.867296   \n",
       "1  1.0  0.342728 -0.343074  0.332211  0.559205  0.640342  0.191515  0.357091   \n",
       "2  2.0  0.210379 -0.115803  0.217568  0.243371  0.641480  0.408302  0.269689   \n",
       "3  3.0  0.024894  0.395947  0.292039  0.090441  0.257699  0.312442  0.046320   \n",
       "4  4.0 -0.379218  0.096536  0.209768  0.486905  0.896058  0.423220  0.227684   \n",
       "\n",
       "         e2        e3         m1          m2         m3  probstability  \\\n",
       "0  0.345097  0.712553   6.213249   13.376343  40.220045            0.0   \n",
       "1  0.484935  0.377275   0.485521    4.204200   3.251008            0.0   \n",
       "2  0.240145  0.559020   1.452781    4.575729  11.466701            0.0   \n",
       "3  0.396729  0.026889  19.684153    3.179315   1.719421            0.0   \n",
       "4  0.391312  0.701445   0.858439  159.849724   0.681329            0.0   \n",
       "\n",
       "        m1+m2       m2+m3     total m  \n",
       "0   19.589593   53.596389   59.809638  \n",
       "1    4.689721    7.455208    7.940729  \n",
       "2    6.028510   16.042429   17.495211  \n",
       "3   22.863469    4.898737   24.582890  \n",
       "4  160.708163  160.531053  161.389493  "
      ]
     },
     "execution_count": 30,
     "metadata": {},
     "output_type": "execute_result"
    }
   ],
   "source": [
    "df2.head()"
   ]
  },
  {
   "cell_type": "code",
   "execution_count": 91,
   "metadata": {},
   "outputs": [
    {
     "name": "stdout",
     "output_type": "stream",
     "text": [
      "0.046320482970746986\n"
     ]
    }
   ],
   "source": [
    "import stability_functions as sf\n",
    "\n",
    "np.random.seed(3)\n",
    "sim = sf.build_Hadden_system('K23', logm=1, loge=0)\n",
    "print(sim.particles[1].e)"
   ]
  },
  {
   "cell_type": "code",
   "execution_count": 92,
   "metadata": {},
   "outputs": [
    {
     "data": {
      "text/plain": [
       "1.5114675671872804"
      ]
     },
     "execution_count": 92,
     "metadata": {},
     "output_type": "execute_result"
    }
   ],
   "source": [
    "sim.particles[2].P/sim.particles[1].P"
   ]
  },
  {
   "cell_type": "code",
   "execution_count": 37,
   "metadata": {},
   "outputs": [
    {
     "data": {
      "text/plain": [
       "18114.767799779835"
      ]
     },
     "execution_count": 37,
     "metadata": {},
     "output_type": "execute_result"
    }
   ],
   "source": [
    "sa = rebound.SimulationArchive('K23/K23_logm_sa_471051.bin')\n",
    "sa[-1].t"
   ]
  },
  {
   "cell_type": "code",
   "execution_count": 40,
   "metadata": {},
   "outputs": [
    {
     "data": {
      "text/plain": [
       "(7109, 17)"
      ]
     },
     "execution_count": 40,
     "metadata": {},
     "output_type": "execute_result"
    }
   ],
   "source": [
    "df3.shape"
   ]
  },
  {
   "cell_type": "code",
   "execution_count": 88,
   "metadata": {},
   "outputs": [
    {
     "data": {
      "text/plain": [
       "0.12225762622347801"
      ]
     },
     "execution_count": 88,
     "metadata": {},
     "output_type": "execute_result"
    }
   ],
   "source": [
    "np.random.seed(0)\n",
    "sim = sf.build_Hadden_system('K23', logm=1, loge=0)\n",
    "ps = sim.particles\n",
    "ps[1].P"
   ]
  },
  {
   "cell_type": "code",
   "execution_count": 64,
   "metadata": {},
   "outputs": [],
   "source": [
    "def pred(ID):\n",
    "    ID = int(ID)\n",
    "    np.random.seed(ID)\n",
    "    sim = sf.build_Hadden_system('K23', logm=1, loge=0)\n",
    "    return model.predict(sim)"
   ]
  },
  {
   "cell_type": "code",
   "execution_count": 65,
   "metadata": {},
   "outputs": [],
   "source": [
    "def init_process():\n",
    "    global model\n",
    "    model = StabilityClassifier()"
   ]
  },
  {
   "cell_type": "code",
   "execution_count": 199,
   "metadata": {},
   "outputs": [
    {
     "name": "stderr",
     "output_type": "stream",
     "text": [
      "/home/dtamayo/miniconda3/envs/ml/lib/python3.7/site-packages/numpy/lib/function_base.py:3405: RuntimeWarning: Invalid value encountered in median\n",
      "  r = func(a, **kwargs)\n",
      "/home/dtamayo/miniconda3/envs/ml/lib/python3.7/site-packages/numpy/lib/function_base.py:3405: RuntimeWarning: Invalid value encountered in median\n",
      "  r = func(a, **kwargs)\n",
      "/home/dtamayo/miniconda3/envs/ml/lib/python3.7/site-packages/numpy/lib/function_base.py:3405: RuntimeWarning: Invalid value encountered in median\n",
      "  r = func(a, **kwargs)\n",
      "/home/dtamayo/miniconda3/envs/ml/lib/python3.7/site-packages/numpy/lib/function_base.py:3405: RuntimeWarning: Invalid value encountered in median\n",
      "  r = func(a, **kwargs)\n",
      "/home/dtamayo/miniconda3/envs/ml/lib/python3.7/site-packages/numpy/lib/function_base.py:3405: RuntimeWarning: Invalid value encountered in median\n",
      "  r = func(a, **kwargs)\n",
      "/home/dtamayo/miniconda3/envs/ml/lib/python3.7/site-packages/numpy/lib/function_base.py:3405: RuntimeWarning: Invalid value encountered in median\n",
      "  r = func(a, **kwargs)\n",
      "/home/dtamayo/miniconda3/envs/ml/lib/python3.7/site-packages/numpy/lib/function_base.py:3405: RuntimeWarning: Invalid value encountered in median\n",
      "  r = func(a, **kwargs)\n",
      "/home/dtamayo/miniconda3/envs/ml/lib/python3.7/site-packages/numpy/lib/function_base.py:3405: RuntimeWarning: Invalid value encountered in median\n",
      "  r = func(a, **kwargs)\n",
      "/home/dtamayo/miniconda3/envs/ml/lib/python3.7/site-packages/numpy/lib/function_base.py:3405: RuntimeWarning: Invalid value encountered in median\n",
      "  r = func(a, **kwargs)\n",
      "/home/dtamayo/miniconda3/envs/ml/lib/python3.7/site-packages/numpy/lib/function_base.py:3405: RuntimeWarning: Invalid value encountered in median\n",
      "  r = func(a, **kwargs)\n",
      "/home/dtamayo/miniconda3/envs/ml/lib/python3.7/site-packages/numpy/lib/function_base.py:3405: RuntimeWarning: Invalid value encountered in median\n",
      "  r = func(a, **kwargs)\n",
      "/home/dtamayo/miniconda3/envs/ml/lib/python3.7/site-packages/numpy/lib/function_base.py:3405: RuntimeWarning: Invalid value encountered in median\n",
      "  r = func(a, **kwargs)\n",
      "/home/dtamayo/miniconda3/envs/ml/lib/python3.7/site-packages/numpy/lib/function_base.py:3405: RuntimeWarning: Invalid value encountered in median\n",
      "  r = func(a, **kwargs)\n",
      "/home/dtamayo/miniconda3/envs/ml/lib/python3.7/site-packages/numpy/lib/function_base.py:3405: RuntimeWarning: Invalid value encountered in median\n",
      "  r = func(a, **kwargs)\n",
      "/home/dtamayo/miniconda3/envs/ml/lib/python3.7/site-packages/numpy/lib/function_base.py:3405: RuntimeWarning: Invalid value encountered in median\n",
      "  r = func(a, **kwargs)\n",
      "/home/dtamayo/miniconda3/envs/ml/lib/python3.7/site-packages/numpy/lib/function_base.py:3405: RuntimeWarning: Invalid value encountered in median\n",
      "  r = func(a, **kwargs)\n",
      "/home/dtamayo/miniconda3/envs/ml/lib/python3.7/site-packages/numpy/lib/function_base.py:3405: RuntimeWarning: Invalid value encountered in median\n",
      "  r = func(a, **kwargs)\n",
      "/home/dtamayo/miniconda3/envs/ml/lib/python3.7/site-packages/numpy/lib/function_base.py:3405: RuntimeWarning: Invalid value encountered in median\n",
      "  r = func(a, **kwargs)\n",
      "/home/dtamayo/miniconda3/envs/ml/lib/python3.7/site-packages/numpy/lib/function_base.py:3405: RuntimeWarning: Invalid value encountered in median\n",
      "  r = func(a, **kwargs)\n",
      "/home/dtamayo/miniconda3/envs/ml/lib/python3.7/site-packages/numpy/lib/function_base.py:3405: RuntimeWarning: Invalid value encountered in median\n",
      "  r = func(a, **kwargs)\n",
      "/home/dtamayo/miniconda3/envs/ml/lib/python3.7/site-packages/numpy/lib/function_base.py:3405: RuntimeWarning: Invalid value encountered in median\n",
      "  r = func(a, **kwargs)\n",
      "/home/dtamayo/miniconda3/envs/ml/lib/python3.7/site-packages/numpy/lib/function_base.py:3405: RuntimeWarning: Invalid value encountered in median\n",
      "  r = func(a, **kwargs)\n",
      "/home/dtamayo/miniconda3/envs/ml/lib/python3.7/site-packages/numpy/lib/function_base.py:3405: RuntimeWarning: Invalid value encountered in median\n",
      "  r = func(a, **kwargs)\n",
      "/home/dtamayo/miniconda3/envs/ml/lib/python3.7/site-packages/numpy/lib/function_base.py:3405: RuntimeWarning: Invalid value encountered in median\n",
      "  r = func(a, **kwargs)\n",
      "/home/dtamayo/miniconda3/envs/ml/lib/python3.7/site-packages/numpy/lib/function_base.py:3405: RuntimeWarning: Invalid value encountered in median\n",
      "  r = func(a, **kwargs)\n",
      "/home/dtamayo/miniconda3/envs/ml/lib/python3.7/site-packages/numpy/lib/function_base.py:3405: RuntimeWarning: Invalid value encountered in median\n",
      "  r = func(a, **kwargs)\n",
      "/home/dtamayo/miniconda3/envs/ml/lib/python3.7/site-packages/numpy/lib/function_base.py:3405: RuntimeWarning: Invalid value encountered in median\n",
      "  r = func(a, **kwargs)\n",
      "/home/dtamayo/miniconda3/envs/ml/lib/python3.7/site-packages/numpy/lib/function_base.py:3405: RuntimeWarning: Invalid value encountered in median\n",
      "  r = func(a, **kwargs)\n",
      "/home/dtamayo/miniconda3/envs/ml/lib/python3.7/site-packages/numpy/lib/function_base.py:3405: RuntimeWarning: Invalid value encountered in median\n",
      "  r = func(a, **kwargs)\n",
      "/home/dtamayo/miniconda3/envs/ml/lib/python3.7/site-packages/numpy/lib/function_base.py:3405: RuntimeWarning: Invalid value encountered in median\n",
      "  r = func(a, **kwargs)\n",
      "/home/dtamayo/miniconda3/envs/ml/lib/python3.7/site-packages/numpy/lib/function_base.py:3405: RuntimeWarning: Invalid value encountered in median\n",
      "  r = func(a, **kwargs)\n",
      "/home/dtamayo/miniconda3/envs/ml/lib/python3.7/site-packages/numpy/lib/function_base.py:3405: RuntimeWarning: Invalid value encountered in median\n",
      "  r = func(a, **kwargs)\n",
      "/home/dtamayo/miniconda3/envs/ml/lib/python3.7/site-packages/numpy/lib/function_base.py:3405: RuntimeWarning: Invalid value encountered in median\n",
      "  r = func(a, **kwargs)\n",
      "/home/dtamayo/miniconda3/envs/ml/lib/python3.7/site-packages/numpy/lib/function_base.py:3405: RuntimeWarning: Invalid value encountered in median\n",
      "  r = func(a, **kwargs)\n",
      "/home/dtamayo/miniconda3/envs/ml/lib/python3.7/site-packages/numpy/lib/function_base.py:3405: RuntimeWarning: Invalid value encountered in median\n",
      "  r = func(a, **kwargs)\n",
      "/home/dtamayo/miniconda3/envs/ml/lib/python3.7/site-packages/numpy/lib/function_base.py:3405: RuntimeWarning: Invalid value encountered in median\n",
      "  r = func(a, **kwargs)\n",
      "/home/dtamayo/miniconda3/envs/ml/lib/python3.7/site-packages/numpy/lib/function_base.py:3405: RuntimeWarning: Invalid value encountered in median\n",
      "  r = func(a, **kwargs)\n",
      "/home/dtamayo/miniconda3/envs/ml/lib/python3.7/site-packages/numpy/lib/function_base.py:3405: RuntimeWarning: Invalid value encountered in median\n",
      "  r = func(a, **kwargs)\n",
      "/home/dtamayo/miniconda3/envs/ml/lib/python3.7/site-packages/numpy/lib/function_base.py:3405: RuntimeWarning: Invalid value encountered in median\n",
      "  r = func(a, **kwargs)\n",
      "/home/dtamayo/miniconda3/envs/ml/lib/python3.7/site-packages/numpy/lib/function_base.py:3405: RuntimeWarning: Invalid value encountered in median\n",
      "  r = func(a, **kwargs)\n",
      "/home/dtamayo/miniconda3/envs/ml/lib/python3.7/site-packages/numpy/lib/function_base.py:3405: RuntimeWarning: Invalid value encountered in median\n",
      "  r = func(a, **kwargs)\n",
      "/home/dtamayo/miniconda3/envs/ml/lib/python3.7/site-packages/numpy/lib/function_base.py:3405: RuntimeWarning: Invalid value encountered in median\n",
      "  r = func(a, **kwargs)\n",
      "/home/dtamayo/miniconda3/envs/ml/lib/python3.7/site-packages/numpy/lib/function_base.py:3405: RuntimeWarning: Invalid value encountered in median\n",
      "  r = func(a, **kwargs)\n",
      "/home/dtamayo/miniconda3/envs/ml/lib/python3.7/site-packages/numpy/lib/function_base.py:3405: RuntimeWarning: Invalid value encountered in median\n",
      "  r = func(a, **kwargs)\n",
      "/home/dtamayo/miniconda3/envs/ml/lib/python3.7/site-packages/numpy/lib/function_base.py:3405: RuntimeWarning: Invalid value encountered in median\n",
      "  r = func(a, **kwargs)\n",
      "/home/dtamayo/miniconda3/envs/ml/lib/python3.7/site-packages/numpy/lib/function_base.py:3405: RuntimeWarning: Invalid value encountered in median\n",
      "  r = func(a, **kwargs)\n",
      "/home/dtamayo/miniconda3/envs/ml/lib/python3.7/site-packages/numpy/lib/function_base.py:3405: RuntimeWarning: Invalid value encountered in median\n",
      "  r = func(a, **kwargs)\n",
      "/home/dtamayo/miniconda3/envs/ml/lib/python3.7/site-packages/numpy/lib/function_base.py:3405: RuntimeWarning: Invalid value encountered in median\n",
      "  r = func(a, **kwargs)\n"
     ]
    }
   ],
   "source": [
    "from multiprocessing import Pool\n",
    "pool = Pool(processes=48, initializer=init_process)"
   ]
  },
  {
   "cell_type": "code",
   "execution_count": 200,
   "metadata": {},
   "outputs": [
    {
     "name": "stdout",
     "output_type": "stream",
     "text": [
      "CPU times: user 3.09 s, sys: 3.88 s, total: 6.96 s\n",
      "Wall time: 17min 14s\n"
     ]
    }
   ],
   "source": [
    "%%time\n",
    "simIDs = df2['sim'].values\n",
    "df2['probstability_fixed'] = pool.map(pred, simIDs)"
   ]
  },
  {
   "cell_type": "code",
   "execution_count": 201,
   "metadata": {},
   "outputs": [
    {
     "data": {
      "text/plain": [
       "23"
      ]
     },
     "execution_count": 201,
     "metadata": {},
     "output_type": "execute_result"
    }
   ],
   "source": [
    "KepID"
   ]
  },
  {
   "cell_type": "code",
   "execution_count": 203,
   "metadata": {},
   "outputs": [],
   "source": [
    "df2.to_csv(\"Kepler-{0}_default_priors_SPOCK.csv\".format(KepID))"
   ]
  },
  {
   "cell_type": "code",
   "execution_count": 80,
   "metadata": {},
   "outputs": [
    {
     "name": "stdout",
     "output_type": "stream",
     "text": [
      "CPU times: user 852 ms, sys: 140 ms, total: 992 ms\n",
      "Wall time: 1min 35s\n"
     ]
    }
   ],
   "source": [
    "%%time\n",
    "dasklabels = dd.from_pandas(df2, npartitions=n_workers)\n",
    "df2 = dasklabels.apply(dfrow_to_Zs_saved, axis=1, meta=df2).compute(scheduler='processes')\n",
    "df2.to_csv(\"Kepler-{0}_default_priors_SPOCK.csv\".format(KepID))"
   ]
  },
  {
   "cell_type": "code",
   "execution_count": 204,
   "metadata": {},
   "outputs": [],
   "source": [
    "df2 = pd.read_csv(\"Kepler-{0}_default_priors_SPOCK.csv\".format(KepID), index_col=0)"
   ]
  },
  {
   "cell_type": "code",
   "execution_count": 78,
   "metadata": {},
   "outputs": [
    {
     "data": {
      "text/plain": [
       "<matplotlib.axes._subplots.AxesSubplot at 0x7f4eff6fb160>"
      ]
     },
     "execution_count": 78,
     "metadata": {},
     "output_type": "execute_result"
    },
    {
     "data": {
      "image/png": "[encoded data removed]",
      "text/plain": [
       "<Figure size 432x288 with 1 Axes>"
      ]
     },
     "metadata": {
      "needs_background": "light"
     },
     "output_type": "display_data"
    }
   ],
   "source": [
    "df2['probstability'].hist()"
   ]
  },
  {
   "cell_type": "code",
   "execution_count": 79,
   "metadata": {},
   "outputs": [
    {
     "data": {
      "text/plain": [
       "<matplotlib.axes._subplots.AxesSubplot at 0x7f4eff7967b8>"
      ]
     },
     "execution_count": 79,
     "metadata": {},
     "output_type": "execute_result"
    },
    {
     "data": {
      "image/png": "[encoded data removed]",
      "text/plain": [
       "<Figure size 432x288 with 1 Axes>"
      ]
     },
     "metadata": {
      "needs_background": "light"
     },
     "output_type": "display_data"
    }
   ],
   "source": [
    "df2['probstability_fixed'].hist()"
   ]
  },
  {
   "cell_type": "code",
   "execution_count": 24,
   "metadata": {},
   "outputs": [
    {
     "data": {
      "text/plain": [
       "(array([11408.,  7131.,  2893.,  1982.,  1561.,  1062.,   523.,   304.,\n",
       "          143.,    46.]),\n",
       " array([6.86754332e-04, 1.44313149e-01, 2.87939543e-01, 4.31565938e-01,\n",
       "        5.75192332e-01, 7.18818727e-01, 8.62445121e-01, 1.00607152e+00,\n",
       "        1.14969791e+00, 1.29332430e+00, 1.43695070e+00]),\n",
       " <a list of 10 Patch objects>)"
      ]
     },
     "execution_count": 24,
     "metadata": {},
     "output_type": "execute_result"
    },
    {
     "data": {
      "image/png": "[encoded data removed]",
      "text/plain": [
       "<Figure size 432x288 with 1 Axes>"
      ]
     },
     "metadata": {
      "needs_background": "light"
     },
     "output_type": "display_data"
    }
   ],
   "source": [
    "plt.hist(df2.Z12)"
   ]
  },
  {
   "cell_type": "code",
   "execution_count": 26,
   "metadata": {},
   "outputs": [
    {
     "data": {
      "text/plain": [
       "(array([413., 341., 266., 156., 122.,  63.,  29.,  13.,   5.,   4.]),\n",
       " array([0.00212553, 0.04078377, 0.079442  , 0.11810023, 0.15675846,\n",
       "        0.1954167 , 0.23407493, 0.27273316, 0.31139139, 0.35004963,\n",
       "        0.38870786]),\n",
       " <a list of 10 Patch objects>)"
      ]
     },
     "execution_count": 26,
     "metadata": {},
     "output_type": "execute_result"
    },
    {
     "data": {
      "image/png": "[encoded data removed]",
      "text/plain": [
       "<Figure size 432x288 with 1 Axes>"
      ]
     },
     "metadata": {
      "needs_background": "light"
     },
     "output_type": "display_data"
    }
   ],
   "source": [
    "plt.hist(df2[df2['probstability']>0.6]['Z12'])"
   ]
  },
  {
   "cell_type": "code",
   "execution_count": 83,
   "metadata": {},
   "outputs": [
    {
     "data": {
      "text/plain": [
       "(array([17527.,  1830.,  2071.,  1960.,  1616.,  1062.,   567.,   279.,\n",
       "          112.,    29.]),\n",
       " array([1.87317467e-04, 1.45700537e-01, 2.91213756e-01, 4.36726975e-01,\n",
       "        5.82240195e-01, 7.27753414e-01, 8.73266633e-01, 1.01877985e+00,\n",
       "        1.16429307e+00, 1.30980629e+00, 1.45531951e+00]),\n",
       " <a list of 10 Patch objects>)"
      ]
     },
     "execution_count": 83,
     "metadata": {},
     "output_type": "execute_result"
    },
    {
     "data": {
      "image/png": "[encoded data removed]",
      "text/plain": [
       "<Figure size 432x288 with 1 Axes>"
      ]
     },
     "metadata": {
      "needs_background": "light"
     },
     "output_type": "display_data"
    }
   ],
   "source": [
    "plt.hist(df2.Z23)"
   ]
  },
  {
   "cell_type": "code",
   "execution_count": 19,
   "metadata": {},
   "outputs": [],
   "source": [
    "df3 = pd.read_csv(\"K23/K23_logm_nbody.csv\", index_col=0)"
   ]
  },
  {
   "cell_type": "code",
   "execution_count": 90,
   "metadata": {},
   "outputs": [
    {
     "name": "stdout",
     "output_type": "stream",
     "text": [
      "CPU times: user 283 ms, sys: 86 ms, total: 369 ms\n",
      "Wall time: 25.7 s\n"
     ]
    }
   ],
   "source": [
    "%%time\n",
    "dasklabels = dd.from_pandas(df3, npartitions=n_workers)\n",
    "df3 = dasklabels.apply(dfrow_to_Zs_saved, axis=1, meta=df3).compute(scheduler='processes')\n",
    "df3.to_csv(\"Kepler-{0}_default_priors_nbody.csv\".format(KepID))"
   ]
  },
  {
   "cell_type": "code",
   "execution_count": 16,
   "metadata": {},
   "outputs": [],
   "source": [
    "df3 = pd.read_csv(\"Kepler-{0}_default_priors_nbody.csv\".format(KepID), index_col=0)"
   ]
  },
  {
   "cell_type": "markdown",
   "metadata": {},
   "source": [
    "### df3.head()"
   ]
  },
  {
   "cell_type": "code",
   "execution_count": 17,
   "metadata": {},
   "outputs": [
    {
     "data": {
      "text/plain": [
       "(array([3.097e+03, 2.443e+03, 1.075e+03, 3.810e+02, 8.300e+01, 1.900e+01,\n",
       "        9.000e+00, 1.000e+00, 0.000e+00, 1.000e+00]),\n",
       " array([0.00124345, 0.07479028, 0.14833711, 0.22188395, 0.29543078,\n",
       "        0.36897762, 0.44252445, 0.51607129, 0.58961812, 0.66316495,\n",
       "        0.73671179]),\n",
       " <a list of 10 Patch objects>)"
      ]
     },
     "execution_count": 17,
     "metadata": {},
     "output_type": "execute_result"
    },
    {
     "data": {
      "image/png": "[encoded data removed]",
      "text/plain": [
       "<Figure size 432x288 with 1 Axes>"
      ]
     },
     "metadata": {
      "needs_background": "light"
     },
     "output_type": "display_data"
    }
   ],
   "source": [
    "plt.hist(df3.Z12)"
   ]
  },
  {
   "cell_type": "code",
   "execution_count": 93,
   "metadata": {},
   "outputs": [
    {
     "data": {
      "text/plain": [
       "(array([6.563e+03, 4.720e+02, 0.000e+00, 1.000e+00, 2.000e+00, 4.000e+00,\n",
       "        7.000e+00, 3.500e+01, 1.600e+01, 9.000e+00]),\n",
       " array([3.41437925e-04, 1.04720890e-01, 2.09100343e-01, 3.13479796e-01,\n",
       "        4.17859248e-01, 5.22238701e-01, 6.26618153e-01, 7.30997606e-01,\n",
       "        8.35377058e-01, 9.39756511e-01, 1.04413596e+00]),\n",
       " <a list of 10 Patch objects>)"
      ]
     },
     "execution_count": 93,
     "metadata": {},
     "output_type": "execute_result"
    },
    {
     "data": {
      "image/png": "[encoded data removed]",
      "text/plain": [
       "<Figure size 432x288 with 1 Axes>"
      ]
     },
     "metadata": {
      "needs_background": "light"
     },
     "output_type": "display_data"
    }
   ],
   "source": [
    "plt.hist(df3.Z23)"
   ]
  },
  {
   "cell_type": "code",
   "execution_count": 272,
   "metadata": {},
   "outputs": [
    {
     "data": {
      "text/html": [
       "<div>\n",
       "<style scoped>\n",
       "    .dataframe tbody tr th:only-of-type {\n",
       "        vertical-align: middle;\n",
       "    }\n",
       "\n",
       "    .dataframe tbody tr th {\n",
       "        vertical-align: top;\n",
       "    }\n",
       "\n",
       "    .dataframe thead th {\n",
       "        text-align: right;\n",
       "    }\n",
       "</style>\n",
       "<table border=\"1\" class=\"dataframe\">\n",
       "  <thead>\n",
       "    <tr style=\"text-align: right;\">\n",
       "      <th></th>\n",
       "      <th>sim</th>\n",
       "      <th>k</th>\n",
       "      <th>h</th>\n",
       "      <th>Z12</th>\n",
       "      <th>Zcom12</th>\n",
       "      <th>Z23</th>\n",
       "      <th>Zcom23</th>\n",
       "      <th>e1</th>\n",
       "      <th>e2</th>\n",
       "      <th>e3</th>\n",
       "      <th>m1</th>\n",
       "      <th>m2</th>\n",
       "      <th>m3</th>\n",
       "      <th>probstability</th>\n",
       "      <th>m1+m2</th>\n",
       "      <th>m2+m3</th>\n",
       "      <th>total m</th>\n",
       "      <th>nbodystable</th>\n",
       "      <th>probstability_fixed</th>\n",
       "      <th>stable1e5</th>\n",
       "    </tr>\n",
       "  </thead>\n",
       "  <tbody>\n",
       "    <tr>\n",
       "      <th>0</th>\n",
       "      <td>0.0</td>\n",
       "      <td>-0.193662</td>\n",
       "      <td>-0.285635</td>\n",
       "      <td>0.388702</td>\n",
       "      <td>0.636611</td>\n",
       "      <td>0.686698</td>\n",
       "      <td>0.664992</td>\n",
       "      <td>0.867296</td>\n",
       "      <td>0.345097</td>\n",
       "      <td>0.712553</td>\n",
       "      <td>6.213249</td>\n",
       "      <td>13.376343</td>\n",
       "      <td>40.220045</td>\n",
       "      <td>0.0</td>\n",
       "      <td>19.589593</td>\n",
       "      <td>53.596389</td>\n",
       "      <td>59.809638</td>\n",
       "      <td>0.0</td>\n",
       "      <td>0.0</td>\n",
       "      <td>0.0</td>\n",
       "    </tr>\n",
       "    <tr>\n",
       "      <th>1</th>\n",
       "      <td>1.0</td>\n",
       "      <td>0.342728</td>\n",
       "      <td>-0.343074</td>\n",
       "      <td>0.332209</td>\n",
       "      <td>0.559205</td>\n",
       "      <td>0.597740</td>\n",
       "      <td>0.191515</td>\n",
       "      <td>0.357091</td>\n",
       "      <td>0.484935</td>\n",
       "      <td>0.377275</td>\n",
       "      <td>0.485521</td>\n",
       "      <td>4.204200</td>\n",
       "      <td>3.251008</td>\n",
       "      <td>0.0</td>\n",
       "      <td>4.689721</td>\n",
       "      <td>7.455208</td>\n",
       "      <td>7.940729</td>\n",
       "      <td>0.0</td>\n",
       "      <td>0.0</td>\n",
       "      <td>0.0</td>\n",
       "    </tr>\n",
       "    <tr>\n",
       "      <th>2</th>\n",
       "      <td>2.0</td>\n",
       "      <td>0.210379</td>\n",
       "      <td>-0.115803</td>\n",
       "      <td>0.217567</td>\n",
       "      <td>0.243371</td>\n",
       "      <td>0.598793</td>\n",
       "      <td>0.408302</td>\n",
       "      <td>0.269689</td>\n",
       "      <td>0.240145</td>\n",
       "      <td>0.559020</td>\n",
       "      <td>1.452781</td>\n",
       "      <td>4.575729</td>\n",
       "      <td>11.466701</td>\n",
       "      <td>0.0</td>\n",
       "      <td>6.028510</td>\n",
       "      <td>16.042429</td>\n",
       "      <td>17.495211</td>\n",
       "      <td>0.0</td>\n",
       "      <td>0.0</td>\n",
       "      <td>0.0</td>\n",
       "    </tr>\n",
       "    <tr>\n",
       "      <th>3</th>\n",
       "      <td>3.0</td>\n",
       "      <td>0.024894</td>\n",
       "      <td>0.395947</td>\n",
       "      <td>0.292038</td>\n",
       "      <td>0.090441</td>\n",
       "      <td>0.240557</td>\n",
       "      <td>0.312442</td>\n",
       "      <td>0.046320</td>\n",
       "      <td>0.396729</td>\n",
       "      <td>0.026889</td>\n",
       "      <td>19.684153</td>\n",
       "      <td>3.179315</td>\n",
       "      <td>1.719421</td>\n",
       "      <td>0.0</td>\n",
       "      <td>22.863469</td>\n",
       "      <td>4.898737</td>\n",
       "      <td>24.582890</td>\n",
       "      <td>0.0</td>\n",
       "      <td>0.0</td>\n",
       "      <td>0.0</td>\n",
       "    </tr>\n",
       "    <tr>\n",
       "      <th>4</th>\n",
       "      <td>4.0</td>\n",
       "      <td>-0.379218</td>\n",
       "      <td>0.096536</td>\n",
       "      <td>0.209718</td>\n",
       "      <td>0.486905</td>\n",
       "      <td>0.836410</td>\n",
       "      <td>0.423220</td>\n",
       "      <td>0.227684</td>\n",
       "      <td>0.391312</td>\n",
       "      <td>0.701445</td>\n",
       "      <td>0.858439</td>\n",
       "      <td>159.849724</td>\n",
       "      <td>0.681329</td>\n",
       "      <td>0.0</td>\n",
       "      <td>160.708163</td>\n",
       "      <td>160.531053</td>\n",
       "      <td>161.389493</td>\n",
       "      <td>0.0</td>\n",
       "      <td>0.0</td>\n",
       "      <td>0.0</td>\n",
       "    </tr>\n",
       "  </tbody>\n",
       "</table>\n",
       "</div>"
      ],
      "text/plain": [
       "   sim         k         h       Z12    Zcom12       Z23    Zcom23        e1  \\\n",
       "0  0.0 -0.193662 -0.285635  0.388702  0.636611  0.686698  0.664992  0.867296   \n",
       "1  1.0  0.342728 -0.343074  0.332209  0.559205  0.597740  0.191515  0.357091   \n",
       "2  2.0  0.210379 -0.115803  0.217567  0.243371  0.598793  0.408302  0.269689   \n",
       "3  3.0  0.024894  0.395947  0.292038  0.090441  0.240557  0.312442  0.046320   \n",
       "4  4.0 -0.379218  0.096536  0.209718  0.486905  0.836410  0.423220  0.227684   \n",
       "\n",
       "         e2        e3         m1          m2         m3  probstability  \\\n",
       "0  0.345097  0.712553   6.213249   13.376343  40.220045            0.0   \n",
       "1  0.484935  0.377275   0.485521    4.204200   3.251008            0.0   \n",
       "2  0.240145  0.559020   1.452781    4.575729  11.466701            0.0   \n",
       "3  0.396729  0.026889  19.684153    3.179315   1.719421            0.0   \n",
       "4  0.391312  0.701445   0.858439  159.849724   0.681329            0.0   \n",
       "\n",
       "        m1+m2       m2+m3     total m  nbodystable  probstability_fixed  \\\n",
       "0   19.589593   53.596389   59.809638          0.0                  0.0   \n",
       "1    4.689721    7.455208    7.940729          0.0                  0.0   \n",
       "2    6.028510   16.042429   17.495211          0.0                  0.0   \n",
       "3   22.863469    4.898737   24.582890          0.0                  0.0   \n",
       "4  160.708163  160.531053  161.389493          0.0                  0.0   \n",
       "\n",
       "   stable1e5  \n",
       "0        0.0  \n",
       "1        0.0  \n",
       "2        0.0  \n",
       "3        0.0  \n",
       "4        0.0  "
      ]
     },
     "execution_count": 272,
     "metadata": {},
     "output_type": "execute_result"
    }
   ],
   "source": [
    "df2.head()"
   ]
  },
  {
   "cell_type": "code",
   "execution_count": 271,
   "metadata": {},
   "outputs": [
    {
     "data": {
      "text/html": [
       "<div>\n",
       "<style scoped>\n",
       "    .dataframe tbody tr th:only-of-type {\n",
       "        vertical-align: middle;\n",
       "    }\n",
       "\n",
       "    .dataframe tbody tr th {\n",
       "        vertical-align: top;\n",
       "    }\n",
       "\n",
       "    .dataframe thead th {\n",
       "        text-align: right;\n",
       "    }\n",
       "</style>\n",
       "<table border=\"1\" class=\"dataframe\">\n",
       "  <thead>\n",
       "    <tr style=\"text-align: right;\">\n",
       "      <th></th>\n",
       "      <th>sim</th>\n",
       "      <th>k</th>\n",
       "      <th>h</th>\n",
       "      <th>Z12</th>\n",
       "      <th>Zcom12</th>\n",
       "      <th>Z23</th>\n",
       "      <th>Zcom23</th>\n",
       "      <th>e1</th>\n",
       "      <th>e2</th>\n",
       "      <th>e3</th>\n",
       "      <th>m1</th>\n",
       "      <th>m2</th>\n",
       "      <th>m3</th>\n",
       "      <th>probstability</th>\n",
       "      <th>m1+m2</th>\n",
       "      <th>m2+m3</th>\n",
       "      <th>total m</th>\n",
       "    </tr>\n",
       "  </thead>\n",
       "  <tbody>\n",
       "    <tr>\n",
       "      <th>0</th>\n",
       "      <td>139</td>\n",
       "      <td>-0.019596</td>\n",
       "      <td>-0.101267</td>\n",
       "      <td>0.163509</td>\n",
       "      <td>0.106345</td>\n",
       "      <td>0.121643</td>\n",
       "      <td>0.076182</td>\n",
       "      <td>0.185096</td>\n",
       "      <td>0.103145</td>\n",
       "      <td>0.070585</td>\n",
       "      <td>0.681545</td>\n",
       "      <td>6.831629</td>\n",
       "      <td>2.096143</td>\n",
       "      <td>1.0</td>\n",
       "      <td>7.513174</td>\n",
       "      <td>8.927772</td>\n",
       "      <td>9.609317</td>\n",
       "    </tr>\n",
       "    <tr>\n",
       "      <th>1</th>\n",
       "      <td>351</td>\n",
       "      <td>-0.029971</td>\n",
       "      <td>-0.037423</td>\n",
       "      <td>0.072575</td>\n",
       "      <td>0.052489</td>\n",
       "      <td>0.004427</td>\n",
       "      <td>0.051474</td>\n",
       "      <td>0.083567</td>\n",
       "      <td>0.047945</td>\n",
       "      <td>0.045396</td>\n",
       "      <td>5.047596</td>\n",
       "      <td>74.634902</td>\n",
       "      <td>1.424302</td>\n",
       "      <td>0.0</td>\n",
       "      <td>79.682498</td>\n",
       "      <td>76.059204</td>\n",
       "      <td>81.106800</td>\n",
       "    </tr>\n",
       "    <tr>\n",
       "      <th>2</th>\n",
       "      <td>492</td>\n",
       "      <td>0.057219</td>\n",
       "      <td>-0.162346</td>\n",
       "      <td>0.069586</td>\n",
       "      <td>0.200627</td>\n",
       "      <td>0.110163</td>\n",
       "      <td>0.154610</td>\n",
       "      <td>0.204037</td>\n",
       "      <td>0.172134</td>\n",
       "      <td>0.073237</td>\n",
       "      <td>8.118668</td>\n",
       "      <td>7.481438</td>\n",
       "      <td>2.504023</td>\n",
       "      <td>0.0</td>\n",
       "      <td>15.600107</td>\n",
       "      <td>9.985462</td>\n",
       "      <td>18.104130</td>\n",
       "    </tr>\n",
       "    <tr>\n",
       "      <th>3</th>\n",
       "      <td>772</td>\n",
       "      <td>-0.028616</td>\n",
       "      <td>-0.113764</td>\n",
       "      <td>0.110277</td>\n",
       "      <td>0.131565</td>\n",
       "      <td>0.129504</td>\n",
       "      <td>0.115525</td>\n",
       "      <td>0.066358</td>\n",
       "      <td>0.117308</td>\n",
       "      <td>0.100469</td>\n",
       "      <td>0.901171</td>\n",
       "      <td>14.222821</td>\n",
       "      <td>1.288773</td>\n",
       "      <td>0.0</td>\n",
       "      <td>15.123991</td>\n",
       "      <td>15.511594</td>\n",
       "      <td>16.412765</td>\n",
       "    </tr>\n",
       "    <tr>\n",
       "      <th>4</th>\n",
       "      <td>798</td>\n",
       "      <td>0.092379</td>\n",
       "      <td>0.010157</td>\n",
       "      <td>0.102030</td>\n",
       "      <td>0.087493</td>\n",
       "      <td>0.087813</td>\n",
       "      <td>0.087435</td>\n",
       "      <td>0.085166</td>\n",
       "      <td>0.092935</td>\n",
       "      <td>0.096194</td>\n",
       "      <td>0.515917</td>\n",
       "      <td>2.684874</td>\n",
       "      <td>3.140176</td>\n",
       "      <td>0.0</td>\n",
       "      <td>3.200791</td>\n",
       "      <td>5.825050</td>\n",
       "      <td>6.340967</td>\n",
       "    </tr>\n",
       "  </tbody>\n",
       "</table>\n",
       "</div>"
      ],
      "text/plain": [
       "   sim         k         h       Z12    Zcom12       Z23    Zcom23        e1  \\\n",
       "0  139 -0.019596 -0.101267  0.163509  0.106345  0.121643  0.076182  0.185096   \n",
       "1  351 -0.029971 -0.037423  0.072575  0.052489  0.004427  0.051474  0.083567   \n",
       "2  492  0.057219 -0.162346  0.069586  0.200627  0.110163  0.154610  0.204037   \n",
       "3  772 -0.028616 -0.113764  0.110277  0.131565  0.129504  0.115525  0.066358   \n",
       "4  798  0.092379  0.010157  0.102030  0.087493  0.087813  0.087435  0.085166   \n",
       "\n",
       "         e2        e3        m1         m2        m3  probstability  \\\n",
       "0  0.103145  0.070585  0.681545   6.831629  2.096143            1.0   \n",
       "1  0.047945  0.045396  5.047596  74.634902  1.424302            0.0   \n",
       "2  0.172134  0.073237  8.118668   7.481438  2.504023            0.0   \n",
       "3  0.117308  0.100469  0.901171  14.222821  1.288773            0.0   \n",
       "4  0.092935  0.096194  0.515917   2.684874  3.140176            0.0   \n",
       "\n",
       "       m1+m2      m2+m3    total m  \n",
       "0   7.513174   8.927772   9.609317  \n",
       "1  79.682498  76.059204  81.106800  \n",
       "2  15.600107   9.985462  18.104130  \n",
       "3  15.123991  15.511594  16.412765  \n",
       "4   3.200791   5.825050   6.340967  "
      ]
     },
     "execution_count": 271,
     "metadata": {},
     "output_type": "execute_result"
    }
   ],
   "source": [
    "df3.head()"
   ]
  },
  {
   "cell_type": "code",
   "execution_count": 290,
   "metadata": {},
   "outputs": [],
   "source": [
    "def t_inst(row):\n",
    "    filename = 'K23/K23_logm_sa_{0}.bin'.format(int(row['sim']))\n",
    "    sa = rebound.SimulationArchive(filename)\n",
    "    sim0 = sa[0]\n",
    "    P1 = sim0.particles[1].P\n",
    "    sim = sa[-1]\n",
    "    row['t_inst'] = sim.t/P1\n",
    "    return row"
   ]
  },
  {
   "cell_type": "code",
   "execution_count": 291,
   "metadata": {},
   "outputs": [
    {
     "name": "stdout",
     "output_type": "stream",
     "text": [
      "CPU times: user 2.41 s, sys: 840 ms, total: 3.25 s\n",
      "Wall time: 3.17 s\n"
     ]
    }
   ],
   "source": [
    "%%time\n",
    "df3 = df3.apply(t_inst, axis=1)"
   ]
  },
  {
   "cell_type": "code",
   "execution_count": 295,
   "metadata": {},
   "outputs": [],
   "source": [
    "df3['nbodystable'] = df3['t_inst'] > 9.99e8"
   ]
  },
  {
   "cell_type": "code",
   "execution_count": 299,
   "metadata": {},
   "outputs": [],
   "source": [
    "df2['nbodystable_old'] = df2['nbodystable']"
   ]
  },
  {
   "cell_type": "code",
   "execution_count": 300,
   "metadata": {},
   "outputs": [],
   "source": [
    "def nbodystable(row):\n",
    "    ID = int(row['sim'])\n",
    "    mask = np.int64(df3['sim']) == ID\n",
    "    if mask.sum() == 1:\n",
    "        row['stable1e5'] = 1\n",
    "        row['nbodystable'] = df3[mask].nbodystable\n",
    "    elif mask.sum() == 0:\n",
    "        row['stable1e5'] = 0\n",
    "        row['nbodystable'] = 0\n",
    "    else:\n",
    "        row['stable1e5'] = -1\n",
    "        row['nbodystable'] = -1\n",
    "    \n",
    "    return row"
   ]
  },
  {
   "cell_type": "code",
   "execution_count": 263,
   "metadata": {},
   "outputs": [],
   "source": [
    "sa = rebound.SimulationArchive(\"K23/K23_logm_start_{0}.bin\".format(139))"
   ]
  },
  {
   "cell_type": "code",
   "execution_count": 264,
   "metadata": {},
   "outputs": [],
   "source": [
    "sim = sa[0]"
   ]
  },
  {
   "cell_type": "code",
   "execution_count": 265,
   "metadata": {},
   "outputs": [
    {
     "data": {
      "text/plain": [
       "0.035355339059327376"
      ]
     },
     "execution_count": 265,
     "metadata": {},
     "output_type": "execute_result"
    }
   ],
   "source": [
    "sim.dt/sim.particles[1].P"
   ]
  },
  {
   "cell_type": "code",
   "execution_count": 266,
   "metadata": {},
   "outputs": [
    {
     "name": "stdout",
     "output_type": "stream",
     "text": [
      "19890.499133466434 162693.32022779557\n"
     ]
    }
   ],
   "source": [
    "P1 = sim.particles[1].P\n",
    "try:\n",
    "    sim.integrate(1e6*P1)\n",
    "except:\n",
    "    print(sim.t, sim.t/P1)"
   ]
  },
  {
   "cell_type": "code",
   "execution_count": 346,
   "metadata": {},
   "outputs": [
    {
     "data": {
      "text/plain": [
       "(27053, 21)"
      ]
     },
     "execution_count": 346,
     "metadata": {},
     "output_type": "execute_result"
    }
   ],
   "source": [
    "df2.shape"
   ]
  },
  {
   "cell_type": "code",
   "execution_count": 240,
   "metadata": {},
   "outputs": [
    {
     "data": {
      "image/png": "[encoded data removed]",
      "text/plain": [
       "<Figure size 360x360 with 1 Axes>"
      ]
     },
     "execution_count": 240,
     "metadata": {},
     "output_type": "execute_result"
    },
    {
     "data": {
      "image/png": "[encoded data removed]",
      "text/plain": [
       "<Figure size 360x360 with 1 Axes>"
      ]
     },
     "metadata": {
      "needs_background": "light"
     },
     "output_type": "display_data"
    }
   ],
   "source": [
    "rebound.OrbitPlot(sa[0])"
   ]
  },
  {
   "cell_type": "code",
   "execution_count": 236,
   "metadata": {},
   "outputs": [
    {
     "data": {
      "text/html": [
       "<div>\n",
       "<style scoped>\n",
       "    .dataframe tbody tr th:only-of-type {\n",
       "        vertical-align: middle;\n",
       "    }\n",
       "\n",
       "    .dataframe tbody tr th {\n",
       "        vertical-align: top;\n",
       "    }\n",
       "\n",
       "    .dataframe thead th {\n",
       "        text-align: right;\n",
       "    }\n",
       "</style>\n",
       "<table border=\"1\" class=\"dataframe\">\n",
       "  <thead>\n",
       "    <tr style=\"text-align: right;\">\n",
       "      <th></th>\n",
       "      <th>sim</th>\n",
       "      <th>k</th>\n",
       "      <th>h</th>\n",
       "      <th>Z12</th>\n",
       "      <th>Zcom12</th>\n",
       "      <th>Z23</th>\n",
       "      <th>Zcom23</th>\n",
       "      <th>e1</th>\n",
       "      <th>e2</th>\n",
       "      <th>e3</th>\n",
       "      <th>m1</th>\n",
       "      <th>m2</th>\n",
       "      <th>m3</th>\n",
       "      <th>probstability</th>\n",
       "      <th>m1+m2</th>\n",
       "      <th>m2+m3</th>\n",
       "      <th>total m</th>\n",
       "    </tr>\n",
       "  </thead>\n",
       "  <tbody>\n",
       "    <tr>\n",
       "      <th>0</th>\n",
       "      <td>139</td>\n",
       "      <td>-0.019596</td>\n",
       "      <td>-0.101267</td>\n",
       "      <td>0.163509</td>\n",
       "      <td>0.106345</td>\n",
       "      <td>0.121643</td>\n",
       "      <td>0.076182</td>\n",
       "      <td>0.185096</td>\n",
       "      <td>0.103145</td>\n",
       "      <td>0.070585</td>\n",
       "      <td>0.681545</td>\n",
       "      <td>6.831629</td>\n",
       "      <td>2.096143</td>\n",
       "      <td>1.0</td>\n",
       "      <td>7.513174</td>\n",
       "      <td>8.927772</td>\n",
       "      <td>9.609317</td>\n",
       "    </tr>\n",
       "    <tr>\n",
       "      <th>1</th>\n",
       "      <td>351</td>\n",
       "      <td>-0.029971</td>\n",
       "      <td>-0.037423</td>\n",
       "      <td>0.072575</td>\n",
       "      <td>0.052489</td>\n",
       "      <td>0.004427</td>\n",
       "      <td>0.051474</td>\n",
       "      <td>0.083567</td>\n",
       "      <td>0.047945</td>\n",
       "      <td>0.045396</td>\n",
       "      <td>5.047596</td>\n",
       "      <td>74.634902</td>\n",
       "      <td>1.424302</td>\n",
       "      <td>0.0</td>\n",
       "      <td>79.682498</td>\n",
       "      <td>76.059204</td>\n",
       "      <td>81.106800</td>\n",
       "    </tr>\n",
       "    <tr>\n",
       "      <th>2</th>\n",
       "      <td>492</td>\n",
       "      <td>0.057219</td>\n",
       "      <td>-0.162346</td>\n",
       "      <td>0.069586</td>\n",
       "      <td>0.200627</td>\n",
       "      <td>0.110163</td>\n",
       "      <td>0.154610</td>\n",
       "      <td>0.204037</td>\n",
       "      <td>0.172134</td>\n",
       "      <td>0.073237</td>\n",
       "      <td>8.118668</td>\n",
       "      <td>7.481438</td>\n",
       "      <td>2.504023</td>\n",
       "      <td>0.0</td>\n",
       "      <td>15.600107</td>\n",
       "      <td>9.985462</td>\n",
       "      <td>18.104130</td>\n",
       "    </tr>\n",
       "    <tr>\n",
       "      <th>3</th>\n",
       "      <td>772</td>\n",
       "      <td>-0.028616</td>\n",
       "      <td>-0.113764</td>\n",
       "      <td>0.110277</td>\n",
       "      <td>0.131565</td>\n",
       "      <td>0.129504</td>\n",
       "      <td>0.115525</td>\n",
       "      <td>0.066358</td>\n",
       "      <td>0.117308</td>\n",
       "      <td>0.100469</td>\n",
       "      <td>0.901171</td>\n",
       "      <td>14.222821</td>\n",
       "      <td>1.288773</td>\n",
       "      <td>0.0</td>\n",
       "      <td>15.123991</td>\n",
       "      <td>15.511594</td>\n",
       "      <td>16.412765</td>\n",
       "    </tr>\n",
       "    <tr>\n",
       "      <th>4</th>\n",
       "      <td>798</td>\n",
       "      <td>0.092379</td>\n",
       "      <td>0.010157</td>\n",
       "      <td>0.102030</td>\n",
       "      <td>0.087493</td>\n",
       "      <td>0.087813</td>\n",
       "      <td>0.087435</td>\n",
       "      <td>0.085166</td>\n",
       "      <td>0.092935</td>\n",
       "      <td>0.096194</td>\n",
       "      <td>0.515917</td>\n",
       "      <td>2.684874</td>\n",
       "      <td>3.140176</td>\n",
       "      <td>0.0</td>\n",
       "      <td>3.200791</td>\n",
       "      <td>5.825050</td>\n",
       "      <td>6.340967</td>\n",
       "    </tr>\n",
       "  </tbody>\n",
       "</table>\n",
       "</div>"
      ],
      "text/plain": [
       "   sim         k         h       Z12    Zcom12       Z23    Zcom23        e1  \\\n",
       "0  139 -0.019596 -0.101267  0.163509  0.106345  0.121643  0.076182  0.185096   \n",
       "1  351 -0.029971 -0.037423  0.072575  0.052489  0.004427  0.051474  0.083567   \n",
       "2  492  0.057219 -0.162346  0.069586  0.200627  0.110163  0.154610  0.204037   \n",
       "3  772 -0.028616 -0.113764  0.110277  0.131565  0.129504  0.115525  0.066358   \n",
       "4  798  0.092379  0.010157  0.102030  0.087493  0.087813  0.087435  0.085166   \n",
       "\n",
       "         e2        e3        m1         m2        m3  probstability  \\\n",
       "0  0.103145  0.070585  0.681545   6.831629  2.096143            1.0   \n",
       "1  0.047945  0.045396  5.047596  74.634902  1.424302            0.0   \n",
       "2  0.172134  0.073237  8.118668   7.481438  2.504023            0.0   \n",
       "3  0.117308  0.100469  0.901171  14.222821  1.288773            0.0   \n",
       "4  0.092935  0.096194  0.515917   2.684874  3.140176            0.0   \n",
       "\n",
       "       m1+m2      m2+m3    total m  \n",
       "0   7.513174   8.927772   9.609317  \n",
       "1  79.682498  76.059204  81.106800  \n",
       "2  15.600107   9.985462  18.104130  \n",
       "3  15.123991  15.511594  16.412765  \n",
       "4   3.200791   5.825050   6.340967  "
      ]
     },
     "execution_count": 236,
     "metadata": {},
     "output_type": "execute_result"
    }
   ],
   "source": [
    "df3.head()"
   ]
  },
  {
   "cell_type": "code",
   "execution_count": 231,
   "metadata": {},
   "outputs": [
    {
     "data": {
      "text/html": [
       "<div>\n",
       "<style scoped>\n",
       "    .dataframe tbody tr th:only-of-type {\n",
       "        vertical-align: middle;\n",
       "    }\n",
       "\n",
       "    .dataframe tbody tr th {\n",
       "        vertical-align: top;\n",
       "    }\n",
       "\n",
       "    .dataframe thead th {\n",
       "        text-align: right;\n",
       "    }\n",
       "</style>\n",
       "<table border=\"1\" class=\"dataframe\">\n",
       "  <thead>\n",
       "    <tr style=\"text-align: right;\">\n",
       "      <th></th>\n",
       "      <th>sim</th>\n",
       "      <th>k</th>\n",
       "      <th>h</th>\n",
       "      <th>Z12</th>\n",
       "      <th>Zcom12</th>\n",
       "      <th>Z23</th>\n",
       "      <th>Zcom23</th>\n",
       "      <th>e1</th>\n",
       "      <th>e2</th>\n",
       "      <th>e3</th>\n",
       "      <th>m1</th>\n",
       "      <th>m2</th>\n",
       "      <th>m3</th>\n",
       "      <th>probstability</th>\n",
       "      <th>m1+m2</th>\n",
       "      <th>m2+m3</th>\n",
       "      <th>total m</th>\n",
       "    </tr>\n",
       "  </thead>\n",
       "  <tbody>\n",
       "    <tr>\n",
       "      <th>0</th>\n",
       "      <td>139</td>\n",
       "      <td>-0.019596</td>\n",
       "      <td>-0.101267</td>\n",
       "      <td>0.163509</td>\n",
       "      <td>0.106345</td>\n",
       "      <td>0.121643</td>\n",
       "      <td>0.076182</td>\n",
       "      <td>0.185096</td>\n",
       "      <td>0.103145</td>\n",
       "      <td>0.070585</td>\n",
       "      <td>0.681545</td>\n",
       "      <td>6.831629</td>\n",
       "      <td>2.096143</td>\n",
       "      <td>1.0</td>\n",
       "      <td>7.513174</td>\n",
       "      <td>8.927772</td>\n",
       "      <td>9.609317</td>\n",
       "    </tr>\n",
       "    <tr>\n",
       "      <th>11</th>\n",
       "      <td>2326</td>\n",
       "      <td>0.057112</td>\n",
       "      <td>0.040105</td>\n",
       "      <td>0.072933</td>\n",
       "      <td>0.101146</td>\n",
       "      <td>0.092848</td>\n",
       "      <td>0.139443</td>\n",
       "      <td>0.117674</td>\n",
       "      <td>0.069787</td>\n",
       "      <td>0.138322</td>\n",
       "      <td>4.977540</td>\n",
       "      <td>1.789392</td>\n",
       "      <td>5.841278</td>\n",
       "      <td>1.0</td>\n",
       "      <td>6.766933</td>\n",
       "      <td>7.630671</td>\n",
       "      <td>12.608211</td>\n",
       "    </tr>\n",
       "    <tr>\n",
       "      <th>26</th>\n",
       "      <td>6904</td>\n",
       "      <td>-0.095728</td>\n",
       "      <td>0.045344</td>\n",
       "      <td>0.215717</td>\n",
       "      <td>0.122986</td>\n",
       "      <td>0.083850</td>\n",
       "      <td>0.110917</td>\n",
       "      <td>0.222933</td>\n",
       "      <td>0.105924</td>\n",
       "      <td>0.025617</td>\n",
       "      <td>0.641098</td>\n",
       "      <td>37.823298</td>\n",
       "      <td>1.034103</td>\n",
       "      <td>1.0</td>\n",
       "      <td>38.464395</td>\n",
       "      <td>38.857401</td>\n",
       "      <td>39.498499</td>\n",
       "    </tr>\n",
       "    <tr>\n",
       "      <th>28</th>\n",
       "      <td>7207</td>\n",
       "      <td>0.048637</td>\n",
       "      <td>0.099467</td>\n",
       "      <td>0.146440</td>\n",
       "      <td>0.109296</td>\n",
       "      <td>0.051961</td>\n",
       "      <td>0.119166</td>\n",
       "      <td>0.106813</td>\n",
       "      <td>0.110721</td>\n",
       "      <td>0.117940</td>\n",
       "      <td>2.982307</td>\n",
       "      <td>28.664360</td>\n",
       "      <td>1.711671</td>\n",
       "      <td>1.0</td>\n",
       "      <td>31.646667</td>\n",
       "      <td>30.376031</td>\n",
       "      <td>33.358338</td>\n",
       "    </tr>\n",
       "    <tr>\n",
       "      <th>30</th>\n",
       "      <td>7335</td>\n",
       "      <td>-0.008795</td>\n",
       "      <td>0.027758</td>\n",
       "      <td>0.067719</td>\n",
       "      <td>0.034209</td>\n",
       "      <td>0.102457</td>\n",
       "      <td>0.111994</td>\n",
       "      <td>0.073547</td>\n",
       "      <td>0.029118</td>\n",
       "      <td>0.137543</td>\n",
       "      <td>4.218412</td>\n",
       "      <td>3.326897</td>\n",
       "      <td>6.247674</td>\n",
       "      <td>1.0</td>\n",
       "      <td>7.545308</td>\n",
       "      <td>9.574571</td>\n",
       "      <td>13.792983</td>\n",
       "    </tr>\n",
       "  </tbody>\n",
       "</table>\n",
       "</div>"
      ],
      "text/plain": [
       "     sim         k         h       Z12    Zcom12       Z23    Zcom23  \\\n",
       "0    139 -0.019596 -0.101267  0.163509  0.106345  0.121643  0.076182   \n",
       "11  2326  0.057112  0.040105  0.072933  0.101146  0.092848  0.139443   \n",
       "26  6904 -0.095728  0.045344  0.215717  0.122986  0.083850  0.110917   \n",
       "28  7207  0.048637  0.099467  0.146440  0.109296  0.051961  0.119166   \n",
       "30  7335 -0.008795  0.027758  0.067719  0.034209  0.102457  0.111994   \n",
       "\n",
       "          e1        e2        e3        m1         m2        m3  \\\n",
       "0   0.185096  0.103145  0.070585  0.681545   6.831629  2.096143   \n",
       "11  0.117674  0.069787  0.138322  4.977540   1.789392  5.841278   \n",
       "26  0.222933  0.105924  0.025617  0.641098  37.823298  1.034103   \n",
       "28  0.106813  0.110721  0.117940  2.982307  28.664360  1.711671   \n",
       "30  0.073547  0.029118  0.137543  4.218412   3.326897  6.247674   \n",
       "\n",
       "    probstability      m1+m2      m2+m3    total m  \n",
       "0             1.0   7.513174   8.927772   9.609317  \n",
       "11            1.0   6.766933   7.630671  12.608211  \n",
       "26            1.0  38.464395  38.857401  39.498499  \n",
       "28            1.0  31.646667  30.376031  33.358338  \n",
       "30            1.0   7.545308   9.574571  13.792983  "
      ]
     },
     "execution_count": 231,
     "metadata": {},
     "output_type": "execute_result"
    }
   ],
   "source": [
    "df3[df3['probstability']>0].head()"
   ]
  },
  {
   "cell_type": "code",
   "execution_count": 301,
   "metadata": {},
   "outputs": [
    {
     "name": "stdout",
     "output_type": "stream",
     "text": [
      "CPU times: user 13.9 s, sys: 700 ms, total: 14.6 s\n",
      "Wall time: 9.73 s\n"
     ]
    }
   ],
   "source": [
    "%%time\n",
    "df2 = df2.apply(nbodystable, axis=1)"
   ]
  },
  {
   "cell_type": "code",
   "execution_count": 306,
   "metadata": {},
   "outputs": [
    {
     "data": {
      "text/plain": [
       "0.0    5920\n",
       "1.0    1189\n",
       "Name: probstability, dtype: int64"
      ]
     },
     "execution_count": 306,
     "metadata": {},
     "output_type": "execute_result"
    }
   ],
   "source": [
    "df3['probstability'].value_counts()"
   ]
  },
  {
   "cell_type": "code",
   "execution_count": 317,
   "metadata": {},
   "outputs": [
    {
     "data": {
      "text/plain": [
       "False    5930\n",
       "True     1179\n",
       "Name: nbodystable, dtype: int64"
      ]
     },
     "execution_count": 317,
     "metadata": {},
     "output_type": "execute_result"
    }
   ],
   "source": [
    "df3['nbodystable'].value_counts()"
   ]
  },
  {
   "cell_type": "code",
   "execution_count": 206,
   "metadata": {},
   "outputs": [
    {
     "data": {
      "text/plain": [
       "0.0    19944\n",
       "1.0     7109\n",
       "Name: nbodystable, dtype: int64"
      ]
     },
     "execution_count": 206,
     "metadata": {},
     "output_type": "execute_result"
    }
   ],
   "source": [
    "df2['nbodystable'].value_counts()"
   ]
  },
  {
   "cell_type": "code",
   "execution_count": 324,
   "metadata": {},
   "outputs": [
    {
     "data": {
      "text/html": [
       "<div>\n",
       "<style scoped>\n",
       "    .dataframe tbody tr th:only-of-type {\n",
       "        vertical-align: middle;\n",
       "    }\n",
       "\n",
       "    .dataframe tbody tr th {\n",
       "        vertical-align: top;\n",
       "    }\n",
       "\n",
       "    .dataframe thead th {\n",
       "        text-align: right;\n",
       "    }\n",
       "</style>\n",
       "<table border=\"1\" class=\"dataframe\">\n",
       "  <thead>\n",
       "    <tr style=\"text-align: right;\">\n",
       "      <th></th>\n",
       "      <th>sim</th>\n",
       "      <th>k</th>\n",
       "      <th>h</th>\n",
       "      <th>Z12</th>\n",
       "      <th>Zcom12</th>\n",
       "      <th>Z23</th>\n",
       "      <th>Zcom23</th>\n",
       "      <th>e1</th>\n",
       "      <th>e2</th>\n",
       "      <th>e3</th>\n",
       "      <th>m1</th>\n",
       "      <th>m2</th>\n",
       "      <th>m3</th>\n",
       "      <th>probstability</th>\n",
       "      <th>m1+m2</th>\n",
       "      <th>m2+m3</th>\n",
       "      <th>total m</th>\n",
       "      <th>t_inst</th>\n",
       "      <th>nbodystable</th>\n",
       "    </tr>\n",
       "  </thead>\n",
       "  <tbody>\n",
       "    <tr>\n",
       "      <th>0</th>\n",
       "      <td>139.0</td>\n",
       "      <td>-0.019596</td>\n",
       "      <td>-0.101267</td>\n",
       "      <td>0.163509</td>\n",
       "      <td>0.106345</td>\n",
       "      <td>0.121643</td>\n",
       "      <td>0.076182</td>\n",
       "      <td>0.185096</td>\n",
       "      <td>0.103145</td>\n",
       "      <td>0.070585</td>\n",
       "      <td>0.681545</td>\n",
       "      <td>6.831629</td>\n",
       "      <td>2.096143</td>\n",
       "      <td>1.0</td>\n",
       "      <td>7.513174</td>\n",
       "      <td>8.927772</td>\n",
       "      <td>9.609317</td>\n",
       "      <td>1.626933e+05</td>\n",
       "      <td>False</td>\n",
       "    </tr>\n",
       "    <tr>\n",
       "      <th>1</th>\n",
       "      <td>351.0</td>\n",
       "      <td>-0.029971</td>\n",
       "      <td>-0.037423</td>\n",
       "      <td>0.072575</td>\n",
       "      <td>0.052489</td>\n",
       "      <td>0.004427</td>\n",
       "      <td>0.051474</td>\n",
       "      <td>0.083567</td>\n",
       "      <td>0.047945</td>\n",
       "      <td>0.045396</td>\n",
       "      <td>5.047596</td>\n",
       "      <td>74.634902</td>\n",
       "      <td>1.424302</td>\n",
       "      <td>0.0</td>\n",
       "      <td>79.682498</td>\n",
       "      <td>76.059204</td>\n",
       "      <td>81.106800</td>\n",
       "      <td>1.000000e+09</td>\n",
       "      <td>True</td>\n",
       "    </tr>\n",
       "    <tr>\n",
       "      <th>2</th>\n",
       "      <td>492.0</td>\n",
       "      <td>0.057219</td>\n",
       "      <td>-0.162346</td>\n",
       "      <td>0.069586</td>\n",
       "      <td>0.200627</td>\n",
       "      <td>0.110163</td>\n",
       "      <td>0.154610</td>\n",
       "      <td>0.204037</td>\n",
       "      <td>0.172134</td>\n",
       "      <td>0.073237</td>\n",
       "      <td>8.118668</td>\n",
       "      <td>7.481438</td>\n",
       "      <td>2.504023</td>\n",
       "      <td>0.0</td>\n",
       "      <td>15.600107</td>\n",
       "      <td>9.985462</td>\n",
       "      <td>18.104130</td>\n",
       "      <td>2.283189e+05</td>\n",
       "      <td>False</td>\n",
       "    </tr>\n",
       "    <tr>\n",
       "      <th>3</th>\n",
       "      <td>772.0</td>\n",
       "      <td>-0.028616</td>\n",
       "      <td>-0.113764</td>\n",
       "      <td>0.110277</td>\n",
       "      <td>0.131565</td>\n",
       "      <td>0.129504</td>\n",
       "      <td>0.115525</td>\n",
       "      <td>0.066358</td>\n",
       "      <td>0.117308</td>\n",
       "      <td>0.100469</td>\n",
       "      <td>0.901171</td>\n",
       "      <td>14.222821</td>\n",
       "      <td>1.288773</td>\n",
       "      <td>0.0</td>\n",
       "      <td>15.123991</td>\n",
       "      <td>15.511594</td>\n",
       "      <td>16.412765</td>\n",
       "      <td>1.958412e+05</td>\n",
       "      <td>False</td>\n",
       "    </tr>\n",
       "    <tr>\n",
       "      <th>4</th>\n",
       "      <td>798.0</td>\n",
       "      <td>0.092379</td>\n",
       "      <td>0.010157</td>\n",
       "      <td>0.102030</td>\n",
       "      <td>0.087493</td>\n",
       "      <td>0.087813</td>\n",
       "      <td>0.087435</td>\n",
       "      <td>0.085166</td>\n",
       "      <td>0.092935</td>\n",
       "      <td>0.096194</td>\n",
       "      <td>0.515917</td>\n",
       "      <td>2.684874</td>\n",
       "      <td>3.140176</td>\n",
       "      <td>0.0</td>\n",
       "      <td>3.200791</td>\n",
       "      <td>5.825050</td>\n",
       "      <td>6.340967</td>\n",
       "      <td>2.919815e+05</td>\n",
       "      <td>False</td>\n",
       "    </tr>\n",
       "  </tbody>\n",
       "</table>\n",
       "</div>"
      ],
      "text/plain": [
       "     sim         k         h       Z12    Zcom12       Z23    Zcom23  \\\n",
       "0  139.0 -0.019596 -0.101267  0.163509  0.106345  0.121643  0.076182   \n",
       "1  351.0 -0.029971 -0.037423  0.072575  0.052489  0.004427  0.051474   \n",
       "2  492.0  0.057219 -0.162346  0.069586  0.200627  0.110163  0.154610   \n",
       "3  772.0 -0.028616 -0.113764  0.110277  0.131565  0.129504  0.115525   \n",
       "4  798.0  0.092379  0.010157  0.102030  0.087493  0.087813  0.087435   \n",
       "\n",
       "         e1        e2        e3        m1         m2        m3  probstability  \\\n",
       "0  0.185096  0.103145  0.070585  0.681545   6.831629  2.096143            1.0   \n",
       "1  0.083567  0.047945  0.045396  5.047596  74.634902  1.424302            0.0   \n",
       "2  0.204037  0.172134  0.073237  8.118668   7.481438  2.504023            0.0   \n",
       "3  0.066358  0.117308  0.100469  0.901171  14.222821  1.288773            0.0   \n",
       "4  0.085166  0.092935  0.096194  0.515917   2.684874  3.140176            0.0   \n",
       "\n",
       "       m1+m2      m2+m3    total m        t_inst  nbodystable  \n",
       "0   7.513174   8.927772   9.609317  1.626933e+05        False  \n",
       "1  79.682498  76.059204  81.106800  1.000000e+09         True  \n",
       "2  15.600107   9.985462  18.104130  2.283189e+05        False  \n",
       "3  15.123991  15.511594  16.412765  1.958412e+05        False  \n",
       "4   3.200791   5.825050   6.340967  2.919815e+05        False  "
      ]
     },
     "execution_count": 324,
     "metadata": {},
     "output_type": "execute_result"
    }
   ],
   "source": [
    "df3.head()"
   ]
  },
  {
   "cell_type": "code",
   "execution_count": 325,
   "metadata": {},
   "outputs": [
    {
     "data": {
      "text/html": [
       "<div>\n",
       "<style scoped>\n",
       "    .dataframe tbody tr th:only-of-type {\n",
       "        vertical-align: middle;\n",
       "    }\n",
       "\n",
       "    .dataframe tbody tr th {\n",
       "        vertical-align: top;\n",
       "    }\n",
       "\n",
       "    .dataframe thead th {\n",
       "        text-align: right;\n",
       "    }\n",
       "</style>\n",
       "<table border=\"1\" class=\"dataframe\">\n",
       "  <thead>\n",
       "    <tr style=\"text-align: right;\">\n",
       "      <th></th>\n",
       "      <th>sim</th>\n",
       "      <th>k</th>\n",
       "      <th>h</th>\n",
       "      <th>Z12</th>\n",
       "      <th>Zcom12</th>\n",
       "      <th>Z23</th>\n",
       "      <th>Zcom23</th>\n",
       "      <th>e1</th>\n",
       "      <th>e2</th>\n",
       "      <th>e3</th>\n",
       "      <th>m1</th>\n",
       "      <th>m2</th>\n",
       "      <th>m3</th>\n",
       "      <th>probstability</th>\n",
       "      <th>m1+m2</th>\n",
       "      <th>m2+m3</th>\n",
       "      <th>total m</th>\n",
       "      <th>t_inst</th>\n",
       "      <th>nbodystable</th>\n",
       "    </tr>\n",
       "  </thead>\n",
       "  <tbody>\n",
       "    <tr>\n",
       "      <th>7104</th>\n",
       "      <td>1998776.0</td>\n",
       "      <td>0.036849</td>\n",
       "      <td>0.098575</td>\n",
       "      <td>0.043146</td>\n",
       "      <td>0.112573</td>\n",
       "      <td>0.091209</td>\n",
       "      <td>0.078202</td>\n",
       "      <td>0.064217</td>\n",
       "      <td>0.105237</td>\n",
       "      <td>0.033132</td>\n",
       "      <td>1.355761</td>\n",
       "      <td>5.358682</td>\n",
       "      <td>2.304572</td>\n",
       "      <td>0.0</td>\n",
       "      <td>6.714443</td>\n",
       "      <td>7.663253</td>\n",
       "      <td>9.019014</td>\n",
       "      <td>1.204365e+06</td>\n",
       "      <td>False</td>\n",
       "    </tr>\n",
       "    <tr>\n",
       "      <th>7105</th>\n",
       "      <td>1999190.0</td>\n",
       "      <td>-0.037368</td>\n",
       "      <td>-0.069571</td>\n",
       "      <td>0.111063</td>\n",
       "      <td>0.090683</td>\n",
       "      <td>0.086250</td>\n",
       "      <td>0.085810</td>\n",
       "      <td>0.154516</td>\n",
       "      <td>0.078972</td>\n",
       "      <td>0.129648</td>\n",
       "      <td>1.179989</td>\n",
       "      <td>16.862485</td>\n",
       "      <td>1.334641</td>\n",
       "      <td>1.0</td>\n",
       "      <td>18.042474</td>\n",
       "      <td>18.197126</td>\n",
       "      <td>19.377115</td>\n",
       "      <td>4.956653e+05</td>\n",
       "      <td>False</td>\n",
       "    </tr>\n",
       "    <tr>\n",
       "      <th>7106</th>\n",
       "      <td>1999275.0</td>\n",
       "      <td>0.051894</td>\n",
       "      <td>-0.012013</td>\n",
       "      <td>0.163362</td>\n",
       "      <td>0.065555</td>\n",
       "      <td>0.062305</td>\n",
       "      <td>0.056360</td>\n",
       "      <td>0.269784</td>\n",
       "      <td>0.053266</td>\n",
       "      <td>0.048871</td>\n",
       "      <td>0.734743</td>\n",
       "      <td>89.384733</td>\n",
       "      <td>1.073128</td>\n",
       "      <td>0.0</td>\n",
       "      <td>90.119477</td>\n",
       "      <td>90.457862</td>\n",
       "      <td>91.192605</td>\n",
       "      <td>8.578413e+05</td>\n",
       "      <td>False</td>\n",
       "    </tr>\n",
       "    <tr>\n",
       "      <th>7107</th>\n",
       "      <td>1999466.0</td>\n",
       "      <td>-0.010441</td>\n",
       "      <td>0.003408</td>\n",
       "      <td>0.028842</td>\n",
       "      <td>0.012843</td>\n",
       "      <td>0.023422</td>\n",
       "      <td>0.009040</td>\n",
       "      <td>0.039781</td>\n",
       "      <td>0.010983</td>\n",
       "      <td>0.022669</td>\n",
       "      <td>0.338341</td>\n",
       "      <td>16.961854</td>\n",
       "      <td>3.006192</td>\n",
       "      <td>0.0</td>\n",
       "      <td>17.300195</td>\n",
       "      <td>19.968046</td>\n",
       "      <td>20.306386</td>\n",
       "      <td>1.000000e+09</td>\n",
       "      <td>True</td>\n",
       "    </tr>\n",
       "    <tr>\n",
       "      <th>7108</th>\n",
       "      <td>1999969.0</td>\n",
       "      <td>-0.010202</td>\n",
       "      <td>-0.017687</td>\n",
       "      <td>0.046017</td>\n",
       "      <td>0.032291</td>\n",
       "      <td>0.055703</td>\n",
       "      <td>0.033609</td>\n",
       "      <td>0.095140</td>\n",
       "      <td>0.020418</td>\n",
       "      <td>0.050637</td>\n",
       "      <td>1.370333</td>\n",
       "      <td>14.249430</td>\n",
       "      <td>32.821779</td>\n",
       "      <td>0.0</td>\n",
       "      <td>15.619763</td>\n",
       "      <td>47.071209</td>\n",
       "      <td>48.441542</td>\n",
       "      <td>5.152893e+05</td>\n",
       "      <td>False</td>\n",
       "    </tr>\n",
       "  </tbody>\n",
       "</table>\n",
       "</div>"
      ],
      "text/plain": [
       "            sim         k         h       Z12    Zcom12       Z23    Zcom23  \\\n",
       "7104  1998776.0  0.036849  0.098575  0.043146  0.112573  0.091209  0.078202   \n",
       "7105  1999190.0 -0.037368 -0.069571  0.111063  0.090683  0.086250  0.085810   \n",
       "7106  1999275.0  0.051894 -0.012013  0.163362  0.065555  0.062305  0.056360   \n",
       "7107  1999466.0 -0.010441  0.003408  0.028842  0.012843  0.023422  0.009040   \n",
       "7108  1999969.0 -0.010202 -0.017687  0.046017  0.032291  0.055703  0.033609   \n",
       "\n",
       "            e1        e2        e3        m1         m2         m3  \\\n",
       "7104  0.064217  0.105237  0.033132  1.355761   5.358682   2.304572   \n",
       "7105  0.154516  0.078972  0.129648  1.179989  16.862485   1.334641   \n",
       "7106  0.269784  0.053266  0.048871  0.734743  89.384733   1.073128   \n",
       "7107  0.039781  0.010983  0.022669  0.338341  16.961854   3.006192   \n",
       "7108  0.095140  0.020418  0.050637  1.370333  14.249430  32.821779   \n",
       "\n",
       "      probstability      m1+m2      m2+m3    total m        t_inst  \\\n",
       "7104            0.0   6.714443   7.663253   9.019014  1.204365e+06   \n",
       "7105            1.0  18.042474  18.197126  19.377115  4.956653e+05   \n",
       "7106            0.0  90.119477  90.457862  91.192605  8.578413e+05   \n",
       "7107            0.0  17.300195  19.968046  20.306386  1.000000e+09   \n",
       "7108            0.0  15.619763  47.071209  48.441542  5.152893e+05   \n",
       "\n",
       "      nbodystable  \n",
       "7104        False  \n",
       "7105        False  \n",
       "7106        False  \n",
       "7107         True  \n",
       "7108        False  "
      ]
     },
     "execution_count": 325,
     "metadata": {},
     "output_type": "execute_result"
    }
   ],
   "source": [
    "df3.tail()"
   ]
  },
  {
   "cell_type": "code",
   "execution_count": 326,
   "metadata": {},
   "outputs": [
    {
     "data": {
      "text/html": [
       "<div>\n",
       "<style scoped>\n",
       "    .dataframe tbody tr th:only-of-type {\n",
       "        vertical-align: middle;\n",
       "    }\n",
       "\n",
       "    .dataframe tbody tr th {\n",
       "        vertical-align: top;\n",
       "    }\n",
       "\n",
       "    .dataframe thead th {\n",
       "        text-align: right;\n",
       "    }\n",
       "</style>\n",
       "<table border=\"1\" class=\"dataframe\">\n",
       "  <thead>\n",
       "    <tr style=\"text-align: right;\">\n",
       "      <th></th>\n",
       "      <th>sim</th>\n",
       "      <th>k</th>\n",
       "      <th>h</th>\n",
       "      <th>Z12</th>\n",
       "      <th>Zcom12</th>\n",
       "      <th>Z23</th>\n",
       "      <th>Zcom23</th>\n",
       "      <th>e1</th>\n",
       "      <th>e2</th>\n",
       "      <th>e3</th>\n",
       "      <th>...</th>\n",
       "      <th>m2</th>\n",
       "      <th>m3</th>\n",
       "      <th>probstability</th>\n",
       "      <th>m1+m2</th>\n",
       "      <th>m2+m3</th>\n",
       "      <th>total m</th>\n",
       "      <th>nbodystable</th>\n",
       "      <th>probstability_fixed</th>\n",
       "      <th>stable1e5</th>\n",
       "      <th>nbodystable_old</th>\n",
       "    </tr>\n",
       "  </thead>\n",
       "  <tbody>\n",
       "    <tr>\n",
       "      <th>27048</th>\n",
       "      <td>1999380.0</td>\n",
       "      <td>0.117442</td>\n",
       "      <td>-0.101202</td>\n",
       "      <td>0.201449</td>\n",
       "      <td>0.139535</td>\n",
       "      <td>0.102941</td>\n",
       "      <td>0.141930</td>\n",
       "      <td>0.198727</td>\n",
       "      <td>0.155031</td>\n",
       "      <td>0.014555</td>\n",
       "      <td>...</td>\n",
       "      <td>3.638946</td>\n",
       "      <td>0.767791</td>\n",
       "      <td>0.003473</td>\n",
       "      <td>4.439301</td>\n",
       "      <td>4.406737</td>\n",
       "      <td>5.207092</td>\n",
       "      <td>0.0</td>\n",
       "      <td>0.007788</td>\n",
       "      <td>0.0</td>\n",
       "      <td>0.0</td>\n",
       "    </tr>\n",
       "    <tr>\n",
       "      <th>27049</th>\n",
       "      <td>1999466.0</td>\n",
       "      <td>-0.010441</td>\n",
       "      <td>0.003408</td>\n",
       "      <td>0.028842</td>\n",
       "      <td>0.012843</td>\n",
       "      <td>0.021864</td>\n",
       "      <td>0.009040</td>\n",
       "      <td>0.039781</td>\n",
       "      <td>0.010983</td>\n",
       "      <td>0.022669</td>\n",
       "      <td>...</td>\n",
       "      <td>16.961854</td>\n",
       "      <td>3.006192</td>\n",
       "      <td>0.992900</td>\n",
       "      <td>17.300195</td>\n",
       "      <td>19.968046</td>\n",
       "      <td>20.306386</td>\n",
       "      <td>1.0</td>\n",
       "      <td>0.796429</td>\n",
       "      <td>1.0</td>\n",
       "      <td>0.0</td>\n",
       "    </tr>\n",
       "    <tr>\n",
       "      <th>27050</th>\n",
       "      <td>1999693.0</td>\n",
       "      <td>-0.107794</td>\n",
       "      <td>0.007459</td>\n",
       "      <td>0.075410</td>\n",
       "      <td>0.120738</td>\n",
       "      <td>0.066761</td>\n",
       "      <td>0.119870</td>\n",
       "      <td>0.088874</td>\n",
       "      <td>0.108052</td>\n",
       "      <td>0.175515</td>\n",
       "      <td>...</td>\n",
       "      <td>31.682349</td>\n",
       "      <td>1.556460</td>\n",
       "      <td>0.006749</td>\n",
       "      <td>35.493884</td>\n",
       "      <td>33.238809</td>\n",
       "      <td>37.050344</td>\n",
       "      <td>0.0</td>\n",
       "      <td>0.005343</td>\n",
       "      <td>0.0</td>\n",
       "      <td>0.0</td>\n",
       "    </tr>\n",
       "    <tr>\n",
       "      <th>27051</th>\n",
       "      <td>1999943.0</td>\n",
       "      <td>-0.146544</td>\n",
       "      <td>0.185455</td>\n",
       "      <td>0.130139</td>\n",
       "      <td>0.262373</td>\n",
       "      <td>0.077109</td>\n",
       "      <td>0.193714</td>\n",
       "      <td>0.224166</td>\n",
       "      <td>0.236365</td>\n",
       "      <td>0.140135</td>\n",
       "      <td>...</td>\n",
       "      <td>2.151475</td>\n",
       "      <td>6.440106</td>\n",
       "      <td>0.000814</td>\n",
       "      <td>2.683319</td>\n",
       "      <td>8.591580</td>\n",
       "      <td>9.123424</td>\n",
       "      <td>0.0</td>\n",
       "      <td>0.006733</td>\n",
       "      <td>0.0</td>\n",
       "      <td>0.0</td>\n",
       "    </tr>\n",
       "    <tr>\n",
       "      <th>27052</th>\n",
       "      <td>1999969.0</td>\n",
       "      <td>-0.010202</td>\n",
       "      <td>-0.017687</td>\n",
       "      <td>0.046016</td>\n",
       "      <td>0.032291</td>\n",
       "      <td>0.051997</td>\n",
       "      <td>0.033609</td>\n",
       "      <td>0.095140</td>\n",
       "      <td>0.020418</td>\n",
       "      <td>0.050637</td>\n",
       "      <td>...</td>\n",
       "      <td>14.249430</td>\n",
       "      <td>32.821779</td>\n",
       "      <td>0.009400</td>\n",
       "      <td>15.619763</td>\n",
       "      <td>47.071209</td>\n",
       "      <td>48.441542</td>\n",
       "      <td>0.0</td>\n",
       "      <td>0.012635</td>\n",
       "      <td>1.0</td>\n",
       "      <td>0.0</td>\n",
       "    </tr>\n",
       "  </tbody>\n",
       "</table>\n",
       "<p>5 rows × 21 columns</p>\n",
       "</div>"
      ],
      "text/plain": [
       "             sim         k         h       Z12    Zcom12       Z23    Zcom23  \\\n",
       "27048  1999380.0  0.117442 -0.101202  0.201449  0.139535  0.102941  0.141930   \n",
       "27049  1999466.0 -0.010441  0.003408  0.028842  0.012843  0.021864  0.009040   \n",
       "27050  1999693.0 -0.107794  0.007459  0.075410  0.120738  0.066761  0.119870   \n",
       "27051  1999943.0 -0.146544  0.185455  0.130139  0.262373  0.077109  0.193714   \n",
       "27052  1999969.0 -0.010202 -0.017687  0.046016  0.032291  0.051997  0.033609   \n",
       "\n",
       "             e1        e2        e3  ...         m2         m3  probstability  \\\n",
       "27048  0.198727  0.155031  0.014555  ...   3.638946   0.767791       0.003473   \n",
       "27049  0.039781  0.010983  0.022669  ...  16.961854   3.006192       0.992900   \n",
       "27050  0.088874  0.108052  0.175515  ...  31.682349   1.556460       0.006749   \n",
       "27051  0.224166  0.236365  0.140135  ...   2.151475   6.440106       0.000814   \n",
       "27052  0.095140  0.020418  0.050637  ...  14.249430  32.821779       0.009400   \n",
       "\n",
       "           m1+m2      m2+m3    total m  nbodystable  probstability_fixed  \\\n",
       "27048   4.439301   4.406737   5.207092          0.0             0.007788   \n",
       "27049  17.300195  19.968046  20.306386          1.0             0.796429   \n",
       "27050  35.493884  33.238809  37.050344          0.0             0.005343   \n",
       "27051   2.683319   8.591580   9.123424          0.0             0.006733   \n",
       "27052  15.619763  47.071209  48.441542          0.0             0.012635   \n",
       "\n",
       "       stable1e5  nbodystable_old  \n",
       "27048        0.0              0.0  \n",
       "27049        1.0              0.0  \n",
       "27050        0.0              0.0  \n",
       "27051        0.0              0.0  \n",
       "27052        1.0              0.0  \n",
       "\n",
       "[5 rows x 21 columns]"
      ]
     },
     "execution_count": 326,
     "metadata": {},
     "output_type": "execute_result"
    }
   ],
   "source": [
    "df2.tail()"
   ]
  },
  {
   "cell_type": "code",
   "execution_count": 327,
   "metadata": {},
   "outputs": [
    {
     "data": {
      "text/plain": [
       "(27053, 21)"
      ]
     },
     "execution_count": 327,
     "metadata": {},
     "output_type": "execute_result"
    }
   ],
   "source": [
    "df2.shape"
   ]
  },
  {
   "cell_type": "code",
   "execution_count": 328,
   "metadata": {},
   "outputs": [
    {
     "data": {
      "text/html": [
       "<div>\n",
       "<style scoped>\n",
       "    .dataframe tbody tr th:only-of-type {\n",
       "        vertical-align: middle;\n",
       "    }\n",
       "\n",
       "    .dataframe tbody tr th {\n",
       "        vertical-align: top;\n",
       "    }\n",
       "\n",
       "    .dataframe thead th {\n",
       "        text-align: right;\n",
       "    }\n",
       "</style>\n",
       "<table border=\"1\" class=\"dataframe\">\n",
       "  <thead>\n",
       "    <tr style=\"text-align: right;\">\n",
       "      <th></th>\n",
       "      <th>sim</th>\n",
       "      <th>k</th>\n",
       "      <th>h</th>\n",
       "      <th>Z12</th>\n",
       "      <th>Zcom12</th>\n",
       "      <th>Z23</th>\n",
       "      <th>Zcom23</th>\n",
       "      <th>e1</th>\n",
       "      <th>e2</th>\n",
       "      <th>e3</th>\n",
       "      <th>m1</th>\n",
       "      <th>m2</th>\n",
       "      <th>m3</th>\n",
       "      <th>probstability</th>\n",
       "      <th>m1+m2</th>\n",
       "      <th>m2+m3</th>\n",
       "      <th>total m</th>\n",
       "      <th>t_inst</th>\n",
       "      <th>nbodystable</th>\n",
       "    </tr>\n",
       "  </thead>\n",
       "  <tbody>\n",
       "    <tr>\n",
       "      <th>0</th>\n",
       "      <td>139.0</td>\n",
       "      <td>-0.019596</td>\n",
       "      <td>-0.101267</td>\n",
       "      <td>0.163509</td>\n",
       "      <td>0.106345</td>\n",
       "      <td>0.121643</td>\n",
       "      <td>0.076182</td>\n",
       "      <td>0.185096</td>\n",
       "      <td>0.103145</td>\n",
       "      <td>0.070585</td>\n",
       "      <td>0.681545</td>\n",
       "      <td>6.831629</td>\n",
       "      <td>2.096143</td>\n",
       "      <td>1.0</td>\n",
       "      <td>7.513174</td>\n",
       "      <td>8.927772</td>\n",
       "      <td>9.609317</td>\n",
       "      <td>1.626933e+05</td>\n",
       "      <td>False</td>\n",
       "    </tr>\n",
       "    <tr>\n",
       "      <th>1</th>\n",
       "      <td>351.0</td>\n",
       "      <td>-0.029971</td>\n",
       "      <td>-0.037423</td>\n",
       "      <td>0.072575</td>\n",
       "      <td>0.052489</td>\n",
       "      <td>0.004427</td>\n",
       "      <td>0.051474</td>\n",
       "      <td>0.083567</td>\n",
       "      <td>0.047945</td>\n",
       "      <td>0.045396</td>\n",
       "      <td>5.047596</td>\n",
       "      <td>74.634902</td>\n",
       "      <td>1.424302</td>\n",
       "      <td>0.0</td>\n",
       "      <td>79.682498</td>\n",
       "      <td>76.059204</td>\n",
       "      <td>81.106800</td>\n",
       "      <td>1.000000e+09</td>\n",
       "      <td>True</td>\n",
       "    </tr>\n",
       "    <tr>\n",
       "      <th>2</th>\n",
       "      <td>492.0</td>\n",
       "      <td>0.057219</td>\n",
       "      <td>-0.162346</td>\n",
       "      <td>0.069586</td>\n",
       "      <td>0.200627</td>\n",
       "      <td>0.110163</td>\n",
       "      <td>0.154610</td>\n",
       "      <td>0.204037</td>\n",
       "      <td>0.172134</td>\n",
       "      <td>0.073237</td>\n",
       "      <td>8.118668</td>\n",
       "      <td>7.481438</td>\n",
       "      <td>2.504023</td>\n",
       "      <td>0.0</td>\n",
       "      <td>15.600107</td>\n",
       "      <td>9.985462</td>\n",
       "      <td>18.104130</td>\n",
       "      <td>2.283189e+05</td>\n",
       "      <td>False</td>\n",
       "    </tr>\n",
       "    <tr>\n",
       "      <th>3</th>\n",
       "      <td>772.0</td>\n",
       "      <td>-0.028616</td>\n",
       "      <td>-0.113764</td>\n",
       "      <td>0.110277</td>\n",
       "      <td>0.131565</td>\n",
       "      <td>0.129504</td>\n",
       "      <td>0.115525</td>\n",
       "      <td>0.066358</td>\n",
       "      <td>0.117308</td>\n",
       "      <td>0.100469</td>\n",
       "      <td>0.901171</td>\n",
       "      <td>14.222821</td>\n",
       "      <td>1.288773</td>\n",
       "      <td>0.0</td>\n",
       "      <td>15.123991</td>\n",
       "      <td>15.511594</td>\n",
       "      <td>16.412765</td>\n",
       "      <td>1.958412e+05</td>\n",
       "      <td>False</td>\n",
       "    </tr>\n",
       "    <tr>\n",
       "      <th>4</th>\n",
       "      <td>798.0</td>\n",
       "      <td>0.092379</td>\n",
       "      <td>0.010157</td>\n",
       "      <td>0.102030</td>\n",
       "      <td>0.087493</td>\n",
       "      <td>0.087813</td>\n",
       "      <td>0.087435</td>\n",
       "      <td>0.085166</td>\n",
       "      <td>0.092935</td>\n",
       "      <td>0.096194</td>\n",
       "      <td>0.515917</td>\n",
       "      <td>2.684874</td>\n",
       "      <td>3.140176</td>\n",
       "      <td>0.0</td>\n",
       "      <td>3.200791</td>\n",
       "      <td>5.825050</td>\n",
       "      <td>6.340967</td>\n",
       "      <td>2.919815e+05</td>\n",
       "      <td>False</td>\n",
       "    </tr>\n",
       "  </tbody>\n",
       "</table>\n",
       "</div>"
      ],
      "text/plain": [
       "     sim         k         h       Z12    Zcom12       Z23    Zcom23  \\\n",
       "0  139.0 -0.019596 -0.101267  0.163509  0.106345  0.121643  0.076182   \n",
       "1  351.0 -0.029971 -0.037423  0.072575  0.052489  0.004427  0.051474   \n",
       "2  492.0  0.057219 -0.162346  0.069586  0.200627  0.110163  0.154610   \n",
       "3  772.0 -0.028616 -0.113764  0.110277  0.131565  0.129504  0.115525   \n",
       "4  798.0  0.092379  0.010157  0.102030  0.087493  0.087813  0.087435   \n",
       "\n",
       "         e1        e2        e3        m1         m2        m3  probstability  \\\n",
       "0  0.185096  0.103145  0.070585  0.681545   6.831629  2.096143            1.0   \n",
       "1  0.083567  0.047945  0.045396  5.047596  74.634902  1.424302            0.0   \n",
       "2  0.204037  0.172134  0.073237  8.118668   7.481438  2.504023            0.0   \n",
       "3  0.066358  0.117308  0.100469  0.901171  14.222821  1.288773            0.0   \n",
       "4  0.085166  0.092935  0.096194  0.515917   2.684874  3.140176            0.0   \n",
       "\n",
       "       m1+m2      m2+m3    total m        t_inst  nbodystable  \n",
       "0   7.513174   8.927772   9.609317  1.626933e+05        False  \n",
       "1  79.682498  76.059204  81.106800  1.000000e+09         True  \n",
       "2  15.600107   9.985462  18.104130  2.283189e+05        False  \n",
       "3  15.123991  15.511594  16.412765  1.958412e+05        False  \n",
       "4   3.200791   5.825050   6.340967  2.919815e+05        False  "
      ]
     },
     "execution_count": 328,
     "metadata": {},
     "output_type": "execute_result"
    }
   ],
   "source": [
    "df3.head()"
   ]
  },
  {
   "cell_type": "code",
   "execution_count": 342,
   "metadata": {},
   "outputs": [
    {
     "data": {
      "text/plain": [
       "'K23/K23_logm_sa_798.bin'"
      ]
     },
     "execution_count": 342,
     "metadata": {},
     "output_type": "execute_result"
    }
   ],
   "source": [
    "filename = 'K23/K23_logm_sa_{0}.bin'.format(798)\n",
    "filename"
   ]
  },
  {
   "cell_type": "code",
   "execution_count": 343,
   "metadata": {},
   "outputs": [
    {
     "data": {
      "text/plain": [
       "35696.961004159086"
      ]
     },
     "execution_count": 343,
     "metadata": {},
     "output_type": "execute_result"
    }
   ],
   "source": [
    "sa = rebound.SimulationArchive('K23/K23_logm_sa_{0}.bin'.format(798))\n",
    "sa[-1].t"
   ]
  },
  {
   "cell_type": "code",
   "execution_count": 338,
   "metadata": {},
   "outputs": [
    {
     "data": {
      "text/plain": [
       "0.0"
      ]
     },
     "execution_count": 338,
     "metadata": {},
     "output_type": "execute_result"
    }
   ],
   "source": [
    "sim = rebound.Simulation('K23/K23_logm_start_{0}.bin'.format(139))\n",
    "sim.t"
   ]
  },
  {
   "cell_type": "code",
   "execution_count": 332,
   "metadata": {},
   "outputs": [
    {
     "ename": "Collision",
     "evalue": "Two particles collided (d < r1+r2)",
     "output_type": "error",
     "traceback": [
      "\u001b[0;31m---------------------------------------------------------------------------\u001b[0m",
      "\u001b[0;31mCollision\u001b[0m                                 Traceback (most recent call last)",
      "\u001b[0;32m<ipython-input-332-00b03d6a9189>\u001b[0m in \u001b[0;36m<module>\u001b[0;34m\u001b[0m\n\u001b[1;32m      1\u001b[0m \u001b[0mP1\u001b[0m \u001b[0;34m=\u001b[0m \u001b[0msim\u001b[0m\u001b[0;34m.\u001b[0m\u001b[0mparticles\u001b[0m\u001b[0;34m[\u001b[0m\u001b[0;36m1\u001b[0m\u001b[0;34m]\u001b[0m\u001b[0;34m.\u001b[0m\u001b[0mP\u001b[0m\u001b[0;34m\u001b[0m\u001b[0;34m\u001b[0m\u001b[0m\n\u001b[0;32m----> 2\u001b[0;31m \u001b[0msim\u001b[0m\u001b[0;34m.\u001b[0m\u001b[0mintegrate\u001b[0m\u001b[0;34m(\u001b[0m\u001b[0;36m2e5\u001b[0m\u001b[0;34m*\u001b[0m\u001b[0mP1\u001b[0m\u001b[0;34m)\u001b[0m\u001b[0;34m\u001b[0m\u001b[0;34m\u001b[0m\u001b[0m\n\u001b[0m",
      "\u001b[0;32m/mnt/ssd/Dropbox/Dropbox (Princeton)/workspace/rebound/rebound/simulation.py\u001b[0m in \u001b[0;36mintegrate\u001b[0;34m(self, tmax, exact_finish_time)\u001b[0m\n\u001b[1;32m   1551\u001b[0m                 \u001b[0;32mraise\u001b[0m \u001b[0mKeyboardInterrupt\u001b[0m\u001b[0;34m\u001b[0m\u001b[0;34m\u001b[0m\u001b[0m\n\u001b[1;32m   1552\u001b[0m             \u001b[0;32mif\u001b[0m \u001b[0mret_value\u001b[0m \u001b[0;34m==\u001b[0m \u001b[0;36m7\u001b[0m\u001b[0;34m:\u001b[0m\u001b[0;34m\u001b[0m\u001b[0;34m\u001b[0m\u001b[0m\n\u001b[0;32m-> 1553\u001b[0;31m                 \u001b[0;32mraise\u001b[0m \u001b[0mCollision\u001b[0m\u001b[0;34m(\u001b[0m\u001b[0;34m\"Two particles collided (d < r1+r2)\"\u001b[0m\u001b[0;34m)\u001b[0m\u001b[0;34m\u001b[0m\u001b[0;34m\u001b[0m\u001b[0m\n\u001b[0m\u001b[1;32m   1554\u001b[0m         \u001b[0;32melse\u001b[0m\u001b[0;34m:\u001b[0m\u001b[0;34m\u001b[0m\u001b[0;34m\u001b[0m\u001b[0m\n\u001b[1;32m   1555\u001b[0m             \u001b[0mdebug\u001b[0m\u001b[0;34m.\u001b[0m\u001b[0mintegrate_other_package\u001b[0m\u001b[0;34m(\u001b[0m\u001b[0mtmax\u001b[0m\u001b[0;34m,\u001b[0m\u001b[0mexact_finish_time\u001b[0m\u001b[0;34m)\u001b[0m\u001b[0;34m\u001b[0m\u001b[0;34m\u001b[0m\u001b[0m\n",
      "\u001b[0;31mCollision\u001b[0m: Two particles collided (d < r1+r2)"
     ]
    }
   ],
   "source": [
    "P1 = sim.particles[1].P\n",
    "sim.integrate(2e5*P1)"
   ]
  },
  {
   "cell_type": "code",
   "execution_count": 351,
   "metadata": {},
   "outputs": [
    {
     "data": {
      "text/plain": [
       "array([    139,     351,     492, ..., 1999275, 1999466, 1999969])"
      ]
     },
     "execution_count": 351,
     "metadata": {},
     "output_type": "execute_result"
    }
   ],
   "source": [
    "np.int64(df3['sim'])"
   ]
  },
  {
   "cell_type": "code",
   "execution_count": 362,
   "metadata": {},
   "outputs": [
    {
     "data": {
      "text/html": [
       "<div>\n",
       "<style scoped>\n",
       "    .dataframe tbody tr th:only-of-type {\n",
       "        vertical-align: middle;\n",
       "    }\n",
       "\n",
       "    .dataframe tbody tr th {\n",
       "        vertical-align: top;\n",
       "    }\n",
       "\n",
       "    .dataframe thead th {\n",
       "        text-align: right;\n",
       "    }\n",
       "</style>\n",
       "<table border=\"1\" class=\"dataframe\">\n",
       "  <thead>\n",
       "    <tr style=\"text-align: right;\">\n",
       "      <th></th>\n",
       "      <th>sim</th>\n",
       "      <th>k</th>\n",
       "      <th>h</th>\n",
       "      <th>Z12</th>\n",
       "      <th>Zcom12</th>\n",
       "      <th>Z23</th>\n",
       "      <th>Zcom23</th>\n",
       "      <th>e1</th>\n",
       "      <th>e2</th>\n",
       "      <th>e3</th>\n",
       "      <th>...</th>\n",
       "      <th>m2</th>\n",
       "      <th>m3</th>\n",
       "      <th>probstability</th>\n",
       "      <th>m1+m2</th>\n",
       "      <th>m2+m3</th>\n",
       "      <th>total m</th>\n",
       "      <th>nbodystable</th>\n",
       "      <th>probstability_fixed</th>\n",
       "      <th>stable1e5</th>\n",
       "      <th>nbodystable_old</th>\n",
       "    </tr>\n",
       "  </thead>\n",
       "  <tbody>\n",
       "    <tr>\n",
       "      <th>16039</th>\n",
       "      <td>711738.0</td>\n",
       "      <td>-0.14014</td>\n",
       "      <td>0.05463</td>\n",
       "      <td>0.272258</td>\n",
       "      <td>0.078198</td>\n",
       "      <td>0.070188</td>\n",
       "      <td>0.162571</td>\n",
       "      <td>0.243993</td>\n",
       "      <td>0.150412</td>\n",
       "      <td>0.161858</td>\n",
       "      <td>...</td>\n",
       "      <td>12.578785</td>\n",
       "      <td>1.523106</td>\n",
       "      <td>0.00133</td>\n",
       "      <td>15.744895</td>\n",
       "      <td>14.101891</td>\n",
       "      <td>17.268001</td>\n",
       "      <td>0.0</td>\n",
       "      <td>0.004889</td>\n",
       "      <td>0.0</td>\n",
       "      <td>0.0</td>\n",
       "    </tr>\n",
       "  </tbody>\n",
       "</table>\n",
       "<p>1 rows × 21 columns</p>\n",
       "</div>"
      ],
      "text/plain": [
       "            sim        k        h       Z12    Zcom12       Z23    Zcom23  \\\n",
       "16039  711738.0 -0.14014  0.05463  0.272258  0.078198  0.070188  0.162571   \n",
       "\n",
       "             e1        e2        e3  ...         m2        m3  probstability  \\\n",
       "16039  0.243993  0.150412  0.161858  ...  12.578785  1.523106        0.00133   \n",
       "\n",
       "           m1+m2      m2+m3    total m  nbodystable  probstability_fixed  \\\n",
       "16039  15.744895  14.101891  17.268001          0.0             0.004889   \n",
       "\n",
       "       stable1e5  nbodystable_old  \n",
       "16039        0.0              0.0  \n",
       "\n",
       "[1 rows x 21 columns]"
      ]
     },
     "execution_count": 362,
     "metadata": {},
     "output_type": "execute_result"
    }
   ],
   "source": [
    "ID = 711738#368392#1686175#1156917\n",
    "df2[np.int64(df2['sim']) == ID]"
   ]
  },
  {
   "cell_type": "code",
   "execution_count": 364,
   "metadata": {},
   "outputs": [
    {
     "data": {
      "text/plain": [
       "220000000.02368122"
      ]
     },
     "execution_count": 364,
     "metadata": {},
     "output_type": "execute_result"
    }
   ],
   "source": [
    "sa = rebound.SimulationArchive('K23uniform/K23_logm_sa_{0}.bin'.format(ID))\n",
    "sim = sa[0]\n",
    "P1 = sim.particles[1].P\n",
    "sa[-1].t/P1"
   ]
  },
  {
   "cell_type": "code",
   "execution_count": null,
   "metadata": {},
   "outputs": [],
   "source": []
  },
  {
   "cell_type": "code",
   "execution_count": 344,
   "metadata": {},
   "outputs": [
    {
     "data": {
      "text/plain": [
       "(7109, 19)"
      ]
     },
     "execution_count": 344,
     "metadata": {},
     "output_type": "execute_result"
    }
   ],
   "source": [
    "df3.shape"
   ]
  },
  {
   "cell_type": "code",
   "execution_count": 320,
   "metadata": {},
   "outputs": [
    {
     "data": {
      "text/html": [
       "<div>\n",
       "<style scoped>\n",
       "    .dataframe tbody tr th:only-of-type {\n",
       "        vertical-align: middle;\n",
       "    }\n",
       "\n",
       "    .dataframe tbody tr th {\n",
       "        vertical-align: top;\n",
       "    }\n",
       "\n",
       "    .dataframe thead th {\n",
       "        text-align: right;\n",
       "    }\n",
       "</style>\n",
       "<table border=\"1\" class=\"dataframe\">\n",
       "  <thead>\n",
       "    <tr style=\"text-align: right;\">\n",
       "      <th></th>\n",
       "      <th>sim</th>\n",
       "      <th>k</th>\n",
       "      <th>h</th>\n",
       "      <th>Z12</th>\n",
       "      <th>Zcom12</th>\n",
       "      <th>Z23</th>\n",
       "      <th>Zcom23</th>\n",
       "      <th>e1</th>\n",
       "      <th>e2</th>\n",
       "      <th>e3</th>\n",
       "      <th>m1</th>\n",
       "      <th>m2</th>\n",
       "      <th>m3</th>\n",
       "      <th>probstability</th>\n",
       "      <th>m1+m2</th>\n",
       "      <th>m2+m3</th>\n",
       "      <th>total m</th>\n",
       "      <th>t_inst</th>\n",
       "      <th>nbodystable</th>\n",
       "    </tr>\n",
       "  </thead>\n",
       "  <tbody>\n",
       "    <tr>\n",
       "      <th>0</th>\n",
       "      <td>139.0</td>\n",
       "      <td>-0.019596</td>\n",
       "      <td>-0.101267</td>\n",
       "      <td>0.163509</td>\n",
       "      <td>0.106345</td>\n",
       "      <td>0.121643</td>\n",
       "      <td>0.076182</td>\n",
       "      <td>0.185096</td>\n",
       "      <td>0.103145</td>\n",
       "      <td>0.070585</td>\n",
       "      <td>0.681545</td>\n",
       "      <td>6.831629</td>\n",
       "      <td>2.096143</td>\n",
       "      <td>1.0</td>\n",
       "      <td>7.513174</td>\n",
       "      <td>8.927772</td>\n",
       "      <td>9.609317</td>\n",
       "      <td>1.626933e+05</td>\n",
       "      <td>False</td>\n",
       "    </tr>\n",
       "    <tr>\n",
       "      <th>1</th>\n",
       "      <td>351.0</td>\n",
       "      <td>-0.029971</td>\n",
       "      <td>-0.037423</td>\n",
       "      <td>0.072575</td>\n",
       "      <td>0.052489</td>\n",
       "      <td>0.004427</td>\n",
       "      <td>0.051474</td>\n",
       "      <td>0.083567</td>\n",
       "      <td>0.047945</td>\n",
       "      <td>0.045396</td>\n",
       "      <td>5.047596</td>\n",
       "      <td>74.634902</td>\n",
       "      <td>1.424302</td>\n",
       "      <td>0.0</td>\n",
       "      <td>79.682498</td>\n",
       "      <td>76.059204</td>\n",
       "      <td>81.106800</td>\n",
       "      <td>1.000000e+09</td>\n",
       "      <td>True</td>\n",
       "    </tr>\n",
       "    <tr>\n",
       "      <th>5</th>\n",
       "      <td>859.0</td>\n",
       "      <td>-0.021499</td>\n",
       "      <td>0.003709</td>\n",
       "      <td>0.080668</td>\n",
       "      <td>0.032526</td>\n",
       "      <td>0.021212</td>\n",
       "      <td>0.012272</td>\n",
       "      <td>0.130484</td>\n",
       "      <td>0.021816</td>\n",
       "      <td>0.008288</td>\n",
       "      <td>0.873329</td>\n",
       "      <td>6.878206</td>\n",
       "      <td>4.541916</td>\n",
       "      <td>0.0</td>\n",
       "      <td>7.751535</td>\n",
       "      <td>11.420123</td>\n",
       "      <td>12.293451</td>\n",
       "      <td>1.000000e+09</td>\n",
       "      <td>True</td>\n",
       "    </tr>\n",
       "    <tr>\n",
       "      <th>11</th>\n",
       "      <td>2326.0</td>\n",
       "      <td>0.057112</td>\n",
       "      <td>0.040105</td>\n",
       "      <td>0.072933</td>\n",
       "      <td>0.101146</td>\n",
       "      <td>0.092848</td>\n",
       "      <td>0.139443</td>\n",
       "      <td>0.117674</td>\n",
       "      <td>0.069787</td>\n",
       "      <td>0.138322</td>\n",
       "      <td>4.977540</td>\n",
       "      <td>1.789392</td>\n",
       "      <td>5.841278</td>\n",
       "      <td>1.0</td>\n",
       "      <td>6.766933</td>\n",
       "      <td>7.630671</td>\n",
       "      <td>12.608211</td>\n",
       "      <td>4.525672e+05</td>\n",
       "      <td>False</td>\n",
       "    </tr>\n",
       "    <tr>\n",
       "      <th>16</th>\n",
       "      <td>4588.0</td>\n",
       "      <td>-0.086853</td>\n",
       "      <td>0.070932</td>\n",
       "      <td>0.117591</td>\n",
       "      <td>0.135383</td>\n",
       "      <td>0.902563</td>\n",
       "      <td>0.101488</td>\n",
       "      <td>0.147208</td>\n",
       "      <td>0.112137</td>\n",
       "      <td>0.889851</td>\n",
       "      <td>2.527953</td>\n",
       "      <td>171.671954</td>\n",
       "      <td>6.995283</td>\n",
       "      <td>0.0</td>\n",
       "      <td>174.199907</td>\n",
       "      <td>178.667237</td>\n",
       "      <td>181.195190</td>\n",
       "      <td>1.000000e+09</td>\n",
       "      <td>True</td>\n",
       "    </tr>\n",
       "    <tr>\n",
       "      <th>25</th>\n",
       "      <td>6800.0</td>\n",
       "      <td>-0.028175</td>\n",
       "      <td>-0.077313</td>\n",
       "      <td>0.063925</td>\n",
       "      <td>0.098672</td>\n",
       "      <td>0.020631</td>\n",
       "      <td>0.087560</td>\n",
       "      <td>0.031304</td>\n",
       "      <td>0.082287</td>\n",
       "      <td>0.050802</td>\n",
       "      <td>0.400726</td>\n",
       "      <td>22.629345</td>\n",
       "      <td>0.711338</td>\n",
       "      <td>0.0</td>\n",
       "      <td>23.030071</td>\n",
       "      <td>23.340682</td>\n",
       "      <td>23.741408</td>\n",
       "      <td>1.000000e+09</td>\n",
       "      <td>True</td>\n",
       "    </tr>\n",
       "    <tr>\n",
       "      <th>26</th>\n",
       "      <td>6904.0</td>\n",
       "      <td>-0.095728</td>\n",
       "      <td>0.045344</td>\n",
       "      <td>0.215717</td>\n",
       "      <td>0.122986</td>\n",
       "      <td>0.083850</td>\n",
       "      <td>0.110917</td>\n",
       "      <td>0.222933</td>\n",
       "      <td>0.105924</td>\n",
       "      <td>0.025617</td>\n",
       "      <td>0.641098</td>\n",
       "      <td>37.823298</td>\n",
       "      <td>1.034103</td>\n",
       "      <td>1.0</td>\n",
       "      <td>38.464395</td>\n",
       "      <td>38.857401</td>\n",
       "      <td>39.498499</td>\n",
       "      <td>1.159308e+05</td>\n",
       "      <td>False</td>\n",
       "    </tr>\n",
       "    <tr>\n",
       "      <th>28</th>\n",
       "      <td>7207.0</td>\n",
       "      <td>0.048637</td>\n",
       "      <td>0.099467</td>\n",
       "      <td>0.146440</td>\n",
       "      <td>0.109296</td>\n",
       "      <td>0.051961</td>\n",
       "      <td>0.119166</td>\n",
       "      <td>0.106813</td>\n",
       "      <td>0.110721</td>\n",
       "      <td>0.117940</td>\n",
       "      <td>2.982307</td>\n",
       "      <td>28.664360</td>\n",
       "      <td>1.711671</td>\n",
       "      <td>1.0</td>\n",
       "      <td>31.646667</td>\n",
       "      <td>30.376031</td>\n",
       "      <td>33.358338</td>\n",
       "      <td>5.157045e+05</td>\n",
       "      <td>False</td>\n",
       "    </tr>\n",
       "    <tr>\n",
       "      <th>30</th>\n",
       "      <td>7335.0</td>\n",
       "      <td>-0.008795</td>\n",
       "      <td>0.027758</td>\n",
       "      <td>0.067719</td>\n",
       "      <td>0.034209</td>\n",
       "      <td>0.102457</td>\n",
       "      <td>0.111994</td>\n",
       "      <td>0.073547</td>\n",
       "      <td>0.029118</td>\n",
       "      <td>0.137543</td>\n",
       "      <td>4.218412</td>\n",
       "      <td>3.326897</td>\n",
       "      <td>6.247674</td>\n",
       "      <td>1.0</td>\n",
       "      <td>7.545308</td>\n",
       "      <td>9.574571</td>\n",
       "      <td>13.792983</td>\n",
       "      <td>1.912562e+05</td>\n",
       "      <td>False</td>\n",
       "    </tr>\n",
       "    <tr>\n",
       "      <th>33</th>\n",
       "      <td>8602.0</td>\n",
       "      <td>0.070301</td>\n",
       "      <td>0.026773</td>\n",
       "      <td>0.028394</td>\n",
       "      <td>0.055162</td>\n",
       "      <td>0.005849</td>\n",
       "      <td>0.086025</td>\n",
       "      <td>0.048076</td>\n",
       "      <td>0.075226</td>\n",
       "      <td>0.068783</td>\n",
       "      <td>7.758062</td>\n",
       "      <td>1.961815</td>\n",
       "      <td>42.375116</td>\n",
       "      <td>0.0</td>\n",
       "      <td>9.719877</td>\n",
       "      <td>44.336931</td>\n",
       "      <td>52.094993</td>\n",
       "      <td>1.000000e+09</td>\n",
       "      <td>True</td>\n",
       "    </tr>\n",
       "    <tr>\n",
       "      <th>37</th>\n",
       "      <td>9622.0</td>\n",
       "      <td>-0.007349</td>\n",
       "      <td>0.007209</td>\n",
       "      <td>0.068545</td>\n",
       "      <td>0.014363</td>\n",
       "      <td>0.053145</td>\n",
       "      <td>0.011485</td>\n",
       "      <td>0.118977</td>\n",
       "      <td>0.010295</td>\n",
       "      <td>0.062109</td>\n",
       "      <td>0.618471</td>\n",
       "      <td>41.951109</td>\n",
       "      <td>6.394323</td>\n",
       "      <td>1.0</td>\n",
       "      <td>42.569580</td>\n",
       "      <td>48.345432</td>\n",
       "      <td>48.963903</td>\n",
       "      <td>1.322923e+07</td>\n",
       "      <td>False</td>\n",
       "    </tr>\n",
       "    <tr>\n",
       "      <th>38</th>\n",
       "      <td>10378.0</td>\n",
       "      <td>0.028272</td>\n",
       "      <td>0.000462</td>\n",
       "      <td>0.030593</td>\n",
       "      <td>0.033676</td>\n",
       "      <td>0.034905</td>\n",
       "      <td>0.027354</td>\n",
       "      <td>0.015205</td>\n",
       "      <td>0.028276</td>\n",
       "      <td>0.022535</td>\n",
       "      <td>0.750978</td>\n",
       "      <td>48.127604</td>\n",
       "      <td>3.842745</td>\n",
       "      <td>0.0</td>\n",
       "      <td>48.878582</td>\n",
       "      <td>51.970349</td>\n",
       "      <td>52.721327</td>\n",
       "      <td>1.000000e+09</td>\n",
       "      <td>True</td>\n",
       "    </tr>\n",
       "    <tr>\n",
       "      <th>43</th>\n",
       "      <td>12508.0</td>\n",
       "      <td>-0.046467</td>\n",
       "      <td>0.027285</td>\n",
       "      <td>0.247476</td>\n",
       "      <td>0.083964</td>\n",
       "      <td>0.020024</td>\n",
       "      <td>0.053049</td>\n",
       "      <td>0.374945</td>\n",
       "      <td>0.053885</td>\n",
       "      <td>0.031915</td>\n",
       "      <td>0.995787</td>\n",
       "      <td>6.089673</td>\n",
       "      <td>1.978642</td>\n",
       "      <td>1.0</td>\n",
       "      <td>7.085460</td>\n",
       "      <td>8.068315</td>\n",
       "      <td>9.064102</td>\n",
       "      <td>2.074605e+05</td>\n",
       "      <td>False</td>\n",
       "    </tr>\n",
       "    <tr>\n",
       "      <th>45</th>\n",
       "      <td>14401.0</td>\n",
       "      <td>0.012170</td>\n",
       "      <td>-0.022238</td>\n",
       "      <td>0.075634</td>\n",
       "      <td>0.024438</td>\n",
       "      <td>0.038364</td>\n",
       "      <td>0.031234</td>\n",
       "      <td>0.094693</td>\n",
       "      <td>0.025350</td>\n",
       "      <td>0.063415</td>\n",
       "      <td>0.322797</td>\n",
       "      <td>5.685509</td>\n",
       "      <td>0.729077</td>\n",
       "      <td>0.0</td>\n",
       "      <td>6.008307</td>\n",
       "      <td>6.414586</td>\n",
       "      <td>6.737383</td>\n",
       "      <td>1.000000e+09</td>\n",
       "      <td>True</td>\n",
       "    </tr>\n",
       "    <tr>\n",
       "      <th>47</th>\n",
       "      <td>14628.0</td>\n",
       "      <td>0.003617</td>\n",
       "      <td>0.010130</td>\n",
       "      <td>0.292708</td>\n",
       "      <td>0.011671</td>\n",
       "      <td>0.103053</td>\n",
       "      <td>0.011754</td>\n",
       "      <td>0.442309</td>\n",
       "      <td>0.010756</td>\n",
       "      <td>0.124373</td>\n",
       "      <td>1.704128</td>\n",
       "      <td>62.917818</td>\n",
       "      <td>1.822111</td>\n",
       "      <td>0.0</td>\n",
       "      <td>64.621945</td>\n",
       "      <td>64.739929</td>\n",
       "      <td>66.444057</td>\n",
       "      <td>1.000000e+09</td>\n",
       "      <td>True</td>\n",
       "    </tr>\n",
       "    <tr>\n",
       "      <th>50</th>\n",
       "      <td>15360.0</td>\n",
       "      <td>0.106573</td>\n",
       "      <td>-0.178025</td>\n",
       "      <td>0.212334</td>\n",
       "      <td>0.031666</td>\n",
       "      <td>0.046955</td>\n",
       "      <td>0.174471</td>\n",
       "      <td>0.085324</td>\n",
       "      <td>0.207487</td>\n",
       "      <td>0.128768</td>\n",
       "      <td>4.786708</td>\n",
       "      <td>2.608958</td>\n",
       "      <td>11.510471</td>\n",
       "      <td>1.0</td>\n",
       "      <td>7.395665</td>\n",
       "      <td>14.119428</td>\n",
       "      <td>18.906136</td>\n",
       "      <td>5.245181e+05</td>\n",
       "      <td>False</td>\n",
       "    </tr>\n",
       "    <tr>\n",
       "      <th>57</th>\n",
       "      <td>16716.0</td>\n",
       "      <td>-0.020973</td>\n",
       "      <td>-0.018381</td>\n",
       "      <td>0.046088</td>\n",
       "      <td>0.048103</td>\n",
       "      <td>0.082345</td>\n",
       "      <td>0.013971</td>\n",
       "      <td>0.102511</td>\n",
       "      <td>0.027888</td>\n",
       "      <td>0.076592</td>\n",
       "      <td>0.687256</td>\n",
       "      <td>3.190120</td>\n",
       "      <td>2.127417</td>\n",
       "      <td>0.0</td>\n",
       "      <td>3.877375</td>\n",
       "      <td>5.317537</td>\n",
       "      <td>6.004793</td>\n",
       "      <td>1.000000e+09</td>\n",
       "      <td>True</td>\n",
       "    </tr>\n",
       "    <tr>\n",
       "      <th>60</th>\n",
       "      <td>17218.0</td>\n",
       "      <td>-0.019721</td>\n",
       "      <td>-0.197547</td>\n",
       "      <td>0.092479</td>\n",
       "      <td>0.151886</td>\n",
       "      <td>0.085344</td>\n",
       "      <td>0.196194</td>\n",
       "      <td>0.126156</td>\n",
       "      <td>0.198529</td>\n",
       "      <td>0.072658</td>\n",
       "      <td>11.626897</td>\n",
       "      <td>5.194314</td>\n",
       "      <td>1.018508</td>\n",
       "      <td>1.0</td>\n",
       "      <td>16.821211</td>\n",
       "      <td>6.212823</td>\n",
       "      <td>17.839720</td>\n",
       "      <td>1.298385e+05</td>\n",
       "      <td>False</td>\n",
       "    </tr>\n",
       "    <tr>\n",
       "      <th>69</th>\n",
       "      <td>20855.0</td>\n",
       "      <td>-0.016300</td>\n",
       "      <td>-0.043359</td>\n",
       "      <td>0.029456</td>\n",
       "      <td>0.090716</td>\n",
       "      <td>0.059397</td>\n",
       "      <td>0.088626</td>\n",
       "      <td>0.093437</td>\n",
       "      <td>0.046321</td>\n",
       "      <td>0.110307</td>\n",
       "      <td>31.695817</td>\n",
       "      <td>3.077018</td>\n",
       "      <td>2.991312</td>\n",
       "      <td>1.0</td>\n",
       "      <td>34.772834</td>\n",
       "      <td>6.068330</td>\n",
       "      <td>37.764146</td>\n",
       "      <td>7.266186e+05</td>\n",
       "      <td>False</td>\n",
       "    </tr>\n",
       "    <tr>\n",
       "      <th>72</th>\n",
       "      <td>21405.0</td>\n",
       "      <td>0.072501</td>\n",
       "      <td>-0.026313</td>\n",
       "      <td>0.183106</td>\n",
       "      <td>0.106436</td>\n",
       "      <td>0.016437</td>\n",
       "      <td>0.082580</td>\n",
       "      <td>0.376142</td>\n",
       "      <td>0.077128</td>\n",
       "      <td>0.061958</td>\n",
       "      <td>3.911116</td>\n",
       "      <td>117.681975</td>\n",
       "      <td>2.011268</td>\n",
       "      <td>0.0</td>\n",
       "      <td>121.593091</td>\n",
       "      <td>119.693243</td>\n",
       "      <td>123.604359</td>\n",
       "      <td>1.000000e+09</td>\n",
       "      <td>True</td>\n",
       "    </tr>\n",
       "    <tr>\n",
       "      <th>74</th>\n",
       "      <td>21859.0</td>\n",
       "      <td>-0.027886</td>\n",
       "      <td>-0.008103</td>\n",
       "      <td>0.028223</td>\n",
       "      <td>0.025985</td>\n",
       "      <td>0.037913</td>\n",
       "      <td>0.035956</td>\n",
       "      <td>0.014868</td>\n",
       "      <td>0.029039</td>\n",
       "      <td>0.032858</td>\n",
       "      <td>0.434212</td>\n",
       "      <td>1.916708</td>\n",
       "      <td>19.815716</td>\n",
       "      <td>0.0</td>\n",
       "      <td>2.350920</td>\n",
       "      <td>21.732424</td>\n",
       "      <td>22.166636</td>\n",
       "      <td>1.000000e+09</td>\n",
       "      <td>True</td>\n",
       "    </tr>\n",
       "    <tr>\n",
       "      <th>76</th>\n",
       "      <td>22329.0</td>\n",
       "      <td>-0.033370</td>\n",
       "      <td>-0.097057</td>\n",
       "      <td>0.054726</td>\n",
       "      <td>0.115643</td>\n",
       "      <td>0.057404</td>\n",
       "      <td>0.088165</td>\n",
       "      <td>0.053548</td>\n",
       "      <td>0.102633</td>\n",
       "      <td>0.016621</td>\n",
       "      <td>0.323421</td>\n",
       "      <td>2.925968</td>\n",
       "      <td>1.180786</td>\n",
       "      <td>0.0</td>\n",
       "      <td>3.249390</td>\n",
       "      <td>4.106754</td>\n",
       "      <td>4.430176</td>\n",
       "      <td>1.000000e+09</td>\n",
       "      <td>True</td>\n",
       "    </tr>\n",
       "    <tr>\n",
       "      <th>90</th>\n",
       "      <td>25509.0</td>\n",
       "      <td>-0.023094</td>\n",
       "      <td>-0.006320</td>\n",
       "      <td>0.067171</td>\n",
       "      <td>0.029064</td>\n",
       "      <td>0.017017</td>\n",
       "      <td>0.024824</td>\n",
       "      <td>0.095748</td>\n",
       "      <td>0.023943</td>\n",
       "      <td>0.000721</td>\n",
       "      <td>0.358908</td>\n",
       "      <td>90.223042</td>\n",
       "      <td>3.639267</td>\n",
       "      <td>0.0</td>\n",
       "      <td>90.581951</td>\n",
       "      <td>93.862309</td>\n",
       "      <td>94.221217</td>\n",
       "      <td>1.000000e+09</td>\n",
       "      <td>True</td>\n",
       "    </tr>\n",
       "    <tr>\n",
       "      <th>92</th>\n",
       "      <td>26739.0</td>\n",
       "      <td>0.004793</td>\n",
       "      <td>0.047430</td>\n",
       "      <td>0.041725</td>\n",
       "      <td>0.057985</td>\n",
       "      <td>0.026043</td>\n",
       "      <td>0.051659</td>\n",
       "      <td>0.008956</td>\n",
       "      <td>0.047672</td>\n",
       "      <td>0.070841</td>\n",
       "      <td>0.325791</td>\n",
       "      <td>68.752922</td>\n",
       "      <td>1.326395</td>\n",
       "      <td>0.0</td>\n",
       "      <td>69.078713</td>\n",
       "      <td>70.079317</td>\n",
       "      <td>70.405108</td>\n",
       "      <td>1.000000e+09</td>\n",
       "      <td>True</td>\n",
       "    </tr>\n",
       "    <tr>\n",
       "      <th>103</th>\n",
       "      <td>28662.0</td>\n",
       "      <td>-0.041806</td>\n",
       "      <td>-0.003588</td>\n",
       "      <td>0.058011</td>\n",
       "      <td>0.040952</td>\n",
       "      <td>0.029681</td>\n",
       "      <td>0.039992</td>\n",
       "      <td>0.064155</td>\n",
       "      <td>0.041959</td>\n",
       "      <td>0.022360</td>\n",
       "      <td>1.171385</td>\n",
       "      <td>7.122133</td>\n",
       "      <td>1.423221</td>\n",
       "      <td>0.0</td>\n",
       "      <td>8.293519</td>\n",
       "      <td>8.545355</td>\n",
       "      <td>9.716740</td>\n",
       "      <td>1.000000e+09</td>\n",
       "      <td>True</td>\n",
       "    </tr>\n",
       "    <tr>\n",
       "      <th>105</th>\n",
       "      <td>28994.0</td>\n",
       "      <td>-0.007594</td>\n",
       "      <td>-0.009141</td>\n",
       "      <td>0.022540</td>\n",
       "      <td>0.014999</td>\n",
       "      <td>0.106959</td>\n",
       "      <td>0.014269</td>\n",
       "      <td>0.049834</td>\n",
       "      <td>0.011884</td>\n",
       "      <td>0.136735</td>\n",
       "      <td>0.969485</td>\n",
       "      <td>96.674179</td>\n",
       "      <td>1.495571</td>\n",
       "      <td>0.0</td>\n",
       "      <td>97.643663</td>\n",
       "      <td>98.169750</td>\n",
       "      <td>99.139234</td>\n",
       "      <td>1.000000e+09</td>\n",
       "      <td>True</td>\n",
       "    </tr>\n",
       "    <tr>\n",
       "      <th>107</th>\n",
       "      <td>29798.0</td>\n",
       "      <td>-0.012859</td>\n",
       "      <td>-0.007847</td>\n",
       "      <td>0.008698</td>\n",
       "      <td>0.024668</td>\n",
       "      <td>0.053577</td>\n",
       "      <td>0.041707</td>\n",
       "      <td>0.031391</td>\n",
       "      <td>0.015064</td>\n",
       "      <td>0.063667</td>\n",
       "      <td>7.267718</td>\n",
       "      <td>9.937140</td>\n",
       "      <td>13.056063</td>\n",
       "      <td>0.0</td>\n",
       "      <td>17.204858</td>\n",
       "      <td>22.993203</td>\n",
       "      <td>30.260921</td>\n",
       "      <td>1.000000e+09</td>\n",
       "      <td>True</td>\n",
       "    </tr>\n",
       "    <tr>\n",
       "      <th>108</th>\n",
       "      <td>30553.0</td>\n",
       "      <td>0.031053</td>\n",
       "      <td>0.046076</td>\n",
       "      <td>0.063573</td>\n",
       "      <td>0.075943</td>\n",
       "      <td>0.057170</td>\n",
       "      <td>0.065605</td>\n",
       "      <td>0.124249</td>\n",
       "      <td>0.055563</td>\n",
       "      <td>0.084961</td>\n",
       "      <td>0.636483</td>\n",
       "      <td>1.944894</td>\n",
       "      <td>1.037425</td>\n",
       "      <td>0.0</td>\n",
       "      <td>2.581378</td>\n",
       "      <td>2.982319</td>\n",
       "      <td>3.618803</td>\n",
       "      <td>1.000000e+09</td>\n",
       "      <td>True</td>\n",
       "    </tr>\n",
       "    <tr>\n",
       "      <th>109</th>\n",
       "      <td>30644.0</td>\n",
       "      <td>-0.018262</td>\n",
       "      <td>-0.112977</td>\n",
       "      <td>0.062137</td>\n",
       "      <td>0.108966</td>\n",
       "      <td>0.078012</td>\n",
       "      <td>0.124580</td>\n",
       "      <td>0.046220</td>\n",
       "      <td>0.114444</td>\n",
       "      <td>0.140163</td>\n",
       "      <td>3.432594</td>\n",
       "      <td>9.311394</td>\n",
       "      <td>1.594447</td>\n",
       "      <td>1.0</td>\n",
       "      <td>12.743988</td>\n",
       "      <td>10.905842</td>\n",
       "      <td>14.338435</td>\n",
       "      <td>4.619579e+06</td>\n",
       "      <td>False</td>\n",
       "    </tr>\n",
       "    <tr>\n",
       "      <th>111</th>\n",
       "      <td>30810.0</td>\n",
       "      <td>-0.010600</td>\n",
       "      <td>-0.009578</td>\n",
       "      <td>0.221197</td>\n",
       "      <td>0.051163</td>\n",
       "      <td>0.010458</td>\n",
       "      <td>0.009446</td>\n",
       "      <td>0.359194</td>\n",
       "      <td>0.014286</td>\n",
       "      <td>0.003712</td>\n",
       "      <td>0.587543</td>\n",
       "      <td>6.873310</td>\n",
       "      <td>5.419105</td>\n",
       "      <td>1.0</td>\n",
       "      <td>7.460853</td>\n",
       "      <td>12.292416</td>\n",
       "      <td>12.879958</td>\n",
       "      <td>2.790191e+05</td>\n",
       "      <td>False</td>\n",
       "    </tr>\n",
       "    <tr>\n",
       "      <th>...</th>\n",
       "      <td>...</td>\n",
       "      <td>...</td>\n",
       "      <td>...</td>\n",
       "      <td>...</td>\n",
       "      <td>...</td>\n",
       "      <td>...</td>\n",
       "      <td>...</td>\n",
       "      <td>...</td>\n",
       "      <td>...</td>\n",
       "      <td>...</td>\n",
       "      <td>...</td>\n",
       "      <td>...</td>\n",
       "      <td>...</td>\n",
       "      <td>...</td>\n",
       "      <td>...</td>\n",
       "      <td>...</td>\n",
       "      <td>...</td>\n",
       "      <td>...</td>\n",
       "      <td>...</td>\n",
       "    </tr>\n",
       "    <tr>\n",
       "      <th>6988</th>\n",
       "      <td>1965135.0</td>\n",
       "      <td>-0.090254</td>\n",
       "      <td>-0.044149</td>\n",
       "      <td>0.073084</td>\n",
       "      <td>0.106890</td>\n",
       "      <td>0.051639</td>\n",
       "      <td>0.109264</td>\n",
       "      <td>0.015517</td>\n",
       "      <td>0.100473</td>\n",
       "      <td>0.145683</td>\n",
       "      <td>3.356760</td>\n",
       "      <td>26.507059</td>\n",
       "      <td>0.674564</td>\n",
       "      <td>1.0</td>\n",
       "      <td>29.863820</td>\n",
       "      <td>27.181623</td>\n",
       "      <td>30.538384</td>\n",
       "      <td>1.781722e+05</td>\n",
       "      <td>False</td>\n",
       "    </tr>\n",
       "    <tr>\n",
       "      <th>6989</th>\n",
       "      <td>1965626.0</td>\n",
       "      <td>-0.005948</td>\n",
       "      <td>-0.010245</td>\n",
       "      <td>0.009194</td>\n",
       "      <td>0.001828</td>\n",
       "      <td>0.016575</td>\n",
       "      <td>0.018439</td>\n",
       "      <td>0.000225</td>\n",
       "      <td>0.011847</td>\n",
       "      <td>0.023710</td>\n",
       "      <td>16.183775</td>\n",
       "      <td>3.025641</td>\n",
       "      <td>3.288796</td>\n",
       "      <td>0.0</td>\n",
       "      <td>19.209417</td>\n",
       "      <td>6.314437</td>\n",
       "      <td>22.498213</td>\n",
       "      <td>1.000000e+09</td>\n",
       "      <td>True</td>\n",
       "    </tr>\n",
       "    <tr>\n",
       "      <th>6991</th>\n",
       "      <td>1965754.0</td>\n",
       "      <td>0.011603</td>\n",
       "      <td>0.004976</td>\n",
       "      <td>0.034654</td>\n",
       "      <td>0.027141</td>\n",
       "      <td>0.021132</td>\n",
       "      <td>0.009892</td>\n",
       "      <td>0.066328</td>\n",
       "      <td>0.012625</td>\n",
       "      <td>0.016709</td>\n",
       "      <td>6.968310</td>\n",
       "      <td>26.275539</td>\n",
       "      <td>4.836431</td>\n",
       "      <td>1.0</td>\n",
       "      <td>33.243849</td>\n",
       "      <td>31.111969</td>\n",
       "      <td>38.080280</td>\n",
       "      <td>1.919539e+08</td>\n",
       "      <td>False</td>\n",
       "    </tr>\n",
       "    <tr>\n",
       "      <th>7002</th>\n",
       "      <td>1969116.0</td>\n",
       "      <td>0.032191</td>\n",
       "      <td>0.015392</td>\n",
       "      <td>0.107190</td>\n",
       "      <td>0.065723</td>\n",
       "      <td>0.033252</td>\n",
       "      <td>0.006706</td>\n",
       "      <td>0.162525</td>\n",
       "      <td>0.035682</td>\n",
       "      <td>0.012291</td>\n",
       "      <td>1.821397</td>\n",
       "      <td>4.081645</td>\n",
       "      <td>14.090922</td>\n",
       "      <td>1.0</td>\n",
       "      <td>5.903041</td>\n",
       "      <td>18.172567</td>\n",
       "      <td>19.993963</td>\n",
       "      <td>6.162060e+07</td>\n",
       "      <td>False</td>\n",
       "    </tr>\n",
       "    <tr>\n",
       "      <th>7005</th>\n",
       "      <td>1970790.0</td>\n",
       "      <td>-0.012766</td>\n",
       "      <td>-0.011211</td>\n",
       "      <td>0.009641</td>\n",
       "      <td>0.020688</td>\n",
       "      <td>0.001554</td>\n",
       "      <td>0.018199</td>\n",
       "      <td>0.006873</td>\n",
       "      <td>0.016990</td>\n",
       "      <td>0.014059</td>\n",
       "      <td>0.685542</td>\n",
       "      <td>110.641436</td>\n",
       "      <td>1.087346</td>\n",
       "      <td>0.0</td>\n",
       "      <td>111.326979</td>\n",
       "      <td>111.728782</td>\n",
       "      <td>112.414325</td>\n",
       "      <td>1.000000e+09</td>\n",
       "      <td>True</td>\n",
       "    </tr>\n",
       "    <tr>\n",
       "      <th>7016</th>\n",
       "      <td>1973259.0</td>\n",
       "      <td>0.014823</td>\n",
       "      <td>0.003225</td>\n",
       "      <td>0.235271</td>\n",
       "      <td>0.017391</td>\n",
       "      <td>0.095803</td>\n",
       "      <td>0.015262</td>\n",
       "      <td>0.354828</td>\n",
       "      <td>0.015169</td>\n",
       "      <td>0.104290</td>\n",
       "      <td>0.319300</td>\n",
       "      <td>78.807406</td>\n",
       "      <td>0.710384</td>\n",
       "      <td>0.0</td>\n",
       "      <td>79.126705</td>\n",
       "      <td>79.517789</td>\n",
       "      <td>79.837089</td>\n",
       "      <td>1.000000e+09</td>\n",
       "      <td>True</td>\n",
       "    </tr>\n",
       "    <tr>\n",
       "      <th>7019</th>\n",
       "      <td>1976086.0</td>\n",
       "      <td>0.050695</td>\n",
       "      <td>-0.153698</td>\n",
       "      <td>0.072529</td>\n",
       "      <td>0.195063</td>\n",
       "      <td>0.092538</td>\n",
       "      <td>0.157408</td>\n",
       "      <td>0.206795</td>\n",
       "      <td>0.161843</td>\n",
       "      <td>0.050131</td>\n",
       "      <td>1.064193</td>\n",
       "      <td>4.612056</td>\n",
       "      <td>0.806017</td>\n",
       "      <td>1.0</td>\n",
       "      <td>5.676249</td>\n",
       "      <td>5.418073</td>\n",
       "      <td>6.482266</td>\n",
       "      <td>1.128294e+05</td>\n",
       "      <td>False</td>\n",
       "    </tr>\n",
       "    <tr>\n",
       "      <th>7021</th>\n",
       "      <td>1977061.0</td>\n",
       "      <td>0.013458</td>\n",
       "      <td>-0.009135</td>\n",
       "      <td>0.087444</td>\n",
       "      <td>0.062693</td>\n",
       "      <td>0.009811</td>\n",
       "      <td>0.006982</td>\n",
       "      <td>0.127476</td>\n",
       "      <td>0.016266</td>\n",
       "      <td>0.003500</td>\n",
       "      <td>1.984041</td>\n",
       "      <td>2.381129</td>\n",
       "      <td>8.252265</td>\n",
       "      <td>0.0</td>\n",
       "      <td>4.365170</td>\n",
       "      <td>10.633395</td>\n",
       "      <td>12.617435</td>\n",
       "      <td>1.000000e+09</td>\n",
       "      <td>True</td>\n",
       "    </tr>\n",
       "    <tr>\n",
       "      <th>7024</th>\n",
       "      <td>1977578.0</td>\n",
       "      <td>0.003334</td>\n",
       "      <td>-0.001686</td>\n",
       "      <td>0.039574</td>\n",
       "      <td>0.018656</td>\n",
       "      <td>0.018521</td>\n",
       "      <td>0.004470</td>\n",
       "      <td>0.066709</td>\n",
       "      <td>0.003736</td>\n",
       "      <td>0.025263</td>\n",
       "      <td>16.754918</td>\n",
       "      <td>73.052569</td>\n",
       "      <td>1.774784</td>\n",
       "      <td>0.0</td>\n",
       "      <td>89.807487</td>\n",
       "      <td>74.827354</td>\n",
       "      <td>91.582271</td>\n",
       "      <td>1.000000e+09</td>\n",
       "      <td>True</td>\n",
       "    </tr>\n",
       "    <tr>\n",
       "      <th>7026</th>\n",
       "      <td>1977714.0</td>\n",
       "      <td>0.049822</td>\n",
       "      <td>-0.023361</td>\n",
       "      <td>0.045986</td>\n",
       "      <td>0.069091</td>\n",
       "      <td>0.073692</td>\n",
       "      <td>0.087973</td>\n",
       "      <td>0.089595</td>\n",
       "      <td>0.055027</td>\n",
       "      <td>0.134791</td>\n",
       "      <td>1.806813</td>\n",
       "      <td>3.042902</td>\n",
       "      <td>1.356541</td>\n",
       "      <td>0.0</td>\n",
       "      <td>4.849715</td>\n",
       "      <td>4.399443</td>\n",
       "      <td>6.206256</td>\n",
       "      <td>1.000000e+09</td>\n",
       "      <td>True</td>\n",
       "    </tr>\n",
       "    <tr>\n",
       "      <th>7031</th>\n",
       "      <td>1979377.0</td>\n",
       "      <td>0.015439</td>\n",
       "      <td>0.033394</td>\n",
       "      <td>0.023441</td>\n",
       "      <td>0.036993</td>\n",
       "      <td>0.039729</td>\n",
       "      <td>0.062405</td>\n",
       "      <td>0.021766</td>\n",
       "      <td>0.036790</td>\n",
       "      <td>0.056853</td>\n",
       "      <td>1.642076</td>\n",
       "      <td>6.213132</td>\n",
       "      <td>34.605293</td>\n",
       "      <td>0.0</td>\n",
       "      <td>7.855209</td>\n",
       "      <td>40.818425</td>\n",
       "      <td>42.460501</td>\n",
       "      <td>1.000000e+09</td>\n",
       "      <td>True</td>\n",
       "    </tr>\n",
       "    <tr>\n",
       "      <th>7036</th>\n",
       "      <td>1981196.0</td>\n",
       "      <td>-0.006488</td>\n",
       "      <td>0.031827</td>\n",
       "      <td>0.013271</td>\n",
       "      <td>0.032273</td>\n",
       "      <td>0.133459</td>\n",
       "      <td>0.028135</td>\n",
       "      <td>0.019321</td>\n",
       "      <td>0.032481</td>\n",
       "      <td>0.139463</td>\n",
       "      <td>19.378215</td>\n",
       "      <td>44.032709</td>\n",
       "      <td>2.348952</td>\n",
       "      <td>0.0</td>\n",
       "      <td>63.410924</td>\n",
       "      <td>46.381660</td>\n",
       "      <td>65.759876</td>\n",
       "      <td>1.000000e+09</td>\n",
       "      <td>True</td>\n",
       "    </tr>\n",
       "    <tr>\n",
       "      <th>7037</th>\n",
       "      <td>1981542.0</td>\n",
       "      <td>-0.002651</td>\n",
       "      <td>-0.015527</td>\n",
       "      <td>0.010613</td>\n",
       "      <td>0.017855</td>\n",
       "      <td>0.014738</td>\n",
       "      <td>0.004989</td>\n",
       "      <td>0.002551</td>\n",
       "      <td>0.015751</td>\n",
       "      <td>0.006423</td>\n",
       "      <td>1.053380</td>\n",
       "      <td>14.764707</td>\n",
       "      <td>30.468518</td>\n",
       "      <td>0.0</td>\n",
       "      <td>15.818088</td>\n",
       "      <td>45.233226</td>\n",
       "      <td>46.286606</td>\n",
       "      <td>1.000000e+09</td>\n",
       "      <td>True</td>\n",
       "    </tr>\n",
       "    <tr>\n",
       "      <th>7038</th>\n",
       "      <td>1981755.0</td>\n",
       "      <td>0.004089</td>\n",
       "      <td>0.065792</td>\n",
       "      <td>0.111755</td>\n",
       "      <td>0.073454</td>\n",
       "      <td>0.040215</td>\n",
       "      <td>0.053702</td>\n",
       "      <td>0.153143</td>\n",
       "      <td>0.065918</td>\n",
       "      <td>0.006244</td>\n",
       "      <td>0.352950</td>\n",
       "      <td>4.033187</td>\n",
       "      <td>1.859866</td>\n",
       "      <td>0.0</td>\n",
       "      <td>4.386138</td>\n",
       "      <td>5.893054</td>\n",
       "      <td>6.246004</td>\n",
       "      <td>1.000000e+09</td>\n",
       "      <td>True</td>\n",
       "    </tr>\n",
       "    <tr>\n",
       "      <th>7040</th>\n",
       "      <td>1982354.0</td>\n",
       "      <td>0.038799</td>\n",
       "      <td>-0.044842</td>\n",
       "      <td>0.055799</td>\n",
       "      <td>0.035071</td>\n",
       "      <td>0.008455</td>\n",
       "      <td>0.065283</td>\n",
       "      <td>0.030817</td>\n",
       "      <td>0.059297</td>\n",
       "      <td>0.052905</td>\n",
       "      <td>2.020668</td>\n",
       "      <td>2.788351</td>\n",
       "      <td>7.913512</td>\n",
       "      <td>0.0</td>\n",
       "      <td>4.809019</td>\n",
       "      <td>10.701863</td>\n",
       "      <td>12.722530</td>\n",
       "      <td>1.000000e+09</td>\n",
       "      <td>True</td>\n",
       "    </tr>\n",
       "    <tr>\n",
       "      <th>7046</th>\n",
       "      <td>1983916.0</td>\n",
       "      <td>0.002070</td>\n",
       "      <td>-0.000505</td>\n",
       "      <td>0.005808</td>\n",
       "      <td>0.002346</td>\n",
       "      <td>0.025130</td>\n",
       "      <td>0.022165</td>\n",
       "      <td>0.007786</td>\n",
       "      <td>0.002131</td>\n",
       "      <td>0.029549</td>\n",
       "      <td>1.217742</td>\n",
       "      <td>31.330891</td>\n",
       "      <td>60.623373</td>\n",
       "      <td>1.0</td>\n",
       "      <td>32.548633</td>\n",
       "      <td>91.954264</td>\n",
       "      <td>93.172006</td>\n",
       "      <td>3.584805e+06</td>\n",
       "      <td>False</td>\n",
       "    </tr>\n",
       "    <tr>\n",
       "      <th>7047</th>\n",
       "      <td>1984151.0</td>\n",
       "      <td>0.052762</td>\n",
       "      <td>-0.104851</td>\n",
       "      <td>0.223966</td>\n",
       "      <td>0.157162</td>\n",
       "      <td>0.080314</td>\n",
       "      <td>0.125210</td>\n",
       "      <td>0.431325</td>\n",
       "      <td>0.117378</td>\n",
       "      <td>0.009658</td>\n",
       "      <td>8.424975</td>\n",
       "      <td>149.529838</td>\n",
       "      <td>1.132217</td>\n",
       "      <td>1.0</td>\n",
       "      <td>157.954813</td>\n",
       "      <td>150.662055</td>\n",
       "      <td>159.087030</td>\n",
       "      <td>5.527083e+05</td>\n",
       "      <td>False</td>\n",
       "    </tr>\n",
       "    <tr>\n",
       "      <th>7049</th>\n",
       "      <td>1984449.0</td>\n",
       "      <td>-0.040657</td>\n",
       "      <td>0.008646</td>\n",
       "      <td>0.023814</td>\n",
       "      <td>0.062059</td>\n",
       "      <td>0.035954</td>\n",
       "      <td>0.053154</td>\n",
       "      <td>0.075572</td>\n",
       "      <td>0.041566</td>\n",
       "      <td>0.074801</td>\n",
       "      <td>3.263851</td>\n",
       "      <td>4.004839</td>\n",
       "      <td>1.157843</td>\n",
       "      <td>0.0</td>\n",
       "      <td>7.268690</td>\n",
       "      <td>5.162681</td>\n",
       "      <td>8.426532</td>\n",
       "      <td>1.000000e+09</td>\n",
       "      <td>True</td>\n",
       "    </tr>\n",
       "    <tr>\n",
       "      <th>7051</th>\n",
       "      <td>1984699.0</td>\n",
       "      <td>0.032059</td>\n",
       "      <td>0.004973</td>\n",
       "      <td>0.035634</td>\n",
       "      <td>0.035995</td>\n",
       "      <td>0.062115</td>\n",
       "      <td>0.034337</td>\n",
       "      <td>0.032907</td>\n",
       "      <td>0.032443</td>\n",
       "      <td>0.051808</td>\n",
       "      <td>11.760710</td>\n",
       "      <td>171.012182</td>\n",
       "      <td>0.983826</td>\n",
       "      <td>0.0</td>\n",
       "      <td>182.772892</td>\n",
       "      <td>171.996008</td>\n",
       "      <td>183.756717</td>\n",
       "      <td>1.000000e+09</td>\n",
       "      <td>True</td>\n",
       "    </tr>\n",
       "    <tr>\n",
       "      <th>7053</th>\n",
       "      <td>1985597.0</td>\n",
       "      <td>0.100411</td>\n",
       "      <td>0.127767</td>\n",
       "      <td>0.438080</td>\n",
       "      <td>0.220079</td>\n",
       "      <td>0.975199</td>\n",
       "      <td>0.117366</td>\n",
       "      <td>0.745159</td>\n",
       "      <td>0.162502</td>\n",
       "      <td>0.894707</td>\n",
       "      <td>2.425481</td>\n",
       "      <td>59.728567</td>\n",
       "      <td>3.164539</td>\n",
       "      <td>1.0</td>\n",
       "      <td>62.154047</td>\n",
       "      <td>62.893105</td>\n",
       "      <td>65.318586</td>\n",
       "      <td>1.019053e+05</td>\n",
       "      <td>False</td>\n",
       "    </tr>\n",
       "    <tr>\n",
       "      <th>7062</th>\n",
       "      <td>1988085.0</td>\n",
       "      <td>-0.001679</td>\n",
       "      <td>-0.018054</td>\n",
       "      <td>0.016260</td>\n",
       "      <td>0.014042</td>\n",
       "      <td>0.135315</td>\n",
       "      <td>0.027829</td>\n",
       "      <td>0.005403</td>\n",
       "      <td>0.018132</td>\n",
       "      <td>0.148819</td>\n",
       "      <td>1.126834</td>\n",
       "      <td>3.053226</td>\n",
       "      <td>1.119723</td>\n",
       "      <td>0.0</td>\n",
       "      <td>4.180060</td>\n",
       "      <td>4.172950</td>\n",
       "      <td>5.299783</td>\n",
       "      <td>1.000000e+09</td>\n",
       "      <td>True</td>\n",
       "    </tr>\n",
       "    <tr>\n",
       "      <th>7067</th>\n",
       "      <td>1989314.0</td>\n",
       "      <td>-0.000471</td>\n",
       "      <td>-0.002154</td>\n",
       "      <td>0.044879</td>\n",
       "      <td>0.001525</td>\n",
       "      <td>0.101352</td>\n",
       "      <td>0.004568</td>\n",
       "      <td>0.068544</td>\n",
       "      <td>0.002205</td>\n",
       "      <td>0.120926</td>\n",
       "      <td>0.808285</td>\n",
       "      <td>50.686013</td>\n",
       "      <td>2.972279</td>\n",
       "      <td>1.0</td>\n",
       "      <td>51.494298</td>\n",
       "      <td>53.658292</td>\n",
       "      <td>54.466577</td>\n",
       "      <td>5.494649e+05</td>\n",
       "      <td>False</td>\n",
       "    </tr>\n",
       "    <tr>\n",
       "      <th>7071</th>\n",
       "      <td>1989840.0</td>\n",
       "      <td>-0.047895</td>\n",
       "      <td>-0.000117</td>\n",
       "      <td>0.020453</td>\n",
       "      <td>0.061076</td>\n",
       "      <td>0.097236</td>\n",
       "      <td>0.049296</td>\n",
       "      <td>0.090501</td>\n",
       "      <td>0.047895</td>\n",
       "      <td>0.087275</td>\n",
       "      <td>4.818726</td>\n",
       "      <td>76.248411</td>\n",
       "      <td>1.576467</td>\n",
       "      <td>1.0</td>\n",
       "      <td>81.067137</td>\n",
       "      <td>77.824879</td>\n",
       "      <td>82.643604</td>\n",
       "      <td>2.655537e+05</td>\n",
       "      <td>False</td>\n",
       "    </tr>\n",
       "    <tr>\n",
       "      <th>7073</th>\n",
       "      <td>1990623.0</td>\n",
       "      <td>-0.111838</td>\n",
       "      <td>-0.019519</td>\n",
       "      <td>0.170787</td>\n",
       "      <td>0.092790</td>\n",
       "      <td>0.073599</td>\n",
       "      <td>0.114219</td>\n",
       "      <td>0.153250</td>\n",
       "      <td>0.113529</td>\n",
       "      <td>0.031466</td>\n",
       "      <td>3.668555</td>\n",
       "      <td>19.328330</td>\n",
       "      <td>1.823400</td>\n",
       "      <td>1.0</td>\n",
       "      <td>22.996885</td>\n",
       "      <td>21.151729</td>\n",
       "      <td>24.820284</td>\n",
       "      <td>1.583497e+05</td>\n",
       "      <td>False</td>\n",
       "    </tr>\n",
       "    <tr>\n",
       "      <th>7077</th>\n",
       "      <td>1991717.0</td>\n",
       "      <td>-0.022711</td>\n",
       "      <td>0.070785</td>\n",
       "      <td>0.196945</td>\n",
       "      <td>0.112810</td>\n",
       "      <td>0.021687</td>\n",
       "      <td>0.081630</td>\n",
       "      <td>0.389650</td>\n",
       "      <td>0.074339</td>\n",
       "      <td>0.079335</td>\n",
       "      <td>1.538581</td>\n",
       "      <td>25.160677</td>\n",
       "      <td>4.197261</td>\n",
       "      <td>1.0</td>\n",
       "      <td>26.699257</td>\n",
       "      <td>29.357938</td>\n",
       "      <td>30.896518</td>\n",
       "      <td>2.835311e+07</td>\n",
       "      <td>False</td>\n",
       "    </tr>\n",
       "    <tr>\n",
       "      <th>7078</th>\n",
       "      <td>1991909.0</td>\n",
       "      <td>0.000352</td>\n",
       "      <td>-0.023576</td>\n",
       "      <td>0.048044</td>\n",
       "      <td>0.024903</td>\n",
       "      <td>0.003328</td>\n",
       "      <td>0.024540</td>\n",
       "      <td>0.048350</td>\n",
       "      <td>0.023579</td>\n",
       "      <td>0.017002</td>\n",
       "      <td>0.345204</td>\n",
       "      <td>7.915993</td>\n",
       "      <td>2.077724</td>\n",
       "      <td>0.0</td>\n",
       "      <td>8.261196</td>\n",
       "      <td>9.993717</td>\n",
       "      <td>10.338920</td>\n",
       "      <td>1.000000e+09</td>\n",
       "      <td>True</td>\n",
       "    </tr>\n",
       "    <tr>\n",
       "      <th>7082</th>\n",
       "      <td>1992624.0</td>\n",
       "      <td>-0.003069</td>\n",
       "      <td>0.004672</td>\n",
       "      <td>0.020552</td>\n",
       "      <td>0.006581</td>\n",
       "      <td>0.058670</td>\n",
       "      <td>0.008364</td>\n",
       "      <td>0.030219</td>\n",
       "      <td>0.005590</td>\n",
       "      <td>0.075396</td>\n",
       "      <td>0.354506</td>\n",
       "      <td>21.549097</td>\n",
       "      <td>0.779344</td>\n",
       "      <td>0.0</td>\n",
       "      <td>21.903603</td>\n",
       "      <td>22.328441</td>\n",
       "      <td>22.682947</td>\n",
       "      <td>1.000000e+09</td>\n",
       "      <td>True</td>\n",
       "    </tr>\n",
       "    <tr>\n",
       "      <th>7096</th>\n",
       "      <td>1996402.0</td>\n",
       "      <td>-0.260160</td>\n",
       "      <td>-0.143097</td>\n",
       "      <td>0.033887</td>\n",
       "      <td>0.372002</td>\n",
       "      <td>0.117476</td>\n",
       "      <td>0.311208</td>\n",
       "      <td>0.412131</td>\n",
       "      <td>0.296918</td>\n",
       "      <td>0.155385</td>\n",
       "      <td>2.270075</td>\n",
       "      <td>34.574397</td>\n",
       "      <td>3.178514</td>\n",
       "      <td>1.0</td>\n",
       "      <td>36.844472</td>\n",
       "      <td>37.752911</td>\n",
       "      <td>40.022986</td>\n",
       "      <td>1.868385e+05</td>\n",
       "      <td>False</td>\n",
       "    </tr>\n",
       "    <tr>\n",
       "      <th>7105</th>\n",
       "      <td>1999190.0</td>\n",
       "      <td>-0.037368</td>\n",
       "      <td>-0.069571</td>\n",
       "      <td>0.111063</td>\n",
       "      <td>0.090683</td>\n",
       "      <td>0.086250</td>\n",
       "      <td>0.085810</td>\n",
       "      <td>0.154516</td>\n",
       "      <td>0.078972</td>\n",
       "      <td>0.129648</td>\n",
       "      <td>1.179989</td>\n",
       "      <td>16.862485</td>\n",
       "      <td>1.334641</td>\n",
       "      <td>1.0</td>\n",
       "      <td>18.042474</td>\n",
       "      <td>18.197126</td>\n",
       "      <td>19.377115</td>\n",
       "      <td>4.956653e+05</td>\n",
       "      <td>False</td>\n",
       "    </tr>\n",
       "    <tr>\n",
       "      <th>7107</th>\n",
       "      <td>1999466.0</td>\n",
       "      <td>-0.010441</td>\n",
       "      <td>0.003408</td>\n",
       "      <td>0.028842</td>\n",
       "      <td>0.012843</td>\n",
       "      <td>0.023422</td>\n",
       "      <td>0.009040</td>\n",
       "      <td>0.039781</td>\n",
       "      <td>0.010983</td>\n",
       "      <td>0.022669</td>\n",
       "      <td>0.338341</td>\n",
       "      <td>16.961854</td>\n",
       "      <td>3.006192</td>\n",
       "      <td>0.0</td>\n",
       "      <td>17.300195</td>\n",
       "      <td>19.968046</td>\n",
       "      <td>20.306386</td>\n",
       "      <td>1.000000e+09</td>\n",
       "      <td>True</td>\n",
       "    </tr>\n",
       "  </tbody>\n",
       "</table>\n",
       "<p>1976 rows × 19 columns</p>\n",
       "</div>"
      ],
      "text/plain": [
       "            sim         k         h       Z12    Zcom12       Z23    Zcom23  \\\n",
       "0         139.0 -0.019596 -0.101267  0.163509  0.106345  0.121643  0.076182   \n",
       "1         351.0 -0.029971 -0.037423  0.072575  0.052489  0.004427  0.051474   \n",
       "5         859.0 -0.021499  0.003709  0.080668  0.032526  0.021212  0.012272   \n",
       "11       2326.0  0.057112  0.040105  0.072933  0.101146  0.092848  0.139443   \n",
       "16       4588.0 -0.086853  0.070932  0.117591  0.135383  0.902563  0.101488   \n",
       "25       6800.0 -0.028175 -0.077313  0.063925  0.098672  0.020631  0.087560   \n",
       "26       6904.0 -0.095728  0.045344  0.215717  0.122986  0.083850  0.110917   \n",
       "28       7207.0  0.048637  0.099467  0.146440  0.109296  0.051961  0.119166   \n",
       "30       7335.0 -0.008795  0.027758  0.067719  0.034209  0.102457  0.111994   \n",
       "33       8602.0  0.070301  0.026773  0.028394  0.055162  0.005849  0.086025   \n",
       "37       9622.0 -0.007349  0.007209  0.068545  0.014363  0.053145  0.011485   \n",
       "38      10378.0  0.028272  0.000462  0.030593  0.033676  0.034905  0.027354   \n",
       "43      12508.0 -0.046467  0.027285  0.247476  0.083964  0.020024  0.053049   \n",
       "45      14401.0  0.012170 -0.022238  0.075634  0.024438  0.038364  0.031234   \n",
       "47      14628.0  0.003617  0.010130  0.292708  0.011671  0.103053  0.011754   \n",
       "50      15360.0  0.106573 -0.178025  0.212334  0.031666  0.046955  0.174471   \n",
       "57      16716.0 -0.020973 -0.018381  0.046088  0.048103  0.082345  0.013971   \n",
       "60      17218.0 -0.019721 -0.197547  0.092479  0.151886  0.085344  0.196194   \n",
       "69      20855.0 -0.016300 -0.043359  0.029456  0.090716  0.059397  0.088626   \n",
       "72      21405.0  0.072501 -0.026313  0.183106  0.106436  0.016437  0.082580   \n",
       "74      21859.0 -0.027886 -0.008103  0.028223  0.025985  0.037913  0.035956   \n",
       "76      22329.0 -0.033370 -0.097057  0.054726  0.115643  0.057404  0.088165   \n",
       "90      25509.0 -0.023094 -0.006320  0.067171  0.029064  0.017017  0.024824   \n",
       "92      26739.0  0.004793  0.047430  0.041725  0.057985  0.026043  0.051659   \n",
       "103     28662.0 -0.041806 -0.003588  0.058011  0.040952  0.029681  0.039992   \n",
       "105     28994.0 -0.007594 -0.009141  0.022540  0.014999  0.106959  0.014269   \n",
       "107     29798.0 -0.012859 -0.007847  0.008698  0.024668  0.053577  0.041707   \n",
       "108     30553.0  0.031053  0.046076  0.063573  0.075943  0.057170  0.065605   \n",
       "109     30644.0 -0.018262 -0.112977  0.062137  0.108966  0.078012  0.124580   \n",
       "111     30810.0 -0.010600 -0.009578  0.221197  0.051163  0.010458  0.009446   \n",
       "...         ...       ...       ...       ...       ...       ...       ...   \n",
       "6988  1965135.0 -0.090254 -0.044149  0.073084  0.106890  0.051639  0.109264   \n",
       "6989  1965626.0 -0.005948 -0.010245  0.009194  0.001828  0.016575  0.018439   \n",
       "6991  1965754.0  0.011603  0.004976  0.034654  0.027141  0.021132  0.009892   \n",
       "7002  1969116.0  0.032191  0.015392  0.107190  0.065723  0.033252  0.006706   \n",
       "7005  1970790.0 -0.012766 -0.011211  0.009641  0.020688  0.001554  0.018199   \n",
       "7016  1973259.0  0.014823  0.003225  0.235271  0.017391  0.095803  0.015262   \n",
       "7019  1976086.0  0.050695 -0.153698  0.072529  0.195063  0.092538  0.157408   \n",
       "7021  1977061.0  0.013458 -0.009135  0.087444  0.062693  0.009811  0.006982   \n",
       "7024  1977578.0  0.003334 -0.001686  0.039574  0.018656  0.018521  0.004470   \n",
       "7026  1977714.0  0.049822 -0.023361  0.045986  0.069091  0.073692  0.087973   \n",
       "7031  1979377.0  0.015439  0.033394  0.023441  0.036993  0.039729  0.062405   \n",
       "7036  1981196.0 -0.006488  0.031827  0.013271  0.032273  0.133459  0.028135   \n",
       "7037  1981542.0 -0.002651 -0.015527  0.010613  0.017855  0.014738  0.004989   \n",
       "7038  1981755.0  0.004089  0.065792  0.111755  0.073454  0.040215  0.053702   \n",
       "7040  1982354.0  0.038799 -0.044842  0.055799  0.035071  0.008455  0.065283   \n",
       "7046  1983916.0  0.002070 -0.000505  0.005808  0.002346  0.025130  0.022165   \n",
       "7047  1984151.0  0.052762 -0.104851  0.223966  0.157162  0.080314  0.125210   \n",
       "7049  1984449.0 -0.040657  0.008646  0.023814  0.062059  0.035954  0.053154   \n",
       "7051  1984699.0  0.032059  0.004973  0.035634  0.035995  0.062115  0.034337   \n",
       "7053  1985597.0  0.100411  0.127767  0.438080  0.220079  0.975199  0.117366   \n",
       "7062  1988085.0 -0.001679 -0.018054  0.016260  0.014042  0.135315  0.027829   \n",
       "7067  1989314.0 -0.000471 -0.002154  0.044879  0.001525  0.101352  0.004568   \n",
       "7071  1989840.0 -0.047895 -0.000117  0.020453  0.061076  0.097236  0.049296   \n",
       "7073  1990623.0 -0.111838 -0.019519  0.170787  0.092790  0.073599  0.114219   \n",
       "7077  1991717.0 -0.022711  0.070785  0.196945  0.112810  0.021687  0.081630   \n",
       "7078  1991909.0  0.000352 -0.023576  0.048044  0.024903  0.003328  0.024540   \n",
       "7082  1992624.0 -0.003069  0.004672  0.020552  0.006581  0.058670  0.008364   \n",
       "7096  1996402.0 -0.260160 -0.143097  0.033887  0.372002  0.117476  0.311208   \n",
       "7105  1999190.0 -0.037368 -0.069571  0.111063  0.090683  0.086250  0.085810   \n",
       "7107  1999466.0 -0.010441  0.003408  0.028842  0.012843  0.023422  0.009040   \n",
       "\n",
       "            e1        e2        e3         m1          m2         m3  \\\n",
       "0     0.185096  0.103145  0.070585   0.681545    6.831629   2.096143   \n",
       "1     0.083567  0.047945  0.045396   5.047596   74.634902   1.424302   \n",
       "5     0.130484  0.021816  0.008288   0.873329    6.878206   4.541916   \n",
       "11    0.117674  0.069787  0.138322   4.977540    1.789392   5.841278   \n",
       "16    0.147208  0.112137  0.889851   2.527953  171.671954   6.995283   \n",
       "25    0.031304  0.082287  0.050802   0.400726   22.629345   0.711338   \n",
       "26    0.222933  0.105924  0.025617   0.641098   37.823298   1.034103   \n",
       "28    0.106813  0.110721  0.117940   2.982307   28.664360   1.711671   \n",
       "30    0.073547  0.029118  0.137543   4.218412    3.326897   6.247674   \n",
       "33    0.048076  0.075226  0.068783   7.758062    1.961815  42.375116   \n",
       "37    0.118977  0.010295  0.062109   0.618471   41.951109   6.394323   \n",
       "38    0.015205  0.028276  0.022535   0.750978   48.127604   3.842745   \n",
       "43    0.374945  0.053885  0.031915   0.995787    6.089673   1.978642   \n",
       "45    0.094693  0.025350  0.063415   0.322797    5.685509   0.729077   \n",
       "47    0.442309  0.010756  0.124373   1.704128   62.917818   1.822111   \n",
       "50    0.085324  0.207487  0.128768   4.786708    2.608958  11.510471   \n",
       "57    0.102511  0.027888  0.076592   0.687256    3.190120   2.127417   \n",
       "60    0.126156  0.198529  0.072658  11.626897    5.194314   1.018508   \n",
       "69    0.093437  0.046321  0.110307  31.695817    3.077018   2.991312   \n",
       "72    0.376142  0.077128  0.061958   3.911116  117.681975   2.011268   \n",
       "74    0.014868  0.029039  0.032858   0.434212    1.916708  19.815716   \n",
       "76    0.053548  0.102633  0.016621   0.323421    2.925968   1.180786   \n",
       "90    0.095748  0.023943  0.000721   0.358908   90.223042   3.639267   \n",
       "92    0.008956  0.047672  0.070841   0.325791   68.752922   1.326395   \n",
       "103   0.064155  0.041959  0.022360   1.171385    7.122133   1.423221   \n",
       "105   0.049834  0.011884  0.136735   0.969485   96.674179   1.495571   \n",
       "107   0.031391  0.015064  0.063667   7.267718    9.937140  13.056063   \n",
       "108   0.124249  0.055563  0.084961   0.636483    1.944894   1.037425   \n",
       "109   0.046220  0.114444  0.140163   3.432594    9.311394   1.594447   \n",
       "111   0.359194  0.014286  0.003712   0.587543    6.873310   5.419105   \n",
       "...        ...       ...       ...        ...         ...        ...   \n",
       "6988  0.015517  0.100473  0.145683   3.356760   26.507059   0.674564   \n",
       "6989  0.000225  0.011847  0.023710  16.183775    3.025641   3.288796   \n",
       "6991  0.066328  0.012625  0.016709   6.968310   26.275539   4.836431   \n",
       "7002  0.162525  0.035682  0.012291   1.821397    4.081645  14.090922   \n",
       "7005  0.006873  0.016990  0.014059   0.685542  110.641436   1.087346   \n",
       "7016  0.354828  0.015169  0.104290   0.319300   78.807406   0.710384   \n",
       "7019  0.206795  0.161843  0.050131   1.064193    4.612056   0.806017   \n",
       "7021  0.127476  0.016266  0.003500   1.984041    2.381129   8.252265   \n",
       "7024  0.066709  0.003736  0.025263  16.754918   73.052569   1.774784   \n",
       "7026  0.089595  0.055027  0.134791   1.806813    3.042902   1.356541   \n",
       "7031  0.021766  0.036790  0.056853   1.642076    6.213132  34.605293   \n",
       "7036  0.019321  0.032481  0.139463  19.378215   44.032709   2.348952   \n",
       "7037  0.002551  0.015751  0.006423   1.053380   14.764707  30.468518   \n",
       "7038  0.153143  0.065918  0.006244   0.352950    4.033187   1.859866   \n",
       "7040  0.030817  0.059297  0.052905   2.020668    2.788351   7.913512   \n",
       "7046  0.007786  0.002131  0.029549   1.217742   31.330891  60.623373   \n",
       "7047  0.431325  0.117378  0.009658   8.424975  149.529838   1.132217   \n",
       "7049  0.075572  0.041566  0.074801   3.263851    4.004839   1.157843   \n",
       "7051  0.032907  0.032443  0.051808  11.760710  171.012182   0.983826   \n",
       "7053  0.745159  0.162502  0.894707   2.425481   59.728567   3.164539   \n",
       "7062  0.005403  0.018132  0.148819   1.126834    3.053226   1.119723   \n",
       "7067  0.068544  0.002205  0.120926   0.808285   50.686013   2.972279   \n",
       "7071  0.090501  0.047895  0.087275   4.818726   76.248411   1.576467   \n",
       "7073  0.153250  0.113529  0.031466   3.668555   19.328330   1.823400   \n",
       "7077  0.389650  0.074339  0.079335   1.538581   25.160677   4.197261   \n",
       "7078  0.048350  0.023579  0.017002   0.345204    7.915993   2.077724   \n",
       "7082  0.030219  0.005590  0.075396   0.354506   21.549097   0.779344   \n",
       "7096  0.412131  0.296918  0.155385   2.270075   34.574397   3.178514   \n",
       "7105  0.154516  0.078972  0.129648   1.179989   16.862485   1.334641   \n",
       "7107  0.039781  0.010983  0.022669   0.338341   16.961854   3.006192   \n",
       "\n",
       "      probstability       m1+m2       m2+m3     total m        t_inst  \\\n",
       "0               1.0    7.513174    8.927772    9.609317  1.626933e+05   \n",
       "1               0.0   79.682498   76.059204   81.106800  1.000000e+09   \n",
       "5               0.0    7.751535   11.420123   12.293451  1.000000e+09   \n",
       "11              1.0    6.766933    7.630671   12.608211  4.525672e+05   \n",
       "16              0.0  174.199907  178.667237  181.195190  1.000000e+09   \n",
       "25              0.0   23.030071   23.340682   23.741408  1.000000e+09   \n",
       "26              1.0   38.464395   38.857401   39.498499  1.159308e+05   \n",
       "28              1.0   31.646667   30.376031   33.358338  5.157045e+05   \n",
       "30              1.0    7.545308    9.574571   13.792983  1.912562e+05   \n",
       "33              0.0    9.719877   44.336931   52.094993  1.000000e+09   \n",
       "37              1.0   42.569580   48.345432   48.963903  1.322923e+07   \n",
       "38              0.0   48.878582   51.970349   52.721327  1.000000e+09   \n",
       "43              1.0    7.085460    8.068315    9.064102  2.074605e+05   \n",
       "45              0.0    6.008307    6.414586    6.737383  1.000000e+09   \n",
       "47              0.0   64.621945   64.739929   66.444057  1.000000e+09   \n",
       "50              1.0    7.395665   14.119428   18.906136  5.245181e+05   \n",
       "57              0.0    3.877375    5.317537    6.004793  1.000000e+09   \n",
       "60              1.0   16.821211    6.212823   17.839720  1.298385e+05   \n",
       "69              1.0   34.772834    6.068330   37.764146  7.266186e+05   \n",
       "72              0.0  121.593091  119.693243  123.604359  1.000000e+09   \n",
       "74              0.0    2.350920   21.732424   22.166636  1.000000e+09   \n",
       "76              0.0    3.249390    4.106754    4.430176  1.000000e+09   \n",
       "90              0.0   90.581951   93.862309   94.221217  1.000000e+09   \n",
       "92              0.0   69.078713   70.079317   70.405108  1.000000e+09   \n",
       "103             0.0    8.293519    8.545355    9.716740  1.000000e+09   \n",
       "105             0.0   97.643663   98.169750   99.139234  1.000000e+09   \n",
       "107             0.0   17.204858   22.993203   30.260921  1.000000e+09   \n",
       "108             0.0    2.581378    2.982319    3.618803  1.000000e+09   \n",
       "109             1.0   12.743988   10.905842   14.338435  4.619579e+06   \n",
       "111             1.0    7.460853   12.292416   12.879958  2.790191e+05   \n",
       "...             ...         ...         ...         ...           ...   \n",
       "6988            1.0   29.863820   27.181623   30.538384  1.781722e+05   \n",
       "6989            0.0   19.209417    6.314437   22.498213  1.000000e+09   \n",
       "6991            1.0   33.243849   31.111969   38.080280  1.919539e+08   \n",
       "7002            1.0    5.903041   18.172567   19.993963  6.162060e+07   \n",
       "7005            0.0  111.326979  111.728782  112.414325  1.000000e+09   \n",
       "7016            0.0   79.126705   79.517789   79.837089  1.000000e+09   \n",
       "7019            1.0    5.676249    5.418073    6.482266  1.128294e+05   \n",
       "7021            0.0    4.365170   10.633395   12.617435  1.000000e+09   \n",
       "7024            0.0   89.807487   74.827354   91.582271  1.000000e+09   \n",
       "7026            0.0    4.849715    4.399443    6.206256  1.000000e+09   \n",
       "7031            0.0    7.855209   40.818425   42.460501  1.000000e+09   \n",
       "7036            0.0   63.410924   46.381660   65.759876  1.000000e+09   \n",
       "7037            0.0   15.818088   45.233226   46.286606  1.000000e+09   \n",
       "7038            0.0    4.386138    5.893054    6.246004  1.000000e+09   \n",
       "7040            0.0    4.809019   10.701863   12.722530  1.000000e+09   \n",
       "7046            1.0   32.548633   91.954264   93.172006  3.584805e+06   \n",
       "7047            1.0  157.954813  150.662055  159.087030  5.527083e+05   \n",
       "7049            0.0    7.268690    5.162681    8.426532  1.000000e+09   \n",
       "7051            0.0  182.772892  171.996008  183.756717  1.000000e+09   \n",
       "7053            1.0   62.154047   62.893105   65.318586  1.019053e+05   \n",
       "7062            0.0    4.180060    4.172950    5.299783  1.000000e+09   \n",
       "7067            1.0   51.494298   53.658292   54.466577  5.494649e+05   \n",
       "7071            1.0   81.067137   77.824879   82.643604  2.655537e+05   \n",
       "7073            1.0   22.996885   21.151729   24.820284  1.583497e+05   \n",
       "7077            1.0   26.699257   29.357938   30.896518  2.835311e+07   \n",
       "7078            0.0    8.261196    9.993717   10.338920  1.000000e+09   \n",
       "7082            0.0   21.903603   22.328441   22.682947  1.000000e+09   \n",
       "7096            1.0   36.844472   37.752911   40.022986  1.868385e+05   \n",
       "7105            1.0   18.042474   18.197126   19.377115  4.956653e+05   \n",
       "7107            0.0   17.300195   19.968046   20.306386  1.000000e+09   \n",
       "\n",
       "      nbodystable  \n",
       "0           False  \n",
       "1            True  \n",
       "5            True  \n",
       "11          False  \n",
       "16           True  \n",
       "25           True  \n",
       "26          False  \n",
       "28          False  \n",
       "30          False  \n",
       "33           True  \n",
       "37          False  \n",
       "38           True  \n",
       "43          False  \n",
       "45           True  \n",
       "47           True  \n",
       "50          False  \n",
       "57           True  \n",
       "60          False  \n",
       "69          False  \n",
       "72           True  \n",
       "74           True  \n",
       "76           True  \n",
       "90           True  \n",
       "92           True  \n",
       "103          True  \n",
       "105          True  \n",
       "107          True  \n",
       "108          True  \n",
       "109         False  \n",
       "111         False  \n",
       "...           ...  \n",
       "6988        False  \n",
       "6989         True  \n",
       "6991        False  \n",
       "7002        False  \n",
       "7005         True  \n",
       "7016         True  \n",
       "7019        False  \n",
       "7021         True  \n",
       "7024         True  \n",
       "7026         True  \n",
       "7031         True  \n",
       "7036         True  \n",
       "7037         True  \n",
       "7038         True  \n",
       "7040         True  \n",
       "7046        False  \n",
       "7047        False  \n",
       "7049         True  \n",
       "7051         True  \n",
       "7053        False  \n",
       "7062         True  \n",
       "7067        False  \n",
       "7071        False  \n",
       "7073        False  \n",
       "7077        False  \n",
       "7078         True  \n",
       "7082         True  \n",
       "7096        False  \n",
       "7105        False  \n",
       "7107         True  \n",
       "\n",
       "[1976 rows x 19 columns]"
      ]
     },
     "execution_count": 320,
     "metadata": {},
     "output_type": "execute_result"
    }
   ],
   "source": [
    "df3[(df3['probstability'] > 0) != (df3['nbodystable'] == True)]"
   ]
  },
  {
   "cell_type": "code",
   "execution_count": 314,
   "metadata": {},
   "outputs": [
    {
     "data": {
      "text/plain": [
       "0"
      ]
     },
     "execution_count": 314,
     "metadata": {},
     "output_type": "execute_result"
    }
   ],
   "source": [
    "(df3['t_inst'] < 1e5).sum()"
   ]
  },
  {
   "cell_type": "code",
   "execution_count": 244,
   "metadata": {},
   "outputs": [],
   "source": [
    "df2.to_csv(\"Kepler-{0}_default_priors_SPOCK.csv\".format(KepID))"
   ]
  },
  {
   "cell_type": "markdown",
   "metadata": {},
   "source": [
    "# Old spock"
   ]
  },
  {
   "cell_type": "code",
   "execution_count": 307,
   "metadata": {},
   "outputs": [
    {
     "data": {
      "text/plain": [
       "(27053,)"
      ]
     },
     "execution_count": 307,
     "metadata": {},
     "output_type": "execute_result"
    }
   ],
   "source": [
    "np.int64(df2['nbodystable']).shape"
   ]
  },
  {
   "cell_type": "code",
   "execution_count": 308,
   "metadata": {},
   "outputs": [
    {
     "data": {
      "text/plain": [
       "(27053, 21)"
      ]
     },
     "execution_count": 308,
     "metadata": {},
     "output_type": "execute_result"
    }
   ],
   "source": [
    "df2.shape"
   ]
  },
  {
   "cell_type": "code",
   "execution_count": 309,
   "metadata": {},
   "outputs": [
    {
     "data": {
      "text/plain": [
       "Text(0.5, 1.0, 'Z12')"
      ]
     },
     "execution_count": 309,
     "metadata": {},
     "output_type": "execute_result"
    },
    {
     "data": {
      "image/png": "[encoded data removed]",
      "text/plain": [
       "<Figure size 432x288 with 1 Axes>"
      ]
     },
     "metadata": {
      "needs_background": "light"
     },
     "output_type": "display_data"
    }
   ],
   "source": [
    "x, bins, x = plt.hist(df2.loc[:10000].Z12, alpha=0.5, density=True, label=\"prior\", bins=30, range=[0,0.4])\n",
    "plt.hist(df2[df2['nbodystable']>0].Z12, alpha=0.5, density=True, label=r\"$10^9$ orbits\", bins=bins)\n",
    "# plt.hist(df3.Z12, alpha=0.5, density=True, label=r\"$10^5$ orbits\", bins=bins)\n",
    "# plt.hist(df2.loc[df2.probstability > 0].Z12, alpha=0.5, density=True, bins=bins, label=r\"$10^4$ orbits\")\n",
    "plt.hist(df2.Z12, alpha=0.5, density=True, bins=bins, label=\"spock\", weights = df2.probstability)\n",
    "#plt.hist(df.Z12, alpha=0.5, density=True, bins=bins, label=\"hadden\")\n",
    "plt.legend()\n",
    "plt.title(\"Z12\")"
   ]
  },
  {
   "cell_type": "markdown",
   "metadata": {},
   "source": [
    "# new spock"
   ]
  },
  {
   "cell_type": "code",
   "execution_count": 207,
   "metadata": {},
   "outputs": [
    {
     "data": {
      "text/plain": [
       "Text(0.5, 1.0, 'Z12')"
      ]
     },
     "execution_count": 207,
     "metadata": {},
     "output_type": "execute_result"
    },
    {
     "data": {
      "image/png": "[encoded data removed]",
      "text/plain": [
       "<Figure size 432x288 with 1 Axes>"
      ]
     },
     "metadata": {
      "needs_background": "light"
     },
     "output_type": "display_data"
    }
   ],
   "source": [
    "x, bins, x = plt.hist(df2.loc[:10000].Z12, alpha=0.5, density=True, label=\"prior\", bins=50, range=[0,0.4])\n",
    "plt.hist(df2[df2['nbodystable']>0].Z12, alpha=0.5, density=True, label=r\"$10^9$ orbits\", bins=bins)\n",
    "\n",
    "# plt.hist(df3.Z12, alpha=0.5, density=True, label=r\"$10^5$ orbits\", bins=bins)\n",
    "# plt.hist(df2.loc[df2.probstability > 0].Z12, alpha=0.5, density=True, bins=bins, label=r\"$10^4$ orbits\")\n",
    "plt.hist(df2.Z12, alpha=0.5, density=True, bins=bins, label=\"spock\", weights = df2.probstability_fixed)\n",
    "#plt.hist(df.Z12, alpha=0.5, density=True, bins=bins, label=\"hadden\")\n",
    "plt.legend()\n",
    "plt.title(\"Z12\")"
   ]
  },
  {
   "cell_type": "markdown",
   "metadata": {},
   "source": [
    "# New Nbody stable"
   ]
  },
  {
   "cell_type": "code",
   "execution_count": 365,
   "metadata": {},
   "outputs": [
    {
     "data": {
      "text/plain": [
       "Text(0.5, 1.0, 'Z12')"
      ]
     },
     "execution_count": 365,
     "metadata": {},
     "output_type": "execute_result"
    },
    {
     "data": {
      "image/png": "[encoded data removed]",
      "text/plain": [
       "<Figure size 432x288 with 1 Axes>"
      ]
     },
     "metadata": {
      "needs_background": "light"
     },
     "output_type": "display_data"
    }
   ],
   "source": [
    "x, bins, x = plt.hist(df2.loc[:10000].Z12, alpha=0.5, density=True, label=\"prior\", bins=50, range=[0,0.4])\n",
    "plt.hist(df2[df2['nbodystable']>0].Z12, alpha=0.5, density=True, label=r\"$10^9$ orbits\", bins=bins)\n",
    "\n",
    "# plt.hist(df3.Z12, alpha=0.5, density=True, label=r\"$10^5$ orbits\", bins=bins)\n",
    "# plt.hist(df2.loc[df2.probstability > 0].Z12, alpha=0.5, density=True, bins=bins, label=r\"$10^4$ orbits\")\n",
    "plt.hist(df2.Z12, alpha=0.5, density=True, bins=bins, label=\"spock\", weights = df2.probstability_fixed)\n",
    "plt.hist(df.Z12, alpha=0.5, density=True, bins=bins, label=\"hadden\")\n",
    "plt.legend()\n",
    "plt.title(\"Z12\")"
   ]
  },
  {
   "cell_type": "code",
   "execution_count": 206,
   "metadata": {},
   "outputs": [
    {
     "data": {
      "text/plain": [
       "0.0    19944\n",
       "1.0     7109\n",
       "Name: nbodystable, dtype: int64"
      ]
     },
     "execution_count": 206,
     "metadata": {},
     "output_type": "execute_result"
    }
   ],
   "source": [
    "df2['nbodystable'].value_counts()"
   ]
  },
  {
   "cell_type": "code",
   "execution_count": 247,
   "metadata": {},
   "outputs": [
    {
     "data": {
      "text/plain": [
       "sim                    139.000000\n",
       "k                       -0.019596\n",
       "h                       -0.101267\n",
       "Z12                      0.163512\n",
       "Zcom12                   0.106345\n",
       "Z23                      0.113550\n",
       "Zcom23                   0.076182\n",
       "e1                       0.185096\n",
       "e2                       0.103145\n",
       "e3                       0.070585\n",
       "m1                       0.681545\n",
       "m2                       6.831629\n",
       "m3                       2.096143\n",
       "probstability            0.003420\n",
       "m1+m2                    7.513174\n",
       "m2+m3                    8.927772\n",
       "total m                  9.609317\n",
       "nbodystable              1.000000\n",
       "probstability_fixed      0.013039\n",
       "stable1e5                1.000000\n",
       "Name: 139, dtype: float64"
      ]
     },
     "execution_count": 247,
     "metadata": {},
     "output_type": "execute_result"
    }
   ],
   "source": [
    "df2.loc[139]"
   ]
  },
  {
   "cell_type": "code",
   "execution_count": 245,
   "metadata": {},
   "outputs": [
    {
     "data": {
      "text/plain": [
       "70"
      ]
     },
     "execution_count": 245,
     "metadata": {},
     "output_type": "execute_result"
    }
   ],
   "source": [
    "(df2[df2['nbodystable'] > 0]['probstability_fixed'] < 1.e-5).sum()"
   ]
  },
  {
   "cell_type": "code",
   "execution_count": 246,
   "metadata": {},
   "outputs": [
    {
     "data": {
      "text/plain": [
       "<matplotlib.axes._subplots.AxesSubplot at 0x7f4ebbed9898>"
      ]
     },
     "execution_count": 246,
     "metadata": {},
     "output_type": "execute_result"
    },
    {
     "data": {
      "image/png": "[encoded data removed]",
      "text/plain": [
       "<Figure size 432x288 with 1 Axes>"
      ]
     },
     "metadata": {
      "needs_background": "light"
     },
     "output_type": "display_data"
    }
   ],
   "source": [
    "df2[df2['nbodystable'] > 0]['probstability_fixed'].hist()"
   ]
  },
  {
   "cell_type": "code",
   "execution_count": 110,
   "metadata": {},
   "outputs": [
    {
     "data": {
      "text/plain": [
       "<matplotlib.colorbar.Colorbar at 0x7f4eed582eb8>"
      ]
     },
     "execution_count": 110,
     "metadata": {},
     "output_type": "execute_result"
    },
    {
     "data": {
      "image/png": "[encoded data removed]",
      "text/plain": [
       "<Figure size 432x288 with 2 Axes>"
      ]
     },
     "metadata": {
      "needs_background": "light"
     },
     "output_type": "display_data"
    }
   ],
   "source": [
    "stable = df3['probstability'] > 0\n",
    "\n",
    "fig, ax = plt.subplots()\n",
    "cb = ax.scatter(df3[stable].Z12, df3[stable].Z23,c=df3[stable].probstability)\n",
    "fig.colorbar(cb)"
   ]
  },
  {
   "cell_type": "markdown",
   "metadata": {},
   "source": [
    "# Figure out why large e Nbodys survive"
   ]
  },
  {
   "cell_type": "code",
   "execution_count": 114,
   "metadata": {},
   "outputs": [
    {
     "data": {
      "text/plain": [
       "<matplotlib.colorbar.Colorbar at 0x7f4eed30a0b8>"
      ]
     },
     "execution_count": 114,
     "metadata": {},
     "output_type": "execute_result"
    },
    {
     "data": {
      "image/png": "[encoded data removed]",
      "text/plain": [
       "<Figure size 432x288 with 2 Axes>"
      ]
     },
     "metadata": {
      "needs_background": "light"
     },
     "output_type": "display_data"
    }
   ],
   "source": [
    "pstable = df2['probstability_fixed'] > 0.03\n",
    "           \n",
    "fig, ax = plt.subplots()\n",
    "cb = ax.scatter(df2[pstable].Z12, df2[pstable].Z23,c=df2[pstable].probstability_fixed)\n",
    "fig.colorbar(cb)"
   ]
  },
  {
   "cell_type": "code",
   "execution_count": 101,
   "metadata": {},
   "outputs": [
    {
     "data": {
      "text/plain": [
       "Text(0.5, 0, '$Z_{12}$')"
      ]
     },
     "execution_count": 101,
     "metadata": {},
     "output_type": "execute_result"
    },
    {
     "data": {
      "image/png": "[encoded data removed]",
      "text/plain": [
       "<Figure size 432x288 with 1 Axes>"
      ]
     },
     "metadata": {
      "needs_background": "light"
     },
     "output_type": "display_data"
    }
   ],
   "source": [
    "from scipy.interpolate import interp1d\n",
    "\n",
    "fig, ax = plt.subplots()\n",
    "Nbins=30\n",
    "bins = np.linspace(0, 0.5, Nbins)\n",
    "f_stable, edges = np.histogram(df3.loc[df3.probstability > 0].Z12, bins)\n",
    "f, edges = np.histogram(df3.Z12, bins)\n",
    "ax.bar(edges[:-1], f_stable/f, width=np.diff(edges), edgecolor=\"black\", align=\"edge\")\n",
    "ax.set_xlabel(r'$Z_{12}$')"
   ]
  },
  {
   "cell_type": "code",
   "execution_count": 117,
   "metadata": {},
   "outputs": [
    {
     "data": {
      "text/plain": [
       "Text(0.5, 0, '$Z_{12}$')"
      ]
     },
     "execution_count": 117,
     "metadata": {},
     "output_type": "execute_result"
    },
    {
     "data": {
      "image/png": "[encoded data removed]",
      "text/plain": [
       "<Figure size 432x288 with 1 Axes>"
      ]
     },
     "metadata": {
      "needs_background": "light"
     },
     "output_type": "display_data"
    }
   ],
   "source": [
    "from scipy.interpolate import interp1d\n",
    "\n",
    "fig, ax = plt.subplots()\n",
    "Nbins=30\n",
    "bins = np.linspace(0, 0.5, Nbins)\n",
    "f_stable, edges = np.histogram(df2.Z12, bins, weights=df2['probstability_fixed'])\n",
    "f, edges = np.histogram(df2.Z12, bins)\n",
    "ax.bar(edges[:-1], f_stable/f, width=np.diff(edges), edgecolor=\"black\", align=\"edge\")\n",
    "ax.set_xlabel(r'$Z_{12}$')"
   ]
  },
  {
   "cell_type": "code",
   "execution_count": 120,
   "metadata": {},
   "outputs": [
    {
     "data": {
      "text/plain": [
       "(7109, 17)"
      ]
     },
     "execution_count": 120,
     "metadata": {},
     "output_type": "execute_result"
    }
   ],
   "source": [
    "df3.shape"
   ]
  },
  {
   "cell_type": "code",
   "execution_count": 121,
   "metadata": {},
   "outputs": [
    {
     "data": {
      "text/plain": [
       "(27053, 18)"
      ]
     },
     "execution_count": 121,
     "metadata": {},
     "output_type": "execute_result"
    }
   ],
   "source": [
    "df2.shape"
   ]
  },
  {
   "cell_type": "code",
   "execution_count": 95,
   "metadata": {},
   "outputs": [
    {
     "data": {
      "text/plain": [
       "6.0"
      ]
     },
     "execution_count": 95,
     "metadata": {},
     "output_type": "execute_result"
    }
   ],
   "source": [
    "t = df3[df3.Z12 > 0.4]\n",
    "t['probstability'].sum()"
   ]
  },
  {
   "cell_type": "code",
   "execution_count": 147,
   "metadata": {},
   "outputs": [
    {
     "data": {
      "text/plain": [
       "0.08770775442418524"
      ]
     },
     "execution_count": 147,
     "metadata": {},
     "output_type": "execute_result"
    }
   ],
   "source": [
    "np.quantile(df3.loc[df3.probstability > 0].Z12, 0.84)\n",
    "np.quantile(df3.loc[df3.probstability > 0].Z23, 0.84)"
   ]
  },
  {
   "cell_type": "markdown",
   "metadata": {},
   "source": [
    "# Old spock"
   ]
  },
  {
   "cell_type": "code",
   "execution_count": 85,
   "metadata": {},
   "outputs": [
    {
     "data": {
      "text/plain": [
       "Text(0.5, 1.0, 'Z23')"
      ]
     },
     "execution_count": 85,
     "metadata": {},
     "output_type": "execute_result"
    },
    {
     "data": {
      "image/png": "[encoded data removed]",
      "text/plain": [
       "<Figure size 432x288 with 1 Axes>"
      ]
     },
     "metadata": {
      "needs_background": "light"
     },
     "output_type": "display_data"
    }
   ],
   "source": [
    "x, bins, x = plt.hist(df2.loc[:10000].Z23, alpha=0.5, density=True, label=\"prior\", bins=30, range=[0,0.3])\n",
    "plt.hist(df3.loc[df3.probstability > 0].Z23, alpha=0.5, density=True, label=r\"$10^9$ orbits\", bins=bins)\n",
    "# plt.hist(df3.Z23, alpha=0.5, density=True, label=r\"$10^5$ orbits\", bins=bins)\n",
    "# plt.hist(df2.loc[df2.probstability > 0].Z23, alpha=0.5, density=True, bins=bins, label=r\"$10^4$ orbits\")\n",
    "plt.hist(df2.Z23, alpha=0.5, density=True, bins=bins, label=\"spock\", weights = df2.probstability)\n",
    "# plt.hist(df.Z23, alpha=0.5, density=True, bins=bins, label=\"hadden\")\n",
    "plt.legend()\n",
    "plt.title(\"Z23\")"
   ]
  },
  {
   "cell_type": "markdown",
   "metadata": {},
   "source": [
    "# new spock"
   ]
  },
  {
   "cell_type": "code",
   "execution_count": 84,
   "metadata": {},
   "outputs": [
    {
     "data": {
      "text/plain": [
       "Text(0.5, 1.0, 'Z23')"
      ]
     },
     "execution_count": 84,
     "metadata": {},
     "output_type": "execute_result"
    },
    {
     "data": {
      "image/png": "[encoded data removed]",
      "text/plain": [
       "<Figure size 432x288 with 1 Axes>"
      ]
     },
     "metadata": {
      "needs_background": "light"
     },
     "output_type": "display_data"
    }
   ],
   "source": [
    "x, bins, x = plt.hist(df2.loc[:10000].Z23, alpha=0.5, density=True, label=\"prior\", bins=30, range=[0,0.3])\n",
    "plt.hist(df3.loc[df3.probstability > 0].Z23, alpha=0.5, density=True, label=r\"$10^9$ orbits\", bins=bins)\n",
    "# plt.hist(df3.Z23, alpha=0.5, density=True, label=r\"$10^5$ orbits\", bins=bins)\n",
    "# plt.hist(df2.loc[df2.probstability > 0].Z23, alpha=0.5, density=True, bins=bins, label=r\"$10^4$ orbits\")\n",
    "plt.hist(df2.Z23, alpha=0.5, density=True, bins=bins, label=\"spock\", weights = df2.probstability_fixed)\n",
    "# plt.hist(df.Z23, alpha=0.5, density=True, bins=bins, label=\"hadden\")\n",
    "plt.legend()\n",
    "plt.title(\"Z23\")"
   ]
  },
  {
   "cell_type": "code",
   "execution_count": 312,
   "metadata": {},
   "outputs": [
    {
     "data": {
      "text/plain": [
       "Text(0.5, 1.0, 'Z23')"
      ]
     },
     "execution_count": 312,
     "metadata": {},
     "output_type": "execute_result"
    },
    {
     "data": {
      "image/png": "[encoded data removed]",
      "text/plain": [
       "<Figure size 432x288 with 1 Axes>"
      ]
     },
     "metadata": {
      "needs_background": "light"
     },
     "output_type": "display_data"
    }
   ],
   "source": [
    "x, bins, x = plt.hist(df2.loc[:10000].Z23, alpha=0.5, density=True, label=\"prior\", bins=30, range=[0,0.3])\n",
    "plt.hist(df2[df2['nbodystable']>0].Z23, alpha=0.5, density=True, label=r\"$10^9$ orbits\", bins=bins)\n",
    "# plt.hist(df3.Z23, alpha=0.5, density=True, label=r\"$10^5$ orbits\", bins=bins)\n",
    "# plt.hist(df2.loc[df2.probstability > 0].Z23, alpha=0.5, density=True, bins=bins, label=r\"$10^4$ orbits\")\n",
    "plt.hist(df2.Z23, alpha=0.5, density=True, bins=bins, label=\"spock\", weights = df2.probstability_fixed)\n",
    "# plt.hist(df.Z23, alpha=0.5, density=True, bins=bins, label=\"hadden\")\n",
    "plt.legend()\n",
    "plt.title(\"Z23\")"
   ]
  },
  {
   "cell_type": "code",
   "execution_count": 130,
   "metadata": {},
   "outputs": [
    {
     "data": {
      "text/plain": [
       "sim                    139.000000\n",
       "k                       -0.019596\n",
       "h                       -0.101267\n",
       "Z12                      0.163509\n",
       "Zcom12                   0.106345\n",
       "Z23                      0.121643\n",
       "Zcom23                   0.076182\n",
       "e1                       0.185096\n",
       "e2                       0.103145\n",
       "e3                       0.070585\n",
       "m1                       0.681545\n",
       "m2                       6.831629\n",
       "m3                       2.096143\n",
       "probstability            0.003420\n",
       "m1+m2                    7.513174\n",
       "m2+m3                    8.927772\n",
       "total m                  9.609317\n",
       "probstability_fixed      0.013039\n",
       "Name: 139, dtype: float64"
      ]
     },
     "execution_count": 130,
     "metadata": {},
     "output_type": "execute_result"
    }
   ],
   "source": [
    "df2.loc[139]"
   ]
  },
  {
   "cell_type": "code",
   "execution_count": 131,
   "metadata": {},
   "outputs": [
    {
     "data": {
      "text/html": [
       "<div>\n",
       "<style scoped>\n",
       "    .dataframe tbody tr th:only-of-type {\n",
       "        vertical-align: middle;\n",
       "    }\n",
       "\n",
       "    .dataframe tbody tr th {\n",
       "        vertical-align: top;\n",
       "    }\n",
       "\n",
       "    .dataframe thead th {\n",
       "        text-align: right;\n",
       "    }\n",
       "</style>\n",
       "<table border=\"1\" class=\"dataframe\">\n",
       "  <thead>\n",
       "    <tr style=\"text-align: right;\">\n",
       "      <th></th>\n",
       "      <th>sim</th>\n",
       "      <th>k</th>\n",
       "      <th>h</th>\n",
       "      <th>Z12</th>\n",
       "      <th>Zcom12</th>\n",
       "      <th>Z23</th>\n",
       "      <th>Zcom23</th>\n",
       "      <th>e1</th>\n",
       "      <th>e2</th>\n",
       "      <th>e3</th>\n",
       "      <th>m1</th>\n",
       "      <th>m2</th>\n",
       "      <th>m3</th>\n",
       "      <th>probstability</th>\n",
       "      <th>m1+m2</th>\n",
       "      <th>m2+m3</th>\n",
       "      <th>total m</th>\n",
       "    </tr>\n",
       "  </thead>\n",
       "  <tbody>\n",
       "    <tr>\n",
       "      <th>7104</th>\n",
       "      <td>1998776.0</td>\n",
       "      <td>0.036849</td>\n",
       "      <td>0.098575</td>\n",
       "      <td>0.043146</td>\n",
       "      <td>0.112573</td>\n",
       "      <td>0.091209</td>\n",
       "      <td>0.078202</td>\n",
       "      <td>0.064217</td>\n",
       "      <td>0.105237</td>\n",
       "      <td>0.033132</td>\n",
       "      <td>1.355761</td>\n",
       "      <td>5.358682</td>\n",
       "      <td>2.304572</td>\n",
       "      <td>0.0</td>\n",
       "      <td>6.714443</td>\n",
       "      <td>7.663253</td>\n",
       "      <td>9.019014</td>\n",
       "    </tr>\n",
       "    <tr>\n",
       "      <th>7105</th>\n",
       "      <td>1999190.0</td>\n",
       "      <td>-0.037368</td>\n",
       "      <td>-0.069571</td>\n",
       "      <td>0.111063</td>\n",
       "      <td>0.090683</td>\n",
       "      <td>0.086250</td>\n",
       "      <td>0.085810</td>\n",
       "      <td>0.154516</td>\n",
       "      <td>0.078972</td>\n",
       "      <td>0.129648</td>\n",
       "      <td>1.179989</td>\n",
       "      <td>16.862485</td>\n",
       "      <td>1.334641</td>\n",
       "      <td>1.0</td>\n",
       "      <td>18.042474</td>\n",
       "      <td>18.197126</td>\n",
       "      <td>19.377115</td>\n",
       "    </tr>\n",
       "    <tr>\n",
       "      <th>7106</th>\n",
       "      <td>1999275.0</td>\n",
       "      <td>0.051894</td>\n",
       "      <td>-0.012013</td>\n",
       "      <td>0.163362</td>\n",
       "      <td>0.065555</td>\n",
       "      <td>0.062305</td>\n",
       "      <td>0.056360</td>\n",
       "      <td>0.269784</td>\n",
       "      <td>0.053266</td>\n",
       "      <td>0.048871</td>\n",
       "      <td>0.734743</td>\n",
       "      <td>89.384733</td>\n",
       "      <td>1.073128</td>\n",
       "      <td>0.0</td>\n",
       "      <td>90.119477</td>\n",
       "      <td>90.457862</td>\n",
       "      <td>91.192605</td>\n",
       "    </tr>\n",
       "    <tr>\n",
       "      <th>7107</th>\n",
       "      <td>1999466.0</td>\n",
       "      <td>-0.010441</td>\n",
       "      <td>0.003408</td>\n",
       "      <td>0.028842</td>\n",
       "      <td>0.012843</td>\n",
       "      <td>0.023422</td>\n",
       "      <td>0.009040</td>\n",
       "      <td>0.039781</td>\n",
       "      <td>0.010983</td>\n",
       "      <td>0.022669</td>\n",
       "      <td>0.338341</td>\n",
       "      <td>16.961854</td>\n",
       "      <td>3.006192</td>\n",
       "      <td>0.0</td>\n",
       "      <td>17.300195</td>\n",
       "      <td>19.968046</td>\n",
       "      <td>20.306386</td>\n",
       "    </tr>\n",
       "    <tr>\n",
       "      <th>7108</th>\n",
       "      <td>1999969.0</td>\n",
       "      <td>-0.010202</td>\n",
       "      <td>-0.017687</td>\n",
       "      <td>0.046017</td>\n",
       "      <td>0.032291</td>\n",
       "      <td>0.055703</td>\n",
       "      <td>0.033609</td>\n",
       "      <td>0.095140</td>\n",
       "      <td>0.020418</td>\n",
       "      <td>0.050637</td>\n",
       "      <td>1.370333</td>\n",
       "      <td>14.249430</td>\n",
       "      <td>32.821779</td>\n",
       "      <td>0.0</td>\n",
       "      <td>15.619763</td>\n",
       "      <td>47.071209</td>\n",
       "      <td>48.441542</td>\n",
       "    </tr>\n",
       "  </tbody>\n",
       "</table>\n",
       "</div>"
      ],
      "text/plain": [
       "            sim         k         h       Z12    Zcom12       Z23    Zcom23  \\\n",
       "7104  1998776.0  0.036849  0.098575  0.043146  0.112573  0.091209  0.078202   \n",
       "7105  1999190.0 -0.037368 -0.069571  0.111063  0.090683  0.086250  0.085810   \n",
       "7106  1999275.0  0.051894 -0.012013  0.163362  0.065555  0.062305  0.056360   \n",
       "7107  1999466.0 -0.010441  0.003408  0.028842  0.012843  0.023422  0.009040   \n",
       "7108  1999969.0 -0.010202 -0.017687  0.046017  0.032291  0.055703  0.033609   \n",
       "\n",
       "            e1        e2        e3        m1         m2         m3  \\\n",
       "7104  0.064217  0.105237  0.033132  1.355761   5.358682   2.304572   \n",
       "7105  0.154516  0.078972  0.129648  1.179989  16.862485   1.334641   \n",
       "7106  0.269784  0.053266  0.048871  0.734743  89.384733   1.073128   \n",
       "7107  0.039781  0.010983  0.022669  0.338341  16.961854   3.006192   \n",
       "7108  0.095140  0.020418  0.050637  1.370333  14.249430  32.821779   \n",
       "\n",
       "      probstability      m1+m2      m2+m3    total m  \n",
       "7104            0.0   6.714443   7.663253   9.019014  \n",
       "7105            1.0  18.042474  18.197126  19.377115  \n",
       "7106            0.0  90.119477  90.457862  91.192605  \n",
       "7107            0.0  17.300195  19.968046  20.306386  \n",
       "7108            0.0  15.619763  47.071209  48.441542  "
      ]
     },
     "execution_count": 131,
     "metadata": {},
     "output_type": "execute_result"
    }
   ],
   "source": [
    "df3.tail()"
   ]
  },
  {
   "cell_type": "code",
   "execution_count": 132,
   "metadata": {},
   "outputs": [
    {
     "data": {
      "text/html": [
       "<div>\n",
       "<style scoped>\n",
       "    .dataframe tbody tr th:only-of-type {\n",
       "        vertical-align: middle;\n",
       "    }\n",
       "\n",
       "    .dataframe tbody tr th {\n",
       "        vertical-align: top;\n",
       "    }\n",
       "\n",
       "    .dataframe thead th {\n",
       "        text-align: right;\n",
       "    }\n",
       "</style>\n",
       "<table border=\"1\" class=\"dataframe\">\n",
       "  <thead>\n",
       "    <tr style=\"text-align: right;\">\n",
       "      <th></th>\n",
       "      <th>sim</th>\n",
       "      <th>k</th>\n",
       "      <th>h</th>\n",
       "      <th>Z12</th>\n",
       "      <th>Zcom12</th>\n",
       "      <th>Z23</th>\n",
       "      <th>Zcom23</th>\n",
       "      <th>e1</th>\n",
       "      <th>e2</th>\n",
       "      <th>e3</th>\n",
       "      <th>m1</th>\n",
       "      <th>m2</th>\n",
       "      <th>m3</th>\n",
       "      <th>probstability</th>\n",
       "      <th>m1+m2</th>\n",
       "      <th>m2+m3</th>\n",
       "      <th>total m</th>\n",
       "      <th>probstability_fixed</th>\n",
       "    </tr>\n",
       "  </thead>\n",
       "  <tbody>\n",
       "    <tr>\n",
       "      <th>27048</th>\n",
       "      <td>1999380.0</td>\n",
       "      <td>0.117442</td>\n",
       "      <td>-0.101202</td>\n",
       "      <td>0.201449</td>\n",
       "      <td>0.139535</td>\n",
       "      <td>0.110277</td>\n",
       "      <td>0.141930</td>\n",
       "      <td>0.198727</td>\n",
       "      <td>0.155031</td>\n",
       "      <td>0.014555</td>\n",
       "      <td>0.800355</td>\n",
       "      <td>3.638946</td>\n",
       "      <td>0.767791</td>\n",
       "      <td>0.003473</td>\n",
       "      <td>4.439301</td>\n",
       "      <td>4.406737</td>\n",
       "      <td>5.207092</td>\n",
       "      <td>0.007788</td>\n",
       "    </tr>\n",
       "    <tr>\n",
       "      <th>27049</th>\n",
       "      <td>1999466.0</td>\n",
       "      <td>-0.010441</td>\n",
       "      <td>0.003408</td>\n",
       "      <td>0.028842</td>\n",
       "      <td>0.012843</td>\n",
       "      <td>0.023422</td>\n",
       "      <td>0.009040</td>\n",
       "      <td>0.039781</td>\n",
       "      <td>0.010983</td>\n",
       "      <td>0.022669</td>\n",
       "      <td>0.338341</td>\n",
       "      <td>16.961854</td>\n",
       "      <td>3.006192</td>\n",
       "      <td>0.992900</td>\n",
       "      <td>17.300195</td>\n",
       "      <td>19.968046</td>\n",
       "      <td>20.306386</td>\n",
       "      <td>0.796429</td>\n",
       "    </tr>\n",
       "    <tr>\n",
       "      <th>27050</th>\n",
       "      <td>1999693.0</td>\n",
       "      <td>-0.107794</td>\n",
       "      <td>0.007459</td>\n",
       "      <td>0.075412</td>\n",
       "      <td>0.120738</td>\n",
       "      <td>0.071519</td>\n",
       "      <td>0.119870</td>\n",
       "      <td>0.088874</td>\n",
       "      <td>0.108052</td>\n",
       "      <td>0.175515</td>\n",
       "      <td>3.811535</td>\n",
       "      <td>31.682349</td>\n",
       "      <td>1.556460</td>\n",
       "      <td>0.006749</td>\n",
       "      <td>35.493884</td>\n",
       "      <td>33.238809</td>\n",
       "      <td>37.050344</td>\n",
       "      <td>0.005343</td>\n",
       "    </tr>\n",
       "    <tr>\n",
       "      <th>27051</th>\n",
       "      <td>1999943.0</td>\n",
       "      <td>-0.146544</td>\n",
       "      <td>0.185455</td>\n",
       "      <td>0.130139</td>\n",
       "      <td>0.262373</td>\n",
       "      <td>0.082599</td>\n",
       "      <td>0.193714</td>\n",
       "      <td>0.224166</td>\n",
       "      <td>0.236365</td>\n",
       "      <td>0.140135</td>\n",
       "      <td>0.531844</td>\n",
       "      <td>2.151475</td>\n",
       "      <td>6.440106</td>\n",
       "      <td>0.000814</td>\n",
       "      <td>2.683319</td>\n",
       "      <td>8.591580</td>\n",
       "      <td>9.123424</td>\n",
       "      <td>0.006733</td>\n",
       "    </tr>\n",
       "    <tr>\n",
       "      <th>27052</th>\n",
       "      <td>1999969.0</td>\n",
       "      <td>-0.010202</td>\n",
       "      <td>-0.017687</td>\n",
       "      <td>0.046017</td>\n",
       "      <td>0.032291</td>\n",
       "      <td>0.055703</td>\n",
       "      <td>0.033609</td>\n",
       "      <td>0.095140</td>\n",
       "      <td>0.020418</td>\n",
       "      <td>0.050637</td>\n",
       "      <td>1.370333</td>\n",
       "      <td>14.249430</td>\n",
       "      <td>32.821779</td>\n",
       "      <td>0.009400</td>\n",
       "      <td>15.619763</td>\n",
       "      <td>47.071209</td>\n",
       "      <td>48.441542</td>\n",
       "      <td>0.012635</td>\n",
       "    </tr>\n",
       "  </tbody>\n",
       "</table>\n",
       "</div>"
      ],
      "text/plain": [
       "             sim         k         h       Z12    Zcom12       Z23    Zcom23  \\\n",
       "27048  1999380.0  0.117442 -0.101202  0.201449  0.139535  0.110277  0.141930   \n",
       "27049  1999466.0 -0.010441  0.003408  0.028842  0.012843  0.023422  0.009040   \n",
       "27050  1999693.0 -0.107794  0.007459  0.075412  0.120738  0.071519  0.119870   \n",
       "27051  1999943.0 -0.146544  0.185455  0.130139  0.262373  0.082599  0.193714   \n",
       "27052  1999969.0 -0.010202 -0.017687  0.046017  0.032291  0.055703  0.033609   \n",
       "\n",
       "             e1        e2        e3        m1         m2         m3  \\\n",
       "27048  0.198727  0.155031  0.014555  0.800355   3.638946   0.767791   \n",
       "27049  0.039781  0.010983  0.022669  0.338341  16.961854   3.006192   \n",
       "27050  0.088874  0.108052  0.175515  3.811535  31.682349   1.556460   \n",
       "27051  0.224166  0.236365  0.140135  0.531844   2.151475   6.440106   \n",
       "27052  0.095140  0.020418  0.050637  1.370333  14.249430  32.821779   \n",
       "\n",
       "       probstability      m1+m2      m2+m3    total m  probstability_fixed  \n",
       "27048       0.003473   4.439301   4.406737   5.207092             0.007788  \n",
       "27049       0.992900  17.300195  19.968046  20.306386             0.796429  \n",
       "27050       0.006749  35.493884  33.238809  37.050344             0.005343  \n",
       "27051       0.000814   2.683319   8.591580   9.123424             0.006733  \n",
       "27052       0.009400  15.619763  47.071209  48.441542             0.012635  "
      ]
     },
     "execution_count": 132,
     "metadata": {},
     "output_type": "execute_result"
    }
   ],
   "source": [
    "df2.tail()"
   ]
  },
  {
   "cell_type": "code",
   "execution_count": 114,
   "metadata": {},
   "outputs": [],
   "source": [
    "df4 = df3.loc[df3.probstability > 0]\n",
    "df4 = df4.loc[df4.Z12 > 0.25]"
   ]
  },
  {
   "cell_type": "code",
   "execution_count": 136,
   "metadata": {},
   "outputs": [],
   "source": [
    "df4;"
   ]
  },
  {
   "cell_type": "code",
   "execution_count": 138,
   "metadata": {},
   "outputs": [
    {
     "data": {
      "text/plain": [
       "(<Figure size 360x360 with 1 Axes>,\n",
       " <matplotlib.axes._subplots.AxesSubplot at 0x7fae7a6e3fd0>)"
      ]
     },
     "execution_count": 138,
     "metadata": {},
     "output_type": "execute_result"
    },
    {
     "data": {
      "image/png": "[encoded data removed]",
      "text/plain": [
       "<Figure size 360x360 with 1 Axes>"
      ]
     },
     "metadata": {
      "needs_background": "light"
     },
     "output_type": "display_data"
    },
    {
     "data": {
      "image/png": "[encoded data removed]",
      "text/plain": [
       "<Figure size 360x360 with 1 Axes>"
      ]
     },
     "metadata": {
      "needs_background": "light"
     },
     "output_type": "display_data"
    }
   ],
   "source": [
    "sim = rebound.SimulationArchive(\"K23/K23_logm_start_%d.bin\"%(int(df4.sim.iloc[0])))[0]\n",
    "rebound.OrbitPlot(sim)\n",
    "P1 = sim.particles[1].P\n",
    "maxorbs = 1e6\n",
    "sim.integrate(maxorbs * P1, exact_finish_time=0)\n",
    "rebound.OrbitPlot(sim)"
   ]
  },
  {
   "cell_type": "code",
   "execution_count": 143,
   "metadata": {},
   "outputs": [
    {
     "name": "stdout",
     "output_type": "stream",
     "text": [
      "---------------------------------\n",
      "REBOUND version:     \t3.12.1\n",
      "REBOUND built on:    \tMar 17 2020 15:28:58\n",
      "Number of particles: \t4\n",
      "Selected integrator: \twhfast\n",
      "Simulation time:     \t0.0000000000000000e+00\n",
      "Current timestep:    \t0.004322\n",
      "---------------------------------\n",
      "<rebound.Particle object, m=1.055829268737029 x=-6.943939601097393e-06 y=-4.424962041816582e-06 z=2.021073987697693e-08 vx=0.00014755501084640118 vy=-0.0002379244931923872 vz=5.243681923140896e-06>\n",
      "<rebound.Particle object, m=4.16932561680511e-06 x=0.09920050660794036 y=-0.04162269512779508 z=0.0007410123772195609 vx=0.693439582259841 vy=2.193409158582374 vz=-0.04591066073455772>\n",
      "<rebound.Particle object, m=8.863647054784092e-05 x=0.08191852207752205 y=0.05183126567123616 z=-0.00033048129214195915 vx=-1.7068628710729172 vy=2.825140240627406 vz=-0.05981850640832024>\n",
      "<rebound.Particle object, m=3.6317427139575493e-06 x=-0.09443213318737342 y=0.06922366822546742 z=0.0013393247013907276 vx=-2.0358749492327943 vy=-2.2985805219281774 vz=-0.011816661701432711>\n",
      "---------------------------------\n"
     ]
    }
   ],
   "source": [
    "sim = rebound.SimulationArchive(\"K23/K23_logm_start_%d.bin\"%(int(df4.sim.iloc[0])))[0]\n",
    "sim.status()"
   ]
  },
  {
   "cell_type": "code",
   "execution_count": 123,
   "metadata": {},
   "outputs": [],
   "source": []
  },
  {
   "cell_type": "code",
   "execution_count": null,
   "metadata": {},
   "outputs": [],
   "source": []
  }
 ],
 "metadata": {
  "kernelspec": {
   "display_name": "Python 3",
   "language": "python",
   "name": "python3"
  },
  "language_info": {
   "codemirror_mode": {
    "name": "ipython",
    "version": 3
   },
   "file_extension": ".py",
   "mimetype": "text/x-python",
   "name": "python",
   "nbconvert_exporter": "python",
   "pygments_lexer": "ipython3",
   "version": "3.7.3"
  }
 },
 "nbformat": 4,
 "nbformat_minor": 2
}
