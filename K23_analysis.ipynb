{
 "cells": [
  {
   "cell_type": "code",
   "execution_count": 18,
   "metadata": {},
   "outputs": [],
   "source": [
    "import rebound\n",
    "import numpy as np\n",
    "import pandas as pd\n",
    "import matplotlib.pyplot as plt\n",
    "import dask.dataframe as dd\n",
    "from scipy.interpolate import interp1d\n",
    "plt.style.use('paper.mplstyle')\n",
    "%matplotlib inline"
   ]
  },
  {
   "cell_type": "code",
   "execution_count": 36,
   "metadata": {},
   "outputs": [
    {
     "data": {
      "text/html": [
       "<div>\n",
       "<style scoped>\n",
       "    .dataframe tbody tr th:only-of-type {\n",
       "        vertical-align: middle;\n",
       "    }\n",
       "\n",
       "    .dataframe tbody tr th {\n",
       "        vertical-align: top;\n",
       "    }\n",
       "\n",
       "    .dataframe thead th {\n",
       "        text-align: right;\n",
       "    }\n",
       "</style>\n",
       "<table border=\"1\" class=\"dataframe\">\n",
       "  <thead>\n",
       "    <tr style=\"text-align: right;\">\n",
       "      <th></th>\n",
       "      <th>mu0</th>\n",
       "      <th>per0</th>\n",
       "      <th>h0</th>\n",
       "      <th>k0</th>\n",
       "      <th>Tc0</th>\n",
       "      <th>mu1</th>\n",
       "      <th>per1</th>\n",
       "      <th>h1</th>\n",
       "      <th>k1</th>\n",
       "      <th>Tc1</th>\n",
       "      <th>...</th>\n",
       "      <th>e0</th>\n",
       "      <th>mean_long0</th>\n",
       "      <th>pomega1</th>\n",
       "      <th>e1</th>\n",
       "      <th>mean_long1</th>\n",
       "      <th>pomega2</th>\n",
       "      <th>e2</th>\n",
       "      <th>mean_long2</th>\n",
       "      <th>Z12</th>\n",
       "      <th>Z23</th>\n",
       "    </tr>\n",
       "  </thead>\n",
       "  <tbody>\n",
       "    <tr>\n",
       "      <th>249995</th>\n",
       "      <td>0.000003</td>\n",
       "      <td>7.105870</td>\n",
       "      <td>-0.038511</td>\n",
       "      <td>-0.196506</td>\n",
       "      <td>57.031001</td>\n",
       "      <td>0.000006</td>\n",
       "      <td>10.743525</td>\n",
       "      <td>0.032910</td>\n",
       "      <td>-0.196457</td>\n",
       "      <td>55.659821</td>\n",
       "      <td>...</td>\n",
       "      <td>0.200244</td>\n",
       "      <td>6.120452</td>\n",
       "      <td>-1.404821</td>\n",
       "      <td>0.199195</td>\n",
       "      <td>5.147323</td>\n",
       "      <td>-1.075444</td>\n",
       "      <td>0.199238</td>\n",
       "      <td>4.333169</td>\n",
       "      <td>0.057631</td>\n",
       "      <td>0.052884</td>\n",
       "    </tr>\n",
       "    <tr>\n",
       "      <th>249996</th>\n",
       "      <td>0.000003</td>\n",
       "      <td>7.106110</td>\n",
       "      <td>-0.069445</td>\n",
       "      <td>0.025974</td>\n",
       "      <td>56.975209</td>\n",
       "      <td>0.000006</td>\n",
       "      <td>10.743671</td>\n",
       "      <td>0.000208</td>\n",
       "      <td>-0.003399</td>\n",
       "      <td>55.525812</td>\n",
       "      <td>...</td>\n",
       "      <td>0.074143</td>\n",
       "      <td>6.171487</td>\n",
       "      <td>-1.509681</td>\n",
       "      <td>0.003406</td>\n",
       "      <td>5.226137</td>\n",
       "      <td>-0.406624</td>\n",
       "      <td>0.062597</td>\n",
       "      <td>4.431526</td>\n",
       "      <td>0.048022</td>\n",
       "      <td>0.047269</td>\n",
       "    </tr>\n",
       "    <tr>\n",
       "      <th>249997</th>\n",
       "      <td>0.000004</td>\n",
       "      <td>7.106614</td>\n",
       "      <td>-0.001841</td>\n",
       "      <td>-0.075112</td>\n",
       "      <td>57.111239</td>\n",
       "      <td>0.000004</td>\n",
       "      <td>10.743291</td>\n",
       "      <td>0.044821</td>\n",
       "      <td>-0.081911</td>\n",
       "      <td>55.689775</td>\n",
       "      <td>...</td>\n",
       "      <td>0.075134</td>\n",
       "      <td>6.054789</td>\n",
       "      <td>-1.070109</td>\n",
       "      <td>0.093372</td>\n",
       "      <td>5.129095</td>\n",
       "      <td>-0.580675</td>\n",
       "      <td>0.077984</td>\n",
       "      <td>4.414196</td>\n",
       "      <td>0.039443</td>\n",
       "      <td>0.029061</td>\n",
       "    </tr>\n",
       "    <tr>\n",
       "      <th>249998</th>\n",
       "      <td>0.000003</td>\n",
       "      <td>7.106508</td>\n",
       "      <td>-0.087985</td>\n",
       "      <td>0.084049</td>\n",
       "      <td>56.927508</td>\n",
       "      <td>0.000004</td>\n",
       "      <td>10.743239</td>\n",
       "      <td>-0.016223</td>\n",
       "      <td>0.039809</td>\n",
       "      <td>55.475669</td>\n",
       "      <td>...</td>\n",
       "      <td>0.121678</td>\n",
       "      <td>6.216482</td>\n",
       "      <td>1.957768</td>\n",
       "      <td>0.042988</td>\n",
       "      <td>5.254157</td>\n",
       "      <td>0.894684</td>\n",
       "      <td>0.026970</td>\n",
       "      <td>4.517402</td>\n",
       "      <td>0.048540</td>\n",
       "      <td>0.025173</td>\n",
       "    </tr>\n",
       "    <tr>\n",
       "      <th>249999</th>\n",
       "      <td>0.000004</td>\n",
       "      <td>7.106154</td>\n",
       "      <td>-0.122730</td>\n",
       "      <td>-0.000055</td>\n",
       "      <td>56.853333</td>\n",
       "      <td>0.000009</td>\n",
       "      <td>10.743234</td>\n",
       "      <td>-0.046245</td>\n",
       "      <td>-0.023290</td>\n",
       "      <td>55.364239</td>\n",
       "      <td>...</td>\n",
       "      <td>0.122730</td>\n",
       "      <td>6.279559</td>\n",
       "      <td>-2.675062</td>\n",
       "      <td>0.051779</td>\n",
       "      <td>5.319310</td>\n",
       "      <td>-2.470655</td>\n",
       "      <td>0.004345</td>\n",
       "      <td>4.557613</td>\n",
       "      <td>0.045531</td>\n",
       "      <td>0.029906</td>\n",
       "    </tr>\n",
       "  </tbody>\n",
       "</table>\n",
       "<p>5 rows × 26 columns</p>\n",
       "</div>"
      ],
      "text/plain": [
       "             mu0      per0        h0        k0        Tc0       mu1  \\\n",
       "249995  0.000003  7.105870 -0.038511 -0.196506  57.031001  0.000006   \n",
       "249996  0.000003  7.106110 -0.069445  0.025974  56.975209  0.000006   \n",
       "249997  0.000004  7.106614 -0.001841 -0.075112  57.111239  0.000004   \n",
       "249998  0.000003  7.106508 -0.087985  0.084049  56.927508  0.000004   \n",
       "249999  0.000004  7.106154 -0.122730 -0.000055  56.853333  0.000009   \n",
       "\n",
       "             per1        h1        k1        Tc1  ...        e0  mean_long0  \\\n",
       "249995  10.743525  0.032910 -0.196457  55.659821  ...  0.200244    6.120452   \n",
       "249996  10.743671  0.000208 -0.003399  55.525812  ...  0.074143    6.171487   \n",
       "249997  10.743291  0.044821 -0.081911  55.689775  ...  0.075134    6.054789   \n",
       "249998  10.743239 -0.016223  0.039809  55.475669  ...  0.121678    6.216482   \n",
       "249999  10.743234 -0.046245 -0.023290  55.364239  ...  0.122730    6.279559   \n",
       "\n",
       "         pomega1        e1  mean_long1   pomega2        e2  mean_long2  \\\n",
       "249995 -1.404821  0.199195    5.147323 -1.075444  0.199238    4.333169   \n",
       "249996 -1.509681  0.003406    5.226137 -0.406624  0.062597    4.431526   \n",
       "249997 -1.070109  0.093372    5.129095 -0.580675  0.077984    4.414196   \n",
       "249998  1.957768  0.042988    5.254157  0.894684  0.026970    4.517402   \n",
       "249999 -2.675062  0.051779    5.319310 -2.470655  0.004345    4.557613   \n",
       "\n",
       "             Z12       Z23  \n",
       "249995  0.057631  0.052884  \n",
       "249996  0.048022  0.047269  \n",
       "249997  0.039443  0.029061  \n",
       "249998  0.048540  0.025173  \n",
       "249999  0.045531  0.029906  \n",
       "\n",
       "[5 rows x 26 columns]"
      ]
     },
     "execution_count": 36,
     "metadata": {},
     "output_type": "execute_result"
    }
   ],
   "source": [
    "dfhadden = pd.read_csv(\"Kepler-23_default_priors.csv\", index_col=0)\n",
    "dfhadden.tail()"
   ]
  },
  {
   "cell_type": "code",
   "execution_count": 2,
   "metadata": {},
   "outputs": [
    {
     "data": {
      "text/html": [
       "<div>\n",
       "<style scoped>\n",
       "    .dataframe tbody tr th:only-of-type {\n",
       "        vertical-align: middle;\n",
       "    }\n",
       "\n",
       "    .dataframe tbody tr th {\n",
       "        vertical-align: top;\n",
       "    }\n",
       "\n",
       "    .dataframe thead th {\n",
       "        text-align: right;\n",
       "    }\n",
       "</style>\n",
       "<table border=\"1\" class=\"dataframe\">\n",
       "  <thead>\n",
       "    <tr style=\"text-align: right;\">\n",
       "      <th></th>\n",
       "      <th>sim</th>\n",
       "      <th>Mstar</th>\n",
       "      <th>Z12</th>\n",
       "      <th>Zcom12</th>\n",
       "      <th>Z23</th>\n",
       "      <th>Zcom23</th>\n",
       "      <th>e1</th>\n",
       "      <th>e2</th>\n",
       "      <th>e3</th>\n",
       "      <th>mu1</th>\n",
       "      <th>mu2</th>\n",
       "      <th>mu3</th>\n",
       "      <th>mu1+mu2</th>\n",
       "      <th>mu2+mu3</th>\n",
       "      <th>mutot</th>\n",
       "      <th>t_instability</th>\n",
       "      <th>nbodystable</th>\n",
       "      <th>spockprob</th>\n",
       "    </tr>\n",
       "  </thead>\n",
       "  <tbody>\n",
       "    <tr>\n",
       "      <th>27048</th>\n",
       "      <td>1999380.0</td>\n",
       "      <td>0.880613</td>\n",
       "      <td>0.201449</td>\n",
       "      <td>0.139535</td>\n",
       "      <td>0.102941</td>\n",
       "      <td>0.132488</td>\n",
       "      <td>0.198727</td>\n",
       "      <td>0.155031</td>\n",
       "      <td>0.014555</td>\n",
       "      <td>2.729311e-06</td>\n",
       "      <td>0.000012</td>\n",
       "      <td>0.000003</td>\n",
       "      <td>0.000015</td>\n",
       "      <td>0.000015</td>\n",
       "      <td>0.000018</td>\n",
       "      <td>5.358731e+04</td>\n",
       "      <td>0.0</td>\n",
       "      <td>0.007788</td>\n",
       "    </tr>\n",
       "    <tr>\n",
       "      <th>27049</th>\n",
       "      <td>1999466.0</td>\n",
       "      <td>1.214257</td>\n",
       "      <td>0.028842</td>\n",
       "      <td>0.012843</td>\n",
       "      <td>0.021864</td>\n",
       "      <td>0.008439</td>\n",
       "      <td>0.039781</td>\n",
       "      <td>0.010983</td>\n",
       "      <td>0.022669</td>\n",
       "      <td>8.367568e-07</td>\n",
       "      <td>0.000042</td>\n",
       "      <td>0.000007</td>\n",
       "      <td>0.000043</td>\n",
       "      <td>0.000049</td>\n",
       "      <td>0.000050</td>\n",
       "      <td>1.000000e+09</td>\n",
       "      <td>1.0</td>\n",
       "      <td>0.796429</td>\n",
       "    </tr>\n",
       "    <tr>\n",
       "      <th>27050</th>\n",
       "      <td>1999693.0</td>\n",
       "      <td>1.225737</td>\n",
       "      <td>0.075410</td>\n",
       "      <td>0.120734</td>\n",
       "      <td>0.066761</td>\n",
       "      <td>0.111895</td>\n",
       "      <td>0.088874</td>\n",
       "      <td>0.108052</td>\n",
       "      <td>0.175515</td>\n",
       "      <td>9.338099e-06</td>\n",
       "      <td>0.000078</td>\n",
       "      <td>0.000004</td>\n",
       "      <td>0.000087</td>\n",
       "      <td>0.000081</td>\n",
       "      <td>0.000091</td>\n",
       "      <td>6.319852e+04</td>\n",
       "      <td>0.0</td>\n",
       "      <td>0.005343</td>\n",
       "    </tr>\n",
       "    <tr>\n",
       "      <th>27051</th>\n",
       "      <td>1999943.0</td>\n",
       "      <td>1.083352</td>\n",
       "      <td>0.130139</td>\n",
       "      <td>0.262373</td>\n",
       "      <td>0.077109</td>\n",
       "      <td>0.180838</td>\n",
       "      <td>0.224166</td>\n",
       "      <td>0.236365</td>\n",
       "      <td>0.140135</td>\n",
       "      <td>1.474248e-06</td>\n",
       "      <td>0.000006</td>\n",
       "      <td>0.000018</td>\n",
       "      <td>0.000007</td>\n",
       "      <td>0.000024</td>\n",
       "      <td>0.000025</td>\n",
       "      <td>2.133985e+04</td>\n",
       "      <td>0.0</td>\n",
       "      <td>0.006733</td>\n",
       "    </tr>\n",
       "    <tr>\n",
       "      <th>27052</th>\n",
       "      <td>1999969.0</td>\n",
       "      <td>1.159434</td>\n",
       "      <td>0.046016</td>\n",
       "      <td>0.032291</td>\n",
       "      <td>0.051997</td>\n",
       "      <td>0.031372</td>\n",
       "      <td>0.095140</td>\n",
       "      <td>0.020418</td>\n",
       "      <td>0.050637</td>\n",
       "      <td>3.549245e-06</td>\n",
       "      <td>0.000037</td>\n",
       "      <td>0.000085</td>\n",
       "      <td>0.000040</td>\n",
       "      <td>0.000122</td>\n",
       "      <td>0.000125</td>\n",
       "      <td>5.152893e+05</td>\n",
       "      <td>0.0</td>\n",
       "      <td>0.012635</td>\n",
       "    </tr>\n",
       "  </tbody>\n",
       "</table>\n",
       "</div>"
      ],
      "text/plain": [
       "             sim     Mstar       Z12    Zcom12       Z23    Zcom23        e1  \\\n",
       "27048  1999380.0  0.880613  0.201449  0.139535  0.102941  0.132488  0.198727   \n",
       "27049  1999466.0  1.214257  0.028842  0.012843  0.021864  0.008439  0.039781   \n",
       "27050  1999693.0  1.225737  0.075410  0.120734  0.066761  0.111895  0.088874   \n",
       "27051  1999943.0  1.083352  0.130139  0.262373  0.077109  0.180838  0.224166   \n",
       "27052  1999969.0  1.159434  0.046016  0.032291  0.051997  0.031372  0.095140   \n",
       "\n",
       "             e2        e3           mu1       mu2       mu3   mu1+mu2  \\\n",
       "27048  0.155031  0.014555  2.729311e-06  0.000012  0.000003  0.000015   \n",
       "27049  0.010983  0.022669  8.367568e-07  0.000042  0.000007  0.000043   \n",
       "27050  0.108052  0.175515  9.338099e-06  0.000078  0.000004  0.000087   \n",
       "27051  0.236365  0.140135  1.474248e-06  0.000006  0.000018  0.000007   \n",
       "27052  0.020418  0.050637  3.549245e-06  0.000037  0.000085  0.000040   \n",
       "\n",
       "        mu2+mu3     mutot  t_instability  nbodystable  spockprob  \n",
       "27048  0.000015  0.000018   5.358731e+04          0.0   0.007788  \n",
       "27049  0.000049  0.000050   1.000000e+09          1.0   0.796429  \n",
       "27050  0.000081  0.000091   6.319852e+04          0.0   0.005343  \n",
       "27051  0.000024  0.000025   2.133985e+04          0.0   0.006733  \n",
       "27052  0.000122  0.000125   5.152893e+05          0.0   0.012635  "
      ]
     },
     "execution_count": 2,
     "metadata": {},
     "output_type": "execute_result"
    }
   ],
   "source": [
    "df = pd.read_csv('Kepler-23_default_priors_uniform.csv', index_col=0)\n",
    "df.tail()"
   ]
  },
  {
   "cell_type": "markdown",
   "metadata": {},
   "source": [
    "# First 10,000 rows are uniform draws so we can get the prior. After that, only systems that survive 1e4 orbits"
   ]
  },
  {
   "cell_type": "code",
   "execution_count": 33,
   "metadata": {},
   "outputs": [
    {
     "data": {
      "text/plain": [
       "<BarContainer object of 29 artists>"
      ]
     },
     "execution_count": 33,
     "metadata": {},
     "output_type": "execute_result"
    },
    {
     "data": {
      "image/png": "[encoded data removed]",
      "text/plain": [
       "<Figure size 432x288 with 1 Axes>"
      ]
     },
     "metadata": {
      "needs_background": "light"
     },
     "output_type": "display_data"
    }
   ],
   "source": [
    "stable = df['nbodystable']==1\n",
    "\n",
    "Nbins = 30\n",
    "Zmax = 0.4\n",
    "fig, ax = plt.subplots()\n",
    "bins = np.linspace(0,Zmax,Nbins)\n",
    "Nprior, edges = np.histogram(df.loc[:10000].Z12, density=True, bins=bins)\n",
    "ax.bar(edges[:-1], Nprior/Nprior.sum(), width=np.diff(edges), edgecolor=\"black\", align=\"edge\")"
   ]
  },
  {
   "cell_type": "code",
   "execution_count": 48,
   "metadata": {},
   "outputs": [
    {
     "data": {
      "text/plain": [
       "Text(0.5, 1.0, 'Z12')"
      ]
     },
     "execution_count": 48,
     "metadata": {},
     "output_type": "execute_result"
    },
    {
     "data": {
      "image/png": "[encoded data removed]",
      "text/plain": [
       "<Figure size 432x288 with 1 Axes>"
      ]
     },
     "metadata": {
      "needs_background": "light"
     },
     "output_type": "display_data"
    }
   ],
   "source": [
    "fig, ax = plt.subplots()\n",
    "_, bins, _ = ax.hist(df.loc[:10000].Z12, alpha=0.5, density=True, label=\"prior\", bins=50, range=[0,0.4])\n",
    "ax.hist(df[stable].Z12, alpha=0.5, density=True, label=r\"$10^9$ orbits\", bins=bins)\n",
    "ax.hist(df.Z12, alpha=0.5, density=True, bins=bins, label=\"spock\", weights = df['spockprob'])\n",
    "ax.hist(dfhadden.Z12, alpha=0.5, density=True, bins=bins, label=\"Hadden\")\n",
    "ax.legend()\n",
    "ax.set_title(\"Z12\")"
   ]
  },
  {
   "cell_type": "code",
   "execution_count": 47,
   "metadata": {},
   "outputs": [
    {
     "data": {
      "text/plain": [
       "Text(0.5, 1.0, 'e2')"
      ]
     },
     "execution_count": 47,
     "metadata": {},
     "output_type": "execute_result"
    },
    {
     "data": {
      "image/png": "[encoded data removed]",
      "text/plain": [
       "<Figure size 432x288 with 1 Axes>"
      ]
     },
     "metadata": {
      "needs_background": "light"
     },
     "output_type": "display_data"
    }
   ],
   "source": [
    "fig, ax = plt.subplots()\n",
    "_, bins, _ = ax.hist(df.loc[:10000].e2, alpha=0.5, density=True, label=\"prior\", bins=50, range=[0,0.4])\n",
    "ax.hist(df[stable].e2, alpha=0.5, density=True, label=r\"$10^9$ orbits\", bins=bins)\n",
    "#ax.hist(df.Z12, alpha=0.5, density=True, bins=bins, label=\"spock\", weights = df['spockprob'])\n",
    "ax.hist(dfhadden.e1, alpha=0.5, density=True, bins=bins, label=\"Hadden\")\n",
    "ax.legend()\n",
    "ax.set_title(\"e2\")"
   ]
  },
  {
   "cell_type": "code",
   "execution_count": 34,
   "metadata": {},
   "outputs": [
    {
     "data": {
      "text/plain": [
       "sim                 139.000000\n",
       "Mstar                 1.164773\n",
       "Z12                   0.163512\n",
       "Zcom12                0.106347\n",
       "Z23                   0.113550\n",
       "Zcom23                0.071114\n",
       "e1                    0.185096\n",
       "e2                    0.103145\n",
       "e3                    0.070585\n",
       "mu1                   0.000002\n",
       "mu2                   0.000018\n",
       "mu3                   0.000005\n",
       "mu1+mu2               0.000019\n",
       "mu2+mu3               0.000023\n",
       "mutot                 0.000025\n",
       "t_instability    162693.320228\n",
       "nbodystable           0.000000\n",
       "spockprob             0.013039\n",
       "Name: 139, dtype: float64"
      ]
     },
     "execution_count": 34,
     "metadata": {},
     "output_type": "execute_result"
    }
   ],
   "source": [
    "df.loc[139]"
   ]
  },
  {
   "cell_type": "code",
   "execution_count": 27,
   "metadata": {},
   "outputs": [
    {
     "data": {
      "text/plain": [
       "0.10052591281638983"
      ]
     },
     "execution_count": 27,
     "metadata": {},
     "output_type": "execute_result"
    }
   ],
   "source": [
    "np.quantile(df[stable].Z12, 0.84)"
   ]
  },
  {
   "cell_type": "code",
   "execution_count": null,
   "metadata": {},
   "outputs": [],
   "source": [
    "cum = np.cumsum(f_stable/f)/(f_stable/f).sum()"
   ]
  },
  {
   "cell_type": "code",
   "execution_count": 26,
   "metadata": {},
   "outputs": [
    {
     "data": {
      "text/plain": [
       "0.10052591281638983"
      ]
     },
     "execution_count": 26,
     "metadata": {},
     "output_type": "execute_result"
    }
   ],
   "source": [
    "f = interp1d(cum, edges[1:])\n",
    "print(\"Z12 < {0:.3f} ({1:.3f} percentile)\".format(f(percentile), percentile))"
   ]
  },
  {
   "cell_type": "code",
   "execution_count": 49,
   "metadata": {
    "scrolled": true
   },
   "outputs": [
    {
     "data": {
      "text/plain": [
       "Text(0.5, 1.0, 'Z23')"
      ]
     },
     "execution_count": 49,
     "metadata": {},
     "output_type": "execute_result"
    },
    {
     "data": {
      "image/png": "[encoded data removed]",
      "text/plain": [
       "<Figure size 432x288 with 1 Axes>"
      ]
     },
     "metadata": {
      "needs_background": "light"
     },
     "output_type": "display_data"
    }
   ],
   "source": [
    "fig, ax = plt.subplots()\n",
    "_, bins, _ = ax.hist(df.loc[:10000].Z23, alpha=0.5, density=True, label=\"prior\", bins=50, range=[0,0.4])\n",
    "ax.hist(df[stable].Z23, alpha=0.5, density=True, label=r\"$10^9$ orbits\", bins=bins)\n",
    "ax.hist(df.Z23, alpha=0.5, density=True, bins=bins, label=\"spock\", weights = df['spockprob'])\n",
    "ax.hist(dfhadden.Z23, alpha=0.5, density=True, bins=bins, label=\"Hadden\")\n",
    "ax.legend()\n",
    "ax.set_title(\"Z23\")"
   ]
  },
  {
   "cell_type": "code",
   "execution_count": 35,
   "metadata": {},
   "outputs": [
    {
     "data": {
      "text/plain": [
       "Text(0.5, 1.0, 'Z23')"
      ]
     },
     "execution_count": 35,
     "metadata": {},
     "output_type": "execute_result"
    },
    {
     "data": {
      "image/png": "[encoded data removed]",
      "text/plain": [
       "<Figure size 432x288 with 1 Axes>"
      ]
     },
     "metadata": {
      "needs_background": "light"
     },
     "output_type": "display_data"
    }
   ],
   "source": [
    "fig, ax = plt.subplots()\n",
    "_, bins, _ = ax.hist(df.loc[:10000]['mu2+mu3'], alpha=0.5, density=True, label=\"prior\", bins=50)\n",
    "ax.hist(df[stable]['mu2+mu3'], alpha=0.5, density=True, label=r\"$10^9$ orbits\", bins=bins)\n",
    "ax.hist(df['mu2+mu3'], alpha=0.5, density=True, bins=bins, label=\"spock\", weights = df['spockprob'])\n",
    "ax.legend()\n",
    "ax.set_title(\"Z23\")"
   ]
  },
  {
   "cell_type": "code",
   "execution_count": 25,
   "metadata": {},
   "outputs": [
    {
     "data": {
      "text/plain": [
       "Text(0.5, 0, '$Z_{12}$')"
      ]
     },
     "execution_count": 25,
     "metadata": {},
     "output_type": "execute_result"
    },
    {
     "data": {
      "image/png": "[encoded data removed]",
      "text/plain": [
       "<Figure size 432x288 with 1 Axes>"
      ]
     },
     "metadata": {
      "needs_background": "light"
     },
     "output_type": "display_data"
    }
   ],
   "source": [
    "fig, ax = plt.subplots()\n",
    "Nbins=30\n",
    "bins = np.linspace(0, 0.5, Nbins)\n",
    "f_stable, edges = np.histogram(df[stable].Z12, bins)\n",
    "f, edges = np.histogram(df.Z12, bins)\n",
    "ax.bar(edges[:-1], f_stable/f, width=np.diff(edges), edgecolor=\"black\", align=\"edge\")\n",
    "ax.set_xlabel(r'$Z_{12}$')"
   ]
  },
  {
   "cell_type": "code",
   "execution_count": 25,
   "metadata": {},
   "outputs": [
    {
     "data": {
      "text/plain": [
       "Text(0.5, 0, '$Z_{12}$')"
      ]
     },
     "execution_count": 25,
     "metadata": {},
     "output_type": "execute_result"
    },
    {
     "data": {
      "image/png": "[encoded data removed]",
      "text/plain": [
       "<Figure size 432x288 with 1 Axes>"
      ]
     },
     "metadata": {
      "needs_background": "light"
     },
     "output_type": "display_data"
    }
   ],
   "source": [
    "fig, ax = plt.subplots()\n",
    "Nbins=30\n",
    "bins = np.linspace(0, 0.5, Nbins)\n",
    "f_stable, edges = np.histogram(dfhadden.Z12, bins)\n",
    "f, edges = np.histogram(dfhadden.Z12, bins)\n",
    "ax.bar(edges[:-1], f_stable/f, width=np.diff(edges), edgecolor=\"black\", align=\"edge\")\n",
    "ax.set_xlabel(r'$Z_{12}$')"
   ]
  },
  {
   "cell_type": "code",
   "execution_count": 20,
   "metadata": {},
   "outputs": [
    {
     "data": {
      "text/plain": [
       "Text(0.5, 0, '$Z_{12}$')"
      ]
     },
     "execution_count": 20,
     "metadata": {},
     "output_type": "execute_result"
    },
    {
     "data": {
      "image/png": "[encoded data removed]",
      "text/plain": [
       "<Figure size 432x288 with 1 Axes>"
      ]
     },
     "metadata": {
      "needs_background": "light"
     },
     "output_type": "display_data"
    }
   ],
   "source": [
    "fig, ax = plt.subplots()\n",
    "Nbins=30\n",
    "bins = np.linspace(0, 0.5, Nbins)\n",
    "f_stable, edges = np.histogram(df.Z12, bins, weights=df['spockprob'])\n",
    "f, edges = np.histogram(df.Z12, bins)\n",
    "ax.bar(edges[:-1], f_stable/f, width=np.diff(edges), edgecolor=\"black\", align=\"edge\")\n",
    "ax.set_xlabel(r'$Z_{12}$')"
   ]
  },
  {
   "cell_type": "markdown",
   "metadata": {},
   "source": [
    "# Some N-body stable solutios for Z23 > 0.6! Check why"
   ]
  },
  {
   "cell_type": "code",
   "execution_count": 16,
   "metadata": {},
   "outputs": [
    {
     "data": {
      "text/plain": [
       "Text(0.5, 0, '$Z_{23}$')"
      ]
     },
     "execution_count": 16,
     "metadata": {},
     "output_type": "execute_result"
    },
    {
     "data": {
      "image/png": "[encoded data removed]",
      "text/plain": [
       "<Figure size 432x288 with 1 Axes>"
      ]
     },
     "metadata": {
      "needs_background": "light"
     },
     "output_type": "display_data"
    }
   ],
   "source": [
    "from scipy.interpolate import interp1d\n",
    "\n",
    "fig, ax = plt.subplots()\n",
    "Nbins=30\n",
    "bins = np.linspace(0, 1, Nbins)\n",
    "f_stable, edges = np.histogram(df.loc[df['nbodystable']==1].Z23, bins)\n",
    "f, edges = np.histogram(df.Z23, bins)\n",
    "ax.bar(edges[:-1], f_stable/f, width=np.diff(edges), edgecolor=\"black\", align=\"edge\")\n",
    "ax.set_xlabel(r'$Z_{23}$')"
   ]
  },
  {
   "cell_type": "code",
   "execution_count": 15,
   "metadata": {},
   "outputs": [
    {
     "data": {
      "text/plain": [
       "<matplotlib.colorbar.Colorbar at 0x7f18bf834a20>"
      ]
     },
     "execution_count": 15,
     "metadata": {},
     "output_type": "execute_result"
    },
    {
     "data": {
      "image/png": "[encoded data removed]",
      "text/plain": [
       "<Figure size 432x288 with 2 Axes>"
      ]
     },
     "metadata": {
      "needs_background": "light"
     },
     "output_type": "display_data"
    }
   ],
   "source": [
    "stable = df['nbodystable']==1\n",
    "\n",
    "fig, ax = plt.subplots()\n",
    "cb = ax.scatter(df[stable].Z12, df[stable].Z23)#,c=df3[stable].probstability)\n",
    "fig.colorbar(cb)"
   ]
  },
  {
   "cell_type": "code",
   "execution_count": null,
   "metadata": {},
   "outputs": [],
   "source": []
  }
 ],
 "metadata": {
  "kernelspec": {
   "display_name": "Python 3",
   "language": "python",
   "name": "python3"
  },
  "language_info": {
   "codemirror_mode": {
    "name": "ipython",
    "version": 3
   },
   "file_extension": ".py",
   "mimetype": "text/x-python",
   "name": "python",
   "nbconvert_exporter": "python",
   "pygments_lexer": "ipython3",
   "version": "3.7.3"
  }
 },
 "nbformat": 4,
 "nbformat_minor": 2
}
