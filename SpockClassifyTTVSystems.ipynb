{
 "cells": [
  {
   "cell_type": "code",
   "execution_count": 2,
   "metadata": {},
   "outputs": [],
   "source": [
    "import rebound\n",
    "import numpy as np\n",
    "import matplotlib.pyplot as plt\n",
    "%matplotlib inline\n",
    "import h5py\n",
    "import pandas as pd\n",
    "import sys\n",
    "sys.path.append(\"../spock\")\n",
    "from spock import StabilityClassifier"
   ]
  },
  {
   "cell_type": "code",
   "execution_count": 4,
   "metadata": {},
   "outputs": [
    {
     "data": {
      "text/plain": [
       "3.1415926535897936"
      ]
     },
     "execution_count": 4,
     "metadata": {},
     "output_type": "execute_result"
    }
   ],
   "source": [
    "np.arctan2(0.5, np.sqrt(3)/2)*6"
   ]
  },
  {
   "cell_type": "code",
   "execution_count": null,
   "metadata": {},
   "outputs": [],
   "source": []
  },
  {
   "cell_type": "code",
   "execution_count": 4,
   "metadata": {},
   "outputs": [],
   "source": [
    "def set_timestep(sim,dtFactor):\n",
    "        ps=sim.particles[1:]\n",
    "        Tperi=np.min([p.P * (1-p.e)**1.5 / np.sqrt(1+p.e) for p in ps])\n",
    "        dt = Tperi * dtFactor\n",
    "        sim.dt = dt\n",
    "def set_min_distance(sim,rHillFactor):\n",
    "        ps=sim.particles[1:]\n",
    "        rHill = np.min([p.rhill for p in ps if p.m > 0])\n",
    "        minDist = rHillFactor * rHill\n",
    "        sim.exit_min_distance=minDist"
   ]
  },
  {
   "cell_type": "code",
   "execution_count": 5,
   "metadata": {},
   "outputs": [
    {
     "name": "stdout",
     "output_type": "stream",
     "text": [
      "(250000, 15)\n"
     ]
    }
   ],
   "source": [
    "KepID = 23\n",
    "try:\n",
    "    df = pd.read_csv(\"Kepler-{0}_default_priors.csv\".format(KepID), index_col=0)\n",
    "except:\n",
    "    post_file = \"NBody_MCMC_Posteriors.hdf5\"\n",
    "    post_data = h5py.File(post_file,\"r\")\n",
    "    data = post_data['Kepler-{0}/DefaultPriors/PosteriorSample'.format(KepID)]\n",
    "    npl = data.shape[1]//5\n",
    "    col_heads = []\n",
    "    for i in range(npl):\n",
    "        col_heads += ['mu{}'.format(i),'per{}'.format(i),'h{}'.format(i),'k{}'.format(i),'Tc{}'.format(i)]\n",
    "    df = pd.DataFrame(data=data,columns=col_heads)\n",
    "    print(df.shape)\n",
    "    \n",
    "    for i in range(npl):\n",
    "        h = df['h{}'.format(i)]\n",
    "        k = df['k{}'.format(i)]\n",
    "        per = df['per{}'.format(i)]\n",
    "        Tc = df['Tc{}'.format(i)]\n",
    "        df['pomega{}'.format(i)] = np.arctan2(k,h)\n",
    "        df['e{}'.format(i)] = np.sqrt(h**2 + k**2)\n",
    "        df['mean_long{}'.format(i)] = np.mod(-2 * np.pi * Tc / per,2*np.pi)\n",
    "        \n",
    "    df.to_csv(\"Kepler-{0}_default_priors.csv\".format(KepID))"
   ]
  },
  {
   "cell_type": "code",
   "execution_count": 6,
   "metadata": {},
   "outputs": [
    {
     "data": {
      "text/html": [
       "<div>\n",
       "<style scoped>\n",
       "    .dataframe tbody tr th:only-of-type {\n",
       "        vertical-align: middle;\n",
       "    }\n",
       "\n",
       "    .dataframe tbody tr th {\n",
       "        vertical-align: top;\n",
       "    }\n",
       "\n",
       "    .dataframe thead th {\n",
       "        text-align: right;\n",
       "    }\n",
       "</style>\n",
       "<table border=\"1\" class=\"dataframe\">\n",
       "  <thead>\n",
       "    <tr style=\"text-align: right;\">\n",
       "      <th></th>\n",
       "      <th>mu0</th>\n",
       "      <th>per0</th>\n",
       "      <th>h0</th>\n",
       "      <th>k0</th>\n",
       "      <th>Tc0</th>\n",
       "      <th>mu1</th>\n",
       "      <th>per1</th>\n",
       "      <th>h1</th>\n",
       "      <th>k1</th>\n",
       "      <th>Tc1</th>\n",
       "      <th>...</th>\n",
       "      <th>Tc2</th>\n",
       "      <th>pomega0</th>\n",
       "      <th>e0</th>\n",
       "      <th>mean_long0</th>\n",
       "      <th>pomega1</th>\n",
       "      <th>e1</th>\n",
       "      <th>mean_long1</th>\n",
       "      <th>pomega2</th>\n",
       "      <th>e2</th>\n",
       "      <th>mean_long2</th>\n",
       "    </tr>\n",
       "  </thead>\n",
       "  <tbody>\n",
       "    <tr>\n",
       "      <th>0</th>\n",
       "      <td>0.000009</td>\n",
       "      <td>7.105114</td>\n",
       "      <td>-0.002364</td>\n",
       "      <td>-0.000368</td>\n",
       "      <td>57.146094</td>\n",
       "      <td>0.000025</td>\n",
       "      <td>10.743736</td>\n",
       "      <td>0.022296</td>\n",
       "      <td>-0.000719</td>\n",
       "      <td>55.606080</td>\n",
       "      <td>...</td>\n",
       "      <td>65.292302</td>\n",
       "      <td>-2.987366</td>\n",
       "      <td>0.002393</td>\n",
       "      <td>6.013309</td>\n",
       "      <td>-0.032220</td>\n",
       "      <td>0.022308</td>\n",
       "      <td>5.179389</td>\n",
       "      <td>-1.939839</td>\n",
       "      <td>0.010112</td>\n",
       "      <td>4.556475</td>\n",
       "    </tr>\n",
       "    <tr>\n",
       "      <th>1</th>\n",
       "      <td>0.000016</td>\n",
       "      <td>7.106142</td>\n",
       "      <td>-0.002966</td>\n",
       "      <td>-0.000102</td>\n",
       "      <td>57.106237</td>\n",
       "      <td>0.000015</td>\n",
       "      <td>10.744396</td>\n",
       "      <td>0.012633</td>\n",
       "      <td>0.002406</td>\n",
       "      <td>55.572214</td>\n",
       "      <td>...</td>\n",
       "      <td>65.241422</td>\n",
       "      <td>-3.107055</td>\n",
       "      <td>0.002967</td>\n",
       "      <td>6.055862</td>\n",
       "      <td>0.188161</td>\n",
       "      <td>0.012860</td>\n",
       "      <td>5.201194</td>\n",
       "      <td>-2.962994</td>\n",
       "      <td>0.014393</td>\n",
       "      <td>4.578148</td>\n",
       "    </tr>\n",
       "    <tr>\n",
       "      <th>2</th>\n",
       "      <td>0.000017</td>\n",
       "      <td>7.105696</td>\n",
       "      <td>-0.002088</td>\n",
       "      <td>0.000382</td>\n",
       "      <td>57.115081</td>\n",
       "      <td>0.000023</td>\n",
       "      <td>10.744546</td>\n",
       "      <td>0.013427</td>\n",
       "      <td>0.003649</td>\n",
       "      <td>55.573479</td>\n",
       "      <td>...</td>\n",
       "      <td>65.307577</td>\n",
       "      <td>2.960762</td>\n",
       "      <td>0.002123</td>\n",
       "      <td>6.044867</td>\n",
       "      <td>0.265338</td>\n",
       "      <td>0.013914</td>\n",
       "      <td>5.200907</td>\n",
       "      <td>1.416450</td>\n",
       "      <td>0.006741</td>\n",
       "      <td>4.552242</td>\n",
       "    </tr>\n",
       "    <tr>\n",
       "      <th>3</th>\n",
       "      <td>0.000013</td>\n",
       "      <td>7.105663</td>\n",
       "      <td>-0.000904</td>\n",
       "      <td>0.000365</td>\n",
       "      <td>57.134631</td>\n",
       "      <td>0.000022</td>\n",
       "      <td>10.743416</td>\n",
       "      <td>0.016068</td>\n",
       "      <td>0.001283</td>\n",
       "      <td>55.579835</td>\n",
       "      <td>...</td>\n",
       "      <td>65.324035</td>\n",
       "      <td>2.757363</td>\n",
       "      <td>0.000975</td>\n",
       "      <td>6.027346</td>\n",
       "      <td>0.079660</td>\n",
       "      <td>0.016119</td>\n",
       "      <td>5.193771</td>\n",
       "      <td>0.928591</td>\n",
       "      <td>0.004972</td>\n",
       "      <td>4.545209</td>\n",
       "    </tr>\n",
       "    <tr>\n",
       "      <th>4</th>\n",
       "      <td>0.000013</td>\n",
       "      <td>7.105653</td>\n",
       "      <td>-0.002201</td>\n",
       "      <td>0.000138</td>\n",
       "      <td>57.138889</td>\n",
       "      <td>0.000026</td>\n",
       "      <td>10.743108</td>\n",
       "      <td>0.016579</td>\n",
       "      <td>-0.001184</td>\n",
       "      <td>55.584620</td>\n",
       "      <td>...</td>\n",
       "      <td>65.275369</td>\n",
       "      <td>3.079079</td>\n",
       "      <td>0.002205</td>\n",
       "      <td>6.023513</td>\n",
       "      <td>-0.071296</td>\n",
       "      <td>0.016621</td>\n",
       "      <td>5.190041</td>\n",
       "      <td>2.456271</td>\n",
       "      <td>0.010034</td>\n",
       "      <td>4.566612</td>\n",
       "    </tr>\n",
       "  </tbody>\n",
       "</table>\n",
       "<p>5 rows × 24 columns</p>\n",
       "</div>"
      ],
      "text/plain": [
       "        mu0      per0        h0        k0        Tc0       mu1       per1  \\\n",
       "0  0.000009  7.105114 -0.002364 -0.000368  57.146094  0.000025  10.743736   \n",
       "1  0.000016  7.106142 -0.002966 -0.000102  57.106237  0.000015  10.744396   \n",
       "2  0.000017  7.105696 -0.002088  0.000382  57.115081  0.000023  10.744546   \n",
       "3  0.000013  7.105663 -0.000904  0.000365  57.134631  0.000022  10.743416   \n",
       "4  0.000013  7.105653 -0.002201  0.000138  57.138889  0.000026  10.743108   \n",
       "\n",
       "         h1        k1        Tc1  ...        Tc2   pomega0        e0  \\\n",
       "0  0.022296 -0.000719  55.606080  ...  65.292302 -2.987366  0.002393   \n",
       "1  0.012633  0.002406  55.572214  ...  65.241422 -3.107055  0.002967   \n",
       "2  0.013427  0.003649  55.573479  ...  65.307577  2.960762  0.002123   \n",
       "3  0.016068  0.001283  55.579835  ...  65.324035  2.757363  0.000975   \n",
       "4  0.016579 -0.001184  55.584620  ...  65.275369  3.079079  0.002205   \n",
       "\n",
       "   mean_long0   pomega1        e1  mean_long1   pomega2        e2  mean_long2  \n",
       "0    6.013309 -0.032220  0.022308    5.179389 -1.939839  0.010112    4.556475  \n",
       "1    6.055862  0.188161  0.012860    5.201194 -2.962994  0.014393    4.578148  \n",
       "2    6.044867  0.265338  0.013914    5.200907  1.416450  0.006741    4.552242  \n",
       "3    6.027346  0.079660  0.016119    5.193771  0.928591  0.004972    4.545209  \n",
       "4    6.023513 -0.071296  0.016621    5.190041  2.456271  0.010034    4.566612  \n",
       "\n",
       "[5 rows x 24 columns]"
      ]
     },
     "execution_count": 6,
     "metadata": {},
     "output_type": "execute_result"
    }
   ],
   "source": [
    "df = pd.read_csv(\"Kepler-{0}_default_priors.csv\".format(KepID), index_col=0)\n",
    "df.head()"
   ]
  },
  {
   "cell_type": "code",
   "execution_count": 7,
   "metadata": {},
   "outputs": [
    {
     "data": {
      "text/html": [
       "<div>\n",
       "<style scoped>\n",
       "    .dataframe tbody tr th:only-of-type {\n",
       "        vertical-align: middle;\n",
       "    }\n",
       "\n",
       "    .dataframe tbody tr th {\n",
       "        vertical-align: top;\n",
       "    }\n",
       "\n",
       "    .dataframe thead th {\n",
       "        text-align: right;\n",
       "    }\n",
       "</style>\n",
       "<table border=\"1\" class=\"dataframe\">\n",
       "  <thead>\n",
       "    <tr style=\"text-align: right;\">\n",
       "      <th></th>\n",
       "      <th>mu0</th>\n",
       "      <th>per0</th>\n",
       "      <th>h0</th>\n",
       "      <th>k0</th>\n",
       "      <th>Tc0</th>\n",
       "      <th>mu1</th>\n",
       "      <th>per1</th>\n",
       "      <th>h1</th>\n",
       "      <th>k1</th>\n",
       "      <th>Tc1</th>\n",
       "      <th>...</th>\n",
       "      <th>Tc2</th>\n",
       "      <th>pomega0</th>\n",
       "      <th>e0</th>\n",
       "      <th>mean_long0</th>\n",
       "      <th>pomega1</th>\n",
       "      <th>e1</th>\n",
       "      <th>mean_long1</th>\n",
       "      <th>pomega2</th>\n",
       "      <th>e2</th>\n",
       "      <th>mean_long2</th>\n",
       "    </tr>\n",
       "  </thead>\n",
       "  <tbody>\n",
       "    <tr>\n",
       "      <th>249995</th>\n",
       "      <td>0.000003</td>\n",
       "      <td>7.105870</td>\n",
       "      <td>-0.038511</td>\n",
       "      <td>-0.196506</td>\n",
       "      <td>57.031001</td>\n",
       "      <td>0.000006</td>\n",
       "      <td>10.743525</td>\n",
       "      <td>0.032910</td>\n",
       "      <td>-0.196457</td>\n",
       "      <td>55.659821</td>\n",
       "      <td>...</td>\n",
       "      <td>65.835535</td>\n",
       "      <td>-1.764321</td>\n",
       "      <td>0.200244</td>\n",
       "      <td>6.120452</td>\n",
       "      <td>-1.404821</td>\n",
       "      <td>0.199195</td>\n",
       "      <td>5.147323</td>\n",
       "      <td>-1.075444</td>\n",
       "      <td>0.199238</td>\n",
       "      <td>4.333169</td>\n",
       "    </tr>\n",
       "    <tr>\n",
       "      <th>249996</th>\n",
       "      <td>0.000003</td>\n",
       "      <td>7.106110</td>\n",
       "      <td>-0.069445</td>\n",
       "      <td>0.025974</td>\n",
       "      <td>56.975209</td>\n",
       "      <td>0.000006</td>\n",
       "      <td>10.743671</td>\n",
       "      <td>0.000208</td>\n",
       "      <td>-0.003399</td>\n",
       "      <td>55.525812</td>\n",
       "      <td>...</td>\n",
       "      <td>65.593892</td>\n",
       "      <td>2.783680</td>\n",
       "      <td>0.074143</td>\n",
       "      <td>6.171487</td>\n",
       "      <td>-1.509681</td>\n",
       "      <td>0.003406</td>\n",
       "      <td>5.226137</td>\n",
       "      <td>-0.406624</td>\n",
       "      <td>0.062597</td>\n",
       "      <td>4.431526</td>\n",
       "    </tr>\n",
       "    <tr>\n",
       "      <th>249997</th>\n",
       "      <td>0.000004</td>\n",
       "      <td>7.106614</td>\n",
       "      <td>-0.001841</td>\n",
       "      <td>-0.075112</td>\n",
       "      <td>57.111239</td>\n",
       "      <td>0.000004</td>\n",
       "      <td>10.743291</td>\n",
       "      <td>0.044821</td>\n",
       "      <td>-0.081911</td>\n",
       "      <td>55.689775</td>\n",
       "      <td>...</td>\n",
       "      <td>65.641120</td>\n",
       "      <td>-1.595301</td>\n",
       "      <td>0.075134</td>\n",
       "      <td>6.054789</td>\n",
       "      <td>-1.070109</td>\n",
       "      <td>0.093372</td>\n",
       "      <td>5.129095</td>\n",
       "      <td>-0.580675</td>\n",
       "      <td>0.077984</td>\n",
       "      <td>4.414196</td>\n",
       "    </tr>\n",
       "    <tr>\n",
       "      <th>249998</th>\n",
       "      <td>0.000003</td>\n",
       "      <td>7.106508</td>\n",
       "      <td>-0.087985</td>\n",
       "      <td>0.084049</td>\n",
       "      <td>56.927508</td>\n",
       "      <td>0.000004</td>\n",
       "      <td>10.743239</td>\n",
       "      <td>-0.016223</td>\n",
       "      <td>0.039809</td>\n",
       "      <td>55.475669</td>\n",
       "      <td>...</td>\n",
       "      <td>65.388812</td>\n",
       "      <td>2.379067</td>\n",
       "      <td>0.121678</td>\n",
       "      <td>6.216482</td>\n",
       "      <td>1.957768</td>\n",
       "      <td>0.042988</td>\n",
       "      <td>5.254157</td>\n",
       "      <td>0.894684</td>\n",
       "      <td>0.026970</td>\n",
       "      <td>4.517402</td>\n",
       "    </tr>\n",
       "    <tr>\n",
       "      <th>249999</th>\n",
       "      <td>0.000004</td>\n",
       "      <td>7.106154</td>\n",
       "      <td>-0.122730</td>\n",
       "      <td>-0.000055</td>\n",
       "      <td>56.853333</td>\n",
       "      <td>0.000009</td>\n",
       "      <td>10.743234</td>\n",
       "      <td>-0.046245</td>\n",
       "      <td>-0.023290</td>\n",
       "      <td>55.364239</td>\n",
       "      <td>...</td>\n",
       "      <td>65.294363</td>\n",
       "      <td>-3.141146</td>\n",
       "      <td>0.122730</td>\n",
       "      <td>6.279559</td>\n",
       "      <td>-2.675062</td>\n",
       "      <td>0.051779</td>\n",
       "      <td>5.319310</td>\n",
       "      <td>-2.470655</td>\n",
       "      <td>0.004345</td>\n",
       "      <td>4.557613</td>\n",
       "    </tr>\n",
       "  </tbody>\n",
       "</table>\n",
       "<p>5 rows × 24 columns</p>\n",
       "</div>"
      ],
      "text/plain": [
       "             mu0      per0        h0        k0        Tc0       mu1  \\\n",
       "249995  0.000003  7.105870 -0.038511 -0.196506  57.031001  0.000006   \n",
       "249996  0.000003  7.106110 -0.069445  0.025974  56.975209  0.000006   \n",
       "249997  0.000004  7.106614 -0.001841 -0.075112  57.111239  0.000004   \n",
       "249998  0.000003  7.106508 -0.087985  0.084049  56.927508  0.000004   \n",
       "249999  0.000004  7.106154 -0.122730 -0.000055  56.853333  0.000009   \n",
       "\n",
       "             per1        h1        k1        Tc1  ...        Tc2   pomega0  \\\n",
       "249995  10.743525  0.032910 -0.196457  55.659821  ...  65.835535 -1.764321   \n",
       "249996  10.743671  0.000208 -0.003399  55.525812  ...  65.593892  2.783680   \n",
       "249997  10.743291  0.044821 -0.081911  55.689775  ...  65.641120 -1.595301   \n",
       "249998  10.743239 -0.016223  0.039809  55.475669  ...  65.388812  2.379067   \n",
       "249999  10.743234 -0.046245 -0.023290  55.364239  ...  65.294363 -3.141146   \n",
       "\n",
       "              e0  mean_long0   pomega1        e1  mean_long1   pomega2  \\\n",
       "249995  0.200244    6.120452 -1.404821  0.199195    5.147323 -1.075444   \n",
       "249996  0.074143    6.171487 -1.509681  0.003406    5.226137 -0.406624   \n",
       "249997  0.075134    6.054789 -1.070109  0.093372    5.129095 -0.580675   \n",
       "249998  0.121678    6.216482  1.957768  0.042988    5.254157  0.894684   \n",
       "249999  0.122730    6.279559 -2.675062  0.051779    5.319310 -2.470655   \n",
       "\n",
       "              e2  mean_long2  \n",
       "249995  0.199238    4.333169  \n",
       "249996  0.062597    4.431526  \n",
       "249997  0.077984    4.414196  \n",
       "249998  0.026970    4.517402  \n",
       "249999  0.004345    4.557613  \n",
       "\n",
       "[5 rows x 24 columns]"
      ]
     },
     "execution_count": 7,
     "metadata": {},
     "output_type": "execute_result"
    }
   ],
   "source": [
    "df.tail()"
   ]
  },
  {
   "cell_type": "code",
   "execution_count": 11,
   "metadata": {},
   "outputs": [
    {
     "data": {
      "text/plain": [
       "7.105981127389226"
      ]
     },
     "execution_count": 11,
     "metadata": {},
     "output_type": "execute_result"
    }
   ],
   "source": [
    "df['per0'].mean()"
   ]
  },
  {
   "cell_type": "code",
   "execution_count": 9,
   "metadata": {},
   "outputs": [
    {
     "data": {
      "text/plain": [
       "10.743375631796516"
      ]
     },
     "execution_count": 9,
     "metadata": {},
     "output_type": "execute_result"
    }
   ],
   "source": [
    "df['per1'].mean()"
   ]
  },
  {
   "cell_type": "code",
   "execution_count": 10,
   "metadata": {},
   "outputs": [
    {
     "data": {
      "text/plain": [
       "15.274648530770886"
      ]
     },
     "execution_count": 10,
     "metadata": {},
     "output_type": "execute_result"
    }
   ],
   "source": [
    "df['per2'].mean()"
   ]
  },
  {
   "cell_type": "code",
   "execution_count": 12,
   "metadata": {},
   "outputs": [],
   "source": [
    "def dfrow_to_sim(row,npl):\n",
    "    sim = rebound.Simulation()\n",
    "    sim.units = ('Msun','days','AU')\n",
    "    sim.add(m=1)\n",
    "    for i in range(npl):\n",
    "        mu = row['mu{}'.format(i)]\n",
    "        per = row['per{}'.format(i)]\n",
    "        e = row['e{}'.format(i)]\n",
    "        mean_long = row['mean_long{}'.format(i)]\n",
    "        pomega = row['pomega{}'.format(i)]\n",
    "        sim.add(m=mu,P=per,e=e,l=mean_long,pomega=pomega,hash=i)\n",
    "    sim.move_to_com()\n",
    "    sim.integrator = 'whfast'\n",
    "    sim.ri_whfast.safe_mode =0\n",
    "    set_timestep(sim,1/30)\n",
    "    set_min_distance(sim,3)\n",
    "    return sim"
   ]
  },
  {
   "cell_type": "code",
   "execution_count": 13,
   "metadata": {},
   "outputs": [],
   "source": [
    "sim = dfrow_to_sim(df.iloc[1],npl)"
   ]
  },
  {
   "cell_type": "code",
   "execution_count": 14,
   "metadata": {},
   "outputs": [
    {
     "data": {
      "text/plain": [
       "4"
      ]
     },
     "execution_count": 14,
     "metadata": {},
     "output_type": "execute_result"
    }
   ],
   "source": [
    "sim.N"
   ]
  },
  {
   "cell_type": "code",
   "execution_count": 15,
   "metadata": {},
   "outputs": [
    {
     "name": "stdout",
     "output_type": "stream",
     "text": [
      "1.511987215459769\n",
      "1.4215910835307577\n"
     ]
    }
   ],
   "source": [
    "ps = sim.particles\n",
    "print(ps[2].P/ps[1].P)\n",
    "print(ps[3].P/ps[2].P)"
   ]
  },
  {
   "cell_type": "code",
   "execution_count": 16,
   "metadata": {},
   "outputs": [
    {
     "data": {
      "image/png": "[encoded data removed]",
      "text/plain": [
       "<Figure size 360x360 with 1 Axes>"
      ]
     },
     "metadata": {
      "needs_background": "light"
     },
     "output_type": "display_data"
    }
   ],
   "source": [
    "fig = rebound.OrbitPlot(sim)"
   ]
  },
  {
   "cell_type": "code",
   "execution_count": 17,
   "metadata": {},
   "outputs": [
    {
     "name": "stderr",
     "output_type": "stream",
     "text": [
      "/storage/home/cjg66/miniconda3/lib/python3.7/site-packages/sklearn/base.py:306: UserWarning: Trying to unpickle estimator LabelEncoder from version 0.21.2 when using version 0.21.3. This might lead to breaking code or invalid results. Use at your own risk.\n",
      "  UserWarning)\n"
     ]
    }
   ],
   "source": [
    "model = StabilityClassifier()"
   ]
  },
  {
   "cell_type": "code",
   "execution_count": 18,
   "metadata": {},
   "outputs": [
    {
     "data": {
      "text/plain": [
       "0.907911479473114"
      ]
     },
     "execution_count": 18,
     "metadata": {},
     "output_type": "execute_result"
    }
   ],
   "source": [
    "model.predict(sim)"
   ]
  },
  {
   "cell_type": "markdown",
   "metadata": {},
   "source": [
    "j:j-k"
   ]
  },
  {
   "cell_type": "code",
   "execution_count": 19,
   "metadata": {},
   "outputs": [
    {
     "data": {
      "text/plain": [
       "0.011840965987056393"
      ]
     },
     "execution_count": 19,
     "metadata": {},
     "output_type": "execute_result"
    }
   ],
   "source": [
    "from celmech import Andoyer\n",
    "\n",
    "avars = Andoyer.from_Simulation(sim, j=3, k=1, i1=1, i2=2)\n",
    "avars.Z"
   ]
  },
  {
   "cell_type": "code",
   "execution_count": 20,
   "metadata": {},
   "outputs": [
    {
     "data": {
      "text/plain": [
       "0.019329183572651544"
      ]
     },
     "execution_count": 20,
     "metadata": {},
     "output_type": "execute_result"
    }
   ],
   "source": [
    "avars = Andoyer.from_Simulation(sim, j=7, k=2, i1=2, i2=3)\n",
    "avars.Z"
   ]
  },
  {
   "cell_type": "code",
   "execution_count": 21,
   "metadata": {},
   "outputs": [],
   "source": [
    "def varyZ(sim0, Z12, Z23):\n",
    "    ps0 = sim0.particles\n",
    "    sim = rebound.Simulation()\n",
    "    sim.units = ('Msun','days','AU')\n",
    "    sim.add(m=1)\n",
    "    sim.add(m=ps0[1].m, a=ps0[1].a, l=ps0[1].l, e=Z12, pomega=0)\n",
    "    sim.add(m=ps0[2].m, a=ps0[2].a, l=ps0[2].l, e=0, pomega=0)\n",
    "    sim.add(m=ps0[3].m, a=ps0[3].a, l=ps0[3].l, e=Z23, pomega=0)\n",
    "    sim.move_to_com()\n",
    "    sim.integrator = 'whfast'\n",
    "    sim.ri_whfast.safe_mode = 0\n",
    "    set_timestep(sim,1/30)\n",
    "    set_min_distance(sim,1)\n",
    "    return sim"
   ]
  },
  {
   "cell_type": "code",
   "execution_count": 22,
   "metadata": {},
   "outputs": [],
   "source": [
    "sim = dfrow_to_sim(df.iloc[1],npl)\n",
    "sim = varyZ(sim, 0.7, 0.7)"
   ]
  },
  {
   "cell_type": "code",
   "execution_count": 23,
   "metadata": {},
   "outputs": [
    {
     "ename": "Encounter",
     "evalue": "Two particles had a close encounter (d<exit_min_distance).",
     "output_type": "error",
     "traceback": [
      "\u001b[0;31m---------------------------------------------------------------------------\u001b[0m",
      "\u001b[0;31mEncounter\u001b[0m                                 Traceback (most recent call last)",
      "\u001b[0;32m<ipython-input-23-d5e61753ffe5>\u001b[0m in \u001b[0;36m<module>\u001b[0;34m\u001b[0m\n\u001b[1;32m      1\u001b[0m \u001b[0mP0\u001b[0m \u001b[0;34m=\u001b[0m \u001b[0msim\u001b[0m\u001b[0;34m.\u001b[0m\u001b[0mparticles\u001b[0m\u001b[0;34m[\u001b[0m\u001b[0;36m1\u001b[0m\u001b[0;34m]\u001b[0m\u001b[0;34m.\u001b[0m\u001b[0mP\u001b[0m\u001b[0;34m\u001b[0m\u001b[0;34m\u001b[0m\u001b[0m\n\u001b[0;32m----> 2\u001b[0;31m \u001b[0msim\u001b[0m\u001b[0;34m.\u001b[0m\u001b[0mintegrate\u001b[0m\u001b[0;34m(\u001b[0m\u001b[0;36m1e9\u001b[0m\u001b[0;34m*\u001b[0m\u001b[0mP0\u001b[0m\u001b[0;34m)\u001b[0m\u001b[0;34m\u001b[0m\u001b[0;34m\u001b[0m\u001b[0m\n\u001b[0m",
      "\u001b[0;32m~/miniconda3/lib/python3.7/site-packages/rebound/simulation.py\u001b[0m in \u001b[0;36mintegrate\u001b[0;34m(self, tmax, exact_finish_time)\u001b[0m\n\u001b[1;32m   1706\u001b[0m             \u001b[0;32mraise\u001b[0m \u001b[0mNoParticles\u001b[0m\u001b[0;34m(\u001b[0m\u001b[0;34m\"No more particles left in simulation.\"\u001b[0m\u001b[0;34m)\u001b[0m\u001b[0;34m\u001b[0m\u001b[0;34m\u001b[0m\u001b[0m\n\u001b[1;32m   1707\u001b[0m         \u001b[0;32mif\u001b[0m \u001b[0mret_value\u001b[0m \u001b[0;34m==\u001b[0m \u001b[0;36m3\u001b[0m\u001b[0;34m:\u001b[0m\u001b[0;34m\u001b[0m\u001b[0;34m\u001b[0m\u001b[0m\n\u001b[0;32m-> 1708\u001b[0;31m             \u001b[0;32mraise\u001b[0m \u001b[0mEncounter\u001b[0m\u001b[0;34m(\u001b[0m\u001b[0;34m\"Two particles had a close encounter (d<exit_min_distance).\"\u001b[0m\u001b[0;34m)\u001b[0m\u001b[0;34m\u001b[0m\u001b[0;34m\u001b[0m\u001b[0m\n\u001b[0m\u001b[1;32m   1709\u001b[0m         \u001b[0;32mif\u001b[0m \u001b[0mret_value\u001b[0m \u001b[0;34m==\u001b[0m \u001b[0;36m4\u001b[0m\u001b[0;34m:\u001b[0m\u001b[0;34m\u001b[0m\u001b[0;34m\u001b[0m\u001b[0m\n\u001b[1;32m   1710\u001b[0m             \u001b[0;32mraise\u001b[0m \u001b[0mEscape\u001b[0m\u001b[0;34m(\u001b[0m\u001b[0;34m\"A particle escaped (r>exit_max_distance).\"\u001b[0m\u001b[0;34m)\u001b[0m\u001b[0;34m\u001b[0m\u001b[0;34m\u001b[0m\u001b[0m\n",
      "\u001b[0;31mEncounter\u001b[0m: Two particles had a close encounter (d<exit_min_distance)."
     ]
    }
   ],
   "source": [
    "P0 = sim.particles[1].P\n",
    "sim.integrate(1e9*P0)"
   ]
  },
  {
   "cell_type": "code",
   "execution_count": 24,
   "metadata": {},
   "outputs": [
    {
     "data": {
      "text/plain": [
       "657.0072145822896"
      ]
     },
     "execution_count": 24,
     "metadata": {},
     "output_type": "execute_result"
    }
   ],
   "source": [
    "sim.t/P0"
   ]
  },
  {
   "cell_type": "code",
   "execution_count": 25,
   "metadata": {},
   "outputs": [
    {
     "data": {
      "image/png": "[encoded data removed]",
      "text/plain": [
       "<Figure size 360x360 with 1 Axes>"
      ]
     },
     "metadata": {
      "needs_background": "light"
     },
     "output_type": "display_data"
    }
   ],
   "source": [
    "fig = rebound.OrbitPlot(sim)"
   ]
  },
  {
   "cell_type": "code",
   "execution_count": 26,
   "metadata": {},
   "outputs": [
    {
     "data": {
      "image/png": "[encoded data removed]",
      "text/plain": [
       "<Figure size 432x288 with 1 Axes>"
      ]
     },
     "metadata": {
      "needs_background": "light"
     },
     "output_type": "display_data"
    }
   ],
   "source": [
    "e1 = np.linspace(0, 0.2, 3)\n",
    "e3 = np.linspace(0, 0.5, 5)\n",
    "\n",
    "de1 = e1[1]-e1[0]\n",
    "de3 = e3[1]-e3[0]\n",
    "\n",
    "# pcolormesh takes the boundaries of each cell in X and Y, so need to offset by half dX, and add one at end at X[-1]+dX/2\n",
    "e1g = [e - de1/2 for e in e1] + [e1[-1]+de1/2]\n",
    "e3g = [e - de3/2 for e in e3] + [e3[-1]+de3/2]\n",
    "\n",
    "X, Y = np.meshgrid(e1g, e3g)\n",
    "\n",
    "Z = np.zeros((len(e3), len(e1))) # shape = (rows, col) so (Y,X)\n",
    "for i, e1v in enumerate(e1):\n",
    "    for j, e3v in enumerate(e3):\n",
    "        Z[j,i] = e1v + e3v\n",
    "\n",
    "z_min, z_max = -abs(Z).max(), abs(Z).max()\n",
    "\n",
    "fig, ax = plt.subplots()\n",
    "im = ax.pcolormesh(X, Y, Z)"
   ]
  },
  {
   "cell_type": "code",
   "execution_count": 246,
   "metadata": {},
   "outputs": [
    {
     "name": "stdout",
     "output_type": "stream",
     "text": [
      "CPU times: user 1h 11min 19s, sys: 1min 36s, total: 1h 12min 56s\n",
      "Wall time: 15min 56s\n"
     ]
    }
   ],
   "source": [
    "%%time\n",
    "\n",
    "Ne1 = 30\n",
    "Ne3 = 30\n",
    "e1max = 0.5\n",
    "e3max = 0.5\n",
    "\n",
    "e1 = np.linspace(0, e1max, Ne1)\n",
    "e3 = np.linspace(0, e3max, Ne3)\n",
    "\n",
    "de1 = e1[1]-e1[0]\n",
    "de3 = e3[1]-e3[0]\n",
    "\n",
    "# pcolormesh takes the boundaries of each cell in X and Y, so need to offset by half dX, and add one at end at X[-1]+dX/2\n",
    "e1g = [e - de1/2 for e in e1] + [e1[-1]+de1/2]\n",
    "e3g = [e - de3/2 for e in e3] + [e3[-1]+de3/2]\n",
    "\n",
    "X, Y = np.meshgrid(e1g, e3g)\n",
    "\n",
    "Z = np.zeros((Ne3, Ne1)) # shape = (rows, col) so (Y,X)\n",
    "for i, e1v in enumerate(e1):\n",
    "    for j, e3v in enumerate(e3):\n",
    "        sim = dfrow_to_sim(df.iloc[0],npl)\n",
    "        sim = varyZ(sim, e1v, e3v)\n",
    "        Z[j,i] = model.predict(sim)\n",
    "\n",
    "z_min, z_max = -abs(Z).max(), abs(Z).max()"
   ]
  },
  {
   "cell_type": "code",
   "execution_count": 247,
   "metadata": {},
   "outputs": [
    {
     "data": {
      "text/plain": [
       "Text(0, 0.5, 'e3')"
      ]
     },
     "execution_count": 247,
     "metadata": {},
     "output_type": "execute_result"
    },
    {
     "data": {
      "image/png": "[encoded data removed]",
      "text/plain": [
       "<Figure size 432x288 with 2 Axes>"
      ]
     },
     "metadata": {
      "needs_background": "light"
     },
     "output_type": "display_data"
    }
   ],
   "source": [
    "fig, ax = plt.subplots()\n",
    "im = ax.pcolormesh(X, Y, Z, cmap='winter')\n",
    "fig.colorbar(im)\n",
    "ax.set_xlabel('e1')\n",
    "ax.set_ylabel('e3')"
   ]
  }
 ],
 "metadata": {
  "kernelspec": {
   "display_name": "Python 3",
   "language": "python",
   "name": "python3"
  },
  "language_info": {
   "codemirror_mode": {
    "name": "ipython",
    "version": 3
   },
   "file_extension": ".py",
   "mimetype": "text/x-python",
   "name": "python",
   "nbconvert_exporter": "python",
   "pygments_lexer": "ipython3",
   "version": "3.7.3"
  }
 },
 "nbformat": 4,
 "nbformat_minor": 2
}
