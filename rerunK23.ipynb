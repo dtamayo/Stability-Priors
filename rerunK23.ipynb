{
 "cells": [
  {
   "cell_type": "code",
   "execution_count": 1,
   "metadata": {},
   "outputs": [],
   "source": [
    "import rebound\n",
    "import numpy as np\n",
    "import pandas as pd"
   ]
  },
  {
   "cell_type": "code",
   "execution_count": 2,
   "metadata": {},
   "outputs": [],
   "source": [
    "def rerun(row):\n",
    "    try:\n",
    "        safilename = 'K23uniform/K23_logm_sa_{0}.bin'.format(int(row['sim']))\n",
    "        sa = rebound.SimulationArchive(safilename)\n",
    "    except: # doesn't already exist. Make one\n",
    "        startfilename = 'K23/K23_logm_start_{0}.bin'.format(int(row['sim']))\n",
    "        sim = rebound.Simulation(startfilename)\n",
    "        P1 = sim.particles[1].P\n",
    "        sim.automateSimulationArchive(safilename, interval=1e9*P1/100.)\n",
    "        try:\n",
    "            sim.integrate(1e9 * P1, exact_finish_time=0)\n",
    "        except:\n",
    "            sim.simulationarchive_snapshot(safilename)"
   ]
  },
  {
   "cell_type": "code",
   "execution_count": 3,
   "metadata": {},
   "outputs": [],
   "source": [
    "dfspock = pd.read_csv(\"K23/K23_logm_SPOCK.csv\", index_col=0)"
   ]
  },
  {
   "cell_type": "code",
   "execution_count": 4,
   "metadata": {},
   "outputs": [
    {
     "data": {
      "text/html": [
       "<div>\n",
       "<style scoped>\n",
       "    .dataframe tbody tr th:only-of-type {\n",
       "        vertical-align: middle;\n",
       "    }\n",
       "\n",
       "    .dataframe tbody tr th {\n",
       "        vertical-align: top;\n",
       "    }\n",
       "\n",
       "    .dataframe thead th {\n",
       "        text-align: right;\n",
       "    }\n",
       "</style>\n",
       "<table border=\"1\" class=\"dataframe\">\n",
       "  <thead>\n",
       "    <tr style=\"text-align: right;\">\n",
       "      <th></th>\n",
       "      <th>sim</th>\n",
       "      <th>k</th>\n",
       "      <th>h</th>\n",
       "      <th>Z12</th>\n",
       "      <th>Zcom12</th>\n",
       "      <th>Z23</th>\n",
       "      <th>Zcom23</th>\n",
       "      <th>e1</th>\n",
       "      <th>e2</th>\n",
       "      <th>e3</th>\n",
       "      <th>m1</th>\n",
       "      <th>m2</th>\n",
       "      <th>m3</th>\n",
       "      <th>probstability</th>\n",
       "      <th>m1+m2</th>\n",
       "      <th>m2+m3</th>\n",
       "      <th>total m</th>\n",
       "    </tr>\n",
       "  </thead>\n",
       "  <tbody>\n",
       "    <tr>\n",
       "      <th>0</th>\n",
       "      <td>0.0</td>\n",
       "      <td>-0.193662</td>\n",
       "      <td>-0.285635</td>\n",
       "      <td>0.388670</td>\n",
       "      <td>0.636611</td>\n",
       "      <td>0.735677</td>\n",
       "      <td>0.664992</td>\n",
       "      <td>0.867296</td>\n",
       "      <td>0.345097</td>\n",
       "      <td>0.712553</td>\n",
       "      <td>6.213249</td>\n",
       "      <td>13.376343</td>\n",
       "      <td>40.220045</td>\n",
       "      <td>0.0</td>\n",
       "      <td>19.589593</td>\n",
       "      <td>53.596389</td>\n",
       "      <td>59.809638</td>\n",
       "    </tr>\n",
       "    <tr>\n",
       "      <th>1</th>\n",
       "      <td>1.0</td>\n",
       "      <td>0.342728</td>\n",
       "      <td>-0.343074</td>\n",
       "      <td>0.332211</td>\n",
       "      <td>0.559205</td>\n",
       "      <td>0.640342</td>\n",
       "      <td>0.191515</td>\n",
       "      <td>0.357091</td>\n",
       "      <td>0.484935</td>\n",
       "      <td>0.377275</td>\n",
       "      <td>0.485521</td>\n",
       "      <td>4.204200</td>\n",
       "      <td>3.251008</td>\n",
       "      <td>0.0</td>\n",
       "      <td>4.689721</td>\n",
       "      <td>7.455208</td>\n",
       "      <td>7.940729</td>\n",
       "    </tr>\n",
       "    <tr>\n",
       "      <th>2</th>\n",
       "      <td>2.0</td>\n",
       "      <td>0.210379</td>\n",
       "      <td>-0.115803</td>\n",
       "      <td>0.217568</td>\n",
       "      <td>0.243371</td>\n",
       "      <td>0.641480</td>\n",
       "      <td>0.408302</td>\n",
       "      <td>0.269689</td>\n",
       "      <td>0.240145</td>\n",
       "      <td>0.559020</td>\n",
       "      <td>1.452781</td>\n",
       "      <td>4.575729</td>\n",
       "      <td>11.466701</td>\n",
       "      <td>0.0</td>\n",
       "      <td>6.028510</td>\n",
       "      <td>16.042429</td>\n",
       "      <td>17.495211</td>\n",
       "    </tr>\n",
       "    <tr>\n",
       "      <th>3</th>\n",
       "      <td>3.0</td>\n",
       "      <td>0.024894</td>\n",
       "      <td>0.395947</td>\n",
       "      <td>0.292039</td>\n",
       "      <td>0.090441</td>\n",
       "      <td>0.257699</td>\n",
       "      <td>0.312442</td>\n",
       "      <td>0.046320</td>\n",
       "      <td>0.396729</td>\n",
       "      <td>0.026889</td>\n",
       "      <td>19.684153</td>\n",
       "      <td>3.179315</td>\n",
       "      <td>1.719421</td>\n",
       "      <td>0.0</td>\n",
       "      <td>22.863469</td>\n",
       "      <td>4.898737</td>\n",
       "      <td>24.582890</td>\n",
       "    </tr>\n",
       "    <tr>\n",
       "      <th>4</th>\n",
       "      <td>4.0</td>\n",
       "      <td>-0.379218</td>\n",
       "      <td>0.096536</td>\n",
       "      <td>0.209768</td>\n",
       "      <td>0.486905</td>\n",
       "      <td>0.896058</td>\n",
       "      <td>0.423220</td>\n",
       "      <td>0.227684</td>\n",
       "      <td>0.391312</td>\n",
       "      <td>0.701445</td>\n",
       "      <td>0.858439</td>\n",
       "      <td>159.849724</td>\n",
       "      <td>0.681329</td>\n",
       "      <td>0.0</td>\n",
       "      <td>160.708163</td>\n",
       "      <td>160.531053</td>\n",
       "      <td>161.389493</td>\n",
       "    </tr>\n",
       "  </tbody>\n",
       "</table>\n",
       "</div>"
      ],
      "text/plain": [
       "   sim         k         h       Z12    Zcom12       Z23    Zcom23        e1  \\\n",
       "0  0.0 -0.193662 -0.285635  0.388670  0.636611  0.735677  0.664992  0.867296   \n",
       "1  1.0  0.342728 -0.343074  0.332211  0.559205  0.640342  0.191515  0.357091   \n",
       "2  2.0  0.210379 -0.115803  0.217568  0.243371  0.641480  0.408302  0.269689   \n",
       "3  3.0  0.024894  0.395947  0.292039  0.090441  0.257699  0.312442  0.046320   \n",
       "4  4.0 -0.379218  0.096536  0.209768  0.486905  0.896058  0.423220  0.227684   \n",
       "\n",
       "         e2        e3         m1          m2         m3  probstability  \\\n",
       "0  0.345097  0.712553   6.213249   13.376343  40.220045            0.0   \n",
       "1  0.484935  0.377275   0.485521    4.204200   3.251008            0.0   \n",
       "2  0.240145  0.559020   1.452781    4.575729  11.466701            0.0   \n",
       "3  0.396729  0.026889  19.684153    3.179315   1.719421            0.0   \n",
       "4  0.391312  0.701445   0.858439  159.849724   0.681329            0.0   \n",
       "\n",
       "        m1+m2       m2+m3     total m  \n",
       "0   19.589593   53.596389   59.809638  \n",
       "1    4.689721    7.455208    7.940729  \n",
       "2    6.028510   16.042429   17.495211  \n",
       "3   22.863469    4.898737   24.582890  \n",
       "4  160.708163  160.531053  161.389493  "
      ]
     },
     "execution_count": 4,
     "metadata": {},
     "output_type": "execute_result"
    }
   ],
   "source": [
    "dfspock.head()"
   ]
  },
  {
   "cell_type": "code",
   "execution_count": 5,
   "metadata": {},
   "outputs": [
    {
     "data": {
      "text/plain": [
       "(27053, 17)"
      ]
     },
     "execution_count": 5,
     "metadata": {},
     "output_type": "execute_result"
    }
   ],
   "source": [
    "dfspock.shape"
   ]
  },
  {
   "cell_type": "code",
   "execution_count": 6,
   "metadata": {},
   "outputs": [
    {
     "name": "stderr",
     "output_type": "stream",
     "text": [
      "/mnt/ssd/Dropbox/Dropbox (Princeton)/workspace/rebound/rebound/simulation.py:352: RuntimeWarning: Binary file was saved with a different version of REBOUND. Binary format might have changed.\n",
      "  warnings.warn(message, RuntimeWarning)\n",
      "/mnt/ssd/Dropbox/Dropbox (Princeton)/workspace/rebound/rebound/simulation.py:352: RuntimeWarning: Encountered unkown field in file. File might have been saved with a different version of REBOUND.\n",
      "  warnings.warn(message, RuntimeWarning)\n"
     ]
    }
   ],
   "source": [
    "rerun(dfspock.loc[0])"
   ]
  },
  {
   "cell_type": "code",
   "execution_count": null,
   "metadata": {},
   "outputs": [],
   "source": []
  },
  {
   "cell_type": "code",
   "execution_count": null,
   "metadata": {},
   "outputs": [
    {
     "name": "stderr",
     "output_type": "stream",
     "text": [
      "/mnt/ssd/Dropbox/Dropbox (Princeton)/workspace/rebound/rebound/simulation.py:352: RuntimeWarning: Binary file was saved with a different version of REBOUND. Binary format might have changed.\n",
      "  warnings.warn(message, RuntimeWarning)\n",
      "/mnt/ssd/Dropbox/Dropbox (Princeton)/workspace/rebound/rebound/simulation.py:352: RuntimeWarning: Encountered unkown field in file. File might have been saved with a different version of REBOUND.\n",
      "  warnings.warn(message, RuntimeWarning)\n",
      "/home/dtamayo/miniconda3/envs/ml/lib/python3.7/site-packages/dask/dataframe/core.py:3966: UserWarning: \n",
      "You did not provide metadata, so Dask is running your function on a small dataset to guess output types. It is possible that Dask will guess incorrectly.\n",
      "To provide an explicit output types or to silence this message, please provide the `meta=` keyword, as described in the map or apply function that you are using.\n",
      "  Before: .apply(func)\n",
      "  After:  .apply(func, meta=(None, 'object'))\n",
      "\n",
      "  warnings.warn(meta_warning(meta))\n",
      "/mnt/ssd/Dropbox/Dropbox (Princeton)/workspace/rebound/rebound/simulation.py:352: RuntimeWarning: Binary file was saved with a different version of REBOUND. Binary format might have changed.\n",
      "  warnings.warn(message, RuntimeWarning)\n",
      "/mnt/ssd/Dropbox/Dropbox (Princeton)/workspace/rebound/rebound/simulation.py:352: RuntimeWarning: Encountered unkown field in file. File might have been saved with a different version of REBOUND.\n",
      "  warnings.warn(message, RuntimeWarning)\n",
      "/mnt/ssd/Dropbox/Dropbox (Princeton)/workspace/rebound/rebound/simulation.py:352: RuntimeWarning: Binary file was saved with a different version of REBOUND. Binary format might have changed.\n",
      "  warnings.warn(message, RuntimeWarning)\n",
      "/mnt/ssd/Dropbox/Dropbox (Princeton)/workspace/rebound/rebound/simulation.py:352: RuntimeWarning: Encountered unkown field in file. File might have been saved with a different version of REBOUND.\n",
      "  warnings.warn(message, RuntimeWarning)\n",
      "/mnt/ssd/Dropbox/Dropbox (Princeton)/workspace/rebound/rebound/simulation.py:352: RuntimeWarning: Binary file was saved with a different version of REBOUND. Binary format might have changed.\n",
      "  warnings.warn(message, RuntimeWarning)\n",
      "/mnt/ssd/Dropbox/Dropbox (Princeton)/workspace/rebound/rebound/simulation.py:352: RuntimeWarning: Encountered unkown field in file. File might have been saved with a different version of REBOUND.\n",
      "  warnings.warn(message, RuntimeWarning)\n",
      "/mnt/ssd/Dropbox/Dropbox (Princeton)/workspace/rebound/rebound/simulation.py:352: RuntimeWarning: Binary file was saved with a different version of REBOUND. Binary format might have changed.\n",
      "  warnings.warn(message, RuntimeWarning)\n",
      "/mnt/ssd/Dropbox/Dropbox (Princeton)/workspace/rebound/rebound/simulation.py:352: RuntimeWarning: Encountered unkown field in file. File might have been saved with a different version of REBOUND.\n",
      "  warnings.warn(message, RuntimeWarning)\n",
      "/mnt/ssd/Dropbox/Dropbox (Princeton)/workspace/rebound/rebound/simulation.py:352: RuntimeWarning: Binary file was saved with a different version of REBOUND. Binary format might have changed.\n",
      "  warnings.warn(message, RuntimeWarning)\n",
      "/mnt/ssd/Dropbox/Dropbox (Princeton)/workspace/rebound/rebound/simulation.py:352: RuntimeWarning: Encountered unkown field in file. File might have been saved with a different version of REBOUND.\n",
      "  warnings.warn(message, RuntimeWarning)\n",
      "/mnt/ssd/Dropbox/Dropbox (Princeton)/workspace/rebound/rebound/simulation.py:352: RuntimeWarning: Binary file was saved with a different version of REBOUND. Binary format might have changed.\n",
      "  warnings.warn(message, RuntimeWarning)\n",
      "/mnt/ssd/Dropbox/Dropbox (Princeton)/workspace/rebound/rebound/simulation.py:352: RuntimeWarning: Encountered unkown field in file. File might have been saved with a different version of REBOUND.\n",
      "  warnings.warn(message, RuntimeWarning)\n",
      "/mnt/ssd/Dropbox/Dropbox (Princeton)/workspace/rebound/rebound/simulation.py:352: RuntimeWarning: Binary file was saved with a different version of REBOUND. Binary format might have changed.\n",
      "  warnings.warn(message, RuntimeWarning)\n",
      "/mnt/ssd/Dropbox/Dropbox (Princeton)/workspace/rebound/rebound/simulation.py:352: RuntimeWarning: Encountered unkown field in file. File might have been saved with a different version of REBOUND.\n",
      "  warnings.warn(message, RuntimeWarning)\n",
      "/mnt/ssd/Dropbox/Dropbox (Princeton)/workspace/rebound/rebound/simulation.py:352: RuntimeWarning: Binary file was saved with a different version of REBOUND. Binary format might have changed.\n",
      "  warnings.warn(message, RuntimeWarning)\n",
      "/mnt/ssd/Dropbox/Dropbox (Princeton)/workspace/rebound/rebound/simulation.py:352: RuntimeWarning: Encountered unkown field in file. File might have been saved with a different version of REBOUND.\n",
      "  warnings.warn(message, RuntimeWarning)\n",
      "/mnt/ssd/Dropbox/Dropbox (Princeton)/workspace/rebound/rebound/simulation.py:352: RuntimeWarning: Binary file was saved with a different version of REBOUND. Binary format might have changed.\n",
      "  warnings.warn(message, RuntimeWarning)\n",
      "/mnt/ssd/Dropbox/Dropbox (Princeton)/workspace/rebound/rebound/simulation.py:352: RuntimeWarning: Encountered unkown field in file. File might have been saved with a different version of REBOUND.\n",
      "  warnings.warn(message, RuntimeWarning)\n",
      "/mnt/ssd/Dropbox/Dropbox (Princeton)/workspace/rebound/rebound/simulation.py:352: RuntimeWarning: Binary file was saved with a different version of REBOUND. Binary format might have changed.\n",
      "  warnings.warn(message, RuntimeWarning)\n",
      "/mnt/ssd/Dropbox/Dropbox (Princeton)/workspace/rebound/rebound/simulation.py:352: RuntimeWarning: Encountered unkown field in file. File might have been saved with a different version of REBOUND.\n",
      "  warnings.warn(message, RuntimeWarning)\n",
      "/mnt/ssd/Dropbox/Dropbox (Princeton)/workspace/rebound/rebound/simulation.py:352: RuntimeWarning: Binary file was saved with a different version of REBOUND. Binary format might have changed.\n",
      "  warnings.warn(message, RuntimeWarning)\n",
      "/mnt/ssd/Dropbox/Dropbox (Princeton)/workspace/rebound/rebound/simulation.py:352: RuntimeWarning: Encountered unkown field in file. File might have been saved with a different version of REBOUND.\n",
      "  warnings.warn(message, RuntimeWarning)\n",
      "/mnt/ssd/Dropbox/Dropbox (Princeton)/workspace/rebound/rebound/simulation.py:352: RuntimeWarning: Binary file was saved with a different version of REBOUND. Binary format might have changed.\n",
      "  warnings.warn(message, RuntimeWarning)\n",
      "/mnt/ssd/Dropbox/Dropbox (Princeton)/workspace/rebound/rebound/simulation.py:352: RuntimeWarning: Binary file was saved with a different version of REBOUND. Binary format might have changed.\n",
      "  warnings.warn(message, RuntimeWarning)\n",
      "/mnt/ssd/Dropbox/Dropbox (Princeton)/workspace/rebound/rebound/simulation.py:352: RuntimeWarning: Encountered unkown field in file. File might have been saved with a different version of REBOUND.\n",
      "  warnings.warn(message, RuntimeWarning)\n",
      "/mnt/ssd/Dropbox/Dropbox (Princeton)/workspace/rebound/rebound/simulation.py:352: RuntimeWarning: Encountered unkown field in file. File might have been saved with a different version of REBOUND.\n",
      "  warnings.warn(message, RuntimeWarning)\n",
      "/mnt/ssd/Dropbox/Dropbox (Princeton)/workspace/rebound/rebound/simulation.py:352: RuntimeWarning: Binary file was saved with a different version of REBOUND. Binary format might have changed.\n",
      "  warnings.warn(message, RuntimeWarning)\n",
      "/mnt/ssd/Dropbox/Dropbox (Princeton)/workspace/rebound/rebound/simulation.py:352: RuntimeWarning: Binary file was saved with a different version of REBOUND. Binary format might have changed.\n",
      "  warnings.warn(message, RuntimeWarning)\n",
      "/mnt/ssd/Dropbox/Dropbox (Princeton)/workspace/rebound/rebound/simulation.py:352: RuntimeWarning: Binary file was saved with a different version of REBOUND. Binary format might have changed.\n",
      "  warnings.warn(message, RuntimeWarning)\n",
      "/mnt/ssd/Dropbox/Dropbox (Princeton)/workspace/rebound/rebound/simulation.py:352: RuntimeWarning: Encountered unkown field in file. File might have been saved with a different version of REBOUND.\n",
      "  warnings.warn(message, RuntimeWarning)\n",
      "/mnt/ssd/Dropbox/Dropbox (Princeton)/workspace/rebound/rebound/simulation.py:352: RuntimeWarning: Encountered unkown field in file. File might have been saved with a different version of REBOUND.\n",
      "  warnings.warn(message, RuntimeWarning)\n"
     ]
    },
    {
     "name": "stderr",
     "output_type": "stream",
     "text": [
      "/mnt/ssd/Dropbox/Dropbox (Princeton)/workspace/rebound/rebound/simulation.py:352: RuntimeWarning: Encountered unkown field in file. File might have been saved with a different version of REBOUND.\n",
      "  warnings.warn(message, RuntimeWarning)\n",
      "/mnt/ssd/Dropbox/Dropbox (Princeton)/workspace/rebound/rebound/simulation.py:352: RuntimeWarning: Binary file was saved with a different version of REBOUND. Binary format might have changed.\n",
      "  warnings.warn(message, RuntimeWarning)\n",
      "/mnt/ssd/Dropbox/Dropbox (Princeton)/workspace/rebound/rebound/simulation.py:352: RuntimeWarning: Binary file was saved with a different version of REBOUND. Binary format might have changed.\n",
      "  warnings.warn(message, RuntimeWarning)\n",
      "/mnt/ssd/Dropbox/Dropbox (Princeton)/workspace/rebound/rebound/simulation.py:352: RuntimeWarning: Binary file was saved with a different version of REBOUND. Binary format might have changed.\n",
      "  warnings.warn(message, RuntimeWarning)\n",
      "/mnt/ssd/Dropbox/Dropbox (Princeton)/workspace/rebound/rebound/simulation.py:352: RuntimeWarning: Binary file was saved with a different version of REBOUND. Binary format might have changed.\n",
      "  warnings.warn(message, RuntimeWarning)\n",
      "/mnt/ssd/Dropbox/Dropbox (Princeton)/workspace/rebound/rebound/simulation.py:352: RuntimeWarning: Binary file was saved with a different version of REBOUND. Binary format might have changed.\n",
      "  warnings.warn(message, RuntimeWarning)\n",
      "/mnt/ssd/Dropbox/Dropbox (Princeton)/workspace/rebound/rebound/simulation.py:352: RuntimeWarning: Encountered unkown field in file. File might have been saved with a different version of REBOUND.\n",
      "  warnings.warn(message, RuntimeWarning)\n",
      "/mnt/ssd/Dropbox/Dropbox (Princeton)/workspace/rebound/rebound/simulation.py:352: RuntimeWarning: Binary file was saved with a different version of REBOUND. Binary format might have changed.\n",
      "  warnings.warn(message, RuntimeWarning)\n",
      "/mnt/ssd/Dropbox/Dropbox (Princeton)/workspace/rebound/rebound/simulation.py:352: RuntimeWarning: Encountered unkown field in file. File might have been saved with a different version of REBOUND.\n",
      "  warnings.warn(message, RuntimeWarning)\n",
      "/mnt/ssd/Dropbox/Dropbox (Princeton)/workspace/rebound/rebound/simulation.py:352: RuntimeWarning: Encountered unkown field in file. File might have been saved with a different version of REBOUND.\n",
      "  warnings.warn(message, RuntimeWarning)\n",
      "/mnt/ssd/Dropbox/Dropbox (Princeton)/workspace/rebound/rebound/simulation.py:352: RuntimeWarning: Encountered unkown field in file. File might have been saved with a different version of REBOUND.\n",
      "  warnings.warn(message, RuntimeWarning)\n",
      "/mnt/ssd/Dropbox/Dropbox (Princeton)/workspace/rebound/rebound/simulation.py:352: RuntimeWarning: Binary file was saved with a different version of REBOUND. Binary format might have changed.\n",
      "  warnings.warn(message, RuntimeWarning)\n",
      "/mnt/ssd/Dropbox/Dropbox (Princeton)/workspace/rebound/rebound/simulation.py:352: RuntimeWarning: Encountered unkown field in file. File might have been saved with a different version of REBOUND.\n",
      "  warnings.warn(message, RuntimeWarning)\n",
      "/mnt/ssd/Dropbox/Dropbox (Princeton)/workspace/rebound/rebound/simulation.py:352: RuntimeWarning: Encountered unkown field in file. File might have been saved with a different version of REBOUND.\n",
      "  warnings.warn(message, RuntimeWarning)\n",
      "/mnt/ssd/Dropbox/Dropbox (Princeton)/workspace/rebound/rebound/simulationarchive.py:89: RuntimeWarning: Binary file was saved with a different version of REBOUND. Binary format might have changed.\n",
      "  warnings.warn(message, RuntimeWarning)\n",
      "/mnt/ssd/Dropbox/Dropbox (Princeton)/workspace/rebound/rebound/simulation.py:352: RuntimeWarning: Binary file was saved with a different version of REBOUND. Binary format might have changed.\n",
      "  warnings.warn(message, RuntimeWarning)\n",
      "/mnt/ssd/Dropbox/Dropbox (Princeton)/workspace/rebound/rebound/simulation.py:352: RuntimeWarning: Binary file was saved with a different version of REBOUND. Binary format might have changed.\n",
      "  warnings.warn(message, RuntimeWarning)\n",
      "/mnt/ssd/Dropbox/Dropbox (Princeton)/workspace/rebound/rebound/simulation.py:352: RuntimeWarning: Encountered unkown field in file. File might have been saved with a different version of REBOUND.\n",
      "  warnings.warn(message, RuntimeWarning)\n",
      "/mnt/ssd/Dropbox/Dropbox (Princeton)/workspace/rebound/rebound/simulation.py:352: RuntimeWarning: Binary file was saved with a different version of REBOUND. Binary format might have changed.\n",
      "  warnings.warn(message, RuntimeWarning)\n",
      "/mnt/ssd/Dropbox/Dropbox (Princeton)/workspace/rebound/rebound/simulation.py:352: RuntimeWarning: Encountered unkown field in file. File might have been saved with a different version of REBOUND.\n",
      "  warnings.warn(message, RuntimeWarning)\n",
      "/mnt/ssd/Dropbox/Dropbox (Princeton)/workspace/rebound/rebound/simulation.py:352: RuntimeWarning: Encountered unkown field in file. File might have been saved with a different version of REBOUND.\n",
      "  warnings.warn(message, RuntimeWarning)\n",
      "/mnt/ssd/Dropbox/Dropbox (Princeton)/workspace/rebound/rebound/simulation.py:352: RuntimeWarning: Binary file was saved with a different version of REBOUND. Binary format might have changed.\n",
      "  warnings.warn(message, RuntimeWarning)\n",
      "/mnt/ssd/Dropbox/Dropbox (Princeton)/workspace/rebound/rebound/simulation.py:352: RuntimeWarning: Binary file was saved with a different version of REBOUND. Binary format might have changed.\n",
      "  warnings.warn(message, RuntimeWarning)\n",
      "/mnt/ssd/Dropbox/Dropbox (Princeton)/workspace/rebound/rebound/simulation.py:352: RuntimeWarning: Binary file was saved with a different version of REBOUND. Binary format might have changed.\n",
      "  warnings.warn(message, RuntimeWarning)\n",
      "/mnt/ssd/Dropbox/Dropbox (Princeton)/workspace/rebound/rebound/simulation.py:352: RuntimeWarning: Encountered unkown field in file. File might have been saved with a different version of REBOUND.\n",
      "  warnings.warn(message, RuntimeWarning)\n",
      "/mnt/ssd/Dropbox/Dropbox (Princeton)/workspace/rebound/rebound/simulationarchive.py:89: RuntimeWarning: Binary file was saved with a different version of REBOUND. Binary format might have changed.\n",
      "  warnings.warn(message, RuntimeWarning)\n",
      "/mnt/ssd/Dropbox/Dropbox (Princeton)/workspace/rebound/rebound/simulation.py:352: RuntimeWarning: Binary file was saved with a different version of REBOUND. Binary format might have changed.\n",
      "  warnings.warn(message, RuntimeWarning)\n",
      "/mnt/ssd/Dropbox/Dropbox (Princeton)/workspace/rebound/rebound/simulationarchive.py:89: RuntimeWarning: Binary file was saved with a different version of REBOUND. Binary format might have changed.\n",
      "  warnings.warn(message, RuntimeWarning)\n",
      "/mnt/ssd/Dropbox/Dropbox (Princeton)/workspace/rebound/rebound/simulation.py:352: RuntimeWarning: Binary file was saved with a different version of REBOUND. Binary format might have changed.\n",
      "  warnings.warn(message, RuntimeWarning)\n",
      "/mnt/ssd/Dropbox/Dropbox (Princeton)/workspace/rebound/rebound/simulationarchive.py:89: RuntimeWarning: Binary file was saved with a different version of REBOUND. Binary format might have changed.\n",
      "  warnings.warn(message, RuntimeWarning)\n",
      "/mnt/ssd/Dropbox/Dropbox (Princeton)/workspace/rebound/rebound/simulationarchive.py:89: RuntimeWarning: Binary file was saved with a different version of REBOUND. Binary format might have changed.\n",
      "  warnings.warn(message, RuntimeWarning)\n",
      "/mnt/ssd/Dropbox/Dropbox (Princeton)/workspace/rebound/rebound/simulation.py:352: RuntimeWarning: Binary file was saved with a different version of REBOUND. Binary format might have changed.\n",
      "  warnings.warn(message, RuntimeWarning)\n",
      "/mnt/ssd/Dropbox/Dropbox (Princeton)/workspace/rebound/rebound/simulation.py:352: RuntimeWarning: Binary file was saved with a different version of REBOUND. Binary format might have changed.\n",
      "  warnings.warn(message, RuntimeWarning)\n",
      "/mnt/ssd/Dropbox/Dropbox (Princeton)/workspace/rebound/rebound/simulation.py:352: RuntimeWarning: Binary file was saved with a different version of REBOUND. Binary format might have changed.\n",
      "  warnings.warn(message, RuntimeWarning)\n",
      "/mnt/ssd/Dropbox/Dropbox (Princeton)/workspace/rebound/rebound/simulation.py:352: RuntimeWarning: Encountered unkown field in file. File might have been saved with a different version of REBOUND.\n",
      "  warnings.warn(message, RuntimeWarning)\n"
     ]
    },
    {
     "name": "stderr",
     "output_type": "stream",
     "text": [
      "/mnt/ssd/Dropbox/Dropbox (Princeton)/workspace/rebound/rebound/simulationarchive.py:89: RuntimeWarning: Binary file was saved with a different version of REBOUND. Binary format might have changed.\n",
      "  warnings.warn(message, RuntimeWarning)\n",
      "/mnt/ssd/Dropbox/Dropbox (Princeton)/workspace/rebound/rebound/simulation.py:352: RuntimeWarning: Binary file was saved with a different version of REBOUND. Binary format might have changed.\n",
      "  warnings.warn(message, RuntimeWarning)\n",
      "/mnt/ssd/Dropbox/Dropbox (Princeton)/workspace/rebound/rebound/simulation.py:352: RuntimeWarning: Encountered unkown field in file. File might have been saved with a different version of REBOUND.\n",
      "  warnings.warn(message, RuntimeWarning)\n",
      "/mnt/ssd/Dropbox/Dropbox (Princeton)/workspace/rebound/rebound/simulation.py:352: RuntimeWarning: Encountered unkown field in file. File might have been saved with a different version of REBOUND.\n",
      "  warnings.warn(message, RuntimeWarning)\n",
      "/mnt/ssd/Dropbox/Dropbox (Princeton)/workspace/rebound/rebound/simulation.py:352: RuntimeWarning: Encountered unkown field in file. File might have been saved with a different version of REBOUND.\n",
      "  warnings.warn(message, RuntimeWarning)\n",
      "/mnt/ssd/Dropbox/Dropbox (Princeton)/workspace/rebound/rebound/simulationarchive.py:89: RuntimeWarning: Binary file was saved with a different version of REBOUND. Binary format might have changed.\n",
      "  warnings.warn(message, RuntimeWarning)\n",
      "/mnt/ssd/Dropbox/Dropbox (Princeton)/workspace/rebound/rebound/simulation.py:352: RuntimeWarning: Encountered unkown field in file. File might have been saved with a different version of REBOUND.\n",
      "  warnings.warn(message, RuntimeWarning)\n",
      "/mnt/ssd/Dropbox/Dropbox (Princeton)/workspace/rebound/rebound/simulation.py:352: RuntimeWarning: Encountered unkown field in file. File might have been saved with a different version of REBOUND.\n",
      "  warnings.warn(message, RuntimeWarning)\n",
      "/mnt/ssd/Dropbox/Dropbox (Princeton)/workspace/rebound/rebound/simulation.py:352: RuntimeWarning: Binary file was saved with a different version of REBOUND. Binary format might have changed.\n",
      "  warnings.warn(message, RuntimeWarning)\n",
      "/mnt/ssd/Dropbox/Dropbox (Princeton)/workspace/rebound/rebound/simulation.py:352: RuntimeWarning: Binary file was saved with a different version of REBOUND. Binary format might have changed.\n",
      "  warnings.warn(message, RuntimeWarning)\n",
      "/mnt/ssd/Dropbox/Dropbox (Princeton)/workspace/rebound/rebound/simulation.py:352: RuntimeWarning: Encountered unkown field in file. File might have been saved with a different version of REBOUND.\n",
      "  warnings.warn(message, RuntimeWarning)\n",
      "/mnt/ssd/Dropbox/Dropbox (Princeton)/workspace/rebound/rebound/simulation.py:352: RuntimeWarning: Encountered unkown field in file. File might have been saved with a different version of REBOUND.\n",
      "  warnings.warn(message, RuntimeWarning)\n",
      "/mnt/ssd/Dropbox/Dropbox (Princeton)/workspace/rebound/rebound/simulation.py:352: RuntimeWarning: Binary file was saved with a different version of REBOUND. Binary format might have changed.\n",
      "  warnings.warn(message, RuntimeWarning)\n",
      "/mnt/ssd/Dropbox/Dropbox (Princeton)/workspace/rebound/rebound/simulation.py:352: RuntimeWarning: Binary file was saved with a different version of REBOUND. Binary format might have changed.\n",
      "  warnings.warn(message, RuntimeWarning)\n",
      "/mnt/ssd/Dropbox/Dropbox (Princeton)/workspace/rebound/rebound/simulation.py:352: RuntimeWarning: Binary file was saved with a different version of REBOUND. Binary format might have changed.\n",
      "  warnings.warn(message, RuntimeWarning)\n",
      "/mnt/ssd/Dropbox/Dropbox (Princeton)/workspace/rebound/rebound/simulation.py:352: RuntimeWarning: Encountered unkown field in file. File might have been saved with a different version of REBOUND.\n",
      "  warnings.warn(message, RuntimeWarning)\n",
      "/mnt/ssd/Dropbox/Dropbox (Princeton)/workspace/rebound/rebound/simulation.py:352: RuntimeWarning: Binary file was saved with a different version of REBOUND. Binary format might have changed.\n",
      "  warnings.warn(message, RuntimeWarning)\n",
      "/mnt/ssd/Dropbox/Dropbox (Princeton)/workspace/rebound/rebound/simulation.py:352: RuntimeWarning: Encountered unkown field in file. File might have been saved with a different version of REBOUND.\n",
      "  warnings.warn(message, RuntimeWarning)\n",
      "/mnt/ssd/Dropbox/Dropbox (Princeton)/workspace/rebound/rebound/simulation.py:352: RuntimeWarning: Encountered unkown field in file. File might have been saved with a different version of REBOUND.\n",
      "  warnings.warn(message, RuntimeWarning)\n",
      "/mnt/ssd/Dropbox/Dropbox (Princeton)/workspace/rebound/rebound/simulation.py:352: RuntimeWarning: Binary file was saved with a different version of REBOUND. Binary format might have changed.\n",
      "  warnings.warn(message, RuntimeWarning)\n",
      "/mnt/ssd/Dropbox/Dropbox (Princeton)/workspace/rebound/rebound/simulation.py:352: RuntimeWarning: Encountered unkown field in file. File might have been saved with a different version of REBOUND.\n",
      "  warnings.warn(message, RuntimeWarning)\n",
      "/mnt/ssd/Dropbox/Dropbox (Princeton)/workspace/rebound/rebound/simulation.py:352: RuntimeWarning: Encountered unkown field in file. File might have been saved with a different version of REBOUND.\n",
      "  warnings.warn(message, RuntimeWarning)\n",
      "/mnt/ssd/Dropbox/Dropbox (Princeton)/workspace/rebound/rebound/simulationarchive.py:89: RuntimeWarning: Binary file was saved with a different version of REBOUND. Binary format might have changed.\n",
      "  warnings.warn(message, RuntimeWarning)\n",
      "/mnt/ssd/Dropbox/Dropbox (Princeton)/workspace/rebound/rebound/simulation.py:352: RuntimeWarning: Encountered unkown field in file. File might have been saved with a different version of REBOUND.\n",
      "  warnings.warn(message, RuntimeWarning)\n",
      "/mnt/ssd/Dropbox/Dropbox (Princeton)/workspace/rebound/rebound/simulation.py:352: RuntimeWarning: Binary file was saved with a different version of REBOUND. Binary format might have changed.\n",
      "  warnings.warn(message, RuntimeWarning)\n",
      "/mnt/ssd/Dropbox/Dropbox (Princeton)/workspace/rebound/rebound/simulation.py:352: RuntimeWarning: Encountered unkown field in file. File might have been saved with a different version of REBOUND.\n",
      "  warnings.warn(message, RuntimeWarning)\n",
      "/mnt/ssd/Dropbox/Dropbox (Princeton)/workspace/rebound/rebound/simulation.py:352: RuntimeWarning: Binary file was saved with a different version of REBOUND. Binary format might have changed.\n",
      "  warnings.warn(message, RuntimeWarning)\n",
      "/mnt/ssd/Dropbox/Dropbox (Princeton)/workspace/rebound/rebound/simulationarchive.py:89: RuntimeWarning: Binary file was saved with a different version of REBOUND. Binary format might have changed.\n",
      "  warnings.warn(message, RuntimeWarning)\n",
      "/mnt/ssd/Dropbox/Dropbox (Princeton)/workspace/rebound/rebound/simulation.py:352: RuntimeWarning: Binary file was saved with a different version of REBOUND. Binary format might have changed.\n",
      "  warnings.warn(message, RuntimeWarning)\n",
      "/mnt/ssd/Dropbox/Dropbox (Princeton)/workspace/rebound/rebound/simulation.py:352: RuntimeWarning: Binary file was saved with a different version of REBOUND. Binary format might have changed.\n",
      "  warnings.warn(message, RuntimeWarning)\n",
      "/mnt/ssd/Dropbox/Dropbox (Princeton)/workspace/rebound/rebound/simulation.py:352: RuntimeWarning: Binary file was saved with a different version of REBOUND. Binary format might have changed.\n",
      "  warnings.warn(message, RuntimeWarning)\n",
      "/mnt/ssd/Dropbox/Dropbox (Princeton)/workspace/rebound/rebound/simulation.py:352: RuntimeWarning: Encountered unkown field in file. File might have been saved with a different version of REBOUND.\n",
      "  warnings.warn(message, RuntimeWarning)\n",
      "/mnt/ssd/Dropbox/Dropbox (Princeton)/workspace/rebound/rebound/simulation.py:352: RuntimeWarning: Binary file was saved with a different version of REBOUND. Binary format might have changed.\n",
      "  warnings.warn(message, RuntimeWarning)\n",
      "/mnt/ssd/Dropbox/Dropbox (Princeton)/workspace/rebound/rebound/simulation.py:352: RuntimeWarning: Encountered unkown field in file. File might have been saved with a different version of REBOUND.\n",
      "  warnings.warn(message, RuntimeWarning)\n",
      "/mnt/ssd/Dropbox/Dropbox (Princeton)/workspace/rebound/rebound/simulation.py:352: RuntimeWarning: Encountered unkown field in file. File might have been saved with a different version of REBOUND.\n",
      "  warnings.warn(message, RuntimeWarning)\n"
     ]
    },
    {
     "name": "stderr",
     "output_type": "stream",
     "text": [
      "/mnt/ssd/Dropbox/Dropbox (Princeton)/workspace/rebound/rebound/simulation.py:352: RuntimeWarning: Encountered unkown field in file. File might have been saved with a different version of REBOUND.\n",
      "  warnings.warn(message, RuntimeWarning)\n",
      "/mnt/ssd/Dropbox/Dropbox (Princeton)/workspace/rebound/rebound/simulation.py:352: RuntimeWarning: Encountered unkown field in file. File might have been saved with a different version of REBOUND.\n",
      "  warnings.warn(message, RuntimeWarning)\n",
      "/mnt/ssd/Dropbox/Dropbox (Princeton)/workspace/rebound/rebound/simulation.py:352: RuntimeWarning: Encountered unkown field in file. File might have been saved with a different version of REBOUND.\n",
      "  warnings.warn(message, RuntimeWarning)\n",
      "/mnt/ssd/Dropbox/Dropbox (Princeton)/workspace/rebound/rebound/simulation.py:352: RuntimeWarning: Encountered unkown field in file. File might have been saved with a different version of REBOUND.\n",
      "  warnings.warn(message, RuntimeWarning)\n",
      "/mnt/ssd/Dropbox/Dropbox (Princeton)/workspace/rebound/rebound/simulationarchive.py:89: RuntimeWarning: Binary file was saved with a different version of REBOUND. Binary format might have changed.\n",
      "  warnings.warn(message, RuntimeWarning)\n",
      "/mnt/ssd/Dropbox/Dropbox (Princeton)/workspace/rebound/rebound/simulationarchive.py:89: RuntimeWarning: Binary file was saved with a different version of REBOUND. Binary format might have changed.\n",
      "  warnings.warn(message, RuntimeWarning)\n",
      "/mnt/ssd/Dropbox/Dropbox (Princeton)/workspace/rebound/rebound/simulationarchive.py:89: RuntimeWarning: Binary file was saved with a different version of REBOUND. Binary format might have changed.\n",
      "  warnings.warn(message, RuntimeWarning)\n",
      "/mnt/ssd/Dropbox/Dropbox (Princeton)/workspace/rebound/rebound/simulationarchive.py:89: RuntimeWarning: Binary file was saved with a different version of REBOUND. Binary format might have changed.\n",
      "  warnings.warn(message, RuntimeWarning)\n",
      "/mnt/ssd/Dropbox/Dropbox (Princeton)/workspace/rebound/rebound/simulationarchive.py:89: RuntimeWarning: Binary file was saved with a different version of REBOUND. Binary format might have changed.\n",
      "  warnings.warn(message, RuntimeWarning)\n",
      "/mnt/ssd/Dropbox/Dropbox (Princeton)/workspace/rebound/rebound/simulationarchive.py:89: RuntimeWarning: Binary file was saved with a different version of REBOUND. Binary format might have changed.\n",
      "  warnings.warn(message, RuntimeWarning)\n",
      "/mnt/ssd/Dropbox/Dropbox (Princeton)/workspace/rebound/rebound/simulationarchive.py:89: RuntimeWarning: Binary file was saved with a different version of REBOUND. Binary format might have changed.\n",
      "  warnings.warn(message, RuntimeWarning)\n",
      "/mnt/ssd/Dropbox/Dropbox (Princeton)/workspace/rebound/rebound/simulationarchive.py:89: RuntimeWarning: Binary file was saved with a different version of REBOUND. Binary format might have changed.\n",
      "  warnings.warn(message, RuntimeWarning)\n",
      "/mnt/ssd/Dropbox/Dropbox (Princeton)/workspace/rebound/rebound/simulationarchive.py:89: RuntimeWarning: Binary file was saved with a different version of REBOUND. Binary format might have changed.\n",
      "  warnings.warn(message, RuntimeWarning)\n",
      "/mnt/ssd/Dropbox/Dropbox (Princeton)/workspace/rebound/rebound/simulationarchive.py:89: RuntimeWarning: Binary file was saved with a different version of REBOUND. Binary format might have changed.\n",
      "  warnings.warn(message, RuntimeWarning)\n",
      "/mnt/ssd/Dropbox/Dropbox (Princeton)/workspace/rebound/rebound/simulationarchive.py:89: RuntimeWarning: Binary file was saved with a different version of REBOUND. Binary format might have changed.\n",
      "  warnings.warn(message, RuntimeWarning)\n",
      "/mnt/ssd/Dropbox/Dropbox (Princeton)/workspace/rebound/rebound/simulationarchive.py:89: RuntimeWarning: Binary file was saved with a different version of REBOUND. Binary format might have changed.\n",
      "  warnings.warn(message, RuntimeWarning)\n",
      "/mnt/ssd/Dropbox/Dropbox (Princeton)/workspace/rebound/rebound/simulationarchive.py:89: RuntimeWarning: Binary file was saved with a different version of REBOUND. Binary format might have changed.\n",
      "  warnings.warn(message, RuntimeWarning)\n",
      "/mnt/ssd/Dropbox/Dropbox (Princeton)/workspace/rebound/rebound/simulationarchive.py:89: RuntimeWarning: Binary file was saved with a different version of REBOUND. Binary format might have changed.\n",
      "  warnings.warn(message, RuntimeWarning)\n",
      "/mnt/ssd/Dropbox/Dropbox (Princeton)/workspace/rebound/rebound/simulationarchive.py:89: RuntimeWarning: Binary file was saved with a different version of REBOUND. Binary format might have changed.\n",
      "  warnings.warn(message, RuntimeWarning)\n",
      "/mnt/ssd/Dropbox/Dropbox (Princeton)/workspace/rebound/rebound/simulationarchive.py:89: RuntimeWarning: Binary file was saved with a different version of REBOUND. Binary format might have changed.\n",
      "  warnings.warn(message, RuntimeWarning)\n",
      "/mnt/ssd/Dropbox/Dropbox (Princeton)/workspace/rebound/rebound/simulationarchive.py:89: RuntimeWarning: Binary file was saved with a different version of REBOUND. Binary format might have changed.\n",
      "  warnings.warn(message, RuntimeWarning)\n",
      "/mnt/ssd/Dropbox/Dropbox (Princeton)/workspace/rebound/rebound/simulationarchive.py:89: RuntimeWarning: Binary file was saved with a different version of REBOUND. Binary format might have changed.\n",
      "  warnings.warn(message, RuntimeWarning)\n",
      "/mnt/ssd/Dropbox/Dropbox (Princeton)/workspace/rebound/rebound/simulationarchive.py:89: RuntimeWarning: Binary file was saved with a different version of REBOUND. Binary format might have changed.\n",
      "  warnings.warn(message, RuntimeWarning)\n",
      "/mnt/ssd/Dropbox/Dropbox (Princeton)/workspace/rebound/rebound/simulationarchive.py:89: RuntimeWarning: Binary file was saved with a different version of REBOUND. Binary format might have changed.\n",
      "  warnings.warn(message, RuntimeWarning)\n",
      "/mnt/ssd/Dropbox/Dropbox (Princeton)/workspace/rebound/rebound/simulationarchive.py:89: RuntimeWarning: Binary file was saved with a different version of REBOUND. Binary format might have changed.\n",
      "  warnings.warn(message, RuntimeWarning)\n",
      "/mnt/ssd/Dropbox/Dropbox (Princeton)/workspace/rebound/rebound/simulationarchive.py:89: RuntimeWarning: Binary file was saved with a different version of REBOUND. Binary format might have changed.\n",
      "  warnings.warn(message, RuntimeWarning)\n",
      "/mnt/ssd/Dropbox/Dropbox (Princeton)/workspace/rebound/rebound/simulationarchive.py:89: RuntimeWarning: Binary file was saved with a different version of REBOUND. Binary format might have changed.\n",
      "  warnings.warn(message, RuntimeWarning)\n",
      "/mnt/ssd/Dropbox/Dropbox (Princeton)/workspace/rebound/rebound/simulationarchive.py:89: RuntimeWarning: Binary file was saved with a different version of REBOUND. Binary format might have changed.\n",
      "  warnings.warn(message, RuntimeWarning)\n",
      "/mnt/ssd/Dropbox/Dropbox (Princeton)/workspace/rebound/rebound/simulationarchive.py:89: RuntimeWarning: Binary file was saved with a different version of REBOUND. Binary format might have changed.\n",
      "  warnings.warn(message, RuntimeWarning)\n",
      "/mnt/ssd/Dropbox/Dropbox (Princeton)/workspace/rebound/rebound/simulationarchive.py:89: RuntimeWarning: Binary file was saved with a different version of REBOUND. Binary format might have changed.\n",
      "  warnings.warn(message, RuntimeWarning)\n",
      "/mnt/ssd/Dropbox/Dropbox (Princeton)/workspace/rebound/rebound/simulationarchive.py:89: RuntimeWarning: Binary file was saved with a different version of REBOUND. Binary format might have changed.\n",
      "  warnings.warn(message, RuntimeWarning)\n",
      "/mnt/ssd/Dropbox/Dropbox (Princeton)/workspace/rebound/rebound/simulationarchive.py:89: RuntimeWarning: Binary file was saved with a different version of REBOUND. Binary format might have changed.\n",
      "  warnings.warn(message, RuntimeWarning)\n",
      "/mnt/ssd/Dropbox/Dropbox (Princeton)/workspace/rebound/rebound/simulationarchive.py:89: RuntimeWarning: Binary file was saved with a different version of REBOUND. Binary format might have changed.\n",
      "  warnings.warn(message, RuntimeWarning)\n",
      "/mnt/ssd/Dropbox/Dropbox (Princeton)/workspace/rebound/rebound/simulationarchive.py:89: RuntimeWarning: Binary file was saved with a different version of REBOUND. Binary format might have changed.\n",
      "  warnings.warn(message, RuntimeWarning)\n",
      "/mnt/ssd/Dropbox/Dropbox (Princeton)/workspace/rebound/rebound/simulationarchive.py:89: RuntimeWarning: Binary file was saved with a different version of REBOUND. Binary format might have changed.\n",
      "  warnings.warn(message, RuntimeWarning)\n"
     ]
    },
    {
     "name": "stderr",
     "output_type": "stream",
     "text": [
      "/mnt/ssd/Dropbox/Dropbox (Princeton)/workspace/rebound/rebound/simulationarchive.py:89: RuntimeWarning: Binary file was saved with a different version of REBOUND. Binary format might have changed.\n",
      "  warnings.warn(message, RuntimeWarning)\n",
      "/mnt/ssd/Dropbox/Dropbox (Princeton)/workspace/rebound/rebound/simulationarchive.py:89: RuntimeWarning: Binary file was saved with a different version of REBOUND. Binary format might have changed.\n",
      "  warnings.warn(message, RuntimeWarning)\n",
      "/mnt/ssd/Dropbox/Dropbox (Princeton)/workspace/rebound/rebound/simulationarchive.py:89: RuntimeWarning: Binary file was saved with a different version of REBOUND. Binary format might have changed.\n",
      "  warnings.warn(message, RuntimeWarning)\n",
      "/mnt/ssd/Dropbox/Dropbox (Princeton)/workspace/rebound/rebound/simulationarchive.py:89: RuntimeWarning: Binary file was saved with a different version of REBOUND. Binary format might have changed.\n",
      "  warnings.warn(message, RuntimeWarning)\n",
      "/mnt/ssd/Dropbox/Dropbox (Princeton)/workspace/rebound/rebound/simulationarchive.py:89: RuntimeWarning: Binary file was saved with a different version of REBOUND. Binary format might have changed.\n",
      "  warnings.warn(message, RuntimeWarning)\n",
      "/mnt/ssd/Dropbox/Dropbox (Princeton)/workspace/rebound/rebound/simulationarchive.py:89: RuntimeWarning: Binary file was saved with a different version of REBOUND. Binary format might have changed.\n",
      "  warnings.warn(message, RuntimeWarning)\n"
     ]
    }
   ],
   "source": [
    "%%time\n",
    "import dask.dataframe as dd\n",
    "ddfspock = dd.from_pandas(dfspock, npartitions=48)\n",
    "ddfspock.apply(rerun, axis=1).compute(scheduler='processes')"
   ]
  },
  {
   "cell_type": "code",
   "execution_count": 10,
   "metadata": {},
   "outputs": [
    {
     "data": {
      "text/plain": [
       "'K23/K23_logm_sa_798.bin'"
      ]
     },
     "execution_count": 10,
     "metadata": {},
     "output_type": "execute_result"
    }
   ],
   "source": [
    "'K23/K23_logm_sa_{0}.bin'.format(798)"
   ]
  },
  {
   "cell_type": "code",
   "execution_count": null,
   "metadata": {},
   "outputs": [],
   "source": [
    "df2.shape"
   ]
  },
  {
   "cell_type": "code",
   "execution_count": null,
   "metadata": {},
   "outputs": [],
   "source": [
    "filename = 'K23uniform/K23_logm_sa_{0}.bin'.format(0)\n",
    "sa = rebound.SimulationArchive(filename)\n",
    "sim = sa[0]\n",
    "P1 = sim.particles[1].P\n",
    "print(sa[-1].t/P1)"
   ]
  },
  {
   "cell_type": "code",
   "execution_count": 57,
   "metadata": {},
   "outputs": [
    {
     "name": "stdout",
     "output_type": "stream",
     "text": [
      "162693.32022779557\n"
     ]
    }
   ],
   "source": [
    "filename = 'K23/K23_logm_sa_{0}.bin'.format(139)\n",
    "sa = rebound.SimulationArchive(filename)\n",
    "len(sa)\n"
   ]
  },
  {
   "cell_type": "code",
   "execution_count": 25,
   "metadata": {},
   "outputs": [
    {
     "ename": "ZeroDivisionError",
     "evalue": "float division by zero",
     "output_type": "error",
     "traceback": [
      "\u001b[0;31m---------------------------------------------------------------------------\u001b[0m",
      "\u001b[0;31mZeroDivisionError\u001b[0m                         Traceback (most recent call last)",
      "\u001b[0;32m<ipython-input-25-9546646428b4>\u001b[0m in \u001b[0;36m<module>\u001b[0;34m\u001b[0m\n\u001b[0;32m----> 1\u001b[0;31m \u001b[0msa\u001b[0m\u001b[0;34m[\u001b[0m\u001b[0;34m-\u001b[0m\u001b[0;36m1\u001b[0m\u001b[0;34m]\u001b[0m\u001b[0;34m.\u001b[0m\u001b[0mt\u001b[0m\u001b[0;34m/\u001b[0m\u001b[0mP1\u001b[0m\u001b[0;34m\u001b[0m\u001b[0;34m\u001b[0m\u001b[0m\n\u001b[0m",
      "\u001b[0;31mZeroDivisionError\u001b[0m: float division by zero"
     ]
    }
   ],
   "source": [
    "sa[-1].t/P1"
   ]
  },
  {
   "cell_type": "code",
   "execution_count": 29,
   "metadata": {},
   "outputs": [
    {
     "data": {
      "text/plain": [
       "0.12225762622347786"
      ]
     },
     "execution_count": 29,
     "metadata": {},
     "output_type": "execute_result"
    }
   ],
   "source": [
    "sim.particles[1].P"
   ]
  },
  {
   "cell_type": "code",
   "execution_count": 28,
   "metadata": {},
   "outputs": [
    {
     "name": "stderr",
     "output_type": "stream",
     "text": [
      "/mnt/ssd/Dropbox/Dropbox (Princeton)/workspace/rebound/rebound/simulationarchive.py:138: RuntimeWarning: Binary file was saved with a different version of REBOUND. Binary format might have changed.\n",
      "  warnings.warn(message, RuntimeWarning)\n",
      "/mnt/ssd/Dropbox/Dropbox (Princeton)/workspace/rebound/rebound/simulationarchive.py:138: RuntimeWarning: Encountered unkown field in file. File might have been saved with a different version of REBOUND.\n",
      "  warnings.warn(message, RuntimeWarning)\n"
     ]
    },
    {
     "data": {
      "image/png": "[encoded data removed]",
      "text/plain": [
       "<Figure size 360x360 with 1 Axes>"
      ]
     },
     "execution_count": 28,
     "metadata": {},
     "output_type": "execute_result"
    },
    {
     "data": {
      "image/png": "[encoded data removed]",
      "text/plain": [
       "<Figure size 360x360 with 1 Axes>"
      ]
     },
     "metadata": {
      "needs_background": "light"
     },
     "output_type": "display_data"
    }
   ],
   "source": [
    "%matplotlib inline\n",
    "sim = sa[0]\n",
    "rebound.OrbitPlot(sim)"
   ]
  },
  {
   "cell_type": "code",
   "execution_count": null,
   "metadata": {},
   "outputs": [],
   "source": []
  }
 ],
 "metadata": {
  "kernelspec": {
   "display_name": "Python 3",
   "language": "python",
   "name": "python3"
  },
  "language_info": {
   "codemirror_mode": {
    "name": "ipython",
    "version": 3
   },
   "file_extension": ".py",
   "mimetype": "text/x-python",
   "name": "python",
   "nbconvert_exporter": "python",
   "pygments_lexer": "ipython3",
   "version": "3.7.3"
  }
 },
 "nbformat": 4,
 "nbformat_minor": 2
}
