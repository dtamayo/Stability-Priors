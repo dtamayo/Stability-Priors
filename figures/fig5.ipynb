{
 "cells": [
  {
   "cell_type": "code",
   "execution_count": 1,
   "metadata": {},
   "outputs": [
    {
     "data": {
      "text/html": [
       "<div>\n",
       "<style scoped>\n",
       "    .dataframe tbody tr th:only-of-type {\n",
       "        vertical-align: middle;\n",
       "    }\n",
       "\n",
       "    .dataframe tbody tr th {\n",
       "        vertical-align: top;\n",
       "    }\n",
       "\n",
       "    .dataframe thead th {\n",
       "        text-align: right;\n",
       "    }\n",
       "</style>\n",
       "<table border=\"1\" class=\"dataframe\">\n",
       "  <thead>\n",
       "    <tr style=\"text-align: right;\">\n",
       "      <th></th>\n",
       "      <th>sim</th>\n",
       "      <th>Mstar</th>\n",
       "      <th>Z12</th>\n",
       "      <th>Z23</th>\n",
       "      <th>mu1</th>\n",
       "      <th>mu2</th>\n",
       "      <th>mu3</th>\n",
       "      <th>e1</th>\n",
       "      <th>e2</th>\n",
       "      <th>e3</th>\n",
       "      <th>...</th>\n",
       "      <th>h3</th>\n",
       "      <th>k1</th>\n",
       "      <th>k2</th>\n",
       "      <th>k3</th>\n",
       "      <th>ecom</th>\n",
       "      <th>ejection</th>\n",
       "      <th>t_instability</th>\n",
       "      <th>nbodystable</th>\n",
       "      <th>crossing</th>\n",
       "      <th>spockprob</th>\n",
       "    </tr>\n",
       "  </thead>\n",
       "  <tbody>\n",
       "    <tr>\n",
       "      <th>27048</th>\n",
       "      <td>1999380.0</td>\n",
       "      <td>0.880613</td>\n",
       "      <td>0.201456</td>\n",
       "      <td>0.102933</td>\n",
       "      <td>2.729311e-06</td>\n",
       "      <td>0.000012</td>\n",
       "      <td>0.000003</td>\n",
       "      <td>0.198727</td>\n",
       "      <td>0.155031</td>\n",
       "      <td>0.014555</td>\n",
       "      <td>...</td>\n",
       "      <td>0.013028</td>\n",
       "      <td>-0.172274</td>\n",
       "      <td>0.117442</td>\n",
       "      <td>0.006489</td>\n",
       "      <td>0.101288</td>\n",
       "      <td>False</td>\n",
       "      <td>5.358731e+04</td>\n",
       "      <td>False</td>\n",
       "      <td>True</td>\n",
       "      <td>0.010296</td>\n",
       "    </tr>\n",
       "    <tr>\n",
       "      <th>27049</th>\n",
       "      <td>1999466.0</td>\n",
       "      <td>1.214257</td>\n",
       "      <td>0.028857</td>\n",
       "      <td>0.021840</td>\n",
       "      <td>8.367568e-07</td>\n",
       "      <td>0.000042</td>\n",
       "      <td>0.000007</td>\n",
       "      <td>0.039781</td>\n",
       "      <td>0.010983</td>\n",
       "      <td>0.022669</td>\n",
       "      <td>...</td>\n",
       "      <td>-0.022128</td>\n",
       "      <td>-0.000577</td>\n",
       "      <td>-0.010441</td>\n",
       "      <td>0.004925</td>\n",
       "      <td>0.008076</td>\n",
       "      <td>False</td>\n",
       "      <td>1.000000e+09</td>\n",
       "      <td>True</td>\n",
       "      <td>False</td>\n",
       "      <td>0.787886</td>\n",
       "    </tr>\n",
       "    <tr>\n",
       "      <th>27050</th>\n",
       "      <td>1999693.0</td>\n",
       "      <td>1.225737</td>\n",
       "      <td>0.075364</td>\n",
       "      <td>0.066737</td>\n",
       "      <td>9.338099e-06</td>\n",
       "      <td>0.000078</td>\n",
       "      <td>0.000004</td>\n",
       "      <td>0.088874</td>\n",
       "      <td>0.108052</td>\n",
       "      <td>0.175515</td>\n",
       "      <td>...</td>\n",
       "      <td>-0.001799</td>\n",
       "      <td>-0.037102</td>\n",
       "      <td>-0.107794</td>\n",
       "      <td>-0.175506</td>\n",
       "      <td>0.104393</td>\n",
       "      <td>False</td>\n",
       "      <td>6.319852e+04</td>\n",
       "      <td>False</td>\n",
       "      <td>False</td>\n",
       "      <td>0.009134</td>\n",
       "    </tr>\n",
       "    <tr>\n",
       "      <th>27051</th>\n",
       "      <td>1999943.0</td>\n",
       "      <td>1.083352</td>\n",
       "      <td>0.130137</td>\n",
       "      <td>0.077125</td>\n",
       "      <td>1.474248e-06</td>\n",
       "      <td>0.000006</td>\n",
       "      <td>0.000018</td>\n",
       "      <td>0.224166</td>\n",
       "      <td>0.236365</td>\n",
       "      <td>0.140135</td>\n",
       "      <td>...</td>\n",
       "      <td>0.055326</td>\n",
       "      <td>0.024470</td>\n",
       "      <td>-0.146544</td>\n",
       "      <td>-0.128751</td>\n",
       "      <td>0.156694</td>\n",
       "      <td>False</td>\n",
       "      <td>2.133985e+04</td>\n",
       "      <td>False</td>\n",
       "      <td>False</td>\n",
       "      <td>0.005355</td>\n",
       "    </tr>\n",
       "    <tr>\n",
       "      <th>27052</th>\n",
       "      <td>1999969.0</td>\n",
       "      <td>1.159434</td>\n",
       "      <td>0.045962</td>\n",
       "      <td>0.052065</td>\n",
       "      <td>3.549245e-06</td>\n",
       "      <td>0.000037</td>\n",
       "      <td>0.000085</td>\n",
       "      <td>0.095140</td>\n",
       "      <td>0.020418</td>\n",
       "      <td>0.050637</td>\n",
       "      <td>...</td>\n",
       "      <td>0.047178</td>\n",
       "      <td>-0.075962</td>\n",
       "      <td>-0.010202</td>\n",
       "      <td>0.018394</td>\n",
       "      <td>0.026185</td>\n",
       "      <td>False</td>\n",
       "      <td>6.663452e+04</td>\n",
       "      <td>False</td>\n",
       "      <td>False</td>\n",
       "      <td>0.014513</td>\n",
       "    </tr>\n",
       "  </tbody>\n",
       "</table>\n",
       "<p>5 rows × 22 columns</p>\n",
       "</div>"
      ],
      "text/plain": [
       "             sim     Mstar       Z12       Z23           mu1       mu2  \\\n",
       "27048  1999380.0  0.880613  0.201456  0.102933  2.729311e-06  0.000012   \n",
       "27049  1999466.0  1.214257  0.028857  0.021840  8.367568e-07  0.000042   \n",
       "27050  1999693.0  1.225737  0.075364  0.066737  9.338099e-06  0.000078   \n",
       "27051  1999943.0  1.083352  0.130137  0.077125  1.474248e-06  0.000006   \n",
       "27052  1999969.0  1.159434  0.045962  0.052065  3.549245e-06  0.000037   \n",
       "\n",
       "            mu3        e1        e2        e3  ...        h3        k1  \\\n",
       "27048  0.000003  0.198727  0.155031  0.014555  ...  0.013028 -0.172274   \n",
       "27049  0.000007  0.039781  0.010983  0.022669  ... -0.022128 -0.000577   \n",
       "27050  0.000004  0.088874  0.108052  0.175515  ... -0.001799 -0.037102   \n",
       "27051  0.000018  0.224166  0.236365  0.140135  ...  0.055326  0.024470   \n",
       "27052  0.000085  0.095140  0.020418  0.050637  ...  0.047178 -0.075962   \n",
       "\n",
       "             k2        k3      ecom  ejection  t_instability  nbodystable  \\\n",
       "27048  0.117442  0.006489  0.101288     False   5.358731e+04        False   \n",
       "27049 -0.010441  0.004925  0.008076     False   1.000000e+09         True   \n",
       "27050 -0.107794 -0.175506  0.104393     False   6.319852e+04        False   \n",
       "27051 -0.146544 -0.128751  0.156694     False   2.133985e+04        False   \n",
       "27052 -0.010202  0.018394  0.026185     False   6.663452e+04        False   \n",
       "\n",
       "       crossing  spockprob  \n",
       "27048      True   0.010296  \n",
       "27049     False   0.787886  \n",
       "27050     False   0.009134  \n",
       "27051     False   0.005355  \n",
       "27052     False   0.014513  \n",
       "\n",
       "[5 rows x 22 columns]"
      ]
     },
     "execution_count": 1,
     "metadata": {},
     "output_type": "execute_result"
    }
   ],
   "source": [
    "import rebound\n",
    "import numpy as np\n",
    "import pandas as pd\n",
    "import matplotlib.pyplot as plt\n",
    "from scipy.interpolate import interp1d\n",
    "import pymc3 as pm\n",
    "import scipy\n",
    "from scipy.integrate import quad\n",
    "from itertools import cycle\n",
    "\n",
    "plt.style.use('paper.mplstyle')\n",
    "%matplotlib inline\n",
    "\n",
    "df = pd.read_csv('../csvs/Kepler-23_stability.csv', index_col=0)\n",
    "df.tail()"
   ]
  },
  {
   "cell_type": "code",
   "execution_count": 2,
   "metadata": {},
   "outputs": [],
   "source": [
    "def calcHPDI(vals, interval, guess, weights=None):\n",
    "    '''\n",
    "    Fit a gaussian KDE, find max likelihood, and calculate \n",
    "    minimum interval that holds `interval` percentage of the distribution.\n",
    "    This is what Hadden 2017 quote\n",
    "\n",
    "        vals : array of values\n",
    "        interval: float for size of interval\n",
    "        guess: initial guess for max likelihood\n",
    "    '''\n",
    "    vals = np.concatenate([vals, vals*(-1)]) # reflect values to negative to avoid edge effects at zero\n",
    "    try:\n",
    "        weights=np.concatenate([weights, weights])\n",
    "    except:\n",
    "        pass\n",
    "    \n",
    "    kde = scipy.stats.gaussian_kde(vals, bw_method=1/15, weights=weights)\n",
    "    maxlike = scipy.optimize.fmin(lambda x: -kde(x), x0=guess, disp=False)[0]\n",
    "    \n",
    "    sample = kde.resample(10000, seed=0) # need to do this step in case we need to weight the vals by weights (for SPOCK probs)\n",
    "    samplecut = sample[sample > 0]\n",
    "\n",
    "    low, high = pm.stats.hpd(samplecut, credible_interval=interval)\n",
    "    return kde, maxlike, high, low"
   ]
  },
  {
   "cell_type": "code",
   "execution_count": 3,
   "metadata": {},
   "outputs": [],
   "source": [
    "def plot(ax, df, col, xlabel, lim=1, labels=False):\n",
    "    Nbins=20\n",
    "    \n",
    "    prop_cycle = plt.rcParams['axes.prop_cycle']\n",
    "    colors = cycle(prop_cycle.by_key()['color'])\n",
    "    _ = next(colors) # skip color to match other plots\n",
    "\n",
    "    nbody = df[(df['nbodystable']==1)]\n",
    "    label = \"Stable (N-body)\\n\" if labels else \"\"\n",
    "    vals, edges = np.histogram(nbody[col], density=True, bins=np.linspace(0,lim,Nbins))\n",
    "    \n",
    "    kde, maxlike, high, low = calcHPDI(nbody[col], interval=0.683, guess=0.1)\n",
    "    if np.abs(low) >= 0.005:\n",
    "        label += \"[{0:.2f}, {1:.2f}]\".format(low, high)\n",
    "    else:\n",
    "        label += \"[0, {0:.2f}]\".format(high)\n",
    "    ax.bar(edges[:-1], vals, width=np.diff(edges), color=next(colors), alpha=0.5, label=label, ec='', align='edge')\n",
    "\n",
    "    _ = next(colors) # skip color to match other plots\n",
    "    _ = next(colors) # skip color to match other plots\n",
    "\n",
    "    spock =  df[(df['nbodystable']==1)]\n",
    "    label = \"Stable (SPOCK)\\n\" if labels else \"\"\n",
    "    vals, edges = np.histogram(spock[col], density=True, bins=edges, weights=spock.spockprob)\n",
    "    \n",
    "    kde, maxlike, high, low = calcHPDI(spock[col], interval=0.683, guess=0.1, weights=spock.spockprob)\n",
    "    if np.abs(low) >= 0.005:\n",
    "        label += \"[{0:.2f}, {1:.2f}]\".format(low, high)\n",
    "    else:\n",
    "        label += \"[0, {0:.2f}]\".format(high)\n",
    "    \n",
    "    ax.bar(edges[:-1], vals, width=np.diff(edges), color=next(colors), alpha=0.5, label=label, ec='', align='edge')\n",
    "\n",
    "    ax.set_xlabel(xlabel)\n",
    "    ax.set_xlim([0,lim])"
   ]
  },
  {
   "cell_type": "code",
   "execution_count": 4,
   "metadata": {},
   "outputs": [
    {
     "data": {
      "image/png": "[encoded data removed]",
      "text/plain": [
       "<Figure size 1296x432 with 3 Axes>"
      ]
     },
     "metadata": {
      "needs_background": "light"
     },
     "output_type": "display_data"
    }
   ],
   "source": [
    "fig, axarr = plt.subplots(ncols=3, figsize=(18,6))\n",
    "plt.subplots_adjust(wspace=0)\n",
    "\n",
    "plot(axarr[0], df, 'Z12', 'Inner-Pair Free Ecc. ($Z_{bc}$)', labels=True, lim=0.2)\n",
    "plot(axarr[1], df, 'Z23', 'Outer-Pair Free Ecc. ($Z_{cd}$)', lim=0.2)\n",
    "plot(axarr[2], df, 'ecom', 'Center-of-mass Ecc. ($e_{com}$)', lim=0.3)\n",
    "\n",
    "for ax in axarr.flatten():\n",
    "    ax.axes.yaxis.set_ticks([])\n",
    "    ax.legend(fontsize=18)\n",
    "\n",
    "axarr[1].set_xticks([0.05,0.1,0.15,0.2])\n",
    "axarr[2].set_xticks([0.05,0.1,0.15,0.2, 0.25, 0.3])\n",
    "axarr[0].set_ylabel('PDF')\n",
    "fig.savefig('spockstable.pdf', bbox_inches='tight')"
   ]
  },
  {
   "cell_type": "markdown",
   "metadata": {},
   "source": [
    "# Number of stable effective samples"
   ]
  },
  {
   "cell_type": "code",
   "execution_count": 5,
   "metadata": {},
   "outputs": [
    {
     "data": {
      "text/plain": [
       "402.37679025670514"
      ]
     },
     "execution_count": 5,
     "metadata": {},
     "output_type": "execute_result"
    }
   ],
   "source": [
    "stable = df[(df['nbodystable']==1)]\n",
    "stable.spockprob.sum()"
   ]
  },
  {
   "cell_type": "code",
   "execution_count": 6,
   "metadata": {},
   "outputs": [],
   "source": [
    "sample1e4 = df[(df['spockprob']>0) & (df['crossing']==False)]\n",
    "unstable_bet_1e4_and_1e9 = sample1e4[sample1e4['nbodystable']==0]"
   ]
  },
  {
   "cell_type": "code",
   "execution_count": 7,
   "metadata": {},
   "outputs": [
    {
     "data": {
      "text/plain": [
       "8589"
      ]
     },
     "execution_count": 7,
     "metadata": {},
     "output_type": "execute_result"
    }
   ],
   "source": [
    "unstable_bet_1e4_and_1e9.shape[0]"
   ]
  },
  {
   "cell_type": "code",
   "execution_count": 8,
   "metadata": {},
   "outputs": [
    {
     "data": {
      "text/plain": [
       "340.1667555901222"
      ]
     },
     "execution_count": 8,
     "metadata": {},
     "output_type": "execute_result"
    }
   ],
   "source": [
    "unstable_bet_1e4_and_1e9.spockprob.sum()"
   ]
  },
  {
   "cell_type": "code",
   "execution_count": 9,
   "metadata": {},
   "outputs": [
    {
     "data": {
      "text/plain": [
       "0.0395855163581325"
      ]
     },
     "execution_count": 9,
     "metadata": {},
     "output_type": "execute_result"
    }
   ],
   "source": [
    "340/8589"
   ]
  }
 ],
 "metadata": {
  "kernelspec": {
   "display_name": "Python 3",
   "language": "python",
   "name": "python3"
  },
  "language_info": {
   "codemirror_mode": {
    "name": "ipython",
    "version": 3
   },
   "file_extension": ".py",
   "mimetype": "text/x-python",
   "name": "python",
   "nbconvert_exporter": "python",
   "pygments_lexer": "ipython3",
   "version": "3.7.3"
  }
 },
 "nbformat": 4,
 "nbformat_minor": 2
}
